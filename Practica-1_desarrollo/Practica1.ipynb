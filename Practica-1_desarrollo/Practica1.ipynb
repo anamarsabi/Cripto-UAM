{
 "cells": [
  {
   "cell_type": "markdown",
   "id": "f9952fdd",
   "metadata": {},
   "source": [
    "# Práctica 1: Criptografía clásica\n",
    "\n",
    "## Fundamentos de Criptografía y Seguridad Informática\n",
    "## UAM, 2022/2023\n",
    "\n",
    "### Maitane Gómez González\n",
    "### Ana Martínez Sabiote"
   ]
  },
  {
   "cell_type": "markdown",
   "id": "986089aa",
   "metadata": {},
   "source": [
    "El lenguaje elegido para la implementación de esta práctica ha sido Python. La memoria de la práctica y el código en Python desarrollado están contenidos en este notebook. Se entrega tanto en formato .pdf para su lectura, como el fichero .ipynb, que permite la ejecución del código en Jupyter Notebook."
   ]
  },
  {
   "cell_type": "markdown",
   "id": "14e31d52",
   "metadata": {},
   "source": [
    "## 1. Sustitución monoalfabeto"
   ]
  },
  {
   "cell_type": "markdown",
   "id": "65d4723f",
   "metadata": {},
   "source": [
    "## 1.a Método afín\n",
    "\n",
    "Para implementar el método afín, al igual que para la mayoría de los demás cifrados de la práctica, utilizamos un alfabeto formato por todos los caracteres en minúsculas y todos los caracteres en mayúsculas. Por tanto, un alfabeto de 52 elementos. Si una cadena contiene además símbolos que no están contemplados en nuestro alfabeto, éstos no se tienen en cuenta. \n",
    "\n",
    "Para el desarrollo de este apartado hemos implementado las siguientes funciones\n",
    "- La función *algoritmo_euclides(a,b)* que calcula el máximo común divisor de los dos números pasados como parámetros de manera recursiva.\n",
    "- La función *algoritmo_euclides_extendido(a,b)* que aplica el algoritmo de extendido de Euclides que hemos estudiado. Esta función recibe dos números *a* y *b* como parámetros y devuelve el máximo común divisor de ellos, *u* y *v*, los coeficientes de la Identidad de Bézout: **1=a\\*u + b\\*v**. Por tanto con esta función obtenemos el inverso de *a* módulo *b*, que es *u* y recíprocamente, el inverso de *b* mod *a*, que es *v*.\n",
    "- La función *inverso(a,m)*, que calcula el inverso multiplicativo de *a* módulo *m* si *a* y *m* son primos relativos.\n"
   ]
  },
  {
   "cell_type": "code",
   "execution_count": 1,
   "id": "eaebc2e3",
   "metadata": {
    "scrolled": true
   },
   "outputs": [],
   "source": [
    "import gmpy2\n",
    "from gmpy2 import mpz\n",
    "import sympy\n",
    "import numpy as np"
   ]
  },
  {
   "cell_type": "code",
   "execution_count": 2,
   "id": "912d32d4",
   "metadata": {},
   "outputs": [],
   "source": [
    "def algoritmo_euclides(a,b):\n",
    "    if gmpy2.t_mod(a,b) == 0:\n",
    "        return b\n",
    "    else:\n",
    "        return algoritmo_euclides(b, gmpy2.t_mod(a,b))"
   ]
  },
  {
   "cell_type": "code",
   "execution_count": 3,
   "id": "fcdb17ab",
   "metadata": {
    "scrolled": true
   },
   "outputs": [
    {
     "name": "stdout",
     "output_type": "stream",
     "text": [
      "3\n"
     ]
    }
   ],
   "source": [
    "mcd=algoritmo_euclides(39,150)\n",
    "print(mcd)"
   ]
  },
  {
   "cell_type": "code",
   "execution_count": 4,
   "id": "b353eca6",
   "metadata": {},
   "outputs": [
    {
     "data": {
      "text/plain": [
       "mpz(1)"
      ]
     },
     "execution_count": 4,
     "metadata": {},
     "output_type": "execute_result"
    }
   ],
   "source": [
    "algoritmo_euclides(7,15)"
   ]
  },
  {
   "cell_type": "code",
   "execution_count": 5,
   "id": "5dc05ac1",
   "metadata": {},
   "outputs": [],
   "source": [
    "def algoritmo_euclides_extendido(a,b):\n",
    "    \"\"\"\n",
    "    # Condición a>b, sino las cambiamos\n",
    "    if b>a:\n",
    "        aux=a\n",
    "        a=b\n",
    "        b=aux\n",
    "    \"\"\"\n",
    "    # Identidad de Bézout 1=u*a + v*b\n",
    "    # El inverso de a módulo b es u. Recíprocamente, el inverso de b mod a es v\n",
    "    if a==0:\n",
    "        mcd=b\n",
    "        u=0\n",
    "        v=1\n",
    "    else:\n",
    "        mcd, x, y = algoritmo_euclides_extendido(gmpy2.c_mod(b,a), a)\n",
    "        u=gmpy2.sub(y,(gmpy2.mul(gmpy2.c_div(b,a),x)))\n",
    "        v=x\n",
    "        \n",
    "    return mcd, u, v"
   ]
  },
  {
   "cell_type": "code",
   "execution_count": 6,
   "id": "cc975e3d",
   "metadata": {},
   "outputs": [],
   "source": [
    "def inverso(a,m):\n",
    "    result = algoritmo_euclides_extendido(a,m)\n",
    "    # Comprobamos que el mcd es 1 para que exista inverso multiplicativo\n",
    "    # En consecuencia, a y m determinan una función afín inyectiva\n",
    "    if result[0] == 1:\n",
    "        # Entonces devolvemos el coeficiente u (que acompaña a) de la Id. de Bézout\n",
    "        inv=result[1]\n",
    "        return inv\n",
    "    else:\n",
    "        print(\"Error\")"
   ]
  },
  {
   "cell_type": "code",
   "execution_count": 7,
   "id": "14f2c323",
   "metadata": {
    "scrolled": true
   },
   "outputs": [
    {
     "data": {
      "text/plain": [
       "mpz(-9)"
      ]
     },
     "execution_count": 7,
     "metadata": {},
     "output_type": "execute_result"
    }
   ],
   "source": [
    "inverso(51,23)"
   ]
  },
  {
   "cell_type": "markdown",
   "id": "6f0a54b6",
   "metadata": {},
   "source": [
    "Las siguientes dos funciones: *read_input* y *read_output* se utilizarán a lo largo de todos los ejercicios de esta práctica para gestionar el comportamiento de entrada y salida requerido. \n",
    "\n",
    "- *read_input(i)* lee por la entrada estándar si el parámetro *i* es nulo. De lo contrario, abre el fichero pasado como parámetro.\n",
    "- *read_output(o, cadena)* imprime el parámetro *cadena* por la entrada estándar si el parámetro *o* es nulo. De lo contrario, escribe  *cadena* en el fichero *o*, y si no existe, lo crea."
   ]
  },
  {
   "cell_type": "code",
   "execution_count": 8,
   "id": "721d1ca5",
   "metadata": {},
   "outputs": [],
   "source": [
    "def read_input(i):\n",
    "    # Primero tomamos el input de i o de la entrada estándar\n",
    "    if i==0:\n",
    "        cadena=input()\n",
    "    else:\n",
    "        file=open(i, \"r\")\n",
    "        cadena=file.read()\n",
    "        file.close()\n",
    "    \n",
    "    if len(cadena)<50:\n",
    "        print(\"Cadena: {}\".format(cadena))\n",
    "    return cadena"
   ]
  },
  {
   "cell_type": "code",
   "execution_count": 9,
   "id": "d0ca9f79",
   "metadata": {},
   "outputs": [],
   "source": [
    "def print_output(o,cadena):\n",
    "    if o==0:\n",
    "        print(\"Cadena: {}\".format(cadena))\n",
    "    else:\n",
    "        file=open(o, \"w\")\n",
    "        cadenaToStr = ' '.join([str(elem) for elem in cadena])\n",
    "        file.write(cadenaToStr)\n",
    "        file.close()"
   ]
  },
  {
   "cell_type": "markdown",
   "id": "5b4aa526",
   "metadata": {},
   "source": [
    "La siguiente función implementa el método afín.\n",
    "\n",
    "La llamada a la función:\n",
    "\n",
    "**afin {-C|-D} {-m |Zm|} {-a N×} {-b N+} [-i filein] [-o fileout]**\n",
    "\n",
    "- -C el programa cifra\n",
    "- -D el programa descifra\n",
    "- -m tamaño del espacio de texto cifrado\n",
    "- -a coeficiente multiplicativo de la función afín\n",
    "- -b término constante de la función afín\n",
    "- -i fichero de entrada\n",
    "- -o fichero de salida\n",
    "\n",
    "Como estamos trabajando con funciones de Python en celdas de Jupyter notebook, no con scripts, la llamada de la función se realiza en una celda así: afin(modo,m,a,b,i,o), indicando como modo *-C* o *-D*, *m*, *a*, *b* como enteros y *i*, *o* se introducen opcionalmente: si no se especifican, por defecto realiza la operación (entrada o salida) con la estándar y si se especifican, se trabaja con los ficheros proporcionados. \n",
    "\n",
    "Los parámetros *a* y *m* deben ser primos relativos, es la primera condición que verifica nuestra función. Si lo son, continúa con el algoritmo de cifrado o descifrado, según se haya especificado en la llamada. Además, *m* debe se la longitud de nuestro alfabeto.\n",
    "\n",
    "El esquema de funcionamiento que sigue este método y los demás métodos de la práctica es:\n",
    "\n",
    "1. Traducimos el input de caracteres a números enteros utilizando nuestro alfabeto de 52 elementos.\n",
    "2. Aplicamos el mecanismo de cifrado o descifrado sobre la cadena numérica. En este caso el del cifrado afín.\n",
    "3. Obtenemos una cadena cifrada numérica, que pasamos de números a caracteres usando nuestro alfabeto.\n"
   ]
  },
  {
   "cell_type": "code",
   "execution_count": 10,
   "id": "d60e34da",
   "metadata": {},
   "outputs": [],
   "source": [
    "def afin(modo,m,a,b,i=0,o=0):\n",
    "    alfabeto='abcdefghijklmnopqrstuvwxyzABCDEFGHIJKLMNOPQRSTUVWXYZ'\n",
    "    if algoritmo_euclides(a,m) == 1:\n",
    "        if modo==\"-C\":\n",
    "            cadena=read_input(i)\n",
    "            #Traducimos los caracteres a números\n",
    "            cadena_numerica=[]\n",
    "            for k in cadena:\n",
    "                if k in alfabeto: \n",
    "                    cadena_numerica.append(alfabeto.index(k))\n",
    "            cadena_cifrada=[]\n",
    "            for k in cadena_numerica:\n",
    "                cadena_cifrada.append(((a*k)+b)%m)\n",
    "            \n",
    "            #Traducimos la cadena_cifrada numérica a caracteres\n",
    "            resul=\"\"\n",
    "            for i in range(len(cadena_cifrada)):\n",
    "                   resul=resul+alfabeto[cadena_cifrada[i]]\n",
    "                    \n",
    "            print_output(o,resul)\n",
    "            \n",
    "        elif modo==\"-D\":\n",
    "            \n",
    "            cadena_cifrada=read_input(i)\n",
    "            \n",
    "            #Traducimos los caracteres a números\n",
    "            cadena_numerica=[]\n",
    "            for k in cadena_cifrada:\n",
    "                if k in alfabeto: \n",
    "                    cadena_numerica.append(alfabeto.index(k))\n",
    "                    \n",
    "            cadena_descifrada=[]\n",
    "            cadena_texto=\"\"\n",
    "            #inv=inverso(m,a)\n",
    "            inv=pow(a, -1, m)\n",
    "            print(inv)\n",
    "            for i in range(len(cadena_numerica)):\n",
    "                cadena_numerica[i]=int(cadena_numerica[i])\n",
    "                \n",
    "            for k in cadena_numerica:\n",
    "                k_descifrado=gmpy2.c_mod(gmpy2.mul((k-b),inv),m)\n",
    "                if k_descifrado<0:\n",
    "                    k_descifrado=m+k_descifrado\n",
    "                cadena_descifrada.append(k_descifrado)\n",
    "                cadena_texto=cadena_texto+alfabeto[k_descifrado]\n",
    "            \n",
    "            print_output(o, cadena_texto)\n",
    "    else:\n",
    "        print(\"{} y {} no son primos relativos. Error\".format(a,m))"
   ]
  },
  {
   "cell_type": "code",
   "execution_count": 11,
   "id": "dfbffa2c",
   "metadata": {
    "scrolled": true
   },
   "outputs": [
    {
     "name": "stdout",
     "output_type": "stream",
     "text": [
      "Cadena: Hola Nueva York!\n"
     ]
    }
   ],
   "source": [
    "afin(\"-C\",51,23,3,\"cadena.txt\",\"cadena_cifrada.txt\")"
   ]
  },
  {
   "cell_type": "code",
   "execution_count": 12,
   "id": "fc89ba63",
   "metadata": {},
   "outputs": [
    {
     "name": "stdout",
     "output_type": "stream",
     "text": [
      "Cadena: W t b d H e S B d F t L D\n",
      "20\n",
      "Cadena: HolaNuevaYork\n"
     ]
    }
   ],
   "source": [
    "afin(\"-D\",51,23,3, \"cadena_cifrada.txt\")"
   ]
  },
  {
   "cell_type": "code",
   "execution_count": 13,
   "id": "27ea3ba9",
   "metadata": {
    "scrolled": true
   },
   "outputs": [
    {
     "name": "stdout",
     "output_type": "stream",
     "text": [
      "16 y 130 no son primos relativos. Error\n"
     ]
    }
   ],
   "source": [
    "afin(\"-C\",130,16,27)"
   ]
  },
  {
   "cell_type": "code",
   "execution_count": 14,
   "id": "24513c1e",
   "metadata": {
    "scrolled": true
   },
   "outputs": [
    {
     "name": "stdout",
     "output_type": "stream",
     "text": [
      "Universidad Autonoma de Madrid\n",
      "Cadena: Universidad Autonoma de Madrid\n",
      "Cadena: LqcsbrEcNaNGfRDqDdaNbJaNrcN\n"
     ]
    }
   ],
   "source": [
    "afin(\"-C\",51,13,0)"
   ]
  },
  {
   "cell_type": "code",
   "execution_count": 16,
   "id": "0d6d733f",
   "metadata": {},
   "outputs": [
    {
     "name": "stdout",
     "output_type": "stream",
     "text": [
      "LqcsbrEcNaNGfRDqDdaNbJaNrcN\n",
      "Cadena: LqcsbrEcNaNGfRDqDdaNbJaNrcN\n",
      "4\n",
      "Cadena: UniversidadAutonomadeMadrid\n"
     ]
    }
   ],
   "source": [
    "afin(\"-D\",51,13,0)"
   ]
  },
  {
   "cell_type": "markdown",
   "id": "349e1f96",
   "metadata": {},
   "source": [
    "## 1.b Criptoanálisis del cifrado afín"
   ]
  },
  {
   "cell_type": "markdown",
   "id": "45aa5914",
   "metadata": {},
   "source": [
    "Nuestro afin no trivial se basa en aumentar el tamaño de la clave. Hemos decidido cambiar el tamaño de la base y cifrarlo en bigramas. Lo que nos daría un espacio de 676.Con el afín normal, en nuestro caso, obteniamos uno de 52. \n",
    "\n",
    "Como se puede observar en la función fortaleza y en su ejecución el normal nos daría 128 claves y el no trivial 11545444563871328761349212098135488565445348609393477048015277366400000000. \n",
    "\n"
   ]
  },
  {
   "cell_type": "code",
   "execution_count": 17,
   "id": "23215917",
   "metadata": {},
   "outputs": [],
   "source": [
    "def fortaleza(m):\n",
    "    z_m_inv=sympy.totient(m) #calculamos la funcion phi\n",
    "    return gmpy2.mul((m),z_m_inv) #calculamos la fortaleza multiplicando Zm y Zm*\n"
   ]
  },
  {
   "cell_type": "code",
   "execution_count": 18,
   "id": "a3950894",
   "metadata": {},
   "outputs": [
    {
     "name": "stdout",
     "output_type": "stream",
     "text": [
      "11545444563871328761349212098135488565445348609393477048015277366400000000\n",
      "1248\n"
     ]
    }
   ],
   "source": [
    "print(fortaleza(26**26+26))\n",
    "#fortaleza(26) este seria el resultado si no aceptaramos mayúsculas\n",
    "print(fortaleza(52))\n"
   ]
  },
  {
   "cell_type": "markdown",
   "id": "73001553",
   "metadata": {},
   "source": [
    "El siguiente programa implementa el método afín no trivial.\n",
    "\n",
    "Llamada a la función:\n",
    "\n",
    "**afin_no_trivial {-C|-D} {-m |Zm|} {-a N×} {-b N+} [-i filein] [-o fileout]**\n",
    "\n",
    "- -C el programa cifra\n",
    "- -D el programa descifra\n",
    "- -m tamaño del espacio de texto cifrado\n",
    "- -a coeficiente multiplicativo de la función afín\n",
    "- -b término constante de la función afín\n",
    "- -i fichero de entrada\n",
    "- -o fichero de salida\n",
    "\n",
    "En este programa utilizamos un alfabeto de 26 elementos, las letras del abecedario en minúsculas\n"
   ]
  },
  {
   "cell_type": "code",
   "execution_count": 19,
   "id": "af2ff443",
   "metadata": {},
   "outputs": [],
   "source": [
    "def afin_no_trivial(modo,m,a,b,i=0,o=0):\n",
    "    alfabeto='abcdefghijklmnopqrstuvwxyz'\n",
    "    digrama=([]) #generamos un vetor de di-gramas del alfabeto que hemos declarado arriba\n",
    "    for k in alfabeto:\n",
    "        for j in alfabeto:\n",
    "            digrama.append(k+j)\n",
    "    \n",
    "    if algoritmo_euclides(a,m) == 1:\n",
    "        if modo==\"-C\":\n",
    "            #obtenemos el texto claro, si no se ha pasado por parámetro, se obtine de teclado\n",
    "            cadena=read_input(i)\n",
    "\n",
    "            \n",
    "            #ponemos la cadena de entrada solo en caracteres de nuestro alfabeto\n",
    "            cadena_formateada=\"\"\n",
    "            for k in range(len(cadena)):\n",
    "                if cadena[k] in alfabeto:\n",
    "                    cadena_formateada=cadena_formateada+cadena[k]\n",
    "                \n",
    "            #Traducimos los caracteres a números para poder operar\n",
    "            cadena_numerica=[]\n",
    "            j=0\n",
    "            if len(cadena_formateada)%2==0:\n",
    "                    while j <(len(cadena_formateada)-1):\n",
    "                        cadena_numerica.append(digrama.index(cadena_formateada[j]+cadena_formateada[j+1]))\n",
    "                        j=j+2\n",
    "            else:\n",
    "                    while j <(len(cadena_formateada)-2):\n",
    "                        cadena_numerica.append(digrama.index(cadena_formateada[j]+cadena_formateada[j+1]))\n",
    "                        j=j+2\n",
    "                    cadena_numerica.append(alfabeto.index(cadena_formateada[len(cadena_formateada)-1])) #como es impar, la última letra la ciframos aparte\n",
    "            \n",
    "            #utilizamos la función de cifrado\n",
    "            cadena_cifrada=[]\n",
    "            for k in cadena_numerica:\n",
    "                cadena_cifrada.append(((a*k)+b)%m)\n",
    "            \n",
    "            #pasamos el resultado a caracteres y lo guardamos como string\n",
    "            resul=\"\"\n",
    "            for k in cadena_cifrada:\n",
    "                resul=resul+digrama[k]\n",
    "          \n",
    "            #si no se ha pasado un fichero de salida por parámetro, imprimimos el resultado\n",
    "            print_output(o,resul)\n",
    "            \n",
    "        elif modo==\"-D\":\n",
    "            \n",
    "            cadena_cifrada=read_input(i)\n",
    "            #cadena_cifrada=input()\n",
    "    \n",
    "            cadena_descifrada=[]\n",
    "            cadena_texto=\"\"\n",
    "            \n",
    "             #obtenemos el texto claro, si no se ha pasado por parámetro, se obtine de teclado\n",
    "            #if i==0:\n",
    "             #    cadena_cifrada=input()\n",
    "            #cadena=read_input(i)\n",
    "            #else:\n",
    "             #   file=open(i, \"r\")\n",
    "             #   cadena_cifrada=file.read()\n",
    "              #  file.close()\n",
    "                \n",
    "            #obtenemos el inverso en el modulo para poder utilizar la función de descifrado\n",
    "            #ya hemos comprobado al principio que el inverso existe.\n",
    "           \n",
    "            #inv=inverso(a,m)\n",
    "            inv=pow(a, -1, m)\n",
    "            \n",
    "            #pasamos el texto a un formato numérico para poder operar\n",
    "            cadena_numerica=[]\n",
    "            j=0\n",
    "            if len(cadena_cifrada)%2==0:\n",
    "                while j <(len(cadena_cifrada)-1):\n",
    "                    cadena_numerica.append(digrama.index(cadena_cifrada[j]+cadena_cifrada[j+1]))\n",
    "                    j=j+2\n",
    "            else:\n",
    "                while j <(len(cadena_cifrada)-2):\n",
    "                    cadena_numerica.append(digrama.index(cadena_cifrada[j]+cadena_cifrada[j+1]))\n",
    "                    j=j+2\n",
    "                cadena_numerica.append(alfabeto.index(cadena_cifrada[len(cadena_cifrada)-1])) #como es impar, la última letra la ciframos aparte\n",
    "            \n",
    "            #desciframos el texto con la función de descifrado: \n",
    "            for k in cadena_numerica:\n",
    "                k_descifrado=gmpy2.c_mod(gmpy2.mul((k-b),inv),m)\n",
    "                if k_descifrado<0: #ajustamos el modulo\n",
    "                    k_descifrado=m+k_descifrado\n",
    "                cadena_descifrada.append(k_descifrado)\n",
    "            \n",
    "            #pasamos el texto a caracteres\n",
    "            if len(cadena_cifrada)%2==0:\n",
    "                for k in cadena_descifrada:\n",
    "                    cadena_texto=cadena_texto+digrama[k]\n",
    "            else:       \n",
    "                for k in range(len(cadena_descifrada)-1):\n",
    "                    cadena_texto=cadena_texto+digrama[cadena_descifrada[k]]\n",
    "                    \n",
    "                cadena_texto=cadena_texto+alfabeto[cadena_descifrada[(len(cadena_descifrada)-1)]]\n",
    "            \n",
    "            #si no se ha pasado un archivo para guardar el resultado, se imprime por pantalla\n",
    "            print_output(o, cadena_texto)\n",
    "    else:\n",
    "        print(\"{} y {} no son primos relativos. Error\".format(a,m))\n",
    "  "
   ]
  },
  {
   "cell_type": "code",
   "execution_count": 97,
   "id": "995098f2",
   "metadata": {
    "scrolled": true
   },
   "outputs": [
    {
     "name": "stdout",
     "output_type": "stream",
     "text": [
      "Universidad Autonoma de Madrid\n",
      "Cadena: Universidad Autonoma de Madrid\n",
      "Cadena: jqbjcqzacuspkcjfculgdhza\n"
     ]
    }
   ],
   "source": [
    "afin_no_trivial(\"-C\",701,23,3)"
   ]
  },
  {
   "cell_type": "code",
   "execution_count": 98,
   "id": "3cea3f93",
   "metadata": {},
   "outputs": [
    {
     "name": "stdout",
     "output_type": "stream",
     "text": [
      "Cadena: ltkmalzdzefiyuzhwn\n",
      "Cadena: holasupernuevayork\n"
     ]
    }
   ],
   "source": [
    "afin_no_trivial(\"-D\",701,23,3, \"cadena_trivial.txt\")"
   ]
  },
  {
   "cell_type": "code",
   "execution_count": null,
   "id": "b88dbd9a",
   "metadata": {},
   "outputs": [],
   "source": [
    "afin_no_trivial(\"-D\",701,23,3, 0, \"resultado_trivial.txt\")"
   ]
  },
  {
   "cell_type": "code",
   "execution_count": 100,
   "id": "dd32a5f1",
   "metadata": {},
   "outputs": [
    {
     "name": "stdout",
     "output_type": "stream",
     "text": [
      "holasupernuevayork\n",
      "Cadena: holasupernuevayork\n",
      "Cadena: vlqxfnarizjcgugyby\n"
     ]
    }
   ],
   "source": [
    "afin_no_trivial(\"-D\",701,23,3)"
   ]
  },
  {
   "cell_type": "markdown",
   "id": "9b32343d",
   "metadata": {},
   "source": [
    "El cifrado afin muy vulnerable a los ataques. Se rompe imediatamente con B,C,D y E. Con A hace falta un analisis de frecuencias (El análisis de frecuencia es el estudio de la frecuencia de letras o grupos\n",
    "de letras en un texto cifrado)."
   ]
  },
  {
   "cell_type": "markdown",
   "id": "7b37608e",
   "metadata": {},
   "source": [
    "#### Ejemplo de criptoánalisis afín\n",
    "\n",
    "Hemos cifrado \"antiaereo\" con afin (modulo 51, a=13 y b=0), lo que nos ha dado la cadena \"aqRcabrbD\". \n",
    "\n",
    "En el ejemplo de abajo hemos guardado las tablas de frecuencia del castellano y el ingles y luego las hemos ordenado por mayor a menor. En este caso solo hemos utilizado la del castellano.\n",
    "\n",
    "Hemos conseguido descifrarlo con la segunda hipotesís:\n",
    "c1: la posición del elemento más utilizado de la cadena en el alfabeto.\n",
    "c2: la posición del segundo elemento más utilizado de la cadena en el alfabeto.\n",
    "t1: la posición del elemento más utilizado en el alfabeto.\n",
    "t2: la posición del segundo elemento más utilizado en el alfabeto.\n",
    "\n",
    "pos(c1)=pos(t1)* a+b \n",
    "pos(c2)=pos(t1)* a+b\n",
    "\n",
    "Se puede resolver de dos formas:\n",
    "1- restando las ecuaciones, lo que nos daría el resultado de: \n",
    "      pos(c1)-pos(c2)=(pos(t1)-pos(t2))* a -> \n",
    "      a=pos(c1)-pos(c2) inv((pos(t1)-pos(t2))\n",
    "      b=pos(c1)-pos(t1)* a\n",
    "\n",
    "2- Al introducir los datos conocidos, nos damos cuenta de que se puede simplificar y resolver casi directamente:\n",
    "      pos(c1)=pos(t1)* a+b -> 1=4* a+b->a=1* inv(4)=13\n",
    "      pos(c2)=pos(t1)* a+b -> 0=0* a+b ->b=0\n",
    "\n",
    "En ambos casos el resultado da a=13, b=0. El cifrado esta roto."
   ]
  },
  {
   "cell_type": "code",
   "execution_count": 20,
   "id": "21a61480",
   "metadata": {},
   "outputs": [
    {
     "name": "stdout",
     "output_type": "stream",
     "text": [
      "Primera hipotesis:\n",
      "No es correcto\n",
      "Segunda hipotesis:\n",
      "Es correcto, antiaereo se cifro con 13 y 0\n"
     ]
    }
   ],
   "source": [
    "\n",
    "alfabeto='abcdefghijklmnopqrstuvwxyz'\n",
    "cadena = \"aqRcabrbD\"\n",
    "\n",
    "castellano=(['a', 11.96],['b', 0.92],['c', 2.92],['d', 6.87],['e', 16.78],['f', 0.52],['g', 0.73],\n",
    "           ['h', 0.89],['i', 4.15],['j', 0.3],['k', 0.0],['l', 8.37],['m', 2.12],['n', 7.01],\n",
    "           ['o', 8.69],['p', 2.77],['q', 1.53],['r', 4.94],['s', 7.88],['t', 3.31],['u', 4.80],\n",
    "           ['v', 0.39],['w', 0.0],['x', 0.06],['y', 1.54],['z', 0.15])\n",
    "\n",
    "ingles=(['a', 11.96],['b', 1.54],['c', 3.06],['d', 3.99],['e', 12.51],['f', 2.30],['g', 1.96],\n",
    "        ['h', 0.89],['i', 7.26],['j', 0.16],['k', 0.67],['l', 4.14],['m', 2.53],['n', 7.09],\n",
    "       ['o', 7.60],['p', 2.0],['q', 0.11],['r', 6.12],['s', 6,54],['t', 9.25],['u', 2.71],\n",
    "       ['v', 0.99],['w', 1.92],['x', 1.92],['y', 1.73],['z', 0.19])\n",
    "\n",
    "\n",
    "castellano_ord=sorted(castellano, key=lambda letra: letra[1], reverse=True)\n",
    "ingles_ord=sorted(ingles, key=lambda letra: letra[1], reverse=True)\n",
    "\n",
    "print(\"Primera hipotesis:\")\n",
    "c1=alfabeto.index(\"a\")\n",
    "c2=alfabeto.index(\"b\")\n",
    "t1=alfabeto.index(castellano_ord[0][0])\n",
    "t2=alfabeto.index(castellano_ord[1][0])\n",
    "\n",
    "#pos(c1)=pos(t1)*a+b -> 0=4*a+b->a=-1*inv(4)\n",
    "#-\n",
    "#pos(c2)=pos(t1)*a+b -> 1=0*a+b ->b=1\n",
    "a=1*pow(-1,-1,51)\n",
    "\n",
    "#comprobamos que hemos resuelto bien la ecuación\n",
    "#comprobamos que sean co-primos\n",
    "if algoritmo_euclides(a,51)==1:\n",
    "        b=c1-int(a)*t1\n",
    "        if a==13 and b%51==0:\n",
    "            print(\"es correcto, antiaereo se cifro con 13 y 0\")\n",
    "        else:\n",
    "            print(\"No es correcto\")\n",
    "else:\n",
    "    print(\"no son coprimos\")\n",
    "\n",
    "\n",
    "print(\"Segunda hipotesis:\")\n",
    "c1=alfabeto.index(\"b\")\n",
    "c2=alfabeto.index(\"a\")\n",
    "t1=alfabeto.index(castellano_ord[0][0])\n",
    "t2=alfabeto.index(castellano_ord[1][0])\n",
    "\n",
    "#pos(c1)=pos(t1)*a+b -> 1=4*a+b->a=1*inv(4)\n",
    "#-\n",
    "#pos(c2)=pos(t1)*a+b -> 0=0*a+b ->b=0\n",
    "\n",
    "#pos(c1)-pos(c2)=(pos(t1)-pos(t2))*a\n",
    "#0-1=(4-0)*a\n",
    "#a=1*inv(4)\n",
    "\n",
    "a=1*pow(4,-1,51)\n",
    "\n",
    "#comprobamos que hemos resuelto bien la ecuación\n",
    "#comprobamos que sean co-primos\n",
    "if algoritmo_euclides(a,51)==1:\n",
    "        b=c1-int(a)*t1\n",
    "        if a==13 and b%51==0:\n",
    "            print(\"Es correcto, antiaereo se cifro con 13 y 0\")\n",
    "        else:\n",
    "            print(\"No es correcto\")\n",
    "        \n",
    "else:\n",
    "    print(\"no son coprimos\")\n",
    "              \n",
    "    \n"
   ]
  },
  {
   "cell_type": "markdown",
   "id": "5bf621cd",
   "metadata": {},
   "source": [
    "## 2. Sustitución polialfabeto"
   ]
  },
  {
   "cell_type": "markdown",
   "id": "7d89fea6",
   "metadata": {},
   "source": [
    "## 2.a Método de Hill"
   ]
  },
  {
   "cell_type": "markdown",
   "id": "57f3b0dc",
   "metadata": {},
   "source": [
    "El siguiente programa implementa el método hill. El cifrado Hill es de\n",
    "sustitución poligráfica basado en álgebra lineal.\n",
    "\n",
    "En este cifrado se utiliza una matriz cuadrada como clave de dimesiones n*n, tenemos que divir el texto claro (ahora numerico) en bloques de n elementos. Si la división no es exacta, se hace padding.\n",
    "\n",
    "El requisito principal para poder cifrar y descifrar, es que la matriz tenga una función biyectiva. Si no fuera así habría que cambiar los datos ya que si lo cifráramos no podríamos descifrarlo.\n",
    "\n",
    "Primero se asocia cada letra del alfabeto con un número. La forma más sencilla es hacerlo con la asociación natural ordenada pero se podría hacer mediante otras asociaciones.\n",
    "\n",
    "Después, aplicamos la función de cifrado y volvemos a pasar el resultado a letras. Para descifrar el proceso es muy parecido, simplemente hay que cambiar la función de cifrado por la de descifrado. Y para ello tenemos que tener la inversa de la matriz calculada."
   ]
  },
  {
   "cell_type": "code",
   "execution_count": 21,
   "id": "aa473852",
   "metadata": {},
   "outputs": [],
   "source": [
    "import numpy as np\n",
    "import os\n",
    "import math\n",
    "import copy"
   ]
  },
  {
   "cell_type": "markdown",
   "id": "ae4e0b2e",
   "metadata": {},
   "source": [
    "Funcion que cálcula el determinante de una matriz.\n",
    "\n",
    "determinante{matriz}"
   ]
  },
  {
   "cell_type": "code",
   "execution_count": 22,
   "id": "2c3c6e39",
   "metadata": {},
   "outputs": [],
   "source": [
    "def determinante(matriz):\n",
    "   \n",
    "    if len(matriz)==2 and len(matriz[0])==2:\n",
    "        #calculamos el determinante\n",
    "        det=matriz[0][0]*matriz[1][1]-(matriz[1][0]*matriz[0][1])\n",
    "       \n",
    "        return det\n",
    "    else:\n",
    "        suma=0\n",
    "        for i in range(len(matriz)): #calculamos el determinante por cofactores\n",
    "            maux=copy.deepcopy(matriz)\n",
    "            maux.remove(matriz[0]) #eliminamos la primera fila\n",
    "            for j in range(len(maux)):\n",
    "                maux[j]=maux[j][0:i]+maux[j][i+1:]\n",
    "                \n",
    "         \n",
    "            suma= suma+ (-1)**((i+j)%2)*matriz[0][i]*determinante(maux)\n",
    "            \n",
    "        return suma\n",
    "        "
   ]
  },
  {
   "cell_type": "code",
   "execution_count": 23,
   "id": "9177a009",
   "metadata": {},
   "outputs": [
    {
     "name": "stdout",
     "output_type": "stream",
     "text": [
      "53\n"
     ]
    }
   ],
   "source": [
    "#comprobación de la función\n",
    "matriz = [[11,8], [3,7]]\n",
    "print(determinante(matriz))"
   ]
  },
  {
   "cell_type": "markdown",
   "id": "ddb257ea",
   "metadata": {},
   "source": [
    "Función que cálcula el adjunto de una matriz.\n",
    "\n",
    "adjunto{matriz}"
   ]
  },
  {
   "cell_type": "code",
   "execution_count": 24,
   "id": "270c9cdd",
   "metadata": {},
   "outputs": [],
   "source": [
    "def adjunto(matriz):\n",
    "    adjunto=np.zeros(np.shape(matriz))\n",
    "    if len(matriz)==2 and len(matriz[0])==2:\n",
    "         #calculamos el adjunto\n",
    "        adjunto[0][0]=matriz[1][1]\n",
    "        adjunto[0][1]=-matriz[0][1]\n",
    "        adjunto[1][0]=-matriz[1][0]\n",
    "        adjunto[1][1]=matriz[0][0]\n",
    "        \n",
    "        return adjunto\n",
    "    else:\n",
    "        \n",
    "        for i in range(len(matriz)):\n",
    "            maux=copy.deepcopy(matriz)\n",
    "            for j in range(len(matriz)):\n",
    "             \n",
    "                maux=np.delete(matriz,i,0)\n",
    "                aux=np.delete(maux,j,1)\n",
    "                auxi=aux.tolist()\n",
    "                #la matriz de cofactores transpuesta es el djunto\n",
    "                adjunto[j][i]=(-1)**((i+j)%2)*determinante(auxi)\n",
    "            \n",
    "                \n",
    "        return adjunto"
   ]
  },
  {
   "cell_type": "code",
   "execution_count": 25,
   "id": "053f1a4a",
   "metadata": {},
   "outputs": [
    {
     "name": "stdout",
     "output_type": "stream",
     "text": [
      "[[ 7. -8.]\n",
      " [-3. 11.]]\n"
     ]
    }
   ],
   "source": [
    "#comprobación de la función\n",
    "matriz = [[11,8], [3,7]]\n",
    "print(adjunto(matriz))"
   ]
  },
  {
   "cell_type": "markdown",
   "id": "724f1521",
   "metadata": {},
   "source": [
    "Función que cálcula la inversa de una matriz.\n",
    "\n",
    "inversa{matriz}{modulo}"
   ]
  },
  {
   "cell_type": "code",
   "execution_count": 26,
   "id": "267c546b",
   "metadata": {},
   "outputs": [],
   "source": [
    "def inversa(matriz,modulo):\n",
    "    inversa=np.zeros(np.shape(matriz))\n",
    "    det=determinante(matriz)%modulo\n",
    "    if det !=0:\n",
    "        adj=adjunto(matriz)%modulo\n",
    "        for i in range(len(matriz)):\n",
    "            for j in range(len(matriz[i])):\n",
    "                inversa[i][j]=(adj[i][j]/det)#%modulo\n",
    "                \n",
    "    return inversa%modulo #esto puede que no sea necesario porque ya estamos en matemática modular"
   ]
  },
  {
   "cell_type": "code",
   "execution_count": 27,
   "id": "5a3dc048",
   "metadata": {},
   "outputs": [
    {
     "name": "stdout",
     "output_type": "stream",
     "text": [
      "[[ 7. 18.]\n",
      " [23. 11.]]\n"
     ]
    }
   ],
   "source": [
    "#comprobación de la función\n",
    "matriz = [[11,8], [3,7]]\n",
    "print(inversa(matriz,26))"
   ]
  },
  {
   "cell_type": "markdown",
   "id": "51b4da2c",
   "metadata": {},
   "source": [
    "Función de cifrado del algoritmo.\n",
    "\n",
    "cifrar{matriz_numerica}{matriz}{mod}{n}\n",
    "\n",
    "Parámetros:\n",
    "- matriz_numerica: el texto a cifrar en formato matriz de numeros\n",
    "- matriz: matriz de transformación\n",
    "- mod: modulo en el que trabajamos\n",
    "- n: dimensión  "
   ]
  },
  {
   "cell_type": "code",
   "execution_count": 28,
   "id": "05c07b3e",
   "metadata": {},
   "outputs": [],
   "source": [
    "def cifrar(matriz_numerica, matriz,mod,n):\n",
    "  \n",
    "    matriz_cifrada=[]\n",
    "    for i in range(len(matriz_numerica)):\n",
    "        cadena_cifrada= (np.dot(matriz_numerica[i],matriz))%mod #utilizamos la función de cifrado\n",
    "        matriz_cifrada.append(cadena_cifrada)\n",
    "\n",
    "    return matriz_cifrada   "
   ]
  },
  {
   "cell_type": "markdown",
   "id": "d9235033",
   "metadata": {},
   "source": [
    "Función de descifrado del algoritmo.\n",
    "\n",
    "descifrar{matriz_cifrada}{matriz}{mod}{n}\n",
    "\n",
    "Parámetros:\n",
    "\n",
    "- matriz_cifrada: el cifrado a descifrar en formato matriz de numeros\n",
    "- matriz: matriz de transformación\n",
    "- mod: modulo en el que trabajamos\n",
    "- n: dimensión"
   ]
  },
  {
   "cell_type": "code",
   "execution_count": 29,
   "id": "89e0ad6a",
   "metadata": {},
   "outputs": [],
   "source": [
    "def descifrar(matriz_cifrada, matriz,mod,n):\n",
    "    \n",
    "    inv=inversa(matriz,mod)\n",
    "    matriz_descifrada=[]\n",
    "    for i in range(len(matriz_cifrada)):\n",
    "        cadena_descifrada= (np.dot(matriz_cifrada[i],inv))%mod #utilizamos la funcion de descifrado\n",
    "        matriz_descifrada.append(cadena_descifrada)\n",
    "\n",
    "    return matriz_descifrada "
   ]
  },
  {
   "cell_type": "markdown",
   "id": "9f5fe236",
   "metadata": {},
   "source": [
    "El siguiente programa implementa el método hill.\n",
    "\n",
    "Llamada a la función:\n",
    "\n",
    "**hill {-C|-D} {-m |Zm|} {-n NK} {-k f ileK} [-i f ilein] [-o f ileout]**\n",
    "\n",
    "Los parámetros introducidos en este caso son:\n",
    "- m cardinalidad de Zm\n",
    "- n dimensión de la matriz de transformación\n",
    "- k fichero que contiene la matriz de transformación"
   ]
  },
  {
   "cell_type": "code",
   "execution_count": 30,
   "id": "996f70a6",
   "metadata": {},
   "outputs": [],
   "source": [
    "def hill(modo,mod,n,k,i=0,o=0):\n",
    "    alfabeto='abcdefghijklmnopqrstuvwxyz'\n",
    "  \n",
    "    #leemos la matriz de transformación del archivo y la guardamos\n",
    "    with open(k,'r') as f:\n",
    "        datos = ''.join(f.readlines()).replace('\\n',';')\n",
    "    matriz = np.matrix(datos).tolist()\n",
    "    f.close()\n",
    "    \n",
    "    #cálculamos el determinante de la matriz\n",
    "    det=np.linalg.det(matriz)\n",
    "    #comprobamos que la matriz K tiene una función biyectiva\n",
    "    if algoritmo_euclides(int(det),mod)==1:\n",
    "       \n",
    "        if modo==\"-C\":\n",
    "            \n",
    "            cadena=read_input(i)\n",
    "            #Traducimos los caracteres a números\n",
    "            cadena_numerica=[]\n",
    "            for k in cadena:\n",
    "                if k in alfabeto: \n",
    "                    cadena_numerica.append(alfabeto.index(k))\n",
    "                    \n",
    "            # Dividimos en bloques de n elementos el texto\n",
    "            # Si m no es múltiplo de n se añade padding\n",
    "            m=len(cadena_numerica)/n\n",
    "            maxi=len(cadena_numerica)\n",
    "            \n",
    "            matriz_numerica=np.zeros((math.ceil(m),n))\n",
    "         \n",
    "            pos=0\n",
    "            for i in range(math.ceil(m)):\n",
    "                for j in range(n):\n",
    "                    if pos<maxi:\n",
    "                        matriz_numerica[i][j]=cadena_numerica[pos]\n",
    "                        pos=pos+1\n",
    "        \n",
    "            #ciframos cadena a cadena y lo guardamos en un matriz           \n",
    "            matriz_cifrada=cifrar(matriz_numerica,matriz,mod,n)\n",
    "            \n",
    "            #lo volvemos a pasar a caracteres\n",
    "            resul=\"\"\n",
    "            for i in range(len(matriz_cifrada)):\n",
    "                for j in range(len(matriz_cifrada[i])):\n",
    "                    resul=resul+alfabeto[int(matriz_cifrada[i][j])]\n",
    "          \n",
    "            print_output(o,resul)\n",
    "           \n",
    "            \n",
    "        elif modo==\"-D\":\n",
    "            if i==0:\n",
    "                cadena_cifrada=input()\n",
    "                datos=[]\n",
    "                for i in range(len(cadena_cifrada)):\n",
    "                    if cadena_cifrada[i] in alfabeto:\n",
    "                        datos.append(alfabeto.index(cadena_cifrada[i]))\n",
    "                \n",
    "                        \n",
    "            else:\n",
    "                file=open(i, \"r\")\n",
    "                cadena_cifrada=file.read()\n",
    "                file.close()\n",
    "               \n",
    "                \n",
    "                datos=[]\n",
    "                for i in range(len(cadena_cifrada)):\n",
    "                    if cadena_cifrada[i] in alfabeto:\n",
    "                        datos.append(alfabeto.index(cadena_cifrada[i]))\n",
    "\n",
    "             \n",
    "                \n",
    "            # Dividimos en bloques de n elementos el texto\n",
    "            # Si m no es múltiplo de n se añade padding\n",
    "            m=len(datos)/n\n",
    "            maxi=len(datos)\n",
    "            \n",
    "            matriz_cifrada=np.zeros((math.ceil(m),n))\n",
    "         \n",
    "            pos=0\n",
    "            for i in range(math.ceil(m)):\n",
    "                for j in range(n):\n",
    "                    if pos<maxi:\n",
    "                        matriz_cifrada[i][j]=datos[pos]\n",
    "                        pos=pos+1\n",
    "        \n",
    "            #ciframos cadena a cadena y lo guardamos en un matriz  \n",
    "            matriz_descifrada=descifrar(matriz_cifrada, matriz,mod,n)\n",
    "            \n",
    "            resul=\"\"\n",
    "            for i in range(len(matriz_descifrada)):\n",
    "                for j in range(len(matriz_descifrada[i])):\n",
    "                    \n",
    "                    if matriz_descifrada[i][j]<0:\n",
    "                        matriz_descifrada[i][j]=mod+matriz_descifrada[i][j]\n",
    "        \n",
    "                    resul=resul+alfabeto[int(matriz_descifrada[i][j])]\n",
    "            \n",
    "             \n",
    "            print_output(o,resul)\n",
    "            \n",
    "    else:\n",
    "        print(\"{} y {} no son primos relativos. Error\".format(det,mod))"
   ]
  },
  {
   "cell_type": "code",
   "execution_count": 112,
   "id": "9b9f563c",
   "metadata": {},
   "outputs": [
    {
     "name": "stdout",
     "output_type": "stream",
     "text": [
      "Cadena: holaquetal\n"
     ]
    }
   ],
   "source": [
    "k = [[11,8], [3,7]]\n",
    "hill(\"-D\",26, 2,\"matriz_k.txt\",\"matriz_cifrada.txt\" ,0)"
   ]
  },
  {
   "cell_type": "code",
   "execution_count": null,
   "id": "1847b014",
   "metadata": {},
   "outputs": [],
   "source": [
    "hill(\"-C\",26,2, \"matriz_k.txt\", 0,\"resulta_hill.txt\" )"
   ]
  },
  {
   "cell_type": "code",
   "execution_count": 114,
   "id": "c5f8e010",
   "metadata": {},
   "outputs": [
    {
     "name": "stdout",
     "output_type": "stream",
     "text": [
      "Cadena: niversidadutonomadeadrid\n"
     ]
    }
   ],
   "source": [
    "hill(\"-D\",26, 2,\"matriz_k.txt\",\"resulta_hill.txt\",0)"
   ]
  },
  {
   "cell_type": "code",
   "execution_count": 115,
   "id": "be8d4f23",
   "metadata": {},
   "outputs": [
    {
     "name": "stdout",
     "output_type": "stream",
     "text": [
      "\n",
      "Cadena: \n"
     ]
    }
   ],
   "source": [
    "hill(\"-D\",26,2, \"matriz_k.txt\" )"
   ]
  },
  {
   "cell_type": "markdown",
   "id": "9c79aa8d",
   "metadata": {},
   "source": [
    "## 2.b Método de Vigenere"
   ]
  },
  {
   "cell_type": "markdown",
   "id": "4078c647",
   "metadata": {},
   "source": [
    "El siguiente programa implementa el método de Vigenere.\n",
    "\n",
    "Llamada a la función: \n",
    "\n",
    "**vigenere {-C|-D} {-k clave} [-i filein] [-o fileout]**\n",
    "\n",
    "El parámetro *k* es cadena de caracteres usada como clave. Consideramos que la clave está formada por caracteres de nuestro alfabeto. Puede ser una frase, ya que se eliminarán los espacios. Al igual que hacemos con el input, la clave se traducirá de caracteres a números. \n",
    "\n",
    "Como el cifrado de Vigenere es un cifrado de bloques, entonces dividimos el input en bloques de n (longitud de la clave) elementos. Si la longitud del input no es múltiplo de la longitud de la clave, añadimos padding de ceros al final del último bloque para que todos los bloques tengan n elementos. Tras este proceso hemos obtenido una matriz de n columnas, en la que cada fila es un bloque.\n",
    "\n",
    "Realizamos el cifrado de Vigenere a la matriz. Ciframos bloque a bloque recorriendo las filas de la matriz: al elemento i-ésimo del bloque se le suma el elemento i-ésimo de la clave y al resultado se le aplica el módulo de la longitud del alfabeto. Esta operación se realiza para cada elemento del bloque ( i de 1 a n).  Como resultado, obtenemos una matriz de bloques cifrados. A continuación concatenamos esta matriz para obtener la cadena cifrada resultante.\n",
    "\n",
    "A la hora de descifrar, el procesamiento es el mismo pero la operación que se realiza a la hora de descifrar bloque a bloque es diferente, naturalmente. Para cada elemento i-ésimo del bloque, se resta el elemento i-ésimo de la clave y al resultado se le aplica el módulo de la longitud del alfabeto.\n"
   ]
  },
  {
   "cell_type": "code",
   "execution_count": 31,
   "id": "f58f0ae6",
   "metadata": {},
   "outputs": [],
   "source": [
    "def vigenere(modo,k,i=0,o=0):\n",
    "    alfabeto='abcdefghijklmnopqrstuvwxyzABCDEFGHIJKLMNOPQRSTUVWXYZ'\n",
    "    base=len(alfabeto)\n",
    "    \n",
    "    #Traducimos la clave de caracteres a números\n",
    "    k_numerica=[]\n",
    "    for j in k:\n",
    "        if j in alfabeto: \n",
    "            k_numerica.append(alfabeto.index(j))\n",
    "    n=len(k_numerica)\n",
    "    if modo==\"-C\":\n",
    "        cadena=read_input(i)\n",
    "        # Traducimos los caracteres a números\n",
    "        cadena_numerica=[]\n",
    "        for k in cadena:\n",
    "            if k in alfabeto: \n",
    "                cadena_numerica.append(alfabeto.index(k))\n",
    "        # Dividimos en bloques de n elementos el input\n",
    "        # Si m no es múltiplo de n se añade padding\n",
    "        m=len(cadena_numerica)/n\n",
    "        maxi=len(cadena_numerica)\n",
    "        matriz_numerica=np.zeros((math.ceil(m),n))\n",
    "        pos=0\n",
    "        for i in range(math.ceil(m)):\n",
    "            for j in range(n):\n",
    "                if pos<maxi:\n",
    "                    matriz_numerica[i][j]=cadena_numerica[pos]\n",
    "                    pos=pos+1\n",
    "        # Tenemos una matriz que tenemos que cifrar. \n",
    "        # Cada bloque es una fila de la matriz\n",
    "        filas=matriz_numerica.shape[0]\n",
    "        elementos=matriz_numerica.shape[1]\n",
    "        matriz_cifrada=np.zeros((filas,elementos))\n",
    "        for i in range(filas):\n",
    "            for j in range(elementos):\n",
    "                matriz_cifrada[i][j]=(matriz_numerica[i][j]+k_numerica[j])%base\n",
    "        \n",
    "        cadena_cifrada=np.concatenate(matriz_cifrada)\n",
    "        resul=\"\"\n",
    "        for i in cadena_cifrada:\n",
    "            resul=resul+alfabeto[int(i)]\n",
    "        print_output(o,resul)\n",
    "    elif modo==\"-D\":\n",
    "        cadena_cifrada_texto=read_input(i)\n",
    "        cadena_cifrada=[]\n",
    "        for k in cadena_cifrada_texto:\n",
    "            if k in alfabeto: \n",
    "                cadena_cifrada.append(alfabeto.index(k))\n",
    "        # Dividimos en bloques de n elementos el texto cifrado\n",
    "        # Si m no es múltiplo de n se añade padding\n",
    "        m=len(cadena_cifrada)/n\n",
    "        maxi=len(cadena_cifrada)\n",
    "        matriz_cifrada=np.zeros((math.ceil(m),n))\n",
    "        pos=0\n",
    "        for i in range(math.ceil(m)):\n",
    "            for j in range(n):\n",
    "                if pos<maxi:\n",
    "                    matriz_cifrada[i][j]=cadena_cifrada[pos]\n",
    "                    pos=pos+1\n",
    "        # Tenemos una matriz que tenemos que descifrar. \n",
    "        # Cada bloque es una fila de la matriz\n",
    "        filas=matriz_cifrada.shape[0]\n",
    "        elementos=matriz_cifrada.shape[1]\n",
    "        matriz_descifrada=np.zeros((filas,elementos))\n",
    "        for i in range(filas):\n",
    "            for j in range(elementos):\n",
    "                matriz_descifrada[i][j]=(matriz_cifrada[i][j]-k_numerica[j])%base\n",
    "        cadena_descifrada=np.concatenate(matriz_descifrada)\n",
    "        cadena_texto=[]\n",
    "        for i in range(len(cadena_descifrada)):\n",
    "            cadena_texto.append(alfabeto[int(cadena_descifrada[i])])\n",
    "        print_output(o,cadena_texto)"
   ]
  },
  {
   "cell_type": "code",
   "execution_count": 117,
   "id": "ead14d27",
   "metadata": {},
   "outputs": [
    {
     "name": "stdout",
     "output_type": "stream",
     "text": [
      "Universidad Autonoma de Madrid\n",
      "Cadena: Universidad Autonoma de Madrid\n",
      "Cadena: WyiQitDiyefLuOspzmvhgXayvkoave\n"
     ]
    }
   ],
   "source": [
    "vigenere(\"-C\", \"clave\")"
   ]
  },
  {
   "cell_type": "code",
   "execution_count": 118,
   "id": "907b2b4a",
   "metadata": {
    "scrolled": true
   },
   "outputs": [
    {
     "name": "stdout",
     "output_type": "stream",
     "text": [
      "WyiQitDiyefLuOspzmvhgXayvkoave\n",
      "Cadena: WyiQitDiyefLuOspzmvhgXayvkoave\n",
      "Cadena: ['U', 'n', 'i', 'v', 'e', 'r', 's', 'i', 'd', 'a', 'd', 'A', 'u', 't', 'o', 'n', 'o', 'm', 'a', 'd', 'e', 'M', 'a', 'd', 'r', 'i', 'd', 'a', 'a', 'a']\n"
     ]
    }
   ],
   "source": [
    "vigenere(\"-D\", \"clave\")"
   ]
  },
  {
   "cell_type": "code",
   "execution_count": 119,
   "id": "fdef7c4c",
   "metadata": {
    "scrolled": true
   },
   "outputs": [
    {
     "name": "stdout",
     "output_type": "stream",
     "text": [
      "Universidad Autonoma de Madrid\n",
      "Cadena: Universidad Autonoma de Madrid\n",
      "Cadena: jEwweDGAfoqONKopzmvhqMsorzja\n"
     ]
    }
   ],
   "source": [
    "vigenere(\"-C\", \"probamos con otra clave mas larga\")"
   ]
  },
  {
   "cell_type": "code",
   "execution_count": 120,
   "id": "0d4c14ba",
   "metadata": {},
   "outputs": [
    {
     "name": "stdout",
     "output_type": "stream",
     "text": [
      "jEwweDGAfoqONKopzmvhqMsorzja\n",
      "Cadena: jEwweDGAfoqONKopzmvhqMsorzja\n",
      "Cadena: ['U', 'n', 'i', 'v', 'e', 'r', 's', 'i', 'd', 'a', 'd', 'A', 'u', 't', 'o', 'n', 'o', 'm', 'a', 'd', 'e', 'M', 'a', 'd', 'r', 'i', 'd', 'a']\n"
     ]
    }
   ],
   "source": [
    "vigenere(\"-D\", \"probamos con otra clave mas larga\")"
   ]
  },
  {
   "cell_type": "code",
   "execution_count": 127,
   "id": "e54fdffa",
   "metadata": {},
   "outputs": [
    {
     "name": "stdout",
     "output_type": "stream",
     "text": [
      "Cadena: Hola Nueva York!\n"
     ]
    }
   ],
   "source": [
    "vigenere(\"-C\", \"clave\", \"cadena.txt\", \"resultado_vigenere.txt\")"
   ]
  },
  {
   "cell_type": "code",
   "execution_count": 129,
   "id": "78cd3442",
   "metadata": {
    "scrolled": true
   },
   "outputs": [
    {
     "name": "stdout",
     "output_type": "stream",
     "text": [
      "Cadena: J z l v R w p v v c q C k v e\n"
     ]
    }
   ],
   "source": [
    "vigenere(\"-D\", \"clave\", \"resultado_vigenere.txt\", \"cadena_descifradaVigenere.txt\")"
   ]
  },
  {
   "cell_type": "markdown",
   "id": "229bf9a3",
   "metadata": {},
   "source": [
    "También probamos el cifrado de Vigenere para cifrar el Quijote con la clave \"En un lugar de la Mancha, de cuyo nombre no quiero acordarme\"."
   ]
  },
  {
   "cell_type": "code",
   "execution_count": 123,
   "id": "985d38f5",
   "metadata": {},
   "outputs": [],
   "source": [
    "vigenere(\"-C\",\"En un lugar de la Mancha, de cuyo nombre no quiero acordarme\", \"quijote.txt\", \"quijote_cifradoVigenere.txt\")"
   ]
  },
  {
   "cell_type": "code",
   "execution_count": 124,
   "id": "b70a64a0",
   "metadata": {},
   "outputs": [],
   "source": [
    "vigenere(\"-D\", \"En un lugar de la Mancha, de cuyo nombre no quiero acordarme\", \"quijote_cifradoVigenere.txt\", \"quijote_descifradoVigenere.txt\")"
   ]
  },
  {
   "cell_type": "markdown",
   "id": "a1f492f4",
   "metadata": {},
   "source": [
    "## 2.c Criptoanálisis del cifrado de Vigenere\n",
    "\n",
    "### Este apartado ha sido completado y corregido"
   ]
  },
  {
   "cell_type": "markdown",
   "id": "1930c0e1",
   "metadata": {},
   "source": [
    "El primer paso para criptoanalizar el cifrado de vigenere es calcular el tamaño de la clave. Para ello hay dos opciones:\n",
    "\n",
    "1. Test de Kasiski: se trata de buscar repeticiones de conjuntos de caracteres en el texto y despues medir la distancia entre ellas.\n",
    "\n",
    "2. Indice de coincidencia: este índice determina la probabilidad de que dos caracteres en una cadena o en un texto sean el mismo. \n",
    "\n",
    "Lo más interesante a destacar del uso de este índice es que si una cadena o texto descifrado posee un IC parecido al de su idioma, significa que la clave propuesta es la original del cifrado.\n"
   ]
  },
  {
   "cell_type": "markdown",
   "id": "97471f1d",
   "metadata": {},
   "source": [
    "El siguiente programa implementa el indice de coincidencia.\n",
    "\n",
    "Llamada a la función: \n",
    "**IC {-l Ngrama} [-i filein] [-o fileout]**\n",
    "\n",
    "- l longitud de n-grama buscado\n"
   ]
  },
  {
   "cell_type": "markdown",
   "id": "2748d037",
   "metadata": {},
   "source": [
    "### Test de Kasiski\n",
    "\n",
    "El siguiente programa implementa el test de kasiski.\n",
    "\n",
    "Llamada a la función: \n",
    "**kasiski {lista}{-tam conjunto_caracteres} [-i f ilein] [-o f ileout]**\n",
    "\n",
    "- tam longitud del conjunto, 3 por defecto\n",
    "\n",
    "Consiste en buscar conjuntos del tamaño especificado y guardamos la distancia a la repetición, es decir, la diferencia entre la posición del primer caracter del conjunto y la primera posición del primer caracter de la repetición.  Si obtenemos repeticiones de un conjunto, calculamos el máximo común divisor de las distancias de las repeticiones y éste valor es muy probablemente la longitud de la clave con la que se ha cifrado el texto por el cifrado de Vigenere."
   ]
  },
  {
   "cell_type": "code",
   "execution_count": 104,
   "id": "07c4fc80",
   "metadata": {},
   "outputs": [],
   "source": [
    "def test_kasiski(lista, tam=3, i=0, o=0):\n",
    "    from collections import Counter\n",
    "    \n",
    "    res=0\n",
    "    conj_dist=[]\n",
    "    conjuntos=[]\n",
    "    #buscamos conjuntos que se repitan en el texto y la distancia entre ellos\n",
    "    i = 0\n",
    "    while i < len(lista): \n",
    "        conj= lista[i:i+tam] # Cogemos al menos 3 caracteres como tamaño de la tupla\n",
    "        t = len(conj)\n",
    "        if t == tam: #tiene que ser t, si no estamos al final de la lista\n",
    "            print(\"Conjunto a buscar es: {}\".format(conj))\n",
    "            flag_repes=0\n",
    "            distancias=[]\n",
    "            for j in range(i+1,len(lista)): \n",
    "                \n",
    "                if lista[i:i+t] == lista[j:j+t]: #Si coinciden, seguimos comprobando\n",
    "                    flag_repes=1\n",
    "                    while lista[i:i+t] == lista[j:j+t]:\n",
    "                        t = t + 1\n",
    "                    t = t -1\n",
    "                    conj = lista[i:i+t] #Ahora tenemos un conjunto que sabemos que se repite\n",
    "                    conjuntos.append(conj)\n",
    "                    dist = j - i #calculamos la distancia\n",
    "                    print(\"Distancia: {}\".format(dist))\n",
    "                    conj_dist.append([conj,dist])\n",
    "                    distancias.append(dist)\n",
    "                    j = j + t + 1\n",
    "            if flag_repes==1 and len(distancias)>1:\n",
    "                # Calculamos mcd de distancias\n",
    "                print(\"Distancias {}\".format(distancias))\n",
    "                res=mcd_lista(distancias)\n",
    "                if res != 1:\n",
    "                    print(\"Posible tamaño de la clave: {}\".format(res))\n",
    "                    return res\n",
    "            i = i + t -tam +1\n",
    "        else:\n",
    "            i = i + 1\n",
    "    \n",
    "    if res==0:\n",
    "        print(\"No se ha encontrado n tamaño de la clave\")\n",
    "        return 0       \n",
    "                \n",
    "    return res\n",
    "    "
   ]
  },
  {
   "cell_type": "markdown",
   "id": "275a5ae5",
   "metadata": {},
   "source": [
    "Función que cálcula el mcd de todos los elementos de una lista.\n",
    "\n",
    "mcd_lista {lista}"
   ]
  },
  {
   "cell_type": "code",
   "execution_count": 33,
   "id": "5b6d0779",
   "metadata": {},
   "outputs": [],
   "source": [
    "def mcd_lista(lista):\n",
    "    mcd=lista[0]\n",
    "    for i in range(1,len(lista)):\n",
    "        mcd=math.gcd(mcd,lista[i])\n",
    "    return mcd"
   ]
  },
  {
   "cell_type": "code",
   "execution_count": 34,
   "id": "560e07d4",
   "metadata": {},
   "outputs": [],
   "source": [
    "def calcular_divisores(n):\n",
    "    lista = []\n",
    "    for i in range(2,n):\n",
    "        if n % i == 0:\n",
    "            lista.append(i)\n",
    "    return lista"
   ]
  },
  {
   "cell_type": "code",
   "execution_count": 127,
   "id": "f1976808",
   "metadata": {
    "scrolled": true
   },
   "outputs": [],
   "source": [
    "vigenere(\"-C\", \"be\", \"pruebaKasiski.txt\", \"kasiski.txt\")"
   ]
  },
  {
   "cell_type": "code",
   "execution_count": 128,
   "id": "7473d26c",
   "metadata": {
    "scrolled": true
   },
   "outputs": [
    {
     "name": "stdout",
     "output_type": "stream",
     "text": [
      "UiyxppbvhsqesedsntsscesimgjjseeseiLetmtojCfrdsoxsespbpprhmuyehfpbgmewiMssinmqwvqesmsswjxbqfxdsowfguiuyseemqmtgjrhimmuRvrdtpvueuimpvwwmuefxvvqmtgvvtyteuintpvsmtyttiesiuvbRvpmenzfpmiptiesiuvbhjenzbvjytjbydmcytzfpfkfxnmEsoidwppmmdmuyemojbydmcytzfpjxjhumogjhvruWfhuvjwumryfvjwvwwmuefiseuwphbpfwbxwymtvxbxfeoxfgprtidxfxvvQlbwfpmytuvmtiomneoxfRvpmenediomnrfgniuytimijjfrejbydmcytiviujfpjw\n",
      "Conjunto a buscar es: Ui\n",
      "Conjunto a buscar es: iy\n",
      "Conjunto a buscar es: yx\n",
      "Conjunto a buscar es: xp\n",
      "Conjunto a buscar es: pp\n",
      "Distancia: 49\n",
      "Distancia: 218\n",
      "Distancias [49, 218]\n",
      "Conjunto a buscar es: pb\n",
      "Distancia: 46\n",
      "Distancia: 58\n",
      "Distancias [46, 58]\n",
      "Posible tamaño de la clave: 2\n",
      "2\n"
     ]
    }
   ],
   "source": [
    "cifrado=read_input(\"kasiski.txt\")\n",
    "cifrado=cifrado.replace(\" \", \"\")\n",
    "print(cifrado)\n",
    "\n",
    "print(test_kasiski(cifrado,2))"
   ]
  },
  {
   "cell_type": "code",
   "execution_count": 129,
   "id": "1813b08e",
   "metadata": {},
   "outputs": [],
   "source": [
    "vigenere(\"-C\", \"cac\", \"pruebaKasiski.txt\", \"kasiski.txt\")"
   ]
  },
  {
   "cell_type": "code",
   "execution_count": 130,
   "id": "dfd232cf",
   "metadata": {
    "scrolled": true
   },
   "outputs": [
    {
     "name": "stdout",
     "output_type": "stream",
     "text": [
      "VezvoncriqpctaeqmrtodcrgnckhrcfofgKcuiumiAgneqnvtatnanqniktwfdgnaenaxgLqteokpuwmfqlqtskvaogteqnugcvgtwtafkpkuckpggnivPupepqttcvennuuxivcevwrrksewruwscveorottiuwsrjatgttcNwnlcovgnlgqpjcrgvrcficovctiwufcwckduuxengggvmkFopgcuqlnkckvufknhcuekbwuvgnivkdvknekdwptUgdvtiuviswetkswuvkvaggrcvsqfangscvvwnpwvavgapveeqnugcvgtwtPjcsgnlwuqwksgpiocnvgNwnlcoaegnkongemgvuuglgkfgpdhcuekbwuewgthglkuac\n",
      "Conjunto a buscar es: Ve\n",
      "Conjunto a buscar es: ez\n",
      "Conjunto a buscar es: zv\n",
      "Conjunto a buscar es: vo\n",
      "Conjunto a buscar es: on\n",
      "Distancia: 344\n",
      "Conjunto a buscar es: nc\n",
      "Distancia: 19\n",
      "Conjunto a buscar es: cr\n",
      "Distancia: 15\n",
      "Distancia: 177\n",
      "Distancias [15, 177]\n",
      "Posible tamaño de la clave: 3\n",
      "3\n"
     ]
    }
   ],
   "source": [
    "cifrado=read_input(\"kasiski.txt\")\n",
    "cifrado=cifrado.replace(\" \", \"\")\n",
    "print(cifrado)\n",
    "\n",
    "print(test_kasiski(cifrado,2))"
   ]
  },
  {
   "cell_type": "code",
   "execution_count": 131,
   "id": "e5ecd7e1",
   "metadata": {},
   "outputs": [],
   "source": [
    "vigenere(\"-C\", \"clave\", \"pruebaKasiski.txt\", \"kasiski.txt\")"
   ]
  },
  {
   "cell_type": "code",
   "execution_count": 132,
   "id": "3a9bb553",
   "metadata": {
    "scrolled": true
   },
   "outputs": [
    {
     "name": "stdout",
     "output_type": "stream",
     "text": [
      "VpxOsnlrBsrlrvgqxpMsdlrzpetfMefzdzOcDiNokJeIgqytMetwaGspriOyfoeGeewaQiNzrzqkAsPqfzlJvuttvqgEcJrupcOivFrvhkAiNgkygzpkENPreAoMxcEeGpwDvDxcptPvrtsxytDuNevpmKstCiNyuAhvvgErvRwwlvqxplGiqAhvvgErvhklmQettuNjcFcDfwDvzpgreOqkOoIieDoGpkniOyftnAewniwyuGeGmvtdOmpniyypESzhvCiNxkBuzvkDuNzkEazitltNsfllzwcEvPprFtvxglnOieznNieEeOytahvwgwlPwsFiNiptmvrvpNPpnlmvggyiHrgnmzxwDeGikqeIhhluxmdFszygEfzpkDave\n",
      "Conjunto a buscar es: Vp\n",
      "Conjunto a buscar es: px\n",
      "Conjunto a buscar es: xO\n",
      "Conjunto a buscar es: Os\n",
      "Conjunto a buscar es: sn\n",
      "Conjunto a buscar es: nl\n",
      "Distancia: 335\n",
      "Conjunto a buscar es: lr\n",
      "Distancia: 5\n",
      "Distancia: 15\n",
      "Distancias [5, 15]\n",
      "Posible tamaño de la clave: 5\n",
      "5\n"
     ]
    }
   ],
   "source": [
    "cifrado=read_input(\"kasiski.txt\")\n",
    "cifrado=cifrado.replace(\" \", \"\")\n",
    "print(cifrado)\n",
    "\n",
    "print(test_kasiski(cifrado,2))"
   ]
  },
  {
   "cell_type": "code",
   "execution_count": 133,
   "id": "e7797278",
   "metadata": {},
   "outputs": [],
   "source": [
    "vigenere(\"-C\", \"Mancha\", \"quijote.txt\", \"quijote_cifradoVigenere_kasiski.txt\")"
   ]
  },
  {
   "cell_type": "code",
   "execution_count": 138,
   "id": "9a37fd1f",
   "metadata": {
    "scrolled": true
   },
   "outputs": [
    {
     "name": "stdout",
     "output_type": "stream",
     "text": [
      "Conjunto a buscar es: pOa\n",
      "Distancia: 779022\n",
      "Conjunto a buscar es: tAc\n",
      "Distancia: 229441\n",
      "Distancia: 307633\n",
      "Distancia: 339361\n",
      "Distancias [229441, 307633, 339361]\n",
      "Conjunto a buscar es: AcT\n",
      "Conjunto a buscar es: cTP\n",
      "Conjunto a buscar es: TPM\n",
      "Conjunto a buscar es: PMq\n",
      "Conjunto a buscar es: MqR\n",
      "Conjunto a buscar es: qRN\n",
      "Conjunto a buscar es: RNR\n",
      "Conjunto a buscar es: NRH\n",
      "Conjunto a buscar es: RHR\n",
      "Conjunto a buscar es: HRF\n",
      "Conjunto a buscar es: RFE\n",
      "Conjunto a buscar es: FEZ\n",
      "Conjunto a buscar es: EZk\n",
      "Conjunto a buscar es: Zkn\n",
      "Conjunto a buscar es: knu\n",
      "Distancia: 276\n",
      "Distancia: 10188\n",
      "Distancia: 36570\n",
      "Distancia: 38334\n",
      "Distancia: 46932\n",
      "Distancia: 52116\n",
      "Distancia: 157386\n",
      "Distancia: 184140\n",
      "Distancia: 206772\n",
      "Distancia: 247626\n",
      "Distancia: 480852\n",
      "Distancia: 540648\n",
      "Distancias [276, 10188, 36570, 38334, 46932, 52116, 157386, 184140, 206772, 247626, 480852, 540648]\n",
      "Posible tamaño de la clave: 6\n",
      "6\n"
     ]
    }
   ],
   "source": [
    "cifrado=read_input(\"quijote_cifradoVigenere_kasiski.txt\")\n",
    "cifrado=cifrado.replace(\" \", \"\")\n",
    "print(test_kasiski(cifrado,3))"
   ]
  },
  {
   "cell_type": "code",
   "execution_count": 139,
   "id": "f0582a94",
   "metadata": {
    "scrolled": true
   },
   "outputs": [
    {
     "name": "stdout",
     "output_type": "stream",
     "text": [
      "Conjunto a buscar es: pOaSbI\n",
      "Distancia: 779022\n",
      "Conjunto a buscar es: CUCtAc\n",
      "Conjunto a buscar es: UCtAcT\n",
      "Conjunto a buscar es: CtAcTP\n",
      "Conjunto a buscar es: tAcTPM\n",
      "Conjunto a buscar es: AcTPMq\n",
      "Conjunto a buscar es: cTPMqR\n",
      "Conjunto a buscar es: TPMqRN\n",
      "Conjunto a buscar es: PMqRNR\n",
      "Conjunto a buscar es: MqRNRH\n",
      "Conjunto a buscar es: qRNRHR\n",
      "Conjunto a buscar es: RNRHRF\n",
      "Conjunto a buscar es: NRHRFE\n",
      "Conjunto a buscar es: RHRFEZ\n",
      "Conjunto a buscar es: HRFEZk\n",
      "Conjunto a buscar es: RFEZkn\n",
      "Conjunto a buscar es: FEZknu\n",
      "Conjunto a buscar es: EZknuQ\n",
      "Conjunto a buscar es: ZknuQl\n",
      "Conjunto a buscar es: knuQlq\n",
      "Conjunto a buscar es: nuQlqg\n",
      "Conjunto a buscar es: uQlqgJ\n",
      "Conjunto a buscar es: QlqgJe\n",
      "Conjunto a buscar es: lqgJed\n",
      "Conjunto a buscar es: qgJedv\n",
      "Conjunto a buscar es: gJedvn\n",
      "Conjunto a buscar es: Jedvnp\n",
      "Conjunto a buscar es: edvnpA\n",
      "Conjunto a buscar es: dvnpAe\n",
      "Conjunto a buscar es: vnpAee\n",
      "Conjunto a buscar es: npAeeS\n",
      "Conjunto a buscar es: pAeeSn\n",
      "Conjunto a buscar es: AeeSnc\n",
      "Conjunto a buscar es: eeSncC\n",
      "Conjunto a buscar es: eSncCe\n",
      "Conjunto a buscar es: SncCeP\n",
      "Conjunto a buscar es: ncCePr\n",
      "Conjunto a buscar es: cCePrn\n",
      "Conjunto a buscar es: CePrnN\n",
      "Conjunto a buscar es: ePrnNh\n",
      "Conjunto a buscar es: PrnNhp\n",
      "Conjunto a buscar es: rnNhpd\n",
      "Conjunto a buscar es: nNhpde\n",
      "Conjunto a buscar es: NhpdeF\n",
      "Conjunto a buscar es: hpdeFg\n",
      "Distancia: 427710\n",
      "Conjunto a buscar es: FgutQe\n",
      "Conjunto a buscar es: gutQeq\n",
      "Conjunto a buscar es: utQeqk\n",
      "Conjunto a buscar es: tQeqkj\n",
      "Conjunto a buscar es: Qeqkji\n",
      "Conjunto a buscar es: eqkjiZ\n",
      "Distancia: 258738\n",
      "Conjunto a buscar es: qkjiZc\n",
      "Distancia: 501066\n",
      "Conjunto a buscar es: jiZcBt\n",
      "Conjunto a buscar es: iZcBty\n",
      "Conjunto a buscar es: ZcBtye\n",
      "Conjunto a buscar es: cBtyee\n",
      "Distancia: 487494\n",
      "Distancia: 710544\n",
      "Distancias [487494, 710544]\n",
      "Posible tamaño de la clave: 6\n",
      "6\n"
     ]
    }
   ],
   "source": [
    "cifrado=read_input(\"quijote_cifradoVigenere_kasiski.txt\")\n",
    "cifrado=cifrado.replace(\" \", \"\")\n",
    "print(test_kasiski(cifrado,6))"
   ]
  },
  {
   "cell_type": "markdown",
   "id": "e6bcc2ac",
   "metadata": {},
   "source": [
    "Podemos observar que obtenemos el tamaño de clave con el que se ha cifrado el Quijote y tomando diferentes tamaños de agrupaciones (3 y 6) obtenemos que el tamaño de clave es el correcto: 6 (Mancha). "
   ]
  },
  {
   "cell_type": "markdown",
   "id": "42ce6833",
   "metadata": {},
   "source": [
    "\n",
    "### Indice de coincidencia\n",
    "\n",
    "En general, el algoritmo consiste en iterar varias veces en busca de un tamaño n de clave correcto para un texto que nos dan cifrado. \n",
    "\n",
    "Este texto se va a dividir en bloques iguales al de clave propuesta, en este caso (n). En cada iteración, y luego, se van a\n",
    "coger de cada bloque los caracteres cuyas posiciones puedan coincidir con la\n",
    "subclave i de esta clave de tamaño n (como se ha visto en teoría). \n",
    "\n",
    "Cuabdo tenemos los n vectores, cálculamos sus IC. Si utilizando el conteo de frecuencias de sus caracteres, se aproximan al IC\n",
    "del idioma utilizado, esto implica que el tamaño de clave n propuesto es el correcto para la\n",
    "clave original del cifrado.\n",
    "\n",
    "Esto ocurre porque se trata de un cifrado por\n",
    "desplazamiento, por lo que las frecuencias de los caracteres permanece igual en el\n",
    "estado de cifrado y de descifrado. "
   ]
  },
  {
   "cell_type": "markdown",
   "id": "67dfeb05",
   "metadata": {},
   "source": [
    "Función que divide una lista siguiendo el esquema dado en clase \n",
    "para poder criptoanalizar vigenere.\n",
    "\n",
    "dividir_lista {n}{lista}"
   ]
  },
  {
   "cell_type": "code",
   "execution_count": 140,
   "id": "8283d3a8",
   "metadata": {},
   "outputs": [],
   "source": [
    "def dividir_lista(n,lista): #ahora que sabemos la cardinalidad de la llave, dividimos la lista en ese modulo\n",
    "    dic = {}\n",
    "    for elem in range(n): #hacemos sublistas de n elementos\n",
    "        dic[elem] = []\n",
    "        \n",
    "    i = 0\n",
    "    for j in range (len(lista)):\n",
    "        if i == n: #si el inidice es igual a n hemos llegado al final de la sublista\n",
    "            i = 0 \n",
    "        dic[i].append(lista[j])\n",
    "        i = i + 1\n",
    "    return dic"
   ]
  },
  {
   "cell_type": "markdown",
   "id": "9a27ebfd",
   "metadata": {},
   "source": [
    "Función que calcula la probabilidad de que dos caracteres de una cadena sean el mismo.\n",
    "\n",
    "calcular_IC {lista}"
   ]
  },
  {
   "cell_type": "code",
   "execution_count": 141,
   "id": "0e692a59",
   "metadata": {},
   "outputs": [],
   "source": [
    "def calcular_IC(lista):\n",
    "    #print(lista)\n",
    "    alfabeto='abcdefghijklmnopqrstuvwxyz'\n",
    "     #esta funcion esta mal\n",
    "    castellano=(['a', 11.96],['b', 0.92],['c', 2.92],['d', 6.87],['e', 16.78],['f', 0.52],['g', 0.73],\n",
    "           ['h', 0.89],['i', 4.15],['j', 0.3],['k', 0.0],['l', 8.37],['m', 2.12],['n', 7.01],\n",
    "           ['o', 8.69],['p', 2.77],['q', 1.53],['r', 4.94],['s', 7.88],['t', 3.31],['u', 4.80],\n",
    "           ['v', 0.39],['w', 0.0],['x', 0.06],['y', 1.54],['z', 0.15])\n",
    "    \n",
    "    from collections import Counter\n",
    "    resul_contador = Counter(lista)\n",
    "    \n",
    "    frecuencias=[]\n",
    "    for i in range(len(alfabeto)):\n",
    "        frecuencias.append(resul_contador[alfabeto[i]])\n",
    "   \n",
    "    n_pares_iguales=0\n",
    "    for i in range(len(frecuencias)):\n",
    "        n_pares_iguales=n_pares_iguales+(frecuencias[i]*frecuencias[i]-1)\n",
    "         #n_pares_iguales=castellano[i][1]*castellano[i][1]\n",
    "    #n_pares_letras=(len(lista)*len(lista)-1)/2\n",
    "    n_pares_letras=len(lista)*(len(lista)-1)\n",
    "    #frecuencias=[]\n",
    "    #el número de casos posibles en los que podemos elegir dos caracteres \n",
    "    #iguales entre un total de m caracteres del alfabeto\n",
    "    #for j in range(len(resul_contador)): #vamos a calcular la frecuencia de cada caracter\n",
    "            #frecuencias.append(resul_contador[j])\n",
    "    \n",
    "    #print(resul_contador)\n",
    "    #print(frecuencias)\n",
    "    #castellano_ord=sorted(castellano, key=lambda letra: letra[1], reverse=True)\n",
    "    IC=n_pares_iguales/n_pares_letras\n",
    "    #for i in range(len(lista)):\n",
    "       # for j in range(len(castellano)):\n",
    "           # if lista[i]==resul_contador[j][0]:\n",
    "           #     IC= IC+(resul_contador[j][1]*resul_contador[j][1])\n",
    "    return IC"
   ]
  },
  {
   "cell_type": "markdown",
   "id": "8fe47258",
   "metadata": {},
   "source": [
    "El siguiente programa implementa el indice de coincidencia.\n",
    "\n",
    "Llamada a la función: \n",
    "**IC {lista}{-maxi maximo de iteraciones} [-i filein] [-o fileout]**\n"
   ]
  },
  {
   "cell_type": "code",
   "execution_count": 201,
   "id": "e8250c2a",
   "metadata": {},
   "outputs": [],
   "source": [
    "def IC(cadena,maxi, i=0, o=0):\n",
    "    from collections import Counter\n",
    "    #INFORMACIÓN SOBRE EL IC DEL CASTELLANO Y EL ÍNGLES\n",
    "    castellano=(['a', 11.96],['b', 0.92],['c', 2.92],['d', 6.87],['e', 16.78],['f', 0.52],['g', 0.73],\n",
    "           ['h', 0.89],['i', 4.15],['j', 0.3],['k', 0.0],['l', 8.37],['m', 2.12],['n', 7.01],\n",
    "           ['o', 8.69],['p', 2.77],['q', 1.53],['r', 4.94],['s', 7.88],['t', 3.31],['u', 4.80],\n",
    "           ['v', 0.39],['w', 0.0],['x', 0.06],['y', 1.54],['z', 0.15])\n",
    "    \n",
    "    castellano_ord=sorted(castellano, key=lambda letra: letra[1], reverse=True)\n",
    "    IC_castellano=0\n",
    "    for i in range(len(castellano_ord)):\n",
    "        IC_castellano= IC_castellano+castellano_ord[i][1]*castellano_ord[i][1]\n",
    "    IC_castellano=0.073\n",
    "    #print(\"IC castellano {}\".format(IC_castellano))\n",
    "    \n",
    "    ingles=(['a', 8.04],['b', 1.54],['c', 3.06],['d', 3.99],['e', 12.51],['f', 2.30],['g', 1.96],\n",
    "        ['h', 5.49],['i', 7.26],['j', 0.16],['k', 0.67],['l', 4.14],['m', 2.53],['n', 7.09],\n",
    "       ['o', 7.60],['p', 2.0],['q', 0.11],['r', 6.12],['s', 6,54],['t', 9.25],['u', 2.71],\n",
    "       ['v', 0.99],['w', 1.92],['x', 0.19],['y', 1.73],['z', 0.19])\n",
    "\n",
    "    ingles_ord=sorted(ingles, key=lambda letra: letra[1], reverse=True)\n",
    "    IC_ingles=0\n",
    "    for i in range(len(ingles)):\n",
    "        IC_ingles= IC_ingles+(ingles[i][1]*ingles[i][1])\n",
    "    IC_ingles=IC_ingles/10000\n",
    "    # print(\"IC inglés {}\".format(IC_ingles))\n",
    "    \n",
    "    IC_aleatorio=0.038\n",
    "    #probamos con 18 tamaños diferentes (ponemos un máximo para que sea mas eficiente/posible)\n",
    "    sublista=[]\n",
    "    tamaño_clave=[]\n",
    "    #n es el tamaño de la clave propuesta\n",
    "    for n in range(1,maxi):\n",
    "        print(\"n = {}\".format(n))\n",
    "        dic=dividir_lista(n,cadena) #dividimos el texto en sublistas del tamaño de la clave propuesta\n",
    "        suma=0\n",
    "        for j in range(len(dic)):\n",
    "            ic=calcular_IC(dic[j])\n",
    "            print(\"Vector {} IC= {}\".format(j,ic))\n",
    "            suma=suma+ic\n",
    "        media=suma/n\n",
    "        print(\"n = {}, media de IC = {}\".format(n,media))\n",
    "        #Si n es el tamaño de bloque con el que se ha cifrado, todos estos vectores tienen estructura de lenguaje \n",
    "        #y por tanto su coincidencia es diferente al de un lenguaje aleatorio y casi la misma que la del castellano\n",
    "        #en este caso\n",
    "        if media<=IC_castellano+0.005 and media>=IC_castellano-0.005:\n",
    "            print(\"Posible tamaño de clave encontrado: n = {} con IC = {}\".format(n, media))\n",
    "            sublista.append(dic)\n",
    "            tamaño_clave.append(n)\n",
    "            \n",
    "            \n",
    "    return sublista, tamaño_clave\n",
    "    "
   ]
  },
  {
   "cell_type": "code",
   "execution_count": 170,
   "id": "e246c0d9",
   "metadata": {
    "scrolled": true
   },
   "outputs": [
    {
     "name": "stdout",
     "output_type": "stream",
     "text": [
      "IC castellano 0.073\n",
      "IC inglés 0.06509240999999999\n",
      "n = 1\n",
      "Vector 0 IC= 0.04602705524285091\n",
      "n = 1, media de IC = 0.04602705524285091\n",
      "n = 2\n",
      "Vector 0 IC= 0.047824683365173704\n",
      "Vector 1 IC= 0.04671469256350386\n",
      "n = 2, media de IC = 0.04726968796433878\n",
      "n = 3\n",
      "Vector 0 IC= 0.04638780623608018\n",
      "Vector 1 IC= 0.04655683264397073\n",
      "Vector 2 IC= 0.048707654202620645\n",
      "n = 3, media de IC = 0.04721743102755719\n",
      "n = 4\n",
      "Vector 0 IC= 0.050754203758654796\n",
      "Vector 1 IC= 0.04902324431256182\n",
      "Vector 2 IC= 0.04799218194740583\n",
      "Vector 3 IC= 0.04763681592039801\n",
      "n = 4, media de IC = 0.04885161148475511\n",
      "n = 5\n",
      "Vector 0 IC= 0.08203221809169764\n",
      "Vector 1 IC= 0.07236586583809576\n",
      "Vector 2 IC= 0.09397714032070133\n",
      "Vector 3 IC= 0.07944015979581645\n",
      "Vector 4 IC= 0.08479442934028741\n",
      "n = 5, media de IC = 0.08252196267731972\n",
      "n = 6\n",
      "Vector 0 IC= 0.04704365079365079\n",
      "Vector 1 IC= 0.04863095238095238\n",
      "Vector 2 IC= 0.05265054452274183\n",
      "Vector 3 IC= 0.04912716207559257\n",
      "Vector 4 IC= 0.05100896860986547\n",
      "Vector 5 IC= 0.04936739269698911\n",
      "n = 6, media de IC = 0.04963811184663203\n",
      "n = 7\n",
      "Vector 0 IC= 0.05000539723661485\n",
      "Vector 1 IC= 0.05000539723661485\n",
      "Vector 2 IC= 0.0449934554973822\n",
      "Vector 3 IC= 0.050774432809773125\n",
      "Vector 4 IC= 0.05224694589877836\n",
      "Vector 5 IC= 0.04826570680628272\n",
      "Vector 6 IC= 0.04690226876090751\n",
      "n = 7, media de IC = 0.04902765774947909\n",
      "n = 8\n",
      "Vector 0 IC= 0.050824175824175824\n",
      "Vector 1 IC= 0.05004930966469428\n",
      "Vector 2 IC= 0.046906187624750496\n",
      "Vector 3 IC= 0.04997148560022811\n",
      "Vector 4 IC= 0.053393213572854294\n",
      "Vector 5 IC= 0.05367835757057314\n",
      "Vector 6 IC= 0.05253778157969775\n",
      "Vector 7 IC= 0.0474764756201882\n",
      "n = 8, media de IC = 0.05060462338214526\n",
      "n = 9\n",
      "Vector 0 IC= 0.05297539149888143\n",
      "Vector 1 IC= 0.051096196868008946\n",
      "Vector 2 IC= 0.052080536912751677\n",
      "Vector 3 IC= 0.05190156599552573\n",
      "Vector 4 IC= 0.05306487695749441\n",
      "Vector 5 IC= 0.05282967531289679\n",
      "Vector 6 IC= 0.04611826591692363\n",
      "Vector 7 IC= 0.04892980228550698\n",
      "Vector 8 IC= 0.05255759114819517\n",
      "n = 9, media de IC = 0.05128376698846498\n",
      "n = 10\n",
      "Vector 0 IC= 0.09546710889994472\n",
      "Vector 1 IC= 0.06782752902155888\n",
      "Vector 2 IC= 0.09192924267551134\n",
      "Vector 3 IC= 0.09115533443891653\n",
      "Vector 4 IC= 0.08938640132669984\n",
      "Vector 5 IC= 0.07888336097291321\n",
      "Vector 6 IC= 0.08304342946919538\n",
      "Vector 7 IC= 0.09707103579845135\n",
      "Vector 8 IC= 0.0737290988665694\n",
      "Vector 9 IC= 0.08304342946919538\n",
      "n = 10, media de IC = 0.08515359709389561\n",
      "n = 11\n",
      "Vector 0 IC= 0.052045848327335734\n",
      "Vector 1 IC= 0.052179128348660536\n",
      "Vector 2 IC= 0.055777688924430226\n",
      "Vector 3 IC= 0.05124616819938691\n",
      "Vector 4 IC= 0.05636092670369869\n",
      "Vector 5 IC= 0.05216095380029806\n",
      "Vector 6 IC= 0.04972225985638802\n",
      "Vector 7 IC= 0.04877387887820078\n",
      "Vector 8 IC= 0.053515783769136974\n",
      "Vector 9 IC= 0.05080612383145915\n",
      "Vector 10 IC= 0.05703834168811814\n",
      "n = 11, media de IC = 0.052693372938828476\n",
      "n = 12\n",
      "Vector 0 IC= 0.05191213653603034\n",
      "Vector 1 IC= 0.05001580278128951\n",
      "Vector 2 IC= 0.051962676962676965\n",
      "Vector 3 IC= 0.05083655083655084\n",
      "Vector 4 IC= 0.05244530244530245\n",
      "Vector 5 IC= 0.054858429858429855\n",
      "Vector 6 IC= 0.04777992277992278\n",
      "Vector 7 IC= 0.05308880308880309\n",
      "Vector 8 IC= 0.06177606177606178\n",
      "Vector 9 IC= 0.05003217503217503\n",
      "Vector 10 IC= 0.05405405405405406\n",
      "Vector 11 IC= 0.05131917631917632\n",
      "n = 12, media de IC = 0.05250675770587274\n",
      "n = 13\n",
      "Vector 0 IC= 0.04854368932038835\n",
      "Vector 1 IC= 0.05041075429424944\n",
      "Vector 2 IC= 0.04555638536221061\n",
      "Vector 3 IC= 0.052464525765496636\n",
      "Vector 4 IC= 0.051344286781179985\n",
      "Vector 5 IC= 0.049477221807318894\n",
      "Vector 6 IC= 0.05227781926811053\n",
      "Vector 7 IC= 0.06234532648010661\n",
      "Vector 8 IC= 0.0497810774795355\n",
      "Vector 9 IC= 0.04920997525223682\n",
      "Vector 10 IC= 0.05187511897963069\n",
      "Vector 11 IC= 0.04483152484294689\n",
      "Vector 12 IC= 0.045402627070245574\n",
      "n = 13, media de IC = 0.05027079482335818\n",
      "n = 14\n",
      "Vector 0 IC= 0.0546606529209622\n",
      "Vector 1 IC= 0.06475515463917526\n",
      "Vector 2 IC= 0.05043859649122807\n",
      "Vector 3 IC= 0.04583333333333333\n",
      "Vector 4 IC= 0.05241228070175439\n",
      "Vector 5 IC= 0.049342105263157895\n",
      "Vector 6 IC= 0.04912280701754386\n",
      "Vector 7 IC= 0.04692982456140351\n",
      "Vector 8 IC= 0.05307017543859649\n",
      "Vector 9 IC= 0.04912280701754386\n",
      "Vector 10 IC= 0.06337719298245614\n",
      "Vector 11 IC= 0.058771929824561406\n",
      "Vector 12 IC= 0.06074561403508772\n",
      "Vector 13 IC= 0.05021929824561404\n",
      "n = 14, media de IC = 0.053485840890887\n",
      "n = 15\n",
      "Vector 0 IC= 0.0749063670411985\n",
      "Vector 1 IC= 0.066167290886392\n",
      "Vector 2 IC= 0.10561797752808989\n",
      "Vector 3 IC= 0.08789013732833957\n",
      "Vector 4 IC= 0.08039950062421973\n",
      "Vector 5 IC= 0.08888888888888889\n",
      "Vector 6 IC= 0.0766541822721598\n",
      "Vector 7 IC= 0.09612983770287141\n",
      "Vector 8 IC= 0.08264669163545568\n",
      "Vector 9 IC= 0.08813982521847691\n",
      "Vector 10 IC= 0.09463171036204744\n",
      "Vector 11 IC= 0.07852400408580183\n",
      "Vector 12 IC= 0.1030388151174668\n",
      "Vector 13 IC= 0.07213993871297242\n",
      "Vector 14 IC= 0.09691011235955056\n",
      "n = 15, media de IC = 0.08617901865092877\n",
      "n = 16\n",
      "Vector 0 IC= 0.05280112044817927\n",
      "Vector 1 IC= 0.052521008403361345\n",
      "Vector 2 IC= 0.04819277108433735\n",
      "Vector 3 IC= 0.058519793459552494\n",
      "Vector 4 IC= 0.06310958118187034\n",
      "Vector 5 IC= 0.05249569707401033\n",
      "Vector 6 IC= 0.06253585771658061\n",
      "Vector 7 IC= 0.055077452667814115\n",
      "Vector 8 IC= 0.05622489959839357\n",
      "Vector 9 IC= 0.053069420539300055\n",
      "Vector 10 IC= 0.052782558806655194\n",
      "Vector 11 IC= 0.04876649454962708\n",
      "Vector 12 IC= 0.05249569707401033\n",
      "Vector 13 IC= 0.05938037865748709\n",
      "Vector 14 IC= 0.05622489959839357\n",
      "Vector 15 IC= 0.04934021801491681\n",
      "n = 16, media de IC = 0.05459611555465561\n",
      "n = 17\n",
      "Vector 0 IC= 0.055379746835443035\n",
      "Vector 1 IC= 0.05411392405063291\n",
      "Vector 2 IC= 0.0670886075949367\n",
      "Vector 3 IC= 0.04852320675105485\n",
      "Vector 4 IC= 0.05306718597857838\n",
      "Vector 5 IC= 0.052742616033755275\n",
      "Vector 6 IC= 0.061506004543979226\n",
      "Vector 7 IC= 0.04787406686140863\n",
      "Vector 8 IC= 0.05663745537163259\n",
      "Vector 9 IC= 0.05533917559234015\n",
      "Vector 10 IC= 0.049172346640701074\n",
      "Vector 11 IC= 0.049172346640701074\n",
      "Vector 12 IC= 0.04982148653034729\n",
      "Vector 13 IC= 0.06312885426809478\n",
      "Vector 14 IC= 0.05111976630963973\n",
      "Vector 15 IC= 0.052742616033755275\n",
      "Vector 16 IC= 0.05111976630963973\n",
      "n = 17, media de IC = 0.05403230425568475\n"
     ]
    }
   ],
   "source": [
    "lista=\"jkceizwpsovcdmzvepdzwvlmwmpnmjinpmkitldjvxfegzgwaniuaaghcdyyilldzwrpccefzayspliaitzszpefagccgeigozamvquadqrlcdipeeyinlcgitllznqddzwgwtvfnprjcnlsoedwancrtdzercizwcwanetxanccooisnonnyrcihsrtdzttpsoeflspiuaayewciihcyatgozdjrqwdirqdegesfizvgarzwvlrjjtpcdrfzlzwwnohtcleipcoiagkwehttpsvipbuzwgaoiirprjingagitzsjipzjvhqyogssfizvglcztvlrvrvpsymepqpindogsgdbvwvlnoirlrvwcnameufentqdanmdteiiueuqmgdehivtdvipplhwjznysepnovqoegevtemvcjcjrgdtjwgpnovclamqccpvvcaoiitdegygrozrelmdrqfegzcyvpiuervwoprxifpsgsuzjjwclqpinwaostcelygllgtccexisfenircenyrznzuwpenypldzpcdtjvtpsyinllxdccdzetlgjdcbuzejzrvpnlmvrnlleehprvccbuzpnldvqcbuziplqpinmaggpaamiepvzwvtdvenzmjvqpsgeutnketpldwgydmesfeyiuoevpnxuxlcdvzggdsztqyavqkcaminnahmpzdzvcycdeaauzwvllvmolgdrcniiiplrncgyspiuaonsupcjruzlvfcpnnyeluomxprdskceixcxbdrwynpixzcvwqbuzejzrvwwneyisfiurqginxquahwqgezrcbuzpozrjuwpcvpnlnymezykeuttjerlsjtwpsosgwdzhqpngedzcvwgwlzkcaompcdentcwdvwfpegmupnyvcfenqkceigozlvhcfnwiuzeiqkeayhgwonpcmijwawakvkpsvuwpegpcdeyecpsxyrtrtentmkmtdegsunoipcmlvrelmvrildzwwnahmulyxqqdegeopnoeadevvtlnxefppzwccspwjprhsuzsxedplgsunohsutegpqdtpzkprvrnlcpprldzpollzjknijmtpnoeomiigozalygwgmexpmjvqbuziueeiesfegpqdcjvtpdjvgdenincetetdigmqoevrufevinnuvprzrcedprqmueogekysjpgycdefplhstzppiueolygprvypaammgytzcicaitttvvhqdutsnpmvrfwuzkqarzrfprtuwplzhgydjgkpnosulzjxgdlgixydjpgaompcdcvpnpsvgqdtpqdcayeuoegeetuyeflave\"\n",
    "lista,n=IC(lista,18)"
   ]
  },
  {
   "cell_type": "code",
   "execution_count": 202,
   "id": "20a4f44a",
   "metadata": {},
   "outputs": [],
   "source": [
    "vigenere(\"-C\", \"be\", \"pruebaKasiski.txt\", \"ic.txt\")"
   ]
  },
  {
   "cell_type": "code",
   "execution_count": 203,
   "id": "1896cb82",
   "metadata": {},
   "outputs": [
    {
     "name": "stdout",
     "output_type": "stream",
     "text": [
      "Texto cifrado a analizar por índice de coincidencia: uiyxppbvhsqesedsntsscesimgjjseeseiletmtojcfrdsoxsespbpprhmuyehfpbgmewimssinmqwvqesmsswjxbqfxdsowfguiuyseemqmtgjrhimmurvrdtpvueuimpvwwmuefxvvqmtgvvtyteuintpvsmtyttiesiuvbrvpmenzfpmiptiesiuvbhjenzbvjytjbydmcytzfpfkfxnmesoidwppmmdmuyemojbydmcytzfpjxjhumogjhvruwfhuvjwumryfvjwvwwmuefiseuwphbpfwbxwymtvxbxfeoxfgprtidxfxvvqlbwfpmytuvmtiomneoxfrvpmenediomnrfgniuytimijjfrejbydmcytiviujfpjw\n",
      "n = 1\n",
      "Vector 0 IC= 0.05256214700911077\n",
      "n = 1, media de IC = 0.05256214700911077\n",
      "n = 2\n",
      "Vector 0 IC= 0.06858638743455497\n",
      "Vector 1 IC= 0.07547533755855608\n",
      "n = 2, media de IC = 0.07203086249655552\n",
      "Posible tamaño de clave encontrado: n = 2 con IC = 0.07203086249655552\n",
      "n = 3\n",
      "Vector 0 IC= 0.06532972440944881\n",
      "Vector 1 IC= 0.04918135233095863\n",
      "Vector 2 IC= 0.05580552430946132\n",
      "n = 3, media de IC = 0.05677220034995625\n",
      "n = 4\n",
      "Vector 0 IC= 0.07543859649122807\n",
      "Vector 1 IC= 0.07609649122807018\n",
      "Vector 2 IC= 0.06998880179171332\n",
      "Vector 3 IC= 0.07849944008958566\n",
      "n = 4, media de IC = 0.07500583240014931\n",
      "Posible tamaño de clave encontrado: n = 4 con IC = 0.07500583240014931\n",
      "n = 5\n",
      "Vector 0 IC= 0.05827067669172932\n",
      "Vector 1 IC= 0.05109364319890636\n",
      "Vector 2 IC= 0.06070175438596491\n",
      "Vector 3 IC= 0.06\n",
      "Vector 4 IC= 0.05754385964912281\n",
      "n = 5, media de IC = 0.057521986785144676\n",
      "n = 6\n",
      "Vector 0 IC= 0.0873015873015873\n",
      "Vector 1 IC= 0.06646825396825397\n",
      "Vector 2 IC= 0.06994047619047619\n",
      "Vector 3 IC= 0.09325396825396826\n",
      "Vector 4 IC= 0.0647721454173067\n",
      "Vector 5 IC= 0.08269329237071173\n",
      "n = 6, media de IC = 0.07740495391705068\n",
      "Posible tamaño de clave encontrado: n = 6 con IC = 0.07740495391705068\n",
      "n = 7\n",
      "Vector 0 IC= 0.0643097643097643\n",
      "Vector 1 IC= 0.05218855218855219\n",
      "Vector 2 IC= 0.06228956228956229\n",
      "Vector 3 IC= 0.054208754208754206\n",
      "Vector 4 IC= 0.05660377358490566\n",
      "Vector 5 IC= 0.06079664570230608\n",
      "Vector 6 IC= 0.06079664570230608\n",
      "n = 7, media de IC = 0.0587419568551644\n",
      "n = 8\n",
      "Vector 0 IC= 0.08599290780141844\n",
      "Vector 1 IC= 0.07712765957446809\n",
      "Vector 2 IC= 0.07092198581560284\n",
      "Vector 3 IC= 0.09308510638297872\n",
      "Vector 4 IC= 0.07624113475177305\n",
      "Vector 5 IC= 0.09131205673758866\n",
      "Vector 6 IC= 0.07076780758556891\n",
      "Vector 7 IC= 0.06706753006475485\n",
      "n = 8, media de IC = 0.0790645235892692\n",
      "n = 9\n",
      "Vector 0 IC= 0.07032115171650055\n",
      "Vector 1 IC= 0.044850498338870434\n",
      "Vector 2 IC= 0.05370985603543743\n",
      "Vector 3 IC= 0.06478405315614617\n",
      "Vector 4 IC= 0.059233449477351915\n",
      "Vector 5 IC= 0.06039488966318235\n",
      "Vector 6 IC= 0.0743321718931475\n",
      "Vector 7 IC= 0.0627177700348432\n",
      "Vector 8 IC= 0.056910569105691054\n",
      "n = 9, media de IC = 0.06080604549124118\n"
     ]
    }
   ],
   "source": [
    "cifrado=read_input(\"ic.txt\")\n",
    "cifrado=cifrado.replace(\" \", \"\")\n",
    "cifrado=cifrado.lower()\n",
    "print(\"Texto cifrado a analizar por índice de coincidencia: {}\".format(cifrado))\n",
    "sublista, n=IC(cifrado,10)"
   ]
  },
  {
   "cell_type": "code",
   "execution_count": 204,
   "id": "0faa831b",
   "metadata": {
    "scrolled": true
   },
   "outputs": [
    {
     "name": "stdout",
     "output_type": "stream",
     "text": [
      "n = 1\n",
      "Vector 0 IC= 0.05780842036553525\n",
      "n = 1, media de IC = 0.05780842036553525\n",
      "n = 2\n",
      "Vector 0 IC= 0.056664485165794067\n",
      "Vector 1 IC= 0.061518324607329845\n",
      "n = 2, media de IC = 0.059091404886561956\n",
      "n = 3\n",
      "Vector 0 IC= 0.08698326771653543\n",
      "Vector 1 IC= 0.06508366141732283\n",
      "Vector 2 IC= 0.07591043307086615\n",
      "n = 3, media de IC = 0.07599245406824147\n",
      "Posible tamaño de clave encontrado: n = 3 con IC = 0.07599245406824147\n",
      "n = 4\n",
      "Vector 0 IC= 0.06096491228070176\n",
      "Vector 1 IC= 0.06381578947368421\n",
      "Vector 2 IC= 0.06271929824561404\n",
      "Vector 3 IC= 0.06074561403508772\n",
      "n = 4, media de IC = 0.06206140350877193\n",
      "n = 5\n",
      "Vector 0 IC= 0.06989063568010936\n",
      "Vector 1 IC= 0.06578947368421052\n",
      "Vector 2 IC= 0.05280246069719754\n",
      "Vector 3 IC= 0.06613123718386876\n",
      "Vector 4 IC= 0.06842105263157895\n",
      "n = 5, media de IC = 0.06460697197539303\n",
      "n = 6\n",
      "Vector 0 IC= 0.0873015873015873\n",
      "Vector 1 IC= 0.06646825396825397\n",
      "Vector 2 IC= 0.06994047619047619\n",
      "Vector 3 IC= 0.09325396825396826\n",
      "Vector 4 IC= 0.06547619047619048\n",
      "Vector 5 IC= 0.08482142857142858\n",
      "n = 6, media de IC = 0.07787698412698413\n",
      "Posible tamaño de clave encontrado: n = 6 con IC = 0.07787698412698413\n",
      "n = 7\n",
      "Vector 0 IC= 0.06296296296296296\n",
      "Vector 1 IC= 0.06363636363636363\n",
      "Vector 2 IC= 0.05824915824915825\n",
      "Vector 3 IC= 0.07441077441077441\n",
      "Vector 4 IC= 0.06835016835016836\n",
      "Vector 5 IC= 0.060942760942760944\n",
      "Vector 6 IC= 0.053109713487071976\n",
      "n = 7, media de IC = 0.06309455743418008\n",
      "n = 8\n",
      "Vector 0 IC= 0.07092198581560284\n",
      "Vector 1 IC= 0.06826241134751773\n",
      "Vector 2 IC= 0.07092198581560284\n",
      "Vector 3 IC= 0.06826241134751773\n",
      "Vector 4 IC= 0.06382978723404255\n",
      "Vector 5 IC= 0.0673758865248227\n",
      "Vector 6 IC= 0.051418439716312055\n",
      "Vector 7 IC= 0.05673758865248227\n",
      "n = 8, media de IC = 0.06471631205673758\n",
      "n = 9\n",
      "Vector 0 IC= 0.0725359911406423\n",
      "Vector 1 IC= 0.0592469545957918\n",
      "Vector 2 IC= 0.0769656699889258\n",
      "Vector 3 IC= 0.08693244739756367\n",
      "Vector 4 IC= 0.0681063122923588\n",
      "Vector 5 IC= 0.08361018826135105\n",
      "Vector 6 IC= 0.10104529616724739\n",
      "Vector 7 IC= 0.06968641114982578\n",
      "Vector 8 IC= 0.07665505226480836\n",
      "n = 9, media de IC = 0.077198258139835\n",
      "Posible tamaño de clave encontrado: n = 9 con IC = 0.077198258139835\n"
     ]
    }
   ],
   "source": [
    "vigenere(\"-C\", \"cac\", \"pruebaKasiski.txt\", \"ic.txt\")\n",
    "\n",
    "cifrado=read_input(\"ic.txt\")\n",
    "cifrado=cifrado.replace(\" \", \"\")\n",
    "cifrado=cifrado.lower()\n",
    "sublista, n=IC(cifrado,10)"
   ]
  },
  {
   "cell_type": "code",
   "execution_count": 206,
   "id": "50391ce3",
   "metadata": {
    "scrolled": true
   },
   "outputs": [
    {
     "name": "stdout",
     "output_type": "stream",
     "text": [
      "n = 1\n",
      "Vector 0 IC= 0.04539523511253747\n",
      "n = 1, media de IC = 0.04539523511253747\n",
      "n = 2\n",
      "Vector 0 IC= 0.046452277328584826\n",
      "Vector 1 IC= 0.056951620829083574\n",
      "n = 2, media de IC = 0.0517019490788342\n",
      "n = 3\n",
      "Vector 0 IC= 0.05836630171699936\n",
      "Vector 1 IC= 0.052497294815661295\n",
      "Vector 2 IC= 0.06060676209095659\n",
      "n = 3, media de IC = 0.05715678620787241\n",
      "n = 4\n",
      "Vector 0 IC= 0.04646505491077915\n",
      "Vector 1 IC= 0.05698753026647876\n",
      "Vector 2 IC= 0.046443459317309685\n",
      "Vector 3 IC= 0.05691913894924689\n",
      "n = 4, media de IC = 0.051703795860953625\n",
      "n = 5\n",
      "Vector 0 IC= 0.04543976133924142\n",
      "Vector 1 IC= 0.04537972200307022\n",
      "Vector 2 IC= 0.04544504710023361\n",
      "Vector 3 IC= 0.0452576478749536\n",
      "Vector 4 IC= 0.04548621825620032\n",
      "n = 5, media de IC = 0.04540167931473983\n",
      "n = 6\n",
      "Vector 0 IC= 0.07421536941738713\n",
      "Vector 1 IC= 0.07435898963451414\n",
      "Vector 2 IC= 0.07454324028607684\n",
      "Vector 3 IC= 0.07465037054211479\n",
      "Vector 4 IC= 0.0741558446492256\n",
      "Vector 5 IC= 0.07468091058303544\n",
      "n = 6, media de IC = 0.07443412085205899\n",
      "Posible tamaño de clave encontrado: n = 6 con IC = 0.07443412085205899\n",
      "n = 7\n",
      "Vector 0 IC= 0.04532884801566365\n",
      "Vector 1 IC= 0.0453510444040334\n",
      "Vector 2 IC= 0.04538830606133792\n",
      "Vector 3 IC= 0.045431994940387896\n",
      "Vector 4 IC= 0.04541468783492977\n",
      "Vector 5 IC= 0.045466983280108064\n",
      "Vector 6 IC= 0.04543154993077329\n",
      "n = 7, media de IC = 0.045401916352462005\n",
      "n = 8\n",
      "Vector 0 IC= 0.046493070479641296\n",
      "Vector 1 IC= 0.057189092463242046\n",
      "Vector 2 IC= 0.04645710143178269\n",
      "Vector 3 IC= 0.057114062640935596\n",
      "Vector 4 IC= 0.04644438807155623\n",
      "Vector 5 IC= 0.05679438223293067\n",
      "Vector 6 IC= 0.04643892586058099\n",
      "Vector 7 IC= 0.05673300933478451\n",
      "n = 8, media de IC = 0.05170800406443175\n",
      "n = 9\n",
      "Vector 0 IC= 0.05835659687734683\n",
      "Vector 1 IC= 0.05248938881593976\n",
      "Vector 2 IC= 0.06039753869481548\n",
      "Vector 3 IC= 0.05832885189996856\n",
      "Vector 4 IC= 0.0525409421660636\n",
      "Vector 5 IC= 0.06083399442444769\n",
      "Vector 6 IC= 0.05843110659703176\n",
      "Vector 7 IC= 0.0524834295652904\n",
      "Vector 8 IC= 0.060607113186902616\n",
      "n = 9, media de IC = 0.05716321802531185\n",
      "n = 10\n",
      "Vector 0 IC= 0.04626809123611455\n",
      "Vector 1 IC= 0.056800530413259075\n",
      "Vector 2 IC= 0.04649292389740265\n",
      "Vector 3 IC= 0.05663492018833253\n",
      "Vector 4 IC= 0.04648520187843709\n",
      "Vector 5 IC= 0.057240710694357856\n",
      "Vector 6 IC= 0.046651213995259795\n",
      "Vector 7 IC= 0.05687945046163504\n",
      "Vector 8 IC= 0.046419544262634144\n",
      "Vector 9 IC= 0.0572675232329377\n",
      "n = 10, media de IC = 0.051714011026037045\n",
      "n = 11\n",
      "Vector 0 IC= 0.045393878369632455\n",
      "Vector 1 IC= 0.045585848037579084\n",
      "Vector 2 IC= 0.04535727313811441\n",
      "Vector 3 IC= 0.04545545727294971\n",
      "Vector 4 IC= 0.04531484992855748\n",
      "Vector 5 IC= 0.04535401358743221\n",
      "Vector 6 IC= 0.045417915252578586\n",
      "Vector 7 IC= 0.045309872151758836\n",
      "Vector 8 IC= 0.04548217648982784\n",
      "Vector 9 IC= 0.045269080518308184\n",
      "Vector 10 IC= 0.04553077495635792\n",
      "n = 11, media de IC = 0.04540646724573607\n",
      "n = 12\n",
      "Vector 0 IC= 0.07453680586351419\n",
      "Vector 1 IC= 0.07439405616733817\n",
      "Vector 2 IC= 0.07457480995808413\n",
      "Vector 3 IC= 0.074856943032465\n",
      "Vector 4 IC= 0.07378979054527347\n",
      "Vector 5 IC= 0.07503816244300034\n",
      "Vector 6 IC= 0.07390519733197598\n",
      "Vector 7 IC= 0.07433705356004644\n",
      "Vector 8 IC= 0.07452205024043183\n",
      "Vector 9 IC= 0.07446074065008836\n",
      "Vector 10 IC= 0.0745312759216027\n",
      "Vector 11 IC= 0.0743354837427201\n",
      "n = 12, media de IC = 0.07444019745471173\n",
      "Posible tamaño de clave encontrado: n = 12 con IC = 0.07444019745471173\n",
      "n = 13\n",
      "Vector 0 IC= 0.04545602288780485\n",
      "Vector 1 IC= 0.045206950271771795\n",
      "Vector 2 IC= 0.04572976283432248\n",
      "Vector 3 IC= 0.04550195050476438\n",
      "Vector 4 IC= 0.04517280295194877\n",
      "Vector 5 IC= 0.04552657524719884\n",
      "Vector 6 IC= 0.04526615429853764\n",
      "Vector 7 IC= 0.04552979258080338\n",
      "Vector 8 IC= 0.045272548036971276\n",
      "Vector 9 IC= 0.04533316410648981\n",
      "Vector 10 IC= 0.04547196409274726\n",
      "Vector 11 IC= 0.04528699741184033\n",
      "Vector 12 IC= 0.045585565612934566\n",
      "n = 13, media de IC = 0.04541078852601041\n",
      "n = 14\n",
      "Vector 0 IC= 0.04636366701267931\n",
      "Vector 1 IC= 0.056802670336030106\n",
      "Vector 2 IC= 0.046536704445049974\n",
      "Vector 3 IC= 0.05695393248030511\n",
      "Vector 4 IC= 0.04643883656186088\n",
      "Vector 5 IC= 0.05719034320451268\n",
      "Vector 6 IC= 0.04629883442310129\n",
      "Vector 7 IC= 0.057138136266555915\n",
      "Vector 8 IC= 0.046398277890523455\n",
      "Vector 9 IC= 0.05683243738618846\n",
      "Vector 10 IC= 0.04655582162004436\n",
      "Vector 11 IC= 0.05687180134813445\n",
      "Vector 12 IC= 0.04666716457336977\n",
      "Vector 13 IC= 0.05697962133431235\n",
      "n = 14, media de IC = 0.051716303491619146\n",
      "n = 15\n",
      "Vector 0 IC= 0.05795527887085177\n",
      "Vector 1 IC= 0.05230285443507681\n",
      "Vector 2 IC= 0.060624753964924345\n",
      "Vector 3 IC= 0.0581509928033293\n",
      "Vector 4 IC= 0.05261214610022748\n",
      "Vector 5 IC= 0.06080291062380147\n",
      "Vector 6 IC= 0.05816688882586051\n",
      "Vector 7 IC= 0.05263814733039273\n",
      "Vector 8 IC= 0.06022179454334546\n",
      "Vector 9 IC= 0.05899023828695207\n",
      "Vector 10 IC= 0.05256293448278358\n",
      "Vector 11 IC= 0.06069137926378846\n",
      "Vector 12 IC= 0.058647619981336406\n",
      "Vector 13 IC= 0.05246510697135101\n",
      "Vector 14 IC= 0.06077555741803204\n",
      "n = 15, media de IC = 0.05717390692680356\n",
      "n = 16\n",
      "Vector 0 IC= 0.04649269652056683\n",
      "Vector 1 IC= 0.057289576218880534\n",
      "Vector 2 IC= 0.046434862775210896\n",
      "Vector 3 IC= 0.05705080979094435\n",
      "Vector 4 IC= 0.046531433878058276\n",
      "Vector 5 IC= 0.05676898118850464\n",
      "Vector 6 IC= 0.04641616351312396\n",
      "Vector 7 IC= 0.05642208260581294\n",
      "Vector 8 IC= 0.046506994724194936\n",
      "Vector 9 IC= 0.05711590323010303\n",
      "Vector 10 IC= 0.04650479210042028\n",
      "Vector 11 IC= 0.0571957246735731\n",
      "Vector 12 IC= 0.04636644309069896\n",
      "Vector 13 IC= 0.05683494289344296\n",
      "Vector 14 IC= 0.04647576774662296\n",
      "Vector 15 IC= 0.057076152218820855\n",
      "n = 16, media de IC = 0.05171770794806122\n",
      "n = 17\n",
      "Vector 0 IC= 0.04520477039387371\n",
      "Vector 1 IC= 0.045502285604311535\n",
      "Vector 2 IC= 0.04554039067457854\n",
      "Vector 3 IC= 0.04557691528484713\n",
      "Vector 4 IC= 0.04540505279209303\n",
      "Vector 5 IC= 0.04531457500399702\n",
      "Vector 6 IC= 0.04523166091345178\n",
      "Vector 7 IC= 0.04553438757487181\n",
      "Vector 8 IC= 0.04548780514795262\n",
      "Vector 9 IC= 0.045434460130375935\n",
      "Vector 10 IC= 0.04533021030276052\n",
      "Vector 11 IC= 0.04531031504479124\n",
      "Vector 12 IC= 0.0453933850716153\n",
      "Vector 13 IC= 0.045428542613952926\n",
      "Vector 14 IC= 0.04533549950708691\n",
      "Vector 15 IC= 0.045377173065275056\n",
      "Vector 16 IC= 0.04560607732539079\n",
      "n = 17, media de IC = 0.04541255920301329\n",
      "n = 18\n",
      "Vector 0 IC= 0.07371867094010652\n",
      "Vector 1 IC= 0.07493554272514591\n",
      "Vector 2 IC= 0.07435037044565322\n",
      "Vector 3 IC= 0.0744528484689801\n",
      "Vector 4 IC= 0.07416018333114038\n",
      "Vector 5 IC= 0.07486032805723801\n",
      "Vector 6 IC= 0.07457146649202821\n",
      "Vector 7 IC= 0.07418988343311737\n",
      "Vector 8 IC= 0.07415447001936731\n",
      "Vector 9 IC= 0.07502512868378515\n",
      "Vector 10 IC= 0.073870498913307\n",
      "Vector 11 IC= 0.07448799360732583\n",
      "Vector 12 IC= 0.0743925066501682\n",
      "Vector 13 IC= 0.07398486694496935\n",
      "Vector 14 IC= 0.0751703462661925\n",
      "Vector 15 IC= 0.0745066191309513\n",
      "Vector 16 IC= 0.07448349336694629\n",
      "Vector 17 IC= 0.07472748189436601\n",
      "n = 18, media de IC = 0.07444681663171049\n",
      "Posible tamaño de clave encontrado: n = 18 con IC = 0.07444681663171049\n",
      "n = 19\n",
      "Vector 0 IC= 0.04559751337769681\n",
      "Vector 1 IC= 0.045267412401477664\n",
      "Vector 2 IC= 0.045400047521667763\n",
      "Vector 3 IC= 0.045525065990305175\n",
      "Vector 4 IC= 0.045205197841502134\n",
      "Vector 5 IC= 0.04540814120050568\n",
      "Vector 6 IC= 0.045290561179869515\n",
      "Vector 7 IC= 0.0456446800326027\n",
      "Vector 8 IC= 0.04558361035056547\n",
      "Vector 9 IC= 0.04508565301440371\n",
      "Vector 10 IC= 0.045596241586818055\n",
      "Vector 11 IC= 0.045562288124333085\n",
      "Vector 12 IC= 0.04532141324911129\n",
      "Vector 13 IC= 0.04520677748446067\n",
      "Vector 14 IC= 0.04549318553842519\n",
      "Vector 15 IC= 0.045542200547982276\n",
      "Vector 16 IC= 0.04517952539434729\n",
      "Vector 17 IC= 0.045360727100603654\n",
      "Vector 18 IC= 0.04561495273531046\n",
      "n = 19, media de IC = 0.045415010245894144\n"
     ]
    }
   ],
   "source": [
    "vigenere(\"-C\", \"Mancha\", \"quijote.txt\", \"quijote_cifradoVigenere_IC.txt\")\n",
    "cifrado=read_input(\"quijote_cifradoVigenere_IC.txt\")\n",
    "cifrado=cifrado.replace(\" \", \"\")\n",
    "cifrado=cifrado.lower()\n",
    "sublista,n=IC(cifrado,20)"
   ]
  },
  {
   "cell_type": "markdown",
   "id": "db308eda",
   "metadata": {},
   "source": [
    "En los ejemplos de ejecución anteriores, podemos observar que el índice de coincidencia averigua el tamaño de clave correcto en cada caso"
   ]
  },
  {
   "cell_type": "markdown",
   "id": "7fc52a0c",
   "metadata": {},
   "source": [
    "Esta función cálcula la clave de vigenere. Habiendo cálculado antes\n",
    "el tamaño de la clave con el test de kasiski o e IC (ambas funciones\n",
    "programadas al principio de este apartado).\n",
    "\n",
    "En esta función unificamos todas las funciones implementadas anteriormente en este apartado. Primero hallamos la longitud de la clave con el test de Kasiski y el índice de coincidencia y comprobamos que coinciden para tener más seguridad de que esa es la longitud de la clave a buscar, denotada n. Después dividimos el texto cifrado en n vectores y para cada vector calculamos la frecuencia de cada caracter del alfabeto. \n",
    "\n",
    "Calculamos M(k_i)=n/l * sum ( P_j * f_{j-k_i})\n",
    "donde \n",
    "- n/l=1/(longitud del vector)\n",
    "- P_j es la probabilidad del símbolo j-ésimo de la lengua española\n",
    "- f_{j-k_i} es la frecuencia en el vector del caracter j-k_i - ésimo del alfabeto\n",
    "\n",
    "Aquel símbolo k del vector cuyo valor M(k) es más próximo al índice de coincidencia del español es un posible caracter de la clave.\n",
    "\n",
    "\n",
    "La llamada a la función es la siguiente:\n",
    "**criptoanalisis_vigenere {lista}**\n",
    "\n",
    "- lista es la cadena cifrada por Vigenere de la cuál queremos encontrar la clave de cifrado"
   ]
  },
  {
   "cell_type": "code",
   "execution_count": 336,
   "id": "3b60bd8b",
   "metadata": {},
   "outputs": [],
   "source": [
    "def criptoanalisis_vigenere(lista):\n",
    "    from collections import Counter\n",
    "    alfabeto='abcdefghijklmnopqrstuvwxyz'\n",
    "    maxi=18 #la cantidad de intentos que queramos que haga como maximo\n",
    "    conj=4 #la longitud de los conjuntos que queremos que compruebe\n",
    "    castellano=(['a', 11.96],['b', 0.92],['c', 2.92],['d', 6.87],['e', 16.78],['f', 0.52],['g', 0.73],\n",
    "           ['h', 0.89],['i', 4.15],['j', 0.3],['k', 0.0],['l', 8.37],['m', 2.12],['n', 7.01],\n",
    "           ['o', 8.69],['p', 2.77],['q', 1.53],['r', 4.94],['s', 7.88],['t', 3.31],['u', 4.80],\n",
    "           ['v', 0.39],['w', 0.0],['x', 0.06],['y', 1.54],['z', 0.15])\n",
    "    cadena_cifrada=lista\n",
    "    print(\"Test de Kasiski\")\n",
    "    n_kasiski=test_kasiski(cadena_cifrada,conj)\n",
    "    lista_ic=lista.lower()\n",
    "    print(\"\\n Índice de coincidencia\")\n",
    "    lista,n= IC(lista_ic,maxi)\n",
    "    sublista=lista[0]\n",
    "    n_ic=n[0]\n",
    "    \n",
    "    \n",
    "    print(\"\\nTamaño de clave según IC: {}\".format(n_ic))\n",
    "    print(\"Tamaño de clave según test de Kasiski: {}\".format(n_kasiski))\n",
    "    if n_ic==n_kasiski:\n",
    "        print(\"el tamaño esta comprobado\\n\")\n",
    "    else:\n",
    "        print(\"puede que el tamaño escogido sea incorrecto\\n\")\n",
    "        \n",
    "    n=n_ic    \n",
    "    \n",
    "    \n",
    "    #ahora que ya tenemos el tamaño de la clave, vamos a esimar la clave \n",
    "    #de cifrado\n",
    "    print(\"Hallamos la clave de cifrado\\n\")\n",
    "    \n",
    "    IC_castellano=0.073\n",
    "    \n",
    "    dic=dividir_lista(n,cadena_cifrada.lower())\n",
    "    \n",
    "    clave=[]\n",
    "    \n",
    "    for i in range(len(dic)):\n",
    "        print(\"Vector {}\".format(i))\n",
    "        resul_contador = Counter(dic[i])\n",
    "        frecuencias=[]\n",
    "        \n",
    "        # Hallamos las frecuencias de los caracteres del vector\n",
    "        for s in range(len(alfabeto)):\n",
    "            frecuencias.append(resul_contador[alfabeto[s]])\n",
    "        \n",
    "        \n",
    "        for k in range(len(castellano)):\n",
    "            ic=0\n",
    "            for m in range(len(castellano)):\n",
    "                ic=ic+((castellano[m][1]*0.01)*(frecuencias[m-k]))\n",
    "            ic=ic*(1/len(dic[i]))\n",
    "            \n",
    "            if ic<=IC_castellano+0.005 and ic>=IC_castellano-0.005:\n",
    "                print(\"Posible k_{} = {} con IC = {}\".format(i,alfabeto[k],ic))\n",
    "                clave.append(alfabeto[k])\n",
    "\n",
    "    print(\"Clave: {}\".format(clave))\n",
    "        "
   ]
  },
  {
   "cell_type": "markdown",
   "id": "2d03347c",
   "metadata": {},
   "source": [
    "Vamos a probar el algoritmo para hallar la clave del Quijote que hemos realizado antes con la clave **mancha**"
   ]
  },
  {
   "cell_type": "code",
   "execution_count": 338,
   "id": "8ee385f0",
   "metadata": {
    "scrolled": false
   },
   "outputs": [
    {
     "name": "stdout",
     "output_type": "stream",
     "text": [
      "Test de Kasiski\n",
      "Conjunto a buscar es: ROao\n",
      "Distancia: 779022\n",
      "Conjunto a buscar es: CVAc\n",
      "Conjunto a buscar es: VAcp\n",
      "Conjunto a buscar es: Acpb\n",
      "Conjunto a buscar es: cpbM\n",
      "Conjunto a buscar es: pbMS\n",
      "Conjunto a buscar es: bMSR\n",
      "Conjunto a buscar es: MSRN\n",
      "Conjunto a buscar es: SRNn\n",
      "Conjunto a buscar es: RNnT\n",
      "Conjunto a buscar es: NnTR\n",
      "Conjunto a buscar es: nTRh\n",
      "Conjunto a buscar es: TRhE\n",
      "Conjunto a buscar es: RhEZ\n",
      "Conjunto a buscar es: hEZG\n",
      "Conjunto a buscar es: EZGz\n",
      "Conjunto a buscar es: ZGzu\n",
      "Conjunto a buscar es: Gzus\n",
      "Distancia: 46932\n",
      "Distancia: 52116\n",
      "Distancia: 157386\n",
      "Distancia: 184140\n",
      "Distancia: 206772\n",
      "Distancia: 247626\n",
      "Distancia: 480852\n",
      "Distancia: 540648\n",
      "Distancias [46932, 52116, 157386, 184140, 206772, 247626, 480852, 540648]\n",
      "Posible tamaño de la clave: 6\n",
      "\n",
      " Índice de coincidencia\n",
      "n = 1\n",
      "Vector 0 IC= 0.04540763982455335\n",
      "n = 1, media de IC = 0.04540763982455335\n",
      "n = 2\n",
      "Vector 0 IC= 0.04652155304287341\n",
      "Vector 1 IC= 0.056912403414830205\n",
      "n = 2, media de IC = 0.05171697822885181\n",
      "n = 3\n",
      "Vector 0 IC= 0.058326836417098606\n",
      "Vector 1 IC= 0.052565588800220574\n",
      "Vector 2 IC= 0.06060676209095659\n",
      "n = 3, media de IC = 0.057166395769425254\n",
      "n = 4\n",
      "Vector 0 IC= 0.04644416329036276\n",
      "Vector 1 IC= 0.05695319199624351\n",
      "Vector 2 IC= 0.04660250931482768\n",
      "Vector 3 IC= 0.056874712929480105\n",
      "n = 4, media de IC = 0.05171864438272851\n",
      "n = 5\n",
      "Vector 0 IC= 0.04547160943194117\n",
      "Vector 1 IC= 0.04534120133666053\n",
      "Vector 2 IC= 0.04538471101068617\n",
      "Vector 3 IC= 0.045334443181469605\n",
      "Vector 4 IC= 0.045531252033311875\n",
      "n = 5, media de IC = 0.045412643398813866\n",
      "n = 6\n",
      "Vector 0 IC= 0.07421536941738713\n",
      "Vector 1 IC= 0.07435898963451414\n",
      "Vector 2 IC= 0.07454324028607684\n",
      "Vector 3 IC= 0.07465037054211479\n",
      "Vector 4 IC= 0.0741558446492256\n",
      "Vector 5 IC= 0.07468091058303544\n",
      "n = 6, media de IC = 0.07443412085205899\n",
      "Posible tamaño de clave encontrado: n = 6 con IC = 0.07443412085205899\n",
      "n = 7\n",
      "Vector 0 IC= 0.045407931944058434\n",
      "Vector 1 IC= 0.04535896461299036\n",
      "Vector 2 IC= 0.04544735603082865\n",
      "Vector 3 IC= 0.04550524400404284\n",
      "Vector 4 IC= 0.04527972435683036\n",
      "Vector 5 IC= 0.04551455937827802\n",
      "Vector 6 IC= 0.04539056173890152\n",
      "n = 7, media de IC = 0.0454149060094186\n",
      "n = 8\n",
      "Vector 0 IC= 0.046565214257596216\n",
      "Vector 1 IC= 0.057095184697877076\n",
      "Vector 2 IC= 0.04652195186839465\n",
      "Vector 3 IC= 0.05696934570764565\n",
      "Vector 4 IC= 0.04633394492208657\n",
      "Vector 5 IC= 0.05681908387664309\n",
      "Vector 6 IC= 0.04669108403997907\n",
      "Vector 7 IC= 0.05679052529785521\n",
      "n = 8, media de IC = 0.05172329183350969\n",
      "n = 9\n",
      "Vector 0 IC= 0.058403075851317196\n",
      "Vector 1 IC= 0.05248212558157402\n",
      "Vector 2 IC= 0.06039753869481548\n",
      "Vector 3 IC= 0.058318177206679034\n",
      "Vector 4 IC= 0.05268188878247862\n",
      "Vector 5 IC= 0.06083399442444769\n",
      "Vector 6 IC= 0.058272256514820216\n",
      "Vector 7 IC= 0.05254773035696121\n",
      "Vector 8 IC= 0.060607113186902616\n",
      "n = 9, media de IC = 0.05717154451111068\n",
      "n = 10\n",
      "Vector 0 IC= 0.04650670865853126\n",
      "Vector 1 IC= 0.05673135067971477\n",
      "Vector 2 IC= 0.04656832510077257\n",
      "Vector 3 IC= 0.056649329714631935\n",
      "Vector 4 IC= 0.04657970440144782\n",
      "Vector 5 IC= 0.057048183203321515\n",
      "Vector 6 IC= 0.04642718020866104\n",
      "Vector 7 IC= 0.056949334815091734\n",
      "Vector 8 IC= 0.04657665977578829\n",
      "Vector 9 IC= 0.057236542865939696\n",
      "n = 10, media de IC = 0.05172733194239006\n",
      "n = 11\n",
      "Vector 0 IC= 0.045385974341883344\n",
      "Vector 1 IC= 0.04561505334091338\n",
      "Vector 2 IC= 0.04543933365707059\n",
      "Vector 3 IC= 0.045478229908795596\n",
      "Vector 4 IC= 0.045410932504902336\n",
      "Vector 5 IC= 0.04543790516467236\n",
      "Vector 6 IC= 0.04526775548718899\n",
      "Vector 7 IC= 0.045523467484976425\n",
      "Vector 8 IC= 0.045432430798207406\n",
      "Vector 9 IC= 0.04531501902248691\n",
      "Vector 10 IC= 0.04529402603094756\n",
      "n = 11, media de IC = 0.04541819343109499\n",
      "n = 12\n",
      "Vector 0 IC= 0.07453680586351419\n",
      "Vector 1 IC= 0.07439405616733817\n",
      "Vector 2 IC= 0.07457480995808413\n",
      "Vector 3 IC= 0.074856943032465\n",
      "Vector 4 IC= 0.07378979054527347\n",
      "Vector 5 IC= 0.07503816244300034\n",
      "Vector 6 IC= 0.07390519733197598\n",
      "Vector 7 IC= 0.07433705356004644\n",
      "Vector 8 IC= 0.07452205024043183\n",
      "Vector 9 IC= 0.07446074065008836\n",
      "Vector 10 IC= 0.0745312759216027\n",
      "Vector 11 IC= 0.0743354837427201\n",
      "n = 12, media de IC = 0.07444019745471173\n",
      "Posible tamaño de clave encontrado: n = 12 con IC = 0.07444019745471173\n",
      "n = 13\n",
      "Vector 0 IC= 0.0455485628490752\n",
      "Vector 1 IC= 0.04525070257962584\n",
      "Vector 2 IC= 0.045766014667531316\n",
      "Vector 3 IC= 0.045478420330527174\n",
      "Vector 4 IC= 0.04518729726937021\n",
      "Vector 5 IC= 0.04554124987246884\n",
      "Vector 6 IC= 0.04532310115864712\n",
      "Vector 7 IC= 0.0455233993954613\n",
      "Vector 8 IC= 0.04536878320295401\n",
      "Vector 9 IC= 0.045355438209794256\n",
      "Vector 10 IC= 0.045517119040797464\n",
      "Vector 11 IC= 0.045447001612998056\n",
      "Vector 12 IC= 0.045209082471680116\n",
      "n = 13, media de IC = 0.04542432097391776\n",
      "n = 14\n",
      "Vector 0 IC= 0.04659636374395455\n",
      "Vector 1 IC= 0.05682173806554764\n",
      "Vector 2 IC= 0.0467797759814526\n",
      "Vector 3 IC= 0.05684772446998195\n",
      "Vector 4 IC= 0.04641820241252629\n",
      "Vector 5 IC= 0.057069331179874276\n",
      "Vector 6 IC= 0.04636443675214715\n",
      "Vector 7 IC= 0.05704289640219994\n",
      "Vector 8 IC= 0.04642546477938836\n",
      "Vector 9 IC= 0.05695185840311342\n",
      "Vector 10 IC= 0.04659962906222175\n",
      "Vector 11 IC= 0.056815020123990825\n",
      "Vector 12 IC= 0.04655878394019863\n",
      "Vector 13 IC= 0.056946473882677096\n",
      "n = 14, media de IC = 0.051731264228519605\n",
      "n = 15\n",
      "Vector 0 IC= 0.05823650231481272\n",
      "Vector 1 IC= 0.0526574799924363\n",
      "Vector 2 IC= 0.060624753964924345\n",
      "Vector 3 IC= 0.05805976537759401\n",
      "Vector 4 IC= 0.05281166264818428\n",
      "Vector 5 IC= 0.06080291062380147\n",
      "Vector 6 IC= 0.05828399671705567\n",
      "Vector 7 IC= 0.05243797614936833\n",
      "Vector 8 IC= 0.06022179454334546\n",
      "Vector 9 IC= 0.058679173442468695\n",
      "Vector 10 IC= 0.05271444853309064\n",
      "Vector 11 IC= 0.06069137926378846\n",
      "Vector 12 IC= 0.0584373251834241\n",
      "Vector 13 IC= 0.05231278070476323\n",
      "Vector 14 IC= 0.06077555741803204\n",
      "n = 15, media de IC = 0.05718316712513931\n",
      "n = 16\n",
      "Vector 0 IC= 0.04656865646043197\n",
      "Vector 1 IC= 0.05721415918514167\n",
      "Vector 2 IC= 0.04646847436159038\n",
      "Vector 3 IC= 0.05701265220357541\n",
      "Vector 4 IC= 0.046416414858552794\n",
      "Vector 5 IC= 0.0567416373193021\n",
      "Vector 6 IC= 0.04660014752921022\n",
      "Vector 7 IC= 0.056355882408949315\n",
      "Vector 8 IC= 0.04657975000984248\n",
      "Vector 9 IC= 0.05700580220282167\n",
      "Vector 10 IC= 0.046598368003574094\n",
      "Vector 11 IC= 0.056941869141726095\n",
      "Vector 12 IC= 0.04626827695294296\n",
      "Vector 13 IC= 0.05690832116815646\n",
      "Vector 14 IC= 0.046803280057726486\n",
      "Vector 15 IC= 0.0572584169526569\n",
      "n = 16, media de IC = 0.051733881801012564\n",
      "n = 17\n",
      "Vector 0 IC= 0.04544017002685136\n",
      "Vector 1 IC= 0.04534438904353626\n",
      "Vector 2 IC= 0.04536333186391223\n",
      "Vector 3 IC= 0.0454455630746736\n",
      "Vector 4 IC= 0.04559594039129125\n",
      "Vector 5 IC= 0.045448504565155395\n",
      "Vector 6 IC= 0.04520229235366075\n",
      "Vector 7 IC= 0.045417321928597786\n",
      "Vector 8 IC= 0.04563977616600493\n",
      "Vector 9 IC= 0.04559032696813709\n",
      "Vector 10 IC= 0.045443724406668266\n",
      "Vector 11 IC= 0.045411891993917416\n",
      "Vector 12 IC= 0.04520503541965851\n",
      "Vector 13 IC= 0.04544353635517262\n",
      "Vector 14 IC= 0.045560459539289055\n",
      "Vector 15 IC= 0.04533233088274386\n",
      "Vector 16 IC= 0.04538259566926272\n",
      "n = 17, media de IC = 0.04542748180285489\n",
      "\n",
      "Tamaño de clave según IC: 6\n",
      "Tamaño de clave según test de Kasiski: 6\n",
      "el tamaño esta comprobado\n",
      "\n",
      "Hallamos la clave de cifrado\n",
      "\n",
      "Vector 0\n",
      "Posible k_0 = m con IC = 0.077511257195487\n",
      "Vector 1\n",
      "Posible k_1 = a con IC = 0.07759426279837286\n",
      "Vector 2\n",
      "Posible k_2 = n con IC = 0.07767395195333489\n",
      "Vector 3\n",
      "Posible k_3 = c con IC = 0.07772645329649244\n",
      "Vector 4\n",
      "Posible k_4 = h con IC = 0.07748807736587614\n",
      "Vector 5\n",
      "Posible k_5 = a con IC = 0.07777413615780182\n",
      "Clave: ['m', 'a', 'n', 'c', 'h', 'a']\n"
     ]
    }
   ],
   "source": [
    "cifrado=read_input(\"quijote_criptoanalisisVigenere.txt\")\n",
    "cifrado=cifrado.replace(\" \", \"\")\n",
    "criptoanalisis_vigenere(cifrado)"
   ]
  },
  {
   "cell_type": "markdown",
   "id": "89b4ede9",
   "metadata": {},
   "source": [
    "Podemos observar que hemos obtenido satisfactoriamente la clave con la que hemos cifrado el quijote."
   ]
  },
  {
   "cell_type": "markdown",
   "id": "fb5a931b",
   "metadata": {},
   "source": [
    "- **¿Qué sucede si el tamaño de clave se aproxima al tamaño del texto a cifrar?**\n",
    "\n",
    "Si la clave se aproxima al tamaño a cifrar no podremos encontrar en el texto cifrado fragmentos que hayan sido cifrados con el mismo trozo de la clave, ya que no se repite la clave a lo largo del mensaje. Cada elemento se cifra con un elemento único de la clave. Al realizar un cifrado de vigenere con una clave del tamaño del mensaje a cifrar estamos haciendo un cifrado de flujo."
   ]
  },
  {
   "cell_type": "markdown",
   "id": "27a3b33e",
   "metadata": {},
   "source": [
    "## 3. Cifrado de flujo"
   ]
  },
  {
   "cell_type": "markdown",
   "id": "afe7d689",
   "metadata": {},
   "source": [
    "El siguiente programa implementa el cifrado de flujo.\n",
    "\n",
    "Llamada a la función: \n",
    "\n",
    "**flujo {-C|-D} {-m clave} {-n tamaño de la secuencia de claves} [-i filein] [-o fileout]**\n",
    "\n",
    "- m es la clave del cifrado de flujo. En este caso asumimos que es una clave numérica, un número entero.\n",
    "\n",
    "\n",
    "Este cifrado es parecido al cifrado de Vigenere, de hecho, hemos visto que el cifrado de Vigenere se puede entender como un caso particular del cifrado de flujo. Su parecido reside en que el cifrado se realiza elemento a elemento operando con el elemento de la clave correspondiente. La diferencia es que las claves del cifrado de flujo pertenecen a una secuencia cifrante generada de manera aleatoria. Por lo tanto, para la implementación del cifrado de flujo es necesario programar un generador de una secuencia de números aleatorios, es decir, la secuencia cifrante. Hemos realizado un cifrado síncrono de flujo ya que el flujo de claves se codifica a partir de una clave que es independiente del texto original.\n",
    "Nuestro funcion *generador_aleatorio* genera la secuencia cifrante y se basa en el registro de desplazamiento LFSR: Linear Feedback Shift Register. Inicializamos el registro LFSR con la función *secuencia_LFSR*, que crea un vector de tamaño m (clave del cifrado de flujo), inicializa la semilla de la generación de números aleatorios y llena el vector aleatoriamente de 0 y 1.\n",
    "La función *generador_aleatorio* calcula el output del LFSR, es decir el número aleatorio de la secuencia de claves, ejecutando la operación XOR con las dos últimas celdas del LFSR. Después, realiza el desplazamiento: desplaza una posición a la derecha los elementos de todas las celdas, inserta el output generado en la primera posición y \"elimina la última celda\". De esta forma se realiza el desplazamiento y el vector LFSR sigue teniendo el mismo tamaño.\n",
    "\n",
    "Para cifrar, este método toma para cada elemento, un número aleatorio de la secuencia y los opera con la aplicación XOR lógica. Obtenemos una la cadena cifrada y expresada en binario, ya que actualmente los cifrados de flujo normalmente se expresan en alfabeto binario.\n",
    "\n",
    "\n",
    "La fortaleza de este cifrado depende directamente del generador de la secuencia aleatoria. En nuestro caso se basa en LFSR, que es un método correcto para generar números aleatorios, pero tal y como se indica en su nombre, los LFSR son lineales y las dependencias lineales son generalmente más sencillas de analizar. Además, en nuestro caso, si el criptoanalista conoce la longitud del LFSR, conoce también la clave del cifrado de flujo ya que hemos utilizado esta misma para determinar la semilla y la longitud del LFSR. Por tanto, la combinación de LFSR o la implementación de NLFSR son mecanismos más sofisticados de generación de secuencias cifrantes y darán más robustez al criptosistema."
   ]
  },
  {
   "cell_type": "code",
   "execution_count": 147,
   "id": "f4057c3b",
   "metadata": {},
   "outputs": [],
   "source": [
    "import random"
   ]
  },
  {
   "cell_type": "code",
   "execution_count": 148,
   "id": "cdd60ac3",
   "metadata": {},
   "outputs": [],
   "source": [
    "def secuencia_LFSR(m):\n",
    "    random.seed(m)\n",
    "    LFSR=[]\n",
    "    for i in range(m):\n",
    "        LFSR.append(random.randint(0,1))\n",
    "    return LFSR"
   ]
  },
  {
   "cell_type": "code",
   "execution_count": 149,
   "id": "9bcab167",
   "metadata": {},
   "outputs": [],
   "source": [
    "def generador_aleatorio(LFSR):\n",
    "    n=len(LFSR)\n",
    "    output=int(bin(LFSR[n-1]^LFSR[n-2])[2:])\n",
    "    LFSR.insert(0,output)\n",
    "    LFSR.pop()\n",
    "    return LFSR, output "
   ]
  },
  {
   "cell_type": "code",
   "execution_count": 150,
   "id": "68c8852f",
   "metadata": {},
   "outputs": [
    {
     "name": "stdout",
     "output_type": "stream",
     "text": [
      "[1, 1, 1, 0, 1]\n",
      "1\n",
      "[1, 1, 1, 1, 0]\n",
      "1\n",
      "[1, 1, 1, 1, 1]\n",
      "1\n",
      "[0, 1, 1, 1, 1]\n",
      "0\n",
      "[0, 0, 1, 1, 1]\n",
      "0\n",
      "[0, 0, 0, 1, 1]\n",
      "0\n",
      "[0, 0, 0, 0, 1]\n",
      "0\n",
      "[1, 0, 0, 0, 0]\n",
      "1\n",
      "[0, 1, 0, 0, 0]\n",
      "0\n",
      "[0, 0, 1, 0, 0]\n",
      "0\n"
     ]
    }
   ],
   "source": [
    "# Ejemplo de secuencia cifrante\n",
    "m=5\n",
    "lfsr=secuencia_LFSR(m)\n",
    "for i in range(10):\n",
    "    lfsr,k=generador_aleatorio(lfsr)\n",
    "    print(lfsr)\n",
    "    print(k)"
   ]
  },
  {
   "cell_type": "code",
   "execution_count": 151,
   "id": "6069f27c",
   "metadata": {},
   "outputs": [],
   "source": [
    "# m es la clave\n",
    "def flujo(modo,m,i=0,o=0):\n",
    "    alfabeto='abcdefghijklmnopqrstuvwxyzABCDEFGHIJKLMNOPQRSTUVWXYZ'\n",
    "    if modo==\"-C\":\n",
    "        cadena=read_input(i)\n",
    "        # Traducimos los caracteres a números\n",
    "        cadena_numerica=[]\n",
    "        for k in cadena:\n",
    "            if k in alfabeto: \n",
    "                cadena_numerica.append(alfabeto.index(k))\n",
    "        # Inicializamos LFSR\n",
    "        lfsr=secuencia_LFSR(m)\n",
    "        # Ciframos carácter a carácter\n",
    "        cadena_cifrada=[]\n",
    "        for i in cadena_numerica:\n",
    "            lfsr,k=generador_aleatorio(lfsr)\n",
    "            cadena_cifrada.append(int(bin(i^k)[2:]))\n",
    "        print_output(o,cadena_cifrada)\n",
    "    elif modo==\"-D\":\n",
    "        cadena_cifrada=read_input(i)\n",
    "        cadena_cifrada=cadena_cifrada.split(\" \")\n",
    "        cadena_descifrada=[]\n",
    "        cadena_texto=[]\n",
    "        for i in range(len(cadena_cifrada)):\n",
    "            cadena_cifrada[i]=int(cadena_cifrada[i],2)\n",
    "        \n",
    "        # Inicializamos LFSR\n",
    "        lfsr=secuencia_LFSR(m)\n",
    "        #Desciframos carácter a carácter\n",
    "        for i in cadena_cifrada:\n",
    "            lfsr,k=generador_aleatorio(lfsr)\n",
    "            cadena_descifrada.append((i^k))\n",
    "            \n",
    "        for i in range(len(cadena_descifrada)):\n",
    "            cadena_texto.append(alfabeto[int(cadena_descifrada[i])])\n",
    "        print_output(o,cadena_texto)"
   ]
  },
  {
   "cell_type": "code",
   "execution_count": 152,
   "id": "a586746a",
   "metadata": {
    "scrolled": true
   },
   "outputs": [
    {
     "name": "stdout",
     "output_type": "stream",
     "text": [
      "Universidad Autonoma de Madrid\n",
      "Cadena: Universidad Autonoma de Madrid\n",
      "Cadena: [101111, 1100, 1001, 10101, 100, 10001, 10010, 1001, 11, 0, 11, 11011, 10101, 10011, 1110, 1100, 1110, 1101, 0, 10, 101, 100111, 1, 10, 10001, 1000, 11]\n"
     ]
    }
   ],
   "source": [
    "flujo(\"-C\", 5)"
   ]
  },
  {
   "cell_type": "code",
   "execution_count": 153,
   "id": "2b61ff26",
   "metadata": {
    "scrolled": true
   },
   "outputs": [
    {
     "name": "stdout",
     "output_type": "stream",
     "text": [
      "101111 1100 1001 10101 100 10001 10010 1001 11 0 11 11011 10101 10011 1110 1100 1110 1101 0 10 101 100111 1 10 10001 1000 11\n",
      "Cadena: ['U', 'n', 'i', 'v', 'e', 'r', 's', 'i', 'd', 'a', 'd', 'A', 'u', 't', 'o', 'n', 'o', 'm', 'a', 'd', 'e', 'M', 'a', 'd', 'r', 'i', 'd']\n"
     ]
    }
   ],
   "source": [
    "flujo(\"-D\", 5)"
   ]
  },
  {
   "cell_type": "code",
   "execution_count": 154,
   "id": "6cd51654",
   "metadata": {
    "scrolled": true
   },
   "outputs": [
    {
     "name": "stdout",
     "output_type": "stream",
     "text": [
      "Cadena: Hola Nueva York!\n"
     ]
    }
   ],
   "source": [
    "flujo(\"-C\", 10, \"cadena.txt\", \"cadena_cifradaFlujo.txt\")"
   ]
  },
  {
   "cell_type": "code",
   "execution_count": 155,
   "id": "97177448",
   "metadata": {},
   "outputs": [],
   "source": [
    "flujo(\"-D\", 10, \"cadena_cifradaFlujo.txt\", \"cadena_descifradaFlujo.txt\")"
   ]
  },
  {
   "cell_type": "markdown",
   "id": "fc77f1d5",
   "metadata": {},
   "source": [
    "A continuación, aplicamos el cifrado de flujo al libro del Quijote."
   ]
  },
  {
   "cell_type": "code",
   "execution_count": 156,
   "id": "2e2ab1d5",
   "metadata": {},
   "outputs": [],
   "source": [
    "flujo(\"-C\", 35, \"quijote.txt\", \"quijote_cifradoFlujo.txt\")"
   ]
  },
  {
   "cell_type": "code",
   "execution_count": 157,
   "id": "21b2e69e",
   "metadata": {},
   "outputs": [],
   "source": [
    "flujo(\"-D\", 35, \"quijote_cifradoFlujo.txt\", \"quijote_descifradoFlujo.txt\")"
   ]
  },
  {
   "cell_type": "markdown",
   "id": "ce83825b",
   "metadata": {},
   "source": [
    "## 4. Producto de criptosistemas de permutación"
   ]
  },
  {
   "cell_type": "markdown",
   "id": "cb4fe474",
   "metadata": {},
   "source": [
    "El siguiente programa implementa el cifrado producto de criptosistemas de permutación.\n",
    "\n",
    "Llamada a la función: \n",
    "\n",
    "**permutacion {-C|-D} {-k1} {-k2} [-i filein] [-o fileout]**\n",
    "\n",
    "- k1 es el vector de m elementos que constitiye la clave para el cifrado de permutación por filas.\n",
    "- k2: vector de n elementos que constituye la clave para el cifrado de permutación por columnas.\n",
    "\n",
    "Primero hacemos un procesamiento del input: formamos una matriz de dimensiones m x n, y la rellenamos fila a fila con el input. A esta matriz resultante la hemos denominado *matriz_numerica*.\n",
    "\n",
    "A continuación realizamos el producto de criptosistemas de permutación:\n",
    "1. Realizamos la permutación de filas con k1 y obtenemos *matriz_cifrada1* resultado de esta operación. Para ello, hemos ido recorriendo *matriz_cifrada1* (matriz m x n inicializada a 0) y en el elemento i,j hemos introducido el elemento de *matriz_numerica* k1[i],j (i de 1 a m, j de 1 a n) De esta manera se consigue permutar las filas según la clave k1.\n",
    "2. Realizamos la permutación de columnas sobre la matriz que hemos obtenido en el paso anterior, ahora con k2 como clave. Para este paso, recorremos *matriz_cifrada2* (matriz m x n inicializada a 0) y en el elemento i,j  introducimos el elemento de *matriz_cifrada1* i,k2[j] (i de 1 a m, j de 1 a n).\n",
    "\n",
    "\n",
    "Por último, concatenamos la matriz *matriz_cifrada2*, resultante de aplicar ambas permutaciones. \n",
    "\n",
    "Para facilitar el seguimiento del algoritmo, se han dejado habilitados los prints de la matriz obtenida tras cada paso."
   ]
  },
  {
   "cell_type": "code",
   "execution_count": 158,
   "id": "34c6b88a",
   "metadata": {},
   "outputs": [],
   "source": [
    "# k1: vector de m elementos que constituye la clave para el cifrado de permutación por filas\n",
    "# k2: vector de n elementos que constituye la clave para el cifrado de permutación por columnas\n",
    "def permutacion(modo,k1,k2,i=0,o=0):\n",
    "    alfabeto='abcdefghijklmnopqrstuvwxyzABCDEFGHIJKLMNOPQRSTUVWXYZ'\n",
    "    if modo==\"-C\":\n",
    "        cadena=read_input(i)\n",
    "        # Traducimos los caracteres a números\n",
    "        cadena_numerica=[]\n",
    "        for k in cadena:\n",
    "            if k in alfabeto: \n",
    "                cadena_numerica.append(alfabeto.index(k))\n",
    "\n",
    "        # Matriz numerica es la matriz m x n \n",
    "        m=len(k1)\n",
    "        n=len(k2)\n",
    "        maxi=len(cadena_numerica)\n",
    "        matriz_numerica=np.zeros((m,n))\n",
    "         \n",
    "        pos=0\n",
    "        for i in range(m):\n",
    "            for j in range(n):\n",
    "                if pos<maxi:\n",
    "                    matriz_numerica[i][j]=cadena_numerica[pos]\n",
    "                    pos=pos+1\n",
    "        print(matriz_numerica)\n",
    "        \n",
    "        # Cifrado de permutación por filas\n",
    "        matriz_cifrada1=np.zeros((m,n))\n",
    "        for i in range(m):\n",
    "            for j in range(n):\n",
    "                matriz_cifrada1[i][j]=matriz_numerica[k1[i]][j]\n",
    "        print(matriz_cifrada1)\n",
    "                \n",
    "        # Cifrado de permutación por columnas\n",
    "        matriz_cifrada2=np.zeros((m,n))\n",
    "        for i in range(m):\n",
    "            for j in range(n):\n",
    "                matriz_cifrada2[i][j]=matriz_cifrada1[i][k2[j]]\n",
    "                \n",
    "        print(matriz_cifrada2)\n",
    "        cadena_cifrada=np.concatenate(matriz_cifrada2)\n",
    "        resul=\"\"\n",
    "        for i in cadena_cifrada:\n",
    "            resul=resul+alfabeto[int(i)]\n",
    "      \n",
    "        print_output(o, resul)\n",
    "    elif modo==\"-D\":\n",
    "        cadena_cifrada_texto=read_input(i)\n",
    "        cadena_cifrada=[]\n",
    "        for k in cadena_cifrada_texto:\n",
    "            if k in alfabeto: \n",
    "                cadena_cifrada.append(alfabeto.index(k))\n",
    "        \n",
    "        \n",
    "         # Matriz numerica es la matriz m x n \n",
    "        m=len(k1)\n",
    "        n=len(k2)\n",
    "        maxi=len(cadena_cifrada)\n",
    "        matriz_cifrada=np.zeros((m,n))\n",
    "         \n",
    "        pos=0\n",
    "        for i in range(m):\n",
    "            for j in range(n):\n",
    "                if pos<maxi:\n",
    "                    matriz_cifrada[i][j]=cadena_cifrada[pos]\n",
    "                    pos=pos+1\n",
    "        print(matriz_cifrada)\n",
    "        \n",
    "        # Desciframos cifrado de permutación por columnas\n",
    "        matriz_descifrada2=np.zeros((m,n))\n",
    "        for i in range(m):\n",
    "            for j in range(n):\n",
    "                matriz_descifrada2[i][k2[j]]=matriz_cifrada[i][j]\n",
    "        \n",
    "        print(matriz_descifrada2)\n",
    "        \n",
    "        # Desciframos cifrado de permutación por filas\n",
    "        matriz_descifrada1=np.zeros((m,n))\n",
    "        for i in range(m):\n",
    "            for j in range(n):\n",
    "                matriz_descifrada1[k1[i]][j]=matriz_descifrada2[i][j]\n",
    "        print(matriz_descifrada1)\n",
    "        \n",
    "        cadena_descifrada=np.concatenate(matriz_descifrada1)\n",
    "        cadena_texto=[]\n",
    "        for i in range(len(cadena_descifrada)):\n",
    "            cadena_texto.append(alfabeto[int(cadena_descifrada[i])])\n",
    "\n",
    "        print_output(o, cadena_texto)"
   ]
  },
  {
   "cell_type": "code",
   "execution_count": 159,
   "id": "85828852",
   "metadata": {},
   "outputs": [
    {
     "name": "stdout",
     "output_type": "stream",
     "text": [
      "Cadena: Hola Nueva York!\n",
      "[[33. 14. 11.  0.]\n",
      " [39. 20.  4. 21.]\n",
      " [ 0. 50. 14. 17.]\n",
      " [10.  0.  0.  0.]\n",
      " [ 0.  0.  0.  0.]]\n",
      "[[10.  0.  0.  0.]\n",
      " [ 0. 50. 14. 17.]\n",
      " [ 0.  0.  0.  0.]\n",
      " [39. 20.  4. 21.]\n",
      " [33. 14. 11.  0.]]\n",
      "[[ 0.  0.  0. 10.]\n",
      " [50. 17. 14.  0.]\n",
      " [ 0.  0.  0.  0.]\n",
      " [20. 21.  4. 39.]\n",
      " [14.  0. 11. 33.]]\n"
     ]
    }
   ],
   "source": [
    "k1=[3,2,4,1,0]\n",
    "k2=[1,3,2,0]\n",
    "permutacion(\"-C\", k1, k2, \"cadena.txt\", \"cadena_cifradaPermutacion.txt\")"
   ]
  },
  {
   "cell_type": "code",
   "execution_count": 160,
   "id": "ab4830bb",
   "metadata": {},
   "outputs": [
    {
     "name": "stdout",
     "output_type": "stream",
     "text": [
      "Cadena: a a a k Y r o a a a a a u v e N o a l H\n",
      "[[ 0.  0.  0. 10.]\n",
      " [50. 17. 14.  0.]\n",
      " [ 0.  0.  0.  0.]\n",
      " [20. 21.  4. 39.]\n",
      " [14.  0. 11. 33.]]\n",
      "[[10.  0.  0.  0.]\n",
      " [ 0. 50. 14. 17.]\n",
      " [ 0.  0.  0.  0.]\n",
      " [39. 20.  4. 21.]\n",
      " [33. 14. 11.  0.]]\n",
      "[[33. 14. 11.  0.]\n",
      " [39. 20.  4. 21.]\n",
      " [ 0. 50. 14. 17.]\n",
      " [10.  0.  0.  0.]\n",
      " [ 0.  0.  0.  0.]]\n"
     ]
    }
   ],
   "source": [
    "permutacion(\"-D\", k1, k2, \"cadena_cifradaPermutacion.txt\", \"cadena_descifradaPermutacion.txt\")"
   ]
  },
  {
   "cell_type": "markdown",
   "id": "9b28b2ce",
   "metadata": {},
   "source": [
    "### Posible criptoanálisis del doble cifrado de permutación implementado\n",
    "\n",
    "Bajo el modelo de seguridad que nos permita utilizar la máquina de cifrado infinitas veces para cifrar los textos que queramos, podemos romper el criptosistema mediante el ataque tipo E. con texto claro elegido. \n",
    "\n",
    "Primero es necesario hallar el tamaño de las claves k1 y k2. Para ello, pensamos que con una cadena de texto plano formada por bloques e ir cambiando el número de elementos del bloque\n",
    "- K=1    ABCDABCDABCD\n",
    "- K=2    AABBCCDD\n",
    "- K=3    AAABBBCCCDDD\n",
    "\n",
    "\n",
    "\n",
    "Ésto nos puede ayudar a entender el comportamiento del criptosistema y deducir el tamaño de las claves, ya que obtendremos una cadena cifrada con secuencias que se repiten según las claves desconocida. Una vez deducida la longitud de las claves, deberíamos interpretar el texto cifrado y deducir la permutación por columnas y despues la permutación por filas, que nos da la cadena original.  "
   ]
  }
 ],
 "metadata": {
  "kernelspec": {
   "display_name": "Python 3 (ipykernel)",
   "language": "python",
   "name": "python3"
  },
  "language_info": {
   "codemirror_mode": {
    "name": "ipython",
    "version": 3
   },
   "file_extension": ".py",
   "mimetype": "text/x-python",
   "name": "python",
   "nbconvert_exporter": "python",
   "pygments_lexer": "ipython3",
   "version": "3.9.7"
  }
 },
 "nbformat": 4,
 "nbformat_minor": 5
}
