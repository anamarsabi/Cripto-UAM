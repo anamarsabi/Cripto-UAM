{
 "cells": [
  {
   "cell_type": "markdown",
   "id": "f9952fdd",
   "metadata": {},
   "source": [
    "# Práctica 1: Criptografía clásica\n",
    "## UAM, 2022/2023\n",
    "\n",
    "### Maitane Gómez González\n",
    "### Ana Martínez Sabiote"
   ]
  },
  {
   "cell_type": "markdown",
   "id": "14e31d52",
   "metadata": {},
   "source": [
    "## 1. Sustitución monoalfabeto"
   ]
  },
  {
   "cell_type": "markdown",
   "id": "65d4723f",
   "metadata": {},
   "source": [
    "## 1.a Método afín\n",
    "El siguiente programa implementa el método afín.\n",
    "\n",
    "Llamada a la función:\n",
    "\n",
    "afin {-C|-D} {-m |Zm|} {-a N×} {-b N+} [-i f ilein] [-o f ileout]\n"
   ]
  },
  {
   "cell_type": "code",
   "execution_count": null,
   "id": "eaebc2e3",
   "metadata": {
    "scrolled": true
   },
   "outputs": [],
   "source": [
    "import gmpy2\n",
    "from gmpy2 import mpz\n",
    "import sympy\n",
    "import numpy as np"
   ]
  },
  {
   "cell_type": "code",
   "execution_count": null,
   "id": "0013cce1",
   "metadata": {},
   "outputs": [],
   "source": [
    "\"\"\"\n",
    "VERSIÓN SIN GMP \n",
    "\n",
    "def algoritmo_euclides(a,b):\n",
    "    if a%b == 0:\n",
    "        return b\n",
    "    else:\n",
    "        return algoritmo_euclides(b, a%b)\n",
    "\"\"\""
   ]
  },
  {
   "cell_type": "code",
   "execution_count": null,
   "id": "912d32d4",
   "metadata": {},
   "outputs": [],
   "source": [
    "def algoritmo_euclides(a,b):\n",
    "    if gmpy2.t_mod(a,b) == 0:\n",
    "        return b\n",
    "    else:\n",
    "        return algoritmo_euclides(b, gmpy2.t_mod(a,b))"
   ]
  },
  {
   "cell_type": "code",
   "execution_count": null,
   "id": "fcdb17ab",
   "metadata": {
    "scrolled": true
   },
   "outputs": [],
   "source": [
    "mcd=algoritmo_euclides(39,150)\n",
    "print(mcd)"
   ]
  },
  {
   "cell_type": "code",
   "execution_count": null,
   "id": "b353eca6",
   "metadata": {},
   "outputs": [],
   "source": [
    "algoritmo_euclides(7,15)"
   ]
  },
  {
   "cell_type": "code",
   "execution_count": null,
   "id": "885404f8",
   "metadata": {},
   "outputs": [],
   "source": [
    "\"\"\"\n",
    "VERSIÓN SIN GMP \n",
    "\n",
    "def algoritmo_euclides_extendido(a,b):\n",
    "\n",
    "    # Identidad de Bézout 1=u*a + v*b\n",
    "    # El inverso de a módulo b es u. Recíprocamente, el inverso de b mod a es v\n",
    "    if a==0:\n",
    "        mcd=b\n",
    "        u=0\n",
    "        v=1\n",
    "    else:\n",
    "        mcd, x, y = algoritmo_euclides_extendido(b%a, a)\n",
    "        u=y-(b//a)*x\n",
    "        v=x\n",
    "        \n",
    "    return mcd, u, v\n",
    "\"\"\""
   ]
  },
  {
   "cell_type": "code",
   "execution_count": null,
   "id": "5dc05ac1",
   "metadata": {},
   "outputs": [],
   "source": [
    "def algoritmo_euclides_extendido(a,b):\n",
    "    \"\"\"\n",
    "    # Condición a>b, sino las cambiamos\n",
    "    if b>a:\n",
    "        aux=a\n",
    "        a=b\n",
    "        b=aux\n",
    "    \"\"\"\n",
    "    # Identidad de Bézout 1=u*a + v*b\n",
    "    # El inverso de a módulo b es u. Recíprocamente, el inverso de b mod a es v\n",
    "    if a==0:\n",
    "        mcd=b\n",
    "        u=0\n",
    "        v=1\n",
    "    else:\n",
    "        mcd, x, y = algoritmo_euclides_extendido(gmpy2.c_mod(b,a), a)\n",
    "        u=gmpy2.sub(y,(gmpy2.mul(gmpy2.c_div(b,a),x)))\n",
    "        v=x\n",
    "        \n",
    "    return mcd, u, v"
   ]
  },
  {
   "cell_type": "code",
   "execution_count": null,
   "id": "cc975e3d",
   "metadata": {},
   "outputs": [],
   "source": [
    "def inverso(a,m):\n",
    "    result = algoritmo_euclides_extendido(a,m)\n",
    "    # Comprobamos que el mcd es 1 para que exista inverso multiplicativo\n",
    "    # En consecuencia, a y m determinan una función afín inyectiva\n",
    "    if result[0] == 1:\n",
    "        # Entonces devolvemos el coeficiente u (que acompaña a) de la Id. de Bézout\n",
    "        inv=result[1]\n",
    "        return inv\n",
    "    else:\n",
    "        print(\"Error\")"
   ]
  },
  {
   "cell_type": "code",
   "execution_count": null,
   "id": "721d1ca5",
   "metadata": {},
   "outputs": [],
   "source": [
    "def read_input(i):\n",
    "    # Primero tomamos el input de i o de la entrada estándar\n",
    "    if i==0:\n",
    "        cadena=input()\n",
    "    else:\n",
    "        file=open(i, \"r\")\n",
    "        cadena=file.read()\n",
    "        file.close()\n",
    "    print(\"Cadena: {}\".format(cadena))\n",
    "    return cadena"
   ]
  },
  {
   "cell_type": "code",
   "execution_count": null,
   "id": "d0ca9f79",
   "metadata": {},
   "outputs": [],
   "source": [
    "def print_output(o,cadena):\n",
    "    if o==0:\n",
    "        print(\"Cadena: {}\".format(cadena))\n",
    "    else:\n",
    "        file=open(o, \"w\")\n",
    "        cadenaToStr = ' '.join([str(elem) for elem in cadena])\n",
    "        file.write(cadenaToStr)\n",
    "        file.close()"
   ]
  },
  {
   "cell_type": "code",
   "execution_count": 406,
   "id": "d60e34da",
   "metadata": {},
   "outputs": [],
   "source": [
    "def afin(modo,m,a,b,i=0,o=0):\n",
    "    alfabeto='abcdefghijklmnopqrstuvwxyz'\n",
    "    if algoritmo_euclides(a,m) == 1:\n",
    "        if modo==\"-C\":\n",
    "            cadena=read_input(i)\n",
    "            #Traducimos los caracteres a números\n",
    "            cadena_numerica=[]\n",
    "            for k in cadena:\n",
    "                if k in alfabeto: \n",
    "                    cadena_numerica.append(alfabeto.index(k))\n",
    "            cadena_cifrada=[]\n",
    "            for k in cadena_numerica:\n",
    "                cadena_cifrada.append(((a*k)+b)%m)\n",
    "            print_output(o,cadena_cifrada)\n",
    "        elif modo==\"-D\":\n",
    "            cadena_cifrada=read_input(i)\n",
    "            cadena_cifrada=cadena_cifrada.split(\", \")\n",
    "            cadena_descifrada=[]\n",
    "            cadena_texto=[]\n",
    "            inv=inverso(a,m)\n",
    "            for i in range(len(cadena_cifrada)):\n",
    "                cadena_cifrada[i]=int(cadena_cifrada[i])\n",
    "            for k in cadena_cifrada:\n",
    "                k_descifrado=gmpy2.c_mod(gmpy2.mul((k-b),inv),m)\n",
    "                if k_descifrado<0:\n",
    "                    k_descifrado=m+k_descifrado\n",
    "                cadena_descifrada.append(k_descifrado)\n",
    "                cadena_texto.append(alfabeto[k_descifrado])\n",
    "            \n",
    "            print_output(o, cadena_texto)\n",
    "    else:\n",
    "        print(\"{} y {} no son primos relativos. Error\".format(a,m))"
   ]
  },
  {
   "cell_type": "code",
   "execution_count": null,
   "id": "dfbffa2c",
   "metadata": {},
   "outputs": [],
   "source": [
    "afin(\"-C\",26,23,3,\"cadena.txt\")"
   ]
  },
  {
   "cell_type": "code",
   "execution_count": null,
   "id": "27ea3ba9",
   "metadata": {
    "scrolled": true
   },
   "outputs": [],
   "source": [
    "afin(\"-C\",130,16,27)"
   ]
  },
  {
   "cell_type": "code",
   "execution_count": null,
   "id": "24513c1e",
   "metadata": {
    "scrolled": true
   },
   "outputs": [],
   "source": [
    "afin(\"-C\",52,23,3)"
   ]
  },
  {
   "cell_type": "code",
   "execution_count": null,
   "id": "0d6d733f",
   "metadata": {},
   "outputs": [],
   "source": [
    "afin(\"-D\",52,23,3)"
   ]
  },
  {
   "cell_type": "code",
   "execution_count": null,
   "id": "e1cd5bc9",
   "metadata": {
    "scrolled": false
   },
   "outputs": [],
   "source": [
    "afin(\"-D\",52,23,3,\"cadena_cifrada.txt\",\"resultado.txt\")"
   ]
  },
  {
   "cell_type": "markdown",
   "id": "349e1f96",
   "metadata": {},
   "source": [
    "## 1.b Criptoanálisis del cifrado afín"
   ]
  },
  {
   "cell_type": "code",
   "execution_count": null,
   "id": "0dcd088a",
   "metadata": {},
   "outputs": [],
   "source": [
    "def phi(m):\n",
    "    if m ==1:\n",
    "        return 1\n",
    "    else:\n",
    "        if gmpy2.is_prime(m):\n",
    "            return (m-1)\n",
    "        else:\n",
    "            for i in range(m):\n",
    "                gmpy2.mul(algoritmo_euclides_extendido())"
   ]
  },
  {
   "cell_type": "code",
   "execution_count": 407,
   "id": "05293d17",
   "metadata": {},
   "outputs": [],
   "source": [
    "alfabeto='abcdefghijklmnopqrstuvwxyzABCDEFGHIJKLMNOPQRSTUVWXYZ'\n",
    "digrama=([])\n",
    "for i in alfabeto:\n",
    "    for j in alfabeto:\n",
    "        digrama.append(i+j)\n",
    "\n"
   ]
  },
  {
   "cell_type": "code",
   "execution_count": 408,
   "id": "af2ff443",
   "metadata": {},
   "outputs": [],
   "source": [
    "def afin_no_trivial(modo, m, a, b, i=0, o=0):\n",
    "    \n",
    "    alfabeto='abcdefghijklmnopqrstuvwxyz'\n",
    "    digrama=([]) #generamos un vetor de di-gramas del alfabeto que hemos declarado arriba\n",
    "    for i in alfabeto:\n",
    "        for j in alfabeto:\n",
    "            digrama.append(i+j)\n",
    "    \n",
    "    if algoritmo_euclides(a,m) == 1:\n",
    "        if modo==\"-C\":\n",
    "            \n",
    "            cadena=read_input(i)\n",
    "            #cadena=input()\n",
    "            \n",
    "            #Traducimos los caracteres a números\n",
    "            cadena_numerica=[]\n",
    "            \n",
    "            j=0\n",
    "            if len(cadena)%2==0:\n",
    "                while j <(len(cadena)-1):\n",
    "                    cadena_numerica.append(digrama.index(cadena[j]+cadena[j+1]))\n",
    "                    j=j+2\n",
    "            else:\n",
    "                while j <(len(cadena)-2):\n",
    "                    cadena_numerica.append(digrama.index(cadena[j]+cadena[j+1]))\n",
    "                    j=j+2\n",
    "                cadena_numerica.append(alfabeto.index(cadena[len(cadena)-1])) #como es impar, la última letra la ciframos aparte\n",
    "                \n",
    "            cadena_cifrada=[]\n",
    "            for k in cadena_numerica:\n",
    "                cadena_cifrada.append(((a*k)+b)%m)\n",
    "            print_output(o,cadena_cifrada)\n",
    "            \n",
    "        elif modo==\"-D\":\n",
    "            \n",
    "            #cadena_cifrada=read_input(i)\n",
    "            cadena_cifrada=input()\n",
    "            cadena_cifrada=cadena_cifrada.split(\", \")\n",
    "            cadena_descifrada=[]\n",
    "            cadena_texto=[]\n",
    "            inv=inverso(a,m)\n",
    "            \n",
    "            for i in range(len(cadena_cifrada)):\n",
    "                cadena_cifrada[i]=int(cadena_cifrada[i])\n",
    "            \n",
    "            for k in cadena_cifrada:\n",
    "                k_descifrado=gmpy2.c_mod(gmpy2.mul((k-b),inv),m)\n",
    "              \n",
    "                if k_descifrado<0:\n",
    "                    k_descifrado=m+k_descifrado\n",
    "                cadena_descifrada.append(k_descifrado)\n",
    "          \n",
    "            for k in cadena_descifrada:\n",
    "                    cadena_texto.append(digrama[k])\n",
    "                    \n",
    "            if len(cadena_descifrada)%2!=0:\n",
    "                cadena_texto[len(cadena_texto)-1]=alfabeto[cadena_descifrada[(len(cadena_descifrada)-1)]]\n",
    "            \n",
    "            print_output(o, cadena_texto)\n",
    "    else:\n",
    "        print(\"{} y {} no son primos relativos. Error\".format(a,m))"
   ]
  },
  {
   "cell_type": "code",
   "execution_count": 409,
   "id": "995098f2",
   "metadata": {},
   "outputs": [
    {
     "ename": "FileNotFoundError",
     "evalue": "[Errno 2] No such file or directory: 'z'",
     "output_type": "error",
     "traceback": [
      "\u001b[1;31m---------------------------------------------------------------------------\u001b[0m",
      "\u001b[1;31mFileNotFoundError\u001b[0m                         Traceback (most recent call last)",
      "Input \u001b[1;32mIn [409]\u001b[0m, in \u001b[0;36m<cell line: 1>\u001b[1;34m()\u001b[0m\n\u001b[1;32m----> 1\u001b[0m \u001b[43mafin_no_trivial\u001b[49m\u001b[43m(\u001b[49m\u001b[38;5;124;43m\"\u001b[39;49m\u001b[38;5;124;43m-C\u001b[39;49m\u001b[38;5;124;43m\"\u001b[39;49m\u001b[43m,\u001b[49m\u001b[38;5;241;43m675\u001b[39;49m\u001b[43m,\u001b[49m\u001b[38;5;241;43m23\u001b[39;49m\u001b[43m,\u001b[49m\u001b[38;5;241;43m3\u001b[39;49m\u001b[43m,\u001b[49m\u001b[38;5;241;43m0\u001b[39;49m\u001b[43m,\u001b[49m\u001b[38;5;241;43m0\u001b[39;49m\u001b[43m)\u001b[49m\n",
      "Input \u001b[1;32mIn [408]\u001b[0m, in \u001b[0;36mafin_no_trivial\u001b[1;34m(modo, m, a, b, i, o)\u001b[0m\n\u001b[0;32m      9\u001b[0m \u001b[38;5;28;01mif\u001b[39;00m algoritmo_euclides(a,m) \u001b[38;5;241m==\u001b[39m \u001b[38;5;241m1\u001b[39m:\n\u001b[0;32m     10\u001b[0m     \u001b[38;5;28;01mif\u001b[39;00m modo\u001b[38;5;241m==\u001b[39m\u001b[38;5;124m\"\u001b[39m\u001b[38;5;124m-C\u001b[39m\u001b[38;5;124m\"\u001b[39m:\n\u001b[1;32m---> 12\u001b[0m         cadena\u001b[38;5;241m=\u001b[39m\u001b[43mread_input\u001b[49m\u001b[43m(\u001b[49m\u001b[43mi\u001b[49m\u001b[43m)\u001b[49m\n\u001b[0;32m     13\u001b[0m         \u001b[38;5;66;03m#cadena=input()\u001b[39;00m\n\u001b[0;32m     14\u001b[0m         \n\u001b[0;32m     15\u001b[0m         \u001b[38;5;66;03m#Traducimos los caracteres a números\u001b[39;00m\n\u001b[0;32m     16\u001b[0m         cadena_numerica\u001b[38;5;241m=\u001b[39m[]\n",
      "Input \u001b[1;32mIn [11]\u001b[0m, in \u001b[0;36mread_input\u001b[1;34m(i)\u001b[0m\n\u001b[0;32m      4\u001b[0m     cadena\u001b[38;5;241m=\u001b[39m\u001b[38;5;28minput\u001b[39m()\n\u001b[0;32m      5\u001b[0m \u001b[38;5;28;01melse\u001b[39;00m:\n\u001b[1;32m----> 6\u001b[0m     file\u001b[38;5;241m=\u001b[39m\u001b[38;5;28;43mopen\u001b[39;49m\u001b[43m(\u001b[49m\u001b[43mi\u001b[49m\u001b[43m,\u001b[49m\u001b[43m \u001b[49m\u001b[38;5;124;43m\"\u001b[39;49m\u001b[38;5;124;43mr\u001b[39;49m\u001b[38;5;124;43m\"\u001b[39;49m\u001b[43m)\u001b[49m\n\u001b[0;32m      7\u001b[0m     cadena\u001b[38;5;241m=\u001b[39mfile\u001b[38;5;241m.\u001b[39mread()\n\u001b[0;32m      8\u001b[0m     file\u001b[38;5;241m.\u001b[39mclose()\n",
      "\u001b[1;31mFileNotFoundError\u001b[0m: [Errno 2] No such file or directory: 'z'"
     ]
    }
   ],
   "source": [
    "afin_no_trivial(\"-C\",675,23,3,0,0)"
   ]
  },
  {
   "cell_type": "code",
   "execution_count": null,
   "id": "dd32a5f1",
   "metadata": {},
   "outputs": [],
   "source": [
    "afin_no_trivial(\"-D\",675,23,3)"
   ]
  },
  {
   "cell_type": "code",
   "execution_count": null,
   "id": "23215917",
   "metadata": {},
   "outputs": [],
   "source": [
    "def fortaleza(m):\n",
    "    z_m_inv=sympy.totient(m) #calculamos la funcion phi\n",
    "    return gmpy2.mul((m),z_m_inv) #calculamos la fortaleza multiplicando Zm y Zm*\n"
   ]
  },
  {
   "cell_type": "code",
   "execution_count": null,
   "id": "a3950894",
   "metadata": {},
   "outputs": [],
   "source": [
    "fortaleza(26**26+26)\n",
    "fortaleza(26)\n",
    "fortaleza(52)\n"
   ]
  },
  {
   "cell_type": "code",
   "execution_count": null,
   "id": "00f00288",
   "metadata": {},
   "outputs": [],
   "source": [
    "El cifrado afin muy vulnerable a los ataques. Principalmente al de analisis \n",
    "de frecuencias y busqueda en el espacio de claves."
   ]
  },
  {
   "cell_type": "code",
   "execution_count": 438,
   "id": "4bc6397f",
   "metadata": {},
   "outputs": [],
   "source": [
    "def cambiar_orden(castellano):\n",
    "    \n",
    "    aux=np.array([])\n",
    "    for i in range(len(castellano)):\n",
    "        cambios=np.array([])\n",
    "        cambios=np.append(cambios,castellano[i])\n",
    "        for j in range(len(castellano)):\n",
    "            if castellano[j] not in cambios:\n",
    "                cambios=np.append(cambios,castellano[j])\n",
    "        aux=np.append(aux,cambios)\n",
    "        \n",
    "    for i in range(len(castellano)):\n",
    "        cambios=np.array([])\n",
    "        cambios=np.append(cambios,castellano[i])            \n",
    "        for j in reversed(range(len(castellano))):\n",
    "            if castellano[j] not in cambios:\n",
    "                cambios=np.append(cambios,castellano[j])\n",
    "        aux=np.append(aux,cambios)\n",
    "    \n",
    "    lista=np.reshape(aux, (2*len(castellano), len(castellano)))\n",
    "    \n",
    "    \n",
    "    return lista"
   ]
  },
  {
   "cell_type": "code",
   "execution_count": 439,
   "id": "e02abfb9",
   "metadata": {},
   "outputs": [
    {
     "ename": "IndentationError",
     "evalue": "expected an indented block (2653160292.py, line 12)",
     "output_type": "error",
     "traceback": [
      "\u001b[1;36m  Input \u001b[1;32mIn [439]\u001b[1;36m\u001b[0m\n\u001b[1;33m    a=auxi[0]\u001b[0m\n\u001b[1;37m    ^\u001b[0m\n\u001b[1;31mIndentationError\u001b[0m\u001b[1;31m:\u001b[0m expected an indented block\n"
     ]
    }
   ],
   "source": [
    "def cambiar_ord(castellano):\n",
    "    auxi=castellano\n",
    "    aux=np.array([])\n",
    "    \n",
    "    i=0\n",
    "    aux=np.append(aux,castellano)\n",
    "    while i <len(castellano)-1:\n",
    "        \n",
    "        for j in range(len(castellano)):\n",
    "            \n",
    "        \n",
    "        a=auxi[0]\n",
    "        auxi=np.insert(auxi,len(auxi),a)\n",
    "        print(auxi)\n",
    "        auxi=np.delete(auxi,0)\n",
    "        print(auxi)\n",
    "        aux=np.append(aux,auxi)\n",
    "        i=i+1\n",
    "        \n",
    "    lista=np.reshape(aux, (len(castellano), len(castellano)))\n",
    "    print(lista)\n",
    "        "
   ]
  },
  {
   "cell_type": "code",
   "execution_count": 440,
   "id": "25941641",
   "metadata": {},
   "outputs": [
    {
     "name": "stdout",
     "output_type": "stream",
     "text": [
      "['a' 'b' 'c' 'a']\n",
      "['b' 'c' 'a']\n",
      "['b' 'c' 'a' 'b']\n",
      "['c' 'a' 'b']\n",
      "[['a' 'b' 'c']\n",
      " ['b' 'c' 'a']\n",
      " ['c' 'a' 'b']]\n"
     ]
    }
   ],
   "source": [
    "cambiar_ord(['a', 'b', 'c'])\n"
   ]
  },
  {
   "cell_type": "code",
   "execution_count": 441,
   "id": "38a25a7e",
   "metadata": {},
   "outputs": [
    {
     "data": {
      "text/plain": [
       "array([['a', 'b', 'c', 'e', 'f'],\n",
       "       ['b', 'a', 'c', 'e', 'f'],\n",
       "       ['c', 'a', 'b', 'e', 'f'],\n",
       "       ['e', 'a', 'b', 'c', 'f'],\n",
       "       ['f', 'a', 'b', 'c', 'e'],\n",
       "       ['a', 'f', 'e', 'c', 'b'],\n",
       "       ['b', 'f', 'e', 'c', 'a'],\n",
       "       ['c', 'f', 'e', 'b', 'a'],\n",
       "       ['e', 'f', 'c', 'b', 'a'],\n",
       "       ['f', 'e', 'c', 'b', 'a']], dtype='<U32')"
      ]
     },
     "execution_count": 441,
     "metadata": {},
     "output_type": "execute_result"
    }
   ],
   "source": [
    "cambiar_orden(['a', 'b', 'c', 'e', 'f'])"
   ]
  },
  {
   "cell_type": "code",
   "execution_count": 442,
   "id": "36996a73",
   "metadata": {},
   "outputs": [
    {
     "name": "stdout",
     "output_type": "stream",
     "text": [
      "hola\n",
      "cantidad de letras =  1\n",
      "Counter({'hola': 1})\n",
      "26\n",
      "['e']\n",
      "es una solucion valida S/N\n",
      "otra posible solucion\n",
      "\n",
      "['a']\n",
      "es una solucion valida S/N\n",
      "otra posible solucion\n",
      "\n",
      "['o']\n",
      "es una solucion valida S/N\n",
      "otra posible solucion\n",
      "\n",
      "['l']\n",
      "es una solucion valida S/N\n",
      "otra posible solucion\n",
      "\n",
      "['s']\n",
      "es una solucion valida S/N\n",
      "otra posible solucion\n",
      "\n",
      "['n']\n",
      "es una solucion valida S/N\n",
      "otra posible solucion\n",
      "\n",
      "['d']\n",
      "es una solucion valida S/N\n",
      "otra posible solucion\n",
      "\n",
      "['r']\n",
      "es una solucion valida S/N\n",
      "otra posible solucion\n",
      "\n",
      "['u']\n",
      "es una solucion valida S/N\n",
      "otra posible solucion\n",
      "\n",
      "['i']\n",
      "es una solucion valida S/N\n",
      "otra posible solucion\n",
      "\n",
      "['t']\n",
      "es una solucion valida S/N\n",
      "otra posible solucion\n",
      "\n",
      "['c']\n",
      "es una solucion valida S/N\n",
      "otra posible solucion\n",
      "\n",
      "['p']\n",
      "es una solucion valida S/N\n",
      "otra posible solucion\n",
      "\n",
      "['m']\n",
      "es una solucion valida S/N\n",
      "otra posible solucion\n",
      "\n",
      "['y']\n",
      "es una solucion valida S/N\n",
      "otra posible solucion\n",
      "\n",
      "['q']\n",
      "es una solucion valida S/N\n",
      "otra posible solucion\n",
      "\n",
      "['b']\n",
      "es una solucion valida S/N\n",
      "otra posible solucion\n",
      "\n",
      "['h']\n",
      "es una solucion valida S/N\n",
      "otra posible solucion\n",
      "\n",
      "['g']\n",
      "es una solucion valida S/N\n",
      "otra posible solucion\n",
      "\n",
      "['f']\n",
      "es una solucion valida S/N\n",
      "otra posible solucion\n",
      "\n",
      "['v']\n",
      "es una solucion valida S/N\n",
      "otra posible solucion\n",
      "\n",
      "['j']\n",
      "es una solucion valida S/N\n",
      "otra posible solucion\n",
      "\n",
      "['z']\n",
      "es una solucion valida S/N\n",
      "otra posible solucion\n",
      "\n",
      "['x']\n",
      "es una solucion valida S/N\n",
      "otra posible solucion\n",
      "\n",
      "['k']\n",
      "es una solucion valida S/N\n",
      "otra posible solucion\n",
      "\n",
      "['w']\n",
      "es una solucion valida S/N\n",
      "otra posible solucion\n",
      "\n",
      "['e']\n",
      "es una solucion valida S/N\n",
      "otra posible solucion\n",
      "\n",
      "['a']\n",
      "es una solucion valida S/N\n",
      "otra posible solucion\n",
      "\n",
      "['o']\n",
      "es una solucion valida S/N\n",
      "otra posible solucion\n",
      "\n",
      "['l']\n",
      "es una solucion valida S/N\n",
      "otra posible solucion\n",
      "\n",
      "['s']\n",
      "es una solucion valida S/N\n",
      "otra posible solucion\n",
      "\n",
      "['n']\n",
      "es una solucion valida S/N\n",
      "otra posible solucion\n",
      "\n",
      "['d']\n",
      "es una solucion valida S/N\n",
      "otra posible solucion\n",
      "\n",
      "['r']\n",
      "es una solucion valida S/N\n",
      "otra posible solucion\n",
      "\n",
      "['u']\n",
      "es una solucion valida S/N\n",
      "otra posible solucion\n",
      "\n",
      "['i']\n",
      "es una solucion valida S/N\n",
      "otra posible solucion\n",
      "\n",
      "['t']\n",
      "es una solucion valida S/N\n",
      "otra posible solucion\n",
      "\n",
      "['c']\n",
      "es una solucion valida S/N\n",
      "otra posible solucion\n",
      "\n",
      "['p']\n",
      "es una solucion valida S/N\n",
      "otra posible solucion\n",
      "\n",
      "['m']\n",
      "es una solucion valida S/N\n",
      "otra posible solucion\n",
      "\n",
      "['y']\n",
      "es una solucion valida S/N\n",
      "otra posible solucion\n",
      "\n",
      "['q']\n",
      "es una solucion valida S/N\n",
      "otra posible solucion\n",
      "\n",
      "['b']\n",
      "es una solucion valida S/N\n",
      "otra posible solucion\n",
      "\n",
      "['h']\n",
      "es una solucion valida S/N\n",
      "otra posible solucion\n",
      "\n",
      "['g']\n",
      "es una solucion valida S/N\n",
      "otra posible solucion\n",
      "\n",
      "['f']\n",
      "es una solucion valida S/N\n",
      "otra posible solucion\n",
      "\n",
      "['v']\n",
      "es una solucion valida S/N\n",
      "otra posible solucion\n",
      "\n",
      "['j']\n",
      "es una solucion valida S/N\n",
      "otra posible solucion\n",
      "\n",
      "['z']\n",
      "es una solucion valida S/N\n",
      "otra posible solucion\n",
      "\n",
      "['x']\n",
      "es una solucion valida S/N\n",
      "otra posible solucion\n",
      "\n",
      "['k']\n",
      "es una solucion valida S/N\n",
      "otra posible solucion\n",
      "\n",
      "['w']\n",
      "es una solucion valida S/N\n",
      "otra posible solucion\n",
      "\n"
     ]
    }
   ],
   "source": [
    "from collections import Counter\n",
    "\n",
    "cadena = input()\n",
    "text= cadena.split(\", \")\n",
    "letters = Counter(text)\n",
    "#letras=np.array(list(letters.items()))\n",
    "print(\"cantidad de letras = \", len(letters))\n",
    "print(letters)\n",
    "\n",
    "castellano=(['a', 11.96],['b', 0.92],['c', 2.92],['d', 6.87],['e', 16.78],['f', 0.52],['g', 0.73],\n",
    "           ['h', 0.89],['i', 4.15],['j', 0.3],['k', 0.0],['l', 8.37],['m', 2.12],['n', 7.01],\n",
    "           ['o', 8.69],['p', 2.77],['q', 1.53],['r', 4.94],['s', 7.88],['t', 3.31],['u', 4.80],\n",
    "           ['v', 0.39],['w', 0.0],['x', 0.06],['y', 1.54],['z', 0.15])\n",
    "\n",
    "ingles=(['a', 11.96],['b', 1.54],['c', 3.06],['d', 3.99],['e', 12.51],['f', 2.30],['g', 1.96],\n",
    "        ['h', 0.89],['i', 7.26],['j', 0.16],['k', 0.67],['l', 4.14],['m', 2.53],['n', 7.09],\n",
    "       ['o', 7.60],['p', 2.0],['q', 0.11],['r', 6.12],['s', 6,54],['t', 9.25],['u', 2.71],\n",
    "       ['v', 0.99],['w', 1.92],['x', 1.92],['y', 1.73],['z', 0.19])\n",
    "\n",
    "letras=sorted(letters, reverse=True)\n",
    "castellano_ord=sorted(castellano, key=lambda letra: letra[1], reverse=True)\n",
    "ingles_ord=sorted(ingles, key=lambda letra: letra[1], reverse=True)\n",
    "\n",
    "aux=np.array([])\n",
    "for i in range(len(castellano_ord)):\n",
    "    aux=np.append(aux, castellano_ord[i][0])\n",
    "\n",
    "pruebas=cambiar_orden(aux)\n",
    "print(len(pruebas[0]))\n",
    "lista=list(letters.elements())\n",
    "cambio=[]\n",
    "\n",
    "for j in range(len(pruebas)):\n",
    "    texto=[]\n",
    "    for elem in text:\n",
    "        for i in range(len(lista)):\n",
    "            if elem==lista[i]: #si su porcentaje es el i-esimo\n",
    "                texto.append(pruebas[j][i]) #lo intercambiamos por el i-esimo componente de la prueba actual\n",
    "                #cambio.append(castellano_ord[i][0])\n",
    "                \n",
    "                break\n",
    "    \n",
    "    \n",
    "    print(texto)\n",
    "    \n",
    "    print(\"es una solucion valida S/N\")\n",
    "    print(\"otra posible solucion\")\n",
    "    if input()==\"S\":\n",
    "        break\n",
    "    \n",
    "    \n",
    "    "
   ]
  },
  {
   "cell_type": "code",
   "execution_count": 443,
   "id": "38cb2f56",
   "metadata": {},
   "outputs": [
    {
     "name": "stdout",
     "output_type": "stream",
     "text": [
      "hola\n",
      "Cadena: hola\n",
      "Cadena: [8, 13, 22, 3]\n"
     ]
    }
   ],
   "source": [
    "afin(\"-C\",26,23,3)\n"
   ]
  },
  {
   "cell_type": "code",
   "execution_count": null,
   "id": "594f7944",
   "metadata": {},
   "outputs": [],
   "source": [
    "#Para los casos B,C,D y E"
   ]
  },
  {
   "cell_type": "code",
   "execution_count": null,
   "id": "1b9cd260",
   "metadata": {},
   "outputs": [],
   "source": [
    "def criptoanalisis_afin(claro1=0,cifrado1=0, claro2=0, cifrado2=0,o):\n",
    "   #obtenemos la primera pareja de textos\n",
    "    if claro1==0:\n",
    "        claro1=input()\n",
    "    else:\n",
    "        file=open(i, \"r\")\n",
    "        claro1=file.read()\n",
    "        file.close()\n",
    "    \n",
    "    if cifrado1==0:\n",
    "        cifrado1=input()\n",
    "    else:\n",
    "        file=open(i, \"r\")\n",
    "        cifrado1=file.read()\n",
    "        file.close()\n",
    "    \n",
    "    #obtenemos la segunda pareja de textos\n",
    "    if claro2==0:\n",
    "        claro2=input()\n",
    "    else:\n",
    "        file=open(i, \"r\")\n",
    "        claro2=file.read()\n",
    "        file.close()\n",
    "    \n",
    "    if cifrado2==0:\n",
    "        cifrado2=input()\n",
    "    else:\n",
    "        file=open(i, \"r\")\n",
    "        cifrado2=file.read()\n",
    "        file.close()\n",
    "    \n",
    "    #y1=a*x1+b%m -> a*x1=y1-b%m ->a=invX1*(y1-b%m)\n",
    "    #y2=a*x2+b%m->b%m= y2-a*x3\n",
    "    \n",
    "    "
   ]
  },
  {
   "cell_type": "code",
   "execution_count": null,
   "id": "f277c862",
   "metadata": {},
   "outputs": [],
   "source": [
    "#Análisis de frecuencia\n",
    "El análisis de frecuencia es el estudio de la frecuencia de letras o grupos\n",
    "de letras en un texto cifrado."
   ]
  },
  {
   "cell_type": "markdown",
   "id": "5bf621cd",
   "metadata": {},
   "source": [
    "## 2. Sustitución polialfabeto"
   ]
  },
  {
   "cell_type": "markdown",
   "id": "7d89fea6",
   "metadata": {},
   "source": [
    "## 2.a Método de Hill"
   ]
  },
  {
   "cell_type": "code",
   "execution_count": null,
   "id": "aa473852",
   "metadata": {},
   "outputs": [],
   "source": [
    "import numpy as np\n",
    "import os\n",
    "import math\n",
    "import copy"
   ]
  },
  {
   "cell_type": "code",
   "execution_count": null,
   "id": "2c3c6e39",
   "metadata": {},
   "outputs": [],
   "source": [
    "def determinante(matriz):\n",
    "   \n",
    "    if len(matriz)==2 and len(matriz[0])==2:\n",
    "        #calculamos el determinante\n",
    "        det=matriz[0][0]*matriz[1][1]-(matriz[1][0]*matriz[0][1])\n",
    "       \n",
    "        return det\n",
    "    else:\n",
    "        suma=0\n",
    "        for i in range(len(matriz)): #calculamos el determinante por cofactores\n",
    "            maux=copy.deepcopy(matriz)\n",
    "            maux.remove(matriz[0]) #eliminamos la primera fila\n",
    "            for j in range(len(maux)):\n",
    "                maux[j]=maux[j][0:i]+maux[j][i+1:]\n",
    "                \n",
    "         \n",
    "            suma= suma+ (-1)**((i+j)%2)*matriz[0][i]*determinante(maux)\n",
    "            \n",
    "        return suma\n",
    "        "
   ]
  },
  {
   "cell_type": "code",
   "execution_count": null,
   "id": "9177a009",
   "metadata": {},
   "outputs": [],
   "source": [
    "matriz = [[1,2,3], [3,4,5], [1,4,3]]\n",
    "print(determinante(matriz))\n",
    "matriz = [[11,8], [3,7]]\n",
    "print(determinante(matriz))"
   ]
  },
  {
   "cell_type": "code",
   "execution_count": null,
   "id": "270c9cdd",
   "metadata": {},
   "outputs": [],
   "source": [
    "def adjunto(matriz):\n",
    "    adjunto=np.zeros(np.shape(matriz))\n",
    "    if len(matriz)==2 and len(matriz[0])==2:\n",
    "         #calculamos el adjunto\n",
    "        adjunto[0][0]=matriz[1][1]\n",
    "        adjunto[0][1]=-matriz[0][1]\n",
    "        adjunto[1][0]=-matriz[1][0]\n",
    "        adjunto[1][1]=matriz[0][0]\n",
    "        \n",
    "        return adjunto\n",
    "    else:\n",
    "        \n",
    "        for i in range(len(matriz)):\n",
    "            maux=copy.deepcopy(matriz)\n",
    "            for j in range(len(matriz)):\n",
    "             \n",
    "                maux=np.delete(matriz,i,0)\n",
    "                aux=np.delete(maux,j,1)\n",
    "                auxi=aux.tolist()\n",
    "                #la matriz de cofactores transpuesta es el djunto\n",
    "                adjunto[j][i]=(-1)**((i+j)%2)*determinante(auxi)\n",
    "            \n",
    "                \n",
    "        return adjunto"
   ]
  },
  {
   "cell_type": "code",
   "execution_count": null,
   "id": "053f1a4a",
   "metadata": {},
   "outputs": [],
   "source": [
    "matriz = [[11,8], [3,7]]\n",
    "print(adjunto(matriz))"
   ]
  },
  {
   "cell_type": "code",
   "execution_count": null,
   "id": "267c546b",
   "metadata": {},
   "outputs": [],
   "source": [
    "def inversa(matriz,modulo):\n",
    "    inversa=np.zeros(np.shape(matriz))\n",
    "    det=determinante(matriz)%modulo\n",
    "    if det !=0:\n",
    "        adj=adjunto(matriz)%modulo\n",
    "        for i in range(len(matriz)):\n",
    "            for j in range(len(matriz[i])):\n",
    "                inversa[i][j]=(adj[i][j]/det)#%modulo\n",
    "                \n",
    "    return inversa%modulo #esto puede que no sea necesario porque ya estamos en matemática modular"
   ]
  },
  {
   "cell_type": "code",
   "execution_count": null,
   "id": "5a3dc048",
   "metadata": {},
   "outputs": [],
   "source": [
    "matriz = [[11,8], [3,7]]\n",
    "print(inversa(matriz,26))"
   ]
  },
  {
   "cell_type": "code",
   "execution_count": null,
   "id": "a150397b",
   "metadata": {},
   "outputs": [],
   "source": [
    "arr = np.array([[1,2,3,4], [5,6,7,8], [9,10,11,12]])\n",
    "np.delete(arr, 1, 0)"
   ]
  },
  {
   "cell_type": "code",
   "execution_count": null,
   "id": "deeb5371",
   "metadata": {
    "scrolled": true
   },
   "outputs": [],
   "source": [
    "matriz = [[1, 2, 4], [3,5,4], [1]]\n",
    "\n",
    "# Padding a la matriz\n",
    "n=3\n",
    "print(matriz)\n",
    "print(len(matriz[n-1]))\n",
    "k=len(matriz[n-1])\n",
    "if k<n:\n",
    "    padding=[0]*(n)\n",
    "    for i in range(0,k):\n",
    "        padding[i]=matriz[n-1][i]\n",
    "    matriz[n-1]=padding\n",
    "  \n",
    "print(matriz)\n",
    "matriz=np.array(matriz)\n",
    "matriz%3"
   ]
  },
  {
   "cell_type": "code",
   "execution_count": null,
   "id": "804e7442",
   "metadata": {},
   "outputs": [],
   "source": [
    "print(matriz[1])"
   ]
  },
  {
   "cell_type": "code",
   "execution_count": null,
   "id": "05c07b3e",
   "metadata": {},
   "outputs": [],
   "source": [
    "def cifrar(matriz_numerica, matriz,mod,n):\n",
    "    matriz_cifrada=np.zeros((n,n))\n",
    "    \n",
    "    for i in range(len(matriz_numerica)):\n",
    "        cadena_cifrada= (np.dot(matriz_numerica[i],matriz))%mod\n",
    "        matriz_cifrada[i]=cadena_cifrada\n",
    "\n",
    "    return matriz_cifrada  "
   ]
  },
  {
   "cell_type": "code",
   "execution_count": null,
   "id": "89e0ad6a",
   "metadata": {},
   "outputs": [],
   "source": [
    "def descifrar(matriz_cifrada, matriz,mod,n):\n",
    "    matriz_descifrada=np.zeros((n,n))\n",
    "    inv=inversa(matriz,mod)\n",
    " \n",
    "    for i in range(len(matriz_cifrada)):\n",
    "        cadena_descifrada= (np.dot(matriz_cifrada[i],inv))%mod\n",
    "        matriz_descifrada[i]=cadena_descifrada\n",
    "\n",
    "    return matriz_descifrada  "
   ]
  },
  {
   "cell_type": "code",
   "execution_count": null,
   "id": "de5e7c5f",
   "metadata": {},
   "outputs": [],
   "source": [
    "def hill(modo,mod,n,k,i=0,o=0):\n",
    "    alfabeto='abcdefghijklmnopqrstuvwxyz'\n",
    "  \n",
    "    with open(k,'r') as f:\n",
    "        datos = ''.join(f.readlines()).replace('\\n',';')\n",
    "    matriz = np.matrix(datos).tolist()\n",
    "    f.close()\n",
    "    \n",
    "    # Padding a la matriz\n",
    "    #ult=len(matriz[n-1])\n",
    "    #if ult<n:\n",
    "     #   padding=[0]*(n)\n",
    "      #  for i in range(0,k):\n",
    "       #     padding[i]=matriz[n-1][i]\n",
    "        #matriz[n-1]=padding\n",
    "    #matriz=np.array(matriz)\n",
    "   \n",
    "    det=np.linalg.det(matriz)\n",
    "    #comprobamos que la matriz K tiene una función biyectiva\n",
    "    if algoritmo_euclides(int(det),mod)==1:\n",
    "       \n",
    "        if modo==\"-C\":\n",
    "           \n",
    "            cadena=read_input(i)\n",
    "            #Traducimos los caracteres a números\n",
    "            cadena_numerica=[]\n",
    "            for k in cadena:\n",
    "                if k in alfabeto: \n",
    "                    cadena_numerica.append(alfabeto.index(k))\n",
    "                    \n",
    "            # Dividimos en bloques de n elementos el texto\n",
    "            # Si m no es múltiplo de n se añade padding\n",
    "            m=len(cadena_numerica)/n\n",
    "            max=len(cadena_numerica)\n",
    "            matriz_numerica=np.zeros((math.ceil(m),n))\n",
    "         \n",
    "            pos=0\n",
    "            for i in range(math.ceil(m)):\n",
    "                for j in range(n):\n",
    "                    if pos<max:\n",
    "                        matriz_numerica[i][j]=cadena_numerica[pos]\n",
    "                        pos=pos+1\n",
    "                        \n",
    "            #ciframos cadena a cadena y lo guardamos en un matriz           \n",
    "            matriz_cifrada=cifrar(matriz_numerica,matriz,mod,n)\n",
    "            print_output(o,matriz_cifrada)\n",
    "           \n",
    "            \n",
    "        elif modo==\"-D\":\n",
    "            if i==0:\n",
    "                cadena_cifrada=input()\n",
    "                mat_cifrada = np.matrix(cadena_cifrada).tolist()\n",
    "                matriz_cifrada= np.reshape(mat_cifrada, (n,n))\n",
    "               \n",
    "                        \n",
    "            else:\n",
    "                \n",
    "                with open(i,'r') as f:\n",
    "                    datos = ''.join(f.readlines()).replace('\\n',';')     \n",
    "                f.close()\n",
    "                \n",
    "                matriz_cifrada = np.matrix(datos).tolist() \n",
    "        \n",
    "           \n",
    "            matriz_descifrada=descifrar(matriz_cifrada, matriz,mod,n)\n",
    "            \n",
    "            cadena_num=[]*n*n\n",
    "            for i in range(len(matriz_descifrada)):\n",
    "                for j in range(len(matriz_descifrada[i])):\n",
    "                    \n",
    "                    if matriz_descifrada[i][j]<0:\n",
    "                        matriz_descifrada[i][j]=mod+matriz_descifrada[i][j]\n",
    "        \n",
    "                    cadena_num.append(alfabeto[int(matriz_descifrada[i][j])])\n",
    "            print_output(o,cadena_num)\n",
    "            \n",
    "    else:\n",
    "        print(\"{} y {} no son primos relativos. Error\".format(det,mod))"
   ]
  },
  {
   "cell_type": "code",
   "execution_count": null,
   "id": "9b9f563c",
   "metadata": {},
   "outputs": [],
   "source": [
    "k = [[11,8], [3,7]]\n",
    "hill(\"-D\",26, 2,\"matriz_k.txt\",\"matriz_cifrada.txt\" ,0)"
   ]
  },
  {
   "cell_type": "code",
   "execution_count": null,
   "id": "1847b014",
   "metadata": {},
   "outputs": [],
   "source": [
    "hill(\"-C\",26,2, \"matriz_k.txt\", 0,0 )"
   ]
  },
  {
   "cell_type": "code",
   "execution_count": null,
   "id": "7cbc5687",
   "metadata": {},
   "outputs": [],
   "source": [
    "cadena_numerica=[8,15,12,1]\n",
    "matriz = [[11,8], [3,7]]\n",
    "n=2\n",
    "\n",
    "m=len(cadena_numerica)/n\n",
    "max=len(cadena_numerica)\n",
    "matriz_numerica=np.zeros((math.ceil(m),n))\n",
    "\n",
    "pos=0\n",
    "for i in range(math.ceil(m)):\n",
    "\n",
    "    for j in range(n):\n",
    "        \n",
    "        if pos<max:\n",
    "           \n",
    "            matriz_numerica[i][j]=cadena_numerica[pos]\n",
    "            pos=pos+1\n",
    "            \n",
    "print(\"matriz_numerica\")\n",
    "print(matriz_numerica)   \n",
    "\n",
    "matriz_cifrada=cifrar(matriz_numerica, matriz,26,n)\n",
    "print(\"matriz cifrada\")\n",
    "print(cifrar(matriz_numerica, matriz,26,n))\n",
    "\n",
    "print(descifrar(matriz_cifrada, matriz,26,n))\n",
    "print(\"matriz descifrada\")\n",
    "matriz_descifrada=descifrar(matriz_cifrada, matriz,26,n)\n",
    "alfabeto='abcdefghijklmnopqrstuvwxyz'\n",
    "cadena_num=[]*n*n\n",
    "for i in range(len(matriz_descifrada)):\n",
    "    for j in range(len(matriz_descifrada[i])):\n",
    "        if matriz_descifrada[i][j]<0:\n",
    "            matriz_descifrada[i][j]=26+matriz_descifrada[i][j]\n",
    "        cadena_num.append(alfabeto[int(matriz_descifrada[i][j])-1])\n",
    "print(cadena_num)"
   ]
  },
  {
   "cell_type": "code",
   "execution_count": null,
   "id": "c180731e",
   "metadata": {},
   "outputs": [],
   "source": [
    "with open('matriz_k.txt','r') as f:\n",
    "    datos = ''.join(f.readlines()).replace('\\n',';')\n",
    "\n",
    "matriz = np.matrix(datos)\n",
    "print(matriz)"
   ]
  },
  {
   "cell_type": "markdown",
   "id": "9c79aa8d",
   "metadata": {},
   "source": [
    "## 2.b Método de Vigenere"
   ]
  },
  {
   "cell_type": "code",
   "execution_count": null,
   "id": "f58f0ae6",
   "metadata": {},
   "outputs": [],
   "source": [
    "def vigenere(modo,k,i=0,o=0):\n",
    "    alfabeto='abcdefghijklmnopqrstuvwxyzABCDEFGHIJKLMNOPQRSTUVWXYZ'\n",
    "    base=len(alfabeto)\n",
    "    n=len(k)\n",
    "    #Traducimos la clave de caracteres a números\n",
    "    k_numerica=[]\n",
    "    for j in k:\n",
    "        if j in alfabeto: \n",
    "            k_numerica.append(alfabeto.index(j))\n",
    "    if modo==\"-C\":\n",
    "        cadena=read_input(i)\n",
    "        # Traducimos los caracteres a números\n",
    "        cadena_numerica=[]\n",
    "        for k in cadena:\n",
    "            if k in alfabeto: \n",
    "                cadena_numerica.append(alfabeto.index(k))\n",
    "        # Dividimos en bloques de n elementos el input\n",
    "        # Si m no es múltiplo de n se añade padding\n",
    "        m=len(cadena_numerica)/n\n",
    "        maxi=len(cadena_numerica)\n",
    "        matriz_numerica=np.zeros((math.ceil(m),n))\n",
    "        pos=0\n",
    "        for i in range(math.ceil(m)):\n",
    "            for j in range(n):\n",
    "                if pos<maxi:\n",
    "                    matriz_numerica[i][j]=cadena_numerica[pos]\n",
    "                    pos=pos+1\n",
    "        # Tenemos una matriz que tenemos que cifrar. \n",
    "        # Cada bloque es una fila de la matriz\n",
    "        filas=matriz_numerica.shape[0]\n",
    "        elementos=matriz_numerica.shape[1]\n",
    "        #print(\"Matriz numerica\")\n",
    "        #print(matriz_numerica)\n",
    "        matriz_cifrada=np.zeros((filas,elementos))\n",
    "        #print(\"Matriz cifrada de ceros\")\n",
    "        #print(matriz_cifrada)\n",
    "        if elementos==n:\n",
    "            print(\"Bloques ok\")\n",
    "        for i in range(filas):\n",
    "            for j in range(elementos):\n",
    "                matriz_cifrada[i][j]=(matriz_numerica[i][j]+k_numerica[j])%base\n",
    "        #print(\"Matriz cifrada\")\n",
    "        #print(matriz_cifrada)\n",
    "        cadena_cifrada=np.concatenate(matriz_cifrada)\n",
    "        #print(cadena_cifrada)\n",
    "        print_output(o,cadena_cifrada)\n",
    "    elif modo==\"-D\":\n",
    "        cadena_cifrada=read_input(i)\n",
    "        cadena_cifrada=cadena_cifrada.split(\" \")\n",
    "        #for i in range(len(cadena_cifrada)):\n",
    "        #   cadena_cifrada[i]=int(cadena_cifrada[i])\n",
    "        # Dividimos en bloques de n elementos el texto cifrado\n",
    "        # Si m no es múltiplo de n se añade padding\n",
    "        m=len(cadena_cifrada)/n\n",
    "        maxi=len(cadena_cifrada)\n",
    "        matriz_cifrada=np.zeros((math.ceil(m),n))\n",
    "        pos=0\n",
    "        for i in range(math.ceil(m)):\n",
    "            for j in range(n):\n",
    "                if pos<maxi:\n",
    "                    matriz_cifrada[i][j]=cadena_cifrada[pos]\n",
    "                    pos=pos+1\n",
    "        # Tenemos una matriz que tenemos que descifrar. \n",
    "        # Cada bloque es una fila de la matriz\n",
    "        filas=matriz_cifrada.shape[0]\n",
    "        elementos=matriz_cifrada.shape[1]\n",
    "        matriz_descifrada=np.zeros((filas,elementos))\n",
    "        if elementos==n:\n",
    "            print(\"Bloques ok\")\n",
    "        for i in range(filas):\n",
    "            for j in range(elementos):\n",
    "                matriz_descifrada[i][j]=(matriz_cifrada[i][j]-k_numerica[j])%base\n",
    "        cadena_descifrada=np.concatenate(matriz_descifrada)\n",
    "        cadena_texto=[]\n",
    "        for i in range(len(cadena_descifrada)):\n",
    "            #cadena_cifrada[i]=int(cadena_cifrada[i])\n",
    "            cadena_texto.append(alfabeto[int(cadena_descifrada[i])])\n",
    "        print_output(o,cadena_texto)"
   ]
  },
  {
   "cell_type": "code",
   "execution_count": null,
   "id": "ead14d27",
   "metadata": {},
   "outputs": [],
   "source": [
    "vigenere(\"-C\", \"clave\")"
   ]
  },
  {
   "cell_type": "code",
   "execution_count": null,
   "id": "907b2b4a",
   "metadata": {},
   "outputs": [],
   "source": [
    "vigenere(\"-D\", \"clave\")\n"
   ]
  },
  {
   "cell_type": "code",
   "execution_count": null,
   "id": "e54fdffa",
   "metadata": {},
   "outputs": [],
   "source": [
    "vigenere(\"-C\", \"clave\", \"texto_vigenere.txt\", \"resultado_vigenere.txt\")"
   ]
  },
  {
   "cell_type": "code",
   "execution_count": null,
   "id": "78cd3442",
   "metadata": {},
   "outputs": [],
   "source": [
    "vigenere(\"-D\", \"clave\", \"resultado_vigenere.txt\", \"descifrado_vigenere.txt\")"
   ]
  },
  {
   "cell_type": "markdown",
   "id": "a1f492f4",
   "metadata": {},
   "source": [
    "## 2.c Criptoanálisis del cifrado de Vigenere"
   ]
  },
  {
   "cell_type": "code",
   "execution_count": null,
   "id": "337ef115",
   "metadata": {},
   "outputs": [],
   "source": []
  },
  {
   "cell_type": "markdown",
   "id": "27a3b33e",
   "metadata": {},
   "source": [
    "## 3. Cifrado de flujo"
   ]
  },
  {
   "cell_type": "code",
   "execution_count": null,
   "id": "3ec5d312",
   "metadata": {},
   "outputs": [],
   "source": [
    "def rec_fib(n):\n",
    "    if n > 1:\n",
    "        return rec_fib(n-1) + rec_fib(n-2)\n",
    "    return n"
   ]
  },
  {
   "cell_type": "code",
   "execution_count": null,
   "id": "829d7d31",
   "metadata": {},
   "outputs": [],
   "source": [
    "# Generador de secuencia aleatoria\n",
    "def generador_aleatorio(m,cont):\n",
    "    k=(rec_fib(m)%m)*m*cont\n",
    "    return k"
   ]
  },
  {
   "cell_type": "code",
   "execution_count": null,
   "id": "3cc1ff34",
   "metadata": {
    "scrolled": true
   },
   "outputs": [],
   "source": [
    "# Ejemplo de secuencia cifrante de 5 elementos para clave 14\n",
    "m=14\n",
    "for i in range(5):\n",
    "    k=generador_aleatorio(m,i)\n",
    "    print(k)"
   ]
  },
  {
   "cell_type": "code",
   "execution_count": null,
   "id": "d505e0fe",
   "metadata": {},
   "outputs": [],
   "source": [
    "# m es la clave\n",
    "# n es el tamaño de la secuencia de claves\n",
    "def flujo(modo,m,n,i=0,o=0):\n",
    "    alfabeto='abcdefghijklmnopqrstuvwxyzABCDEFGHIJKLMNOPQRSTUVWXYZ'\n",
    "    if modo==\"-C\":\n",
    "        cadena=read_input(i)\n",
    "        # Traducimos los caracteres a números\n",
    "        cadena_numerica=[]\n",
    "        for k in cadena:\n",
    "            if k in alfabeto: \n",
    "                cadena_numerica.append(alfabeto.index(k))\n",
    "        # Ciframos carácter a carácter\n",
    "        cadena_cifrada=[]\n",
    "        count=0\n",
    "        for i in cadena_numerica:\n",
    "            if count<n:\n",
    "                k=generador_aleatorio(m,count)\n",
    "            else:\n",
    "                k=generador_aleatorio(m,count-n)\n",
    "            cadena_cifrada.append(int(bin(i^k)[2:]))\n",
    "            count=count+1\n",
    "        print_output(o,cadena_cifrada)\n",
    "    elif modo==\"-D\":\n",
    "        cadena_cifrada=read_input(i)\n",
    "        cadena_cifrada=cadena_cifrada.split(\" \")\n",
    "        cadena_descifrada=[]\n",
    "        cadena_texto=[]\n",
    "        for i in range(len(cadena_cifrada)):\n",
    "            cadena_cifrada[i]=int(cadena_cifrada[i],2)\n",
    "        count=0\n",
    "        for i in cadena_cifrada:\n",
    "            if count<n:\n",
    "                k=generador_aleatorio(m,count)\n",
    "            else:\n",
    "                k=generador_aleatorio(m,count-n)\n",
    "            cadena_descifrada.append((i^k))\n",
    "            count=count+1\n",
    "        for i in range(len(cadena_descifrada)):\n",
    "            cadena_texto.append(alfabeto[int(cadena_descifrada[i])])\n",
    "        print_output(o,cadena_texto)"
   ]
  },
  {
   "cell_type": "code",
   "execution_count": null,
   "id": "1fcf9647",
   "metadata": {},
   "outputs": [],
   "source": [
    "flujo(\"-C\", 4,2)"
   ]
  },
  {
   "cell_type": "code",
   "execution_count": null,
   "id": "1ffa7fe5",
   "metadata": {},
   "outputs": [],
   "source": [
    "flujo(\"-D\", 4,2)"
   ]
  },
  {
   "cell_type": "code",
   "execution_count": null,
   "id": "ce0130bb",
   "metadata": {
    "scrolled": true
   },
   "outputs": [],
   "source": [
    "flujo(\"-C\", 10,20)"
   ]
  },
  {
   "cell_type": "code",
   "execution_count": null,
   "id": "995b8540",
   "metadata": {},
   "outputs": [],
   "source": [
    "flujo(\"-D\", 10, 20)"
   ]
  },
  {
   "cell_type": "code",
   "execution_count": null,
   "id": "092b5777",
   "metadata": {},
   "outputs": [],
   "source": []
  }
 ],
 "metadata": {
  "kernelspec": {
   "display_name": "Python 3 (ipykernel)",
   "language": "python",
   "name": "python3"
  },
  "language_info": {
   "codemirror_mode": {
    "name": "ipython",
    "version": 3
   },
   "file_extension": ".py",
   "mimetype": "text/x-python",
   "name": "python",
   "nbconvert_exporter": "python",
   "pygments_lexer": "ipython3",
   "version": "3.9.12"
  }
 },
 "nbformat": 4,
 "nbformat_minor": 5
}
