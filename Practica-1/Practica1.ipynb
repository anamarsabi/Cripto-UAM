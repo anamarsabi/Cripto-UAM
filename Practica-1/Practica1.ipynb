{
 "cells": [
  {
   "cell_type": "markdown",
   "id": "f9952fdd",
   "metadata": {},
   "source": [
    "# Práctica 1: Criptografía clásica\n",
    "## UAM, 2022/2023\n",
    "\n",
    "### Maitane Gómez González\n",
    "### Ana Martínez Sabiote"
   ]
  },
  {
   "cell_type": "markdown",
   "id": "14e31d52",
   "metadata": {},
   "source": [
    "## 1. Sustitución monoalfabeto"
   ]
  },
  {
   "cell_type": "markdown",
   "id": "65d4723f",
   "metadata": {},
   "source": [
    "## 1.a Método afín\n",
    "El siguiente programa implementa el método afín.\n",
    "\n",
    "Llamada a la función:\n",
    "\n",
    "afin {-C|-D} {-m |Zm|} {-a N×} {-b N+} [-i f ilein] [-o f ileout]\n"
   ]
  },
  {
   "cell_type": "code",
   "execution_count": 5,
   "id": "a504abdb",
   "metadata": {
    "scrolled": true
   },
   "outputs": [
    {
     "name": "stdout",
     "output_type": "stream",
     "text": [
      "Requirement already satisfied: gmpy2 in c:\\users\\anama\\anaconda3\\lib\\site-packages (2.1.2)\n",
      "Note: you may need to restart the kernel to use updated packages.\n"
     ]
    }
   ],
   "source": [
    "pip install gmpy2"
   ]
  },
  {
   "cell_type": "code",
   "execution_count": 14,
   "id": "4923239b",
   "metadata": {},
   "outputs": [],
   "source": [
    "def algoritmo_euclides(a,b):\n",
    "    if a%b == 0:\n",
    "        return b\n",
    "    else:\n",
    "        return algoritmo_euclides(b, a%b)"
   ]
  },
  {
   "cell_type": "code",
   "execution_count": 15,
   "id": "042b940d",
   "metadata": {
    "scrolled": true
   },
   "outputs": [
    {
     "name": "stdout",
     "output_type": "stream",
     "text": [
      "3\n"
     ]
    }
   ],
   "source": [
    "mcd=algoritmo_euclides(150,39)\n",
    "print(mcd)"
   ]
  },
  {
   "cell_type": "code",
   "execution_count": 16,
   "id": "dc5b015b",
   "metadata": {},
   "outputs": [],
   "source": [
    "def algoritmo_euclides_extendido(a,b):\n",
    "    \"\"\"\n",
    "    # Condición a>b, sino las cambiamos\n",
    "    if b>a:\n",
    "        aux=a\n",
    "        a=b\n",
    "        b=aux\n",
    "    \"\"\"\n",
    "    # Identidad de Bézout 1=u*a + v*b\n",
    "    # El inverso de a módulo b es u. Recíprocamente, el inverso de b mod a es v\n",
    "    if a==0:\n",
    "        mcd=b\n",
    "        u=0\n",
    "        v=1\n",
    "    else:\n",
    "        mcd, x, y = algoritmo_euclides_extendido(b%a, a)\n",
    "        u=y-(b//a)*x\n",
    "        v=x\n",
    "        \n",
    "    return mcd, u, v"
   ]
  },
  {
   "cell_type": "code",
   "execution_count": 17,
   "id": "7bd355a4",
   "metadata": {},
   "outputs": [],
   "source": [
    "def inverso(a,m):\n",
    "    result = algoritmo_euclides_extendido(a,m)\n",
    "    # Comprobamos que el mcd es 1 para que exista inverso multiplicativo\n",
    "    # En consecuencia, a y m determinan una función afín inyectiva\n",
    "    if result[0] == 1:\n",
    "        # Entonces devolvemos el coeficiente u (que acompaña a) de la Id. de Bézout\n",
    "        return result[1]\n",
    "    else:\n",
    "        print(\"Error\")"
   ]
  },
  {
   "cell_type": "code",
   "execution_count": 18,
   "id": "d7c6fe58",
   "metadata": {},
   "outputs": [
    {
     "name": "stdout",
     "output_type": "stream",
     "text": [
      "(1, 7, -4)\n"
     ]
    }
   ],
   "source": [
    "mcd=algoritmo_euclides_extendido(15,26)\n",
    "print(mcd)"
   ]
  },
  {
   "cell_type": "code",
   "execution_count": 19,
   "id": "c86fc71a",
   "metadata": {},
   "outputs": [
    {
     "name": "stdout",
     "output_type": "stream",
     "text": [
      "7\n"
     ]
    }
   ],
   "source": [
    "inv=inverso(15,26)\n",
    "print(inv)"
   ]
  },
  {
   "cell_type": "code",
   "execution_count": null,
   "id": "84230574",
   "metadata": {},
   "outputs": [],
   "source": []
  }
 ],
 "metadata": {
  "kernelspec": {
   "display_name": "Python 3 (ipykernel)",
   "language": "python",
   "name": "python3"
  },
  "language_info": {
   "codemirror_mode": {
    "name": "ipython",
    "version": 3
   },
   "file_extension": ".py",
   "mimetype": "text/x-python",
   "name": "python",
   "nbconvert_exporter": "python",
   "pygments_lexer": "ipython3",
   "version": "3.9.7"
  }
 },
 "nbformat": 4,
 "nbformat_minor": 5
}
