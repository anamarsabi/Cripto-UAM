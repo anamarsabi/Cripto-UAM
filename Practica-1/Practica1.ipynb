{
 "cells": [
  {
   "cell_type": "markdown",
   "id": "f9952fdd",
   "metadata": {},
   "source": [
    "# Práctica 1: Criptografía clásica\n",
    "## UAM, 2022/2023\n",
    "\n",
    "### Maitane Gómez González\n",
    "### Ana Martínez Sabiote"
   ]
  },
  {
   "cell_type": "markdown",
   "id": "14e31d52",
   "metadata": {},
   "source": [
    "## 1. Sustitución monoalfabeto"
   ]
  },
  {
   "cell_type": "markdown",
   "id": "65d4723f",
   "metadata": {},
   "source": [
    "## 1.a Método afín\n",
    "El siguiente programa implementa el método afín.\n",
    "\n",
    "Llamada a la función:\n",
    "\n",
    "afin {-C|-D} {-m |Zm|} {-a N×} {-b N+} [-i f ilein] [-o f ileout]\n"
   ]
  },
  {
   "cell_type": "code",
   "execution_count": 67,
   "id": "eaebc2e3",
   "metadata": {
    "scrolled": true
   },
   "outputs": [],
   "source": [
    "import gmpy2\n",
    "from gmpy2 import mpz\n",
    "import sympy"
   ]
  },
  {
   "cell_type": "code",
   "execution_count": 2,
   "id": "0013cce1",
   "metadata": {},
   "outputs": [
    {
     "data": {
      "text/plain": [
       "'\\nVERSIÓN SIN GMP \\n\\ndef algoritmo_euclides(a,b):\\n    if a%b == 0:\\n        return b\\n    else:\\n        return algoritmo_euclides(b, a%b)\\n'"
      ]
     },
     "execution_count": 2,
     "metadata": {},
     "output_type": "execute_result"
    }
   ],
   "source": [
    "\"\"\"\n",
    "VERSIÓN SIN GMP \n",
    "\n",
    "def algoritmo_euclides(a,b):\n",
    "    if a%b == 0:\n",
    "        return b\n",
    "    else:\n",
    "        return algoritmo_euclides(b, a%b)\n",
    "\"\"\""
   ]
  },
  {
   "cell_type": "code",
   "execution_count": 3,
   "id": "912d32d4",
   "metadata": {},
   "outputs": [],
   "source": [
    "def algoritmo_euclides(a,b):\n",
    "    if gmpy2.t_mod(a,b) == 0:\n",
    "        return b\n",
    "    else:\n",
    "        return algoritmo_euclides(b, gmpy2.t_mod(a,b))"
   ]
  },
  {
   "cell_type": "code",
   "execution_count": 4,
   "id": "fcdb17ab",
   "metadata": {
    "scrolled": true
   },
   "outputs": [
    {
     "name": "stdout",
     "output_type": "stream",
     "text": [
      "3\n"
     ]
    }
   ],
   "source": [
    "mcd=algoritmo_euclides(39,150)\n",
    "print(mcd)"
   ]
  },
  {
   "cell_type": "code",
   "execution_count": 5,
   "id": "b353eca6",
   "metadata": {},
   "outputs": [
    {
     "data": {
      "text/plain": [
       "mpz(1)"
      ]
     },
     "execution_count": 5,
     "metadata": {},
     "output_type": "execute_result"
    }
   ],
   "source": [
    "algoritmo_euclides(7,15)"
   ]
  },
  {
   "cell_type": "code",
   "execution_count": 6,
   "id": "885404f8",
   "metadata": {},
   "outputs": [
    {
     "data": {
      "text/plain": [
       "'\\nVERSIÓN SIN GMP \\n\\ndef algoritmo_euclides_extendido(a,b):\\n\\n    # Identidad de Bézout 1=u*a + v*b\\n    # El inverso de a módulo b es u. Recíprocamente, el inverso de b mod a es v\\n    if a==0:\\n        mcd=b\\n        u=0\\n        v=1\\n    else:\\n        mcd, x, y = algoritmo_euclides_extendido(b%a, a)\\n        u=y-(b//a)*x\\n        v=x\\n        \\n    return mcd, u, v\\n'"
      ]
     },
     "execution_count": 6,
     "metadata": {},
     "output_type": "execute_result"
    }
   ],
   "source": [
    "\"\"\"\n",
    "VERSIÓN SIN GMP \n",
    "\n",
    "def algoritmo_euclides_extendido(a,b):\n",
    "\n",
    "    # Identidad de Bézout 1=u*a + v*b\n",
    "    # El inverso de a módulo b es u. Recíprocamente, el inverso de b mod a es v\n",
    "    if a==0:\n",
    "        mcd=b\n",
    "        u=0\n",
    "        v=1\n",
    "    else:\n",
    "        mcd, x, y = algoritmo_euclides_extendido(b%a, a)\n",
    "        u=y-(b//a)*x\n",
    "        v=x\n",
    "        \n",
    "    return mcd, u, v\n",
    "\"\"\""
   ]
  },
  {
   "cell_type": "code",
   "execution_count": 7,
   "id": "5dc05ac1",
   "metadata": {},
   "outputs": [],
   "source": [
    "def algoritmo_euclides_extendido(a,b):\n",
    "    \"\"\"\n",
    "    # Condición a>b, sino las cambiamos\n",
    "    if b>a:\n",
    "        aux=a\n",
    "        a=b\n",
    "        b=aux\n",
    "    \"\"\"\n",
    "    # Identidad de Bézout 1=u*a + v*b\n",
    "    # El inverso de a módulo b es u. Recíprocamente, el inverso de b mod a es v\n",
    "    if a==0:\n",
    "        mcd=b\n",
    "        u=0\n",
    "        v=1\n",
    "    else:\n",
    "        mcd, x, y = algoritmo_euclides_extendido(gmpy2.c_mod(b,a), a)\n",
    "        u=gmpy2.sub(y,(gmpy2.mul(gmpy2.c_div(b,a),x)))\n",
    "        v=x\n",
    "        \n",
    "    return mcd, u, v"
   ]
  },
  {
   "cell_type": "code",
   "execution_count": 8,
   "id": "cc975e3d",
   "metadata": {},
   "outputs": [],
   "source": [
    "def inverso(a,m):\n",
    "    result = algoritmo_euclides_extendido(a,m)\n",
    "    # Comprobamos que el mcd es 1 para que exista inverso multiplicativo\n",
    "    # En consecuencia, a y m determinan una función afín inyectiva\n",
    "    if result[0] == 1:\n",
    "        # Entonces devolvemos el coeficiente u (que acompaña a) de la Id. de Bézout\n",
    "        inv=result[1]\n",
    "        return inv\n",
    "    else:\n",
    "        print(\"Error\")"
   ]
  },
  {
   "cell_type": "code",
   "execution_count": 9,
   "id": "721d1ca5",
   "metadata": {},
   "outputs": [],
   "source": [
    "def read_input(i):\n",
    "    # Primero tomamos el input de i o de la entrada estándar\n",
    "    if i==0:\n",
    "        cadena=input()\n",
    "    else:\n",
    "        file=open(i, \"r\")\n",
    "        cadena=file.read()\n",
    "        file.close()\n",
    "    print(\"Cadena: {}\".format(cadena))\n",
    "    return cadena"
   ]
  },
  {
   "cell_type": "code",
   "execution_count": 10,
   "id": "d0ca9f79",
   "metadata": {},
   "outputs": [],
   "source": [
    "def print_output(o,cadena):\n",
    "    if o==0:\n",
    "        print(\"Cadena: {}\".format(cadena))\n",
    "    else:\n",
    "        file=open(o, \"w\")\n",
    "        cadenaToStr = ' '.join([str(elem) for elem in cadena])\n",
    "        file.write(cadenaToStr)\n",
    "        file.close()"
   ]
  },
  {
   "cell_type": "code",
   "execution_count": 11,
   "id": "d60e34da",
   "metadata": {},
   "outputs": [],
   "source": [
    "def afin(modo,m,a,b,i=0,o=0):\n",
    "    alfabeto='abcdefghijklmnopqrstuvwxyzABCDEFGHIJKLMNOPQRSTUVWXYZ'\n",
    "    if algoritmo_euclides(a,m) == 1:\n",
    "        if modo==\"-C\":\n",
    "            cadena=read_input(i)\n",
    "            #Traducimos los caracteres a números\n",
    "            cadena_numerica=[]\n",
    "            for k in cadena:\n",
    "                if k in alfabeto: \n",
    "                    cadena_numerica.append(alfabeto.index(k))\n",
    "            cadena_cifrada=[]\n",
    "            for k in cadena_numerica:\n",
    "                cadena_cifrada.append(((a*k)+b)%m)\n",
    "            print_output(o,cadena_cifrada)\n",
    "        elif modo==\"-D\":\n",
    "            cadena_cifrada=read_input(i)\n",
    "            cadena_cifrada=cadena_cifrada.split(\", \")\n",
    "            cadena_descifrada=[]\n",
    "            cadena_texto=[]\n",
    "            inv=inverso(a,m)\n",
    "            for i in range(len(cadena_cifrada)):\n",
    "                cadena_cifrada[i]=int(cadena_cifrada[i])\n",
    "            for k in cadena_cifrada:\n",
    "                k_descifrado=gmpy2.c_mod(gmpy2.mul((k-b),inv),m)\n",
    "                if k_descifrado<0:\n",
    "                    k_descifrado=m+k_descifrado\n",
    "                cadena_descifrada.append(k_descifrado)\n",
    "                cadena_texto.append(alfabeto[k_descifrado])\n",
    "            \n",
    "            print_output(o, cadena_texto)\n",
    "    else:\n",
    "        print(\"{} y {} no son primos relativos. Error\".format(a,m))"
   ]
  },
  {
   "cell_type": "code",
   "execution_count": 12,
   "id": "dfbffa2c",
   "metadata": {},
   "outputs": [
    {
     "name": "stdout",
     "output_type": "stream",
     "text": [
      "Cadena: Hola Nueva York!\n",
      "Cadena: [34, 13, 48, 3, 16, 47, 43, 18, 3, 9, 13, 30, 25]\n"
     ]
    }
   ],
   "source": [
    "afin(\"-C\",52,23,3,\"cadena.txt\")"
   ]
  },
  {
   "cell_type": "code",
   "execution_count": 13,
   "id": "27ea3ba9",
   "metadata": {
    "scrolled": true
   },
   "outputs": [
    {
     "name": "stdout",
     "output_type": "stream",
     "text": [
      "16 y 130 no son primos relativos. Error\n"
     ]
    }
   ],
   "source": [
    "afin(\"-C\",130,16,27)"
   ]
  },
  {
   "cell_type": "code",
   "execution_count": 14,
   "id": "24513c1e",
   "metadata": {
    "scrolled": true
   },
   "outputs": [
    {
     "name": "stdout",
     "output_type": "stream",
     "text": [
      "\n",
      "Cadena: \n",
      "Cadena: []\n"
     ]
    }
   ],
   "source": [
    "afin(\"-C\",52,23,3)"
   ]
  },
  {
   "cell_type": "code",
   "execution_count": 15,
   "id": "0d6d733f",
   "metadata": {},
   "outputs": [
    {
     "name": "stdout",
     "output_type": "stream",
     "text": [
      "\n",
      "Cadena: \n"
     ]
    },
    {
     "ename": "ValueError",
     "evalue": "invalid literal for int() with base 10: ''",
     "output_type": "error",
     "traceback": [
      "\u001b[1;31m---------------------------------------------------------------------------\u001b[0m",
      "\u001b[1;31mValueError\u001b[0m                                Traceback (most recent call last)",
      "Input \u001b[1;32mIn [15]\u001b[0m, in \u001b[0;36m<cell line: 1>\u001b[1;34m()\u001b[0m\n\u001b[1;32m----> 1\u001b[0m \u001b[43mafin\u001b[49m\u001b[43m(\u001b[49m\u001b[38;5;124;43m\"\u001b[39;49m\u001b[38;5;124;43m-D\u001b[39;49m\u001b[38;5;124;43m\"\u001b[39;49m\u001b[43m,\u001b[49m\u001b[38;5;241;43m52\u001b[39;49m\u001b[43m,\u001b[49m\u001b[38;5;241;43m23\u001b[39;49m\u001b[43m,\u001b[49m\u001b[38;5;241;43m3\u001b[39;49m\u001b[43m)\u001b[49m\n",
      "Input \u001b[1;32mIn [11]\u001b[0m, in \u001b[0;36mafin\u001b[1;34m(modo, m, a, b, i, o)\u001b[0m\n\u001b[0;32m     20\u001b[0m inv\u001b[38;5;241m=\u001b[39minverso(a,m)\n\u001b[0;32m     21\u001b[0m \u001b[38;5;28;01mfor\u001b[39;00m i \u001b[38;5;129;01min\u001b[39;00m \u001b[38;5;28mrange\u001b[39m(\u001b[38;5;28mlen\u001b[39m(cadena_cifrada)):\n\u001b[1;32m---> 22\u001b[0m     cadena_cifrada[i]\u001b[38;5;241m=\u001b[39m\u001b[38;5;28;43mint\u001b[39;49m\u001b[43m(\u001b[49m\u001b[43mcadena_cifrada\u001b[49m\u001b[43m[\u001b[49m\u001b[43mi\u001b[49m\u001b[43m]\u001b[49m\u001b[43m)\u001b[49m\n\u001b[0;32m     23\u001b[0m \u001b[38;5;28;01mfor\u001b[39;00m k \u001b[38;5;129;01min\u001b[39;00m cadena_cifrada:\n\u001b[0;32m     24\u001b[0m     k_descifrado\u001b[38;5;241m=\u001b[39mgmpy2\u001b[38;5;241m.\u001b[39mc_mod(gmpy2\u001b[38;5;241m.\u001b[39mmul((k\u001b[38;5;241m-\u001b[39mb),inv),m)\n",
      "\u001b[1;31mValueError\u001b[0m: invalid literal for int() with base 10: ''"
     ]
    }
   ],
   "source": [
    "afin(\"-D\",52,23,3)"
   ]
  },
  {
   "cell_type": "code",
   "execution_count": null,
   "id": "e1cd5bc9",
   "metadata": {
    "scrolled": false
   },
   "outputs": [],
   "source": [
    "afin(\"-D\",52,23,3,\"cadena_cifrada.txt\",\"resultado.txt\")"
   ]
  },
  {
   "cell_type": "markdown",
   "id": "349e1f96",
   "metadata": {},
   "source": [
    "## 1.b Criptoanálisis del cifrado afín"
   ]
  },
  {
   "cell_type": "code",
   "execution_count": null,
   "id": "0dcd088a",
   "metadata": {},
   "outputs": [],
   "source": [
    "def phi(m):\n",
    "    if m ==1:\n",
    "        return 1\n",
    "    else:\n",
    "        if gmpy2.is_prime(m):\n",
    "            return (m-1)\n",
    "        else:\n",
    "            for i range(m):\n",
    "                gmpy2.mul(algoritmo_euclides_extendido())"
   ]
  },
  {
   "cell_type": "code",
   "execution_count": 74,
   "id": "23215917",
   "metadata": {},
   "outputs": [],
   "source": [
    "def fortaleza(m):\n",
    "    z_m_inv=sympy.totient(m) #calculamos la funcion phi\n",
    "    return gmpy2.mul((m),z_m_inv) #calculamos la fortaleza multiplicando Zm y Zm*\n"
   ]
  },
  {
   "cell_type": "code",
   "execution_count": 77,
   "id": "a3950894",
   "metadata": {},
   "outputs": [
    {
     "data": {
      "text/plain": [
       "mpz(486)"
      ]
     },
     "execution_count": 77,
     "metadata": {},
     "output_type": "execute_result"
    }
   ],
   "source": [
    "fortaleza(27)"
   ]
  },
  {
   "cell_type": "code",
   "execution_count": null,
   "id": "00f00288",
   "metadata": {},
   "outputs": [],
   "source": [
    "El cifrado afin muy vulnerable a los ataques. Principalmente al de analisis \n",
    "de frecuencias y busqueda en el espacio de claves."
   ]
  },
  {
   "cell_type": "code",
   "execution_count": null,
   "id": "af2ff443",
   "metadata": {},
   "outputs": [],
   "source": [
    "def afin_no_trivial(modo, m, a, b, i, o):\n",
    "    alfabeto='abcdefghijklmnopqrstuvwxyzABCDEFGHIJKLMNOPQRSTUVWXYZ'\n",
    "    letras='befgh'\n",
    "    val=([un, arbol, casa, esto, hey])\n",
    "    num=([1,4,5,6,7])\n",
    "    if algoritmo_euclides(a,m) == 1:\n",
    "        if modo==\"-C\":\n",
    "            cadena=read_input(i)\n",
    "            #Traducimos los caracteres a números\n",
    "            for elem in cadena:\n",
    "                if elem in letras:\n",
    "                    cadena[cadena.index(elem)]=val[letras.index(elem)]\n",
    "            cadena_numerica=[]\n",
    "            for c in cadena:\n",
    "                if \n",
    "            for k in cadena:\n",
    "                if k in alfabeto: \n",
    "                    cadena_numerica.append(alfabeto.index(k))\n",
    "            cadena_cifrada=[]\n",
    "            for k in cadena_numerica:\n",
    "                cadena_cifrada.append(((a*k)+b)%m)\n",
    "            print_output(o,cadena_cifrada)\n",
    "        elif modo==\"-D\":\n",
    "            cadena_cifrada=read_input(i)\n",
    "            cadena_cifrada=cadena_cifrada.split(\", \")\n",
    "            cadena_descifrada=[]\n",
    "            cadena_texto=[]\n",
    "            inv=inverso(a,m)\n",
    "            for i in range(len(cadena_cifrada)):\n",
    "                cadena_cifrada[i]=int(cadena_cifrada[i])\n",
    "            for k in cadena_cifrada:\n",
    "                k_descifrado=gmpy2.c_mod(gmpy2.mul((k-b),inv),m)\n",
    "                if k_descifrado<0:\n",
    "                    k_descifrado=m+k_descifrado\n",
    "                cadena_descifrada.append(k_descifrado)\n",
    "                cadena_texto.append(alfabeto[k_descifrado])\n",
    "            \n",
    "            print_output(o, cadena_texto)\n",
    "    else:\n",
    "        print(\"{} y {} no son primos relativos. Error\".format(a,m))"
   ]
  },
  {
   "cell_type": "markdown",
   "id": "5bf621cd",
   "metadata": {},
   "source": [
    "## 2. Sustitución polialfabeto"
   ]
  },
  {
   "cell_type": "markdown",
   "id": "7d89fea6",
   "metadata": {},
   "source": [
    "## 2.a Método de Hill"
   ]
  },
  {
   "cell_type": "code",
   "execution_count": 37,
   "id": "aa473852",
   "metadata": {},
   "outputs": [],
   "source": [
    "import numpy as np\n",
    "import os\n",
    "import math\n",
    "import copy"
   ]
  },
  {
   "cell_type": "code",
   "execution_count": 38,
   "id": "2c3c6e39",
   "metadata": {},
   "outputs": [],
   "source": [
    "def determinante(matriz):\n",
    "   \n",
    "    if len(matriz)==2 and len(matriz[0])==2:\n",
    "        #calculamos el determinante\n",
    "        det=matriz[0][0]*matriz[1][1]-(matriz[1][0]*matriz[0][1])\n",
    "       \n",
    "        return det\n",
    "    else:\n",
    "        suma=0\n",
    "        for i in range(len(matriz)): #calculamos el determinante por cofactores\n",
    "            maux=copy.deepcopy(matriz)\n",
    "            maux.remove(matriz[0]) #eliminamos la primera fila\n",
    "            for j in range(len(maux)):\n",
    "                maux[j]=maux[j][0:i]+maux[j][i+1:]\n",
    "                \n",
    "         \n",
    "            suma= suma+ (-1)**((i+j)%2)*matriz[0][i]*determinante(maux)\n",
    "            \n",
    "        return suma\n",
    "        "
   ]
  },
  {
   "cell_type": "code",
   "execution_count": 39,
   "id": "9177a009",
   "metadata": {},
   "outputs": [
    {
     "name": "stdout",
     "output_type": "stream",
     "text": [
      "-8\n",
      "53\n"
     ]
    }
   ],
   "source": [
    "matriz = [[1,2,3], [3,4,5], [1,4,3]]\n",
    "print(determinante(matriz))\n",
    "matriz = [[11,8], [3,7]]\n",
    "print(determinante(matriz))"
   ]
  },
  {
   "cell_type": "code",
   "execution_count": 40,
   "id": "270c9cdd",
   "metadata": {},
   "outputs": [],
   "source": [
    "def adjunto(matriz):\n",
    "    adjunto=np.zeros(np.shape(matriz))\n",
    "    if len(matriz)==2 and len(matriz[0])==2:\n",
    "         #calculamos el adjunto\n",
    "        adjunto[0][0]=matriz[1][1]\n",
    "        adjunto[0][1]=-matriz[0][1]\n",
    "        adjunto[1][0]=-matriz[1][0]\n",
    "        adjunto[1][1]=matriz[0][0]\n",
    "        \n",
    "        return adjunto\n",
    "    else:\n",
    "        \n",
    "        for i in range(len(matriz)):\n",
    "            maux=copy.deepcopy(matriz)\n",
    "            for j in range(len(matriz)):\n",
    "             \n",
    "                maux=np.delete(matriz,i,0)\n",
    "                aux=np.delete(maux,j,1)\n",
    "                auxi=aux.tolist()\n",
    "                #la matriz de cofactores transpuesta es el djunto\n",
    "                adjunto[j][i]=(-1)**((i+j)%2)*determinante(auxi)\n",
    "            \n",
    "                \n",
    "        return adjunto"
   ]
  },
  {
   "cell_type": "code",
   "execution_count": 41,
   "id": "053f1a4a",
   "metadata": {},
   "outputs": [
    {
     "name": "stdout",
     "output_type": "stream",
     "text": [
      "[[ 7. -8.]\n",
      " [-3. 11.]]\n"
     ]
    }
   ],
   "source": [
    "matriz = [[11,8], [3,7]]\n",
    "print(adjunto(matriz))"
   ]
  },
  {
   "cell_type": "code",
   "execution_count": 42,
   "id": "267c546b",
   "metadata": {},
   "outputs": [],
   "source": [
    "def inversa(matriz,modulo):\n",
    "    inversa=np.zeros(np.shape(matriz))\n",
    "    det=determinante(matriz)%modulo\n",
    "    if det !=0:\n",
    "        adj=adjunto(matriz)%modulo\n",
    "        for i in range(len(matriz)):\n",
    "            for j in range(len(matriz[i])):\n",
    "                inversa[i][j]=(adj[i][j]/det)#%modulo\n",
    "                \n",
    "    return inversa%modulo #esto puede que no sea necesario porque ya estamos en matemática modular"
   ]
  },
  {
   "cell_type": "code",
   "execution_count": 43,
   "id": "5a3dc048",
   "metadata": {},
   "outputs": [
    {
     "name": "stdout",
     "output_type": "stream",
     "text": [
      "[[ 7. 18.]\n",
      " [23. 11.]]\n"
     ]
    }
   ],
   "source": [
    "matriz = [[11,8], [3,7]]\n",
    "print(inversa(matriz,26))"
   ]
  },
  {
   "cell_type": "code",
   "execution_count": 44,
   "id": "a150397b",
   "metadata": {},
   "outputs": [
    {
     "data": {
      "text/plain": [
       "array([[ 1,  2,  3,  4],\n",
       "       [ 9, 10, 11, 12]])"
      ]
     },
     "execution_count": 44,
     "metadata": {},
     "output_type": "execute_result"
    }
   ],
   "source": [
    "arr = np.array([[1,2,3,4], [5,6,7,8], [9,10,11,12]])\n",
    "np.delete(arr, 1, 0)"
   ]
  },
  {
   "cell_type": "code",
   "execution_count": 45,
   "id": "deeb5371",
   "metadata": {
    "scrolled": true
   },
   "outputs": [
    {
     "name": "stdout",
     "output_type": "stream",
     "text": [
      "[[1, 2, 4], [3, 5, 4], [1]]\n",
      "1\n",
      "[[1, 2, 4], [3, 5, 4], [1, 0, 0]]\n"
     ]
    },
    {
     "data": {
      "text/plain": [
       "array([[1, 2, 1],\n",
       "       [0, 2, 1],\n",
       "       [1, 0, 0]], dtype=int32)"
      ]
     },
     "execution_count": 45,
     "metadata": {},
     "output_type": "execute_result"
    }
   ],
   "source": [
    "matriz = [[1, 2, 4], [3,5,4], [1]]\n",
    "\n",
    "# Padding a la matriz\n",
    "n=3\n",
    "print(matriz)\n",
    "print(len(matriz[n-1]))\n",
    "k=len(matriz[n-1])\n",
    "if k<n:\n",
    "    padding=[0]*(n)\n",
    "    for i in range(0,k):\n",
    "        padding[i]=matriz[n-1][i]\n",
    "    matriz[n-1]=padding\n",
    "  \n",
    "print(matriz)\n",
    "matriz=np.array(matriz)\n",
    "matriz%3"
   ]
  },
  {
   "cell_type": "code",
   "execution_count": 46,
   "id": "804e7442",
   "metadata": {},
   "outputs": [
    {
     "name": "stdout",
     "output_type": "stream",
     "text": [
      "[3 5 4]\n"
     ]
    }
   ],
   "source": [
    "print(matriz[1])"
   ]
  },
  {
   "cell_type": "code",
   "execution_count": 47,
   "id": "05c07b3e",
   "metadata": {},
   "outputs": [],
   "source": [
    "def cifrar(matriz_numerica, matriz,mod,n):\n",
    "    matriz_cifrada=np.zeros((n,n))\n",
    "    \n",
    "    for i in range(len(matriz_numerica)):\n",
    "        cadena_cifrada= (np.dot(matriz_numerica[i],matriz))%mod\n",
    "        matriz_cifrada[i]=cadena_cifrada\n",
    "\n",
    "    return matriz_cifrada  "
   ]
  },
  {
   "cell_type": "code",
   "execution_count": 48,
   "id": "89e0ad6a",
   "metadata": {},
   "outputs": [],
   "source": [
    "def descifrar(matriz_cifrada, matriz,mod,n):\n",
    "    matriz_descifrada=np.zeros((n,n))\n",
    "    inv=inversa(matriz,mod)\n",
    " \n",
    "    for i in range(len(matriz_cifrada)):\n",
    "        cadena_descifrada= (np.dot(matriz_cifrada[i],inv))%mod\n",
    "        matriz_descifrada[i]=cadena_descifrada\n",
    "\n",
    "    return matriz_descifrada  "
   ]
  },
  {
   "cell_type": "code",
   "execution_count": 49,
   "id": "de5e7c5f",
   "metadata": {},
   "outputs": [],
   "source": [
    "def hill(modo,mod,n,k,i=0,o=0):\n",
    "    alfabeto='abcdefghijklmnopqrstuvwxyz'\n",
    "  \n",
    "    with open(k,'r') as f:\n",
    "        datos = ''.join(f.readlines()).replace('\\n',';')\n",
    "    matriz = np.matrix(datos).tolist()\n",
    "    f.close()\n",
    "    \n",
    "    # Padding a la matriz\n",
    "    #ult=len(matriz[n-1])\n",
    "    #if ult<n:\n",
    "     #   padding=[0]*(n)\n",
    "      #  for i in range(0,k):\n",
    "       #     padding[i]=matriz[n-1][i]\n",
    "        #matriz[n-1]=padding\n",
    "    #matriz=np.array(matriz)\n",
    "   \n",
    "    det=np.linalg.det(matriz)\n",
    "    #comprobamos que la matriz K tiene una función biyectiva\n",
    "    if algoritmo_euclides(int(det),mod)==1:\n",
    "       \n",
    "        if modo==\"-C\":\n",
    "           \n",
    "            cadena=read_input(i)\n",
    "            #Traducimos los caracteres a números\n",
    "            cadena_numerica=[]\n",
    "            for k in cadena:\n",
    "                if k in alfabeto: \n",
    "                    cadena_numerica.append(alfabeto.index(k))\n",
    "                    \n",
    "            # Dividimos en bloques de n elementos el texto\n",
    "            # Si m no es múltiplo de n se añade padding\n",
    "            m=len(cadena_numerica)/n\n",
    "            max=len(cadena_numerica)\n",
    "            matriz_numerica=np.zeros((math.ceil(m),n))\n",
    "         \n",
    "            pos=0\n",
    "            for i in range(math.ceil(m)):\n",
    "                for j in range(n):\n",
    "                    if pos<max:\n",
    "                        matriz_numerica[i][j]=cadena_numerica[pos]\n",
    "                        pos=pos+1\n",
    "                        \n",
    "            #ciframos cadena a cadena y lo guardamos en un matriz           \n",
    "            matriz_cifrada=cifrar(matriz_numerica,matriz,mod,n)\n",
    "            print_output(o,matriz_cifrada)\n",
    "           \n",
    "            \n",
    "        elif modo==\"-D\":\n",
    "            if i==0:\n",
    "                cadena_cifrada=input()\n",
    "                mat_cifrada = np.matrix(cadena_cifrada).tolist()\n",
    "                matriz_cifrada= np.reshape(mat_cifrada, (n,n))\n",
    "               \n",
    "                        \n",
    "            else:\n",
    "                \n",
    "                with open(i,'r') as f:\n",
    "                    datos = ''.join(f.readlines()).replace('\\n',';')     \n",
    "                f.close()\n",
    "                \n",
    "                matriz_cifrada = np.matrix(datos).tolist() \n",
    "        \n",
    "           \n",
    "            matriz_descifrada=descifrar(matriz_cifrada, matriz,mod,n)\n",
    "            \n",
    "            cadena_num=[]*n*n\n",
    "            for i in range(len(matriz_descifrada)):\n",
    "                for j in range(len(matriz_descifrada[i])):\n",
    "                    \n",
    "                    if matriz_descifrada[i][j]<0:\n",
    "                        matriz_descifrada[i][j]=mod+matriz_descifrada[i][j]\n",
    "        \n",
    "                    cadena_num.append(alfabeto[int(matriz_descifrada[i][j])])\n",
    "            print_output(o,cadena_num)\n",
    "            \n",
    "    else:\n",
    "        print(\"{} y {} no son primos relativos. Error\".format(det,mod))"
   ]
  },
  {
   "cell_type": "code",
   "execution_count": 55,
   "id": "9b9f563c",
   "metadata": {},
   "outputs": [
    {
     "name": "stdout",
     "output_type": "stream",
     "text": [
      "Cadena: ['h', 'o', 'l', 'a']\n"
     ]
    }
   ],
   "source": [
    "k = [[11,8], [3,7]]\n",
    "hill(\"-D\",26, 2,\"matriz_k.txt\",\"matriz_cifrada.txt\" ,0)"
   ]
  },
  {
   "cell_type": "code",
   "execution_count": 58,
   "id": "1847b014",
   "metadata": {},
   "outputs": [
    {
     "name": "stdout",
     "output_type": "stream",
     "text": [
      "hola\n",
      "Cadena: hola\n",
      "Cadena: [[15. 24.]\n",
      " [17. 10.]]\n"
     ]
    }
   ],
   "source": [
    "hill(\"-C\",26,2, \"matriz_k.txt\", 0,0 )"
   ]
  },
  {
   "cell_type": "code",
   "execution_count": 52,
   "id": "7cbc5687",
   "metadata": {},
   "outputs": [
    {
     "name": "stdout",
     "output_type": "stream",
     "text": [
      "matriz_numerica\n",
      "[[ 8. 15.]\n",
      " [12.  1.]]\n",
      "matriz cifrada\n",
      "[[ 3. 13.]\n",
      " [ 5. 25.]]\n",
      "[[ 8. 15.]\n",
      " [12.  1.]]\n",
      "matriz descifrada\n",
      "['h', 'o', 'l', 'a']\n"
     ]
    }
   ],
   "source": [
    "cadena_numerica=[8,15,12,1]\n",
    "matriz = [[11,8], [3,7]]\n",
    "n=2\n",
    "\n",
    "m=len(cadena_numerica)/n\n",
    "max=len(cadena_numerica)\n",
    "matriz_numerica=np.zeros((math.ceil(m),n))\n",
    "\n",
    "pos=0\n",
    "for i in range(math.ceil(m)):\n",
    "\n",
    "    for j in range(n):\n",
    "        \n",
    "        if pos<max:\n",
    "           \n",
    "            matriz_numerica[i][j]=cadena_numerica[pos]\n",
    "            pos=pos+1\n",
    "            \n",
    "print(\"matriz_numerica\")\n",
    "print(matriz_numerica)   \n",
    "\n",
    "matriz_cifrada=cifrar(matriz_numerica, matriz,26,n)\n",
    "print(\"matriz cifrada\")\n",
    "print(cifrar(matriz_numerica, matriz,26,n))\n",
    "\n",
    "print(descifrar(matriz_cifrada, matriz,26,n))\n",
    "print(\"matriz descifrada\")\n",
    "matriz_descifrada=descifrar(matriz_cifrada, matriz,26,n)\n",
    "alfabeto='abcdefghijklmnopqrstuvwxyz'\n",
    "cadena_num=[]*n*n\n",
    "for i in range(len(matriz_descifrada)):\n",
    "    for j in range(len(matriz_descifrada[i])):\n",
    "        if matriz_descifrada[i][j]<0:\n",
    "            matriz_descifrada[i][j]=26+matriz_descifrada[i][j]\n",
    "        cadena_num.append(alfabeto[int(matriz_descifrada[i][j])-1])\n",
    "print(cadena_num)"
   ]
  },
  {
   "cell_type": "code",
   "execution_count": 53,
   "id": "c180731e",
   "metadata": {},
   "outputs": [
    {
     "name": "stdout",
     "output_type": "stream",
     "text": [
      "[[11  8]\n",
      " [ 3  7]]\n"
     ]
    }
   ],
   "source": [
    "with open('matriz_k.txt','r') as f:\n",
    "    datos = ''.join(f.readlines()).replace('\\n',';')\n",
    "\n",
    "matriz = np.matrix(datos)\n",
    "print(matriz)"
   ]
  },
  {
   "cell_type": "markdown",
   "id": "9c79aa8d",
   "metadata": {},
   "source": [
    "## 2.b Método de Vigenere"
   ]
  },
  {
   "cell_type": "code",
   "execution_count": null,
   "id": "f58f0ae6",
   "metadata": {},
   "outputs": [],
   "source": [
    "def vigenere(modo,k,i=0,o=0):\n",
    "    alfabeto='abcdefghijklmnopqrstuvwxyzABCDEFGHIJKLMNOPQRSTUVWXYZ'\n",
    "    base=len(alfabeto)\n",
    "    n=len(k)\n",
    "    #Traducimos la clave de caracteres a números\n",
    "    k_numerica=[]\n",
    "    for j in k:\n",
    "        if j in alfabeto: \n",
    "            k_numerica.append(alfabeto.index(j))\n",
    "    if modo==\"-C\":\n",
    "        cadena=read_input(i)\n",
    "        # Traducimos los caracteres a números\n",
    "        cadena_numerica=[]\n",
    "        for k in cadena:\n",
    "            if k in alfabeto: \n",
    "                cadena_numerica.append(alfabeto.index(k))\n",
    "        # Dividimos en bloques de n elementos el input\n",
    "        # Si m no es múltiplo de n se añade padding\n",
    "        m=len(cadena_numerica)/n\n",
    "        maxi=len(cadena_numerica)\n",
    "        matriz_numerica=np.zeros((math.ceil(m),n))\n",
    "        pos=0\n",
    "        for i in range(math.ceil(m)):\n",
    "            for j in range(n):\n",
    "                if pos<maxi:\n",
    "                    matriz_numerica[i][j]=cadena_numerica[pos]\n",
    "                    pos=pos+1\n",
    "        # Tenemos una matriz que tenemos que cifrar. \n",
    "        # Cada bloque es una fila de la matriz\n",
    "        filas=matriz_numerica.shape[0]\n",
    "        elementos=matriz_numerica.shape[1]\n",
    "        #print(\"Matriz numerica\")\n",
    "        #print(matriz_numerica)\n",
    "        matriz_cifrada=np.zeros((filas,elementos))\n",
    "        #print(\"Matriz cifrada de ceros\")\n",
    "        #print(matriz_cifrada)\n",
    "        if elementos==n:\n",
    "            print(\"Bloques ok\")\n",
    "        for i in range(filas):\n",
    "            for j in range(elementos):\n",
    "                matriz_cifrada[i][j]=(matriz_numerica[i][j]+k_numerica[j])%base\n",
    "        #print(\"Matriz cifrada\")\n",
    "        #print(matriz_cifrada)\n",
    "        cadena_cifrada=np.concatenate(matriz_cifrada)\n",
    "        #print(cadena_cifrada)\n",
    "        print_output(o,cadena_cifrada)\n",
    "    elif modo==\"-D\":\n",
    "        cadena_cifrada=read_input(i)\n",
    "        cadena_cifrada=cadena_cifrada.split(\" \")\n",
    "        #for i in range(len(cadena_cifrada)):\n",
    "        #   cadena_cifrada[i]=int(cadena_cifrada[i])\n",
    "        # Dividimos en bloques de n elementos el texto cifrado\n",
    "        # Si m no es múltiplo de n se añade padding\n",
    "        m=len(cadena_cifrada)/n\n",
    "        maxi=len(cadena_cifrada)\n",
    "        matriz_cifrada=np.zeros((math.ceil(m),n))\n",
    "        pos=0\n",
    "        for i in range(math.ceil(m)):\n",
    "            for j in range(n):\n",
    "                if pos<maxi:\n",
    "                    matriz_cifrada[i][j]=cadena_cifrada[pos]\n",
    "                    pos=pos+1\n",
    "        # Tenemos una matriz que tenemos que descifrar. \n",
    "        # Cada bloque es una fila de la matriz\n",
    "        filas=matriz_cifrada.shape[0]\n",
    "        elementos=matriz_cifrada.shape[1]\n",
    "        matriz_descifrada=np.zeros((filas,elementos))\n",
    "        if elementos==n:\n",
    "            print(\"Bloques ok\")\n",
    "        for i in range(filas):\n",
    "            for j in range(elementos):\n",
    "                matriz_descifrada[i][j]=(matriz_cifrada[i][j]-k_numerica[j])%base\n",
    "        cadena_descifrada=np.concatenate(matriz_descifrada)\n",
    "        cadena_texto=[]\n",
    "        for i in range(len(cadena_descifrada)):\n",
    "            #cadena_cifrada[i]=int(cadena_cifrada[i])\n",
    "            cadena_texto.append(alfabeto[int(cadena_descifrada[i])])\n",
    "        print_output(o,cadena_texto)"
   ]
  },
  {
   "cell_type": "code",
   "execution_count": null,
   "id": "ead14d27",
   "metadata": {},
   "outputs": [],
   "source": [
    "vigenere(\"-C\", \"clave\")"
   ]
  },
  {
   "cell_type": "code",
   "execution_count": null,
   "id": "907b2b4a",
   "metadata": {},
   "outputs": [],
   "source": [
    "vigenere(\"-D\", \"clave\")\n"
   ]
  },
  {
   "cell_type": "code",
   "execution_count": null,
   "id": "e54fdffa",
   "metadata": {},
   "outputs": [],
   "source": [
    "vigenere(\"-C\", \"clave\", \"texto_vigenere.txt\", \"resultado_vigenere.txt\")"
   ]
  },
  {
   "cell_type": "code",
   "execution_count": null,
   "id": "78cd3442",
   "metadata": {},
   "outputs": [],
   "source": [
    "vigenere(\"-D\", \"clave\", \"resultado_vigenere.txt\", \"descifrado_vigenere.txt\")"
   ]
  },
  {
   "cell_type": "markdown",
   "id": "a1f492f4",
   "metadata": {},
   "source": [
    "## 2.c Criptoanálisis del cifrado de Vigenere"
   ]
  },
  {
   "cell_type": "code",
   "execution_count": null,
   "id": "337ef115",
   "metadata": {},
   "outputs": [],
   "source": []
  },
  {
   "cell_type": "markdown",
   "id": "27a3b33e",
   "metadata": {},
   "source": [
    "## 3. Cifrado de flujo"
   ]
  },
  {
   "cell_type": "code",
   "execution_count": null,
   "id": "3ec5d312",
   "metadata": {},
   "outputs": [],
   "source": [
    "def rec_fib(n):\n",
    "    if n > 1:\n",
    "        return rec_fib(n-1) + rec_fib(n-2)\n",
    "    return n"
   ]
  },
  {
   "cell_type": "code",
   "execution_count": null,
   "id": "829d7d31",
   "metadata": {},
   "outputs": [],
   "source": [
    "# Generador de secuencia aleatoria\n",
    "def generador_aleatorio(m,cont):\n",
    "    k=(rec_fib(m)%m)*m*cont\n",
    "    return k"
   ]
  },
  {
   "cell_type": "code",
   "execution_count": null,
   "id": "3cc1ff34",
   "metadata": {
    "scrolled": true
   },
   "outputs": [],
   "source": [
    "# Ejemplo de secuencia cifrante de 5 elementos para clave 14\n",
    "m=14\n",
    "for i in range(5):\n",
    "    k=generador_aleatorio(m,i)\n",
    "    print(k)"
   ]
  },
  {
   "cell_type": "code",
   "execution_count": null,
   "id": "d505e0fe",
   "metadata": {},
   "outputs": [],
   "source": [
    "# m es la clave\n",
    "# n es el tamaño de la secuencia de claves\n",
    "def flujo(modo,m,n,i=0,o=0):\n",
    "    alfabeto='abcdefghijklmnopqrstuvwxyzABCDEFGHIJKLMNOPQRSTUVWXYZ'\n",
    "    if modo==\"-C\":\n",
    "        cadena=read_input(i)\n",
    "        # Traducimos los caracteres a números\n",
    "        cadena_numerica=[]\n",
    "        for k in cadena:\n",
    "            if k in alfabeto: \n",
    "                cadena_numerica.append(alfabeto.index(k))\n",
    "        # Ciframos carácter a carácter\n",
    "        cadena_cifrada=[]\n",
    "        count=0\n",
    "        for i in cadena_numerica:\n",
    "            if count<n:\n",
    "                k=generador_aleatorio(m,count)\n",
    "            else:\n",
    "                k=generador_aleatorio(m,count-n)\n",
    "            cadena_cifrada.append(int(bin(i^k)[2:]))\n",
    "            count=count+1\n",
    "        print_output(o,cadena_cifrada)\n",
    "    elif modo==\"-D\":\n",
    "        cadena_cifrada=read_input(i)\n",
    "        cadena_cifrada=cadena_cifrada.split(\" \")\n",
    "        cadena_descifrada=[]\n",
    "        cadena_texto=[]\n",
    "        for i in range(len(cadena_cifrada)):\n",
    "            cadena_cifrada[i]=int(cadena_cifrada[i],2)\n",
    "        count=0\n",
    "        for i in cadena_cifrada:\n",
    "            if count<n:\n",
    "                k=generador_aleatorio(m,count)\n",
    "            else:\n",
    "                k=generador_aleatorio(m,count-n)\n",
    "            cadena_descifrada.append((i^k))\n",
    "            count=count+1\n",
    "        for i in range(len(cadena_descifrada)):\n",
    "            cadena_texto.append(alfabeto[int(cadena_descifrada[i])])\n",
    "        print_output(o,cadena_texto)"
   ]
  },
  {
   "cell_type": "code",
   "execution_count": null,
   "id": "1fcf9647",
   "metadata": {},
   "outputs": [],
   "source": [
    "flujo(\"-C\", 4,2)"
   ]
  },
  {
   "cell_type": "code",
   "execution_count": null,
   "id": "1ffa7fe5",
   "metadata": {},
   "outputs": [],
   "source": [
    "flujo(\"-D\", 4,2)"
   ]
  },
  {
   "cell_type": "code",
   "execution_count": null,
   "id": "ce0130bb",
   "metadata": {
    "scrolled": true
   },
   "outputs": [],
   "source": [
    "flujo(\"-C\", 10,20)"
   ]
  },
  {
   "cell_type": "code",
   "execution_count": null,
   "id": "995b8540",
   "metadata": {},
   "outputs": [],
   "source": [
    "flujo(\"-D\", 10, 20)"
   ]
  },
  {
   "cell_type": "code",
   "execution_count": null,
   "id": "092b5777",
   "metadata": {},
   "outputs": [],
   "source": []
  }
 ],
 "metadata": {
  "kernelspec": {
   "display_name": "Python 3 (ipykernel)",
   "language": "python",
   "name": "python3"
  },
  "language_info": {
   "codemirror_mode": {
    "name": "ipython",
    "version": 3
   },
   "file_extension": ".py",
   "mimetype": "text/x-python",
   "name": "python",
   "nbconvert_exporter": "python",
   "pygments_lexer": "ipython3",
   "version": "3.9.12"
  }
 },
 "nbformat": 4,
 "nbformat_minor": 5
}
