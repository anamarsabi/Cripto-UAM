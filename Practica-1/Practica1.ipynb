{
 "cells": [
  {
   "cell_type": "markdown",
   "id": "f9952fdd",
   "metadata": {},
   "source": [
    "# Práctica 1: Criptografía clásica\n",
    "\n",
    "## Fundamentos de Criptografía y Seguridad Informática\n",
    "## UAM, 2022/2023\n",
    "\n",
    "### Maitane Gómez González\n",
    "### Ana Martínez Sabiote"
   ]
  },
  {
   "cell_type": "markdown",
   "id": "505bca20",
   "metadata": {},
   "source": [
    "El lenguaje elegido para la implementación de esta práctica ha sido Python. La memoria de la práctica y el código en Python desarrollado están contenidos en este notebook. Se entrega tanto en formato .pdf para su lectura, como el fichero .ipynb, que permite la ejecución del código en Jupyter Notebook."
   ]
  },
  {
   "cell_type": "markdown",
   "id": "14e31d52",
   "metadata": {},
   "source": [
    "## 1. Sustitución monoalfabeto"
   ]
  },
  {
   "cell_type": "markdown",
   "id": "65d4723f",
   "metadata": {},
   "source": [
    "## 1.a Método afín\n",
    "\n",
    "Para implementar el método afín, al igual que para la mayoría de los demás cifrados de la práctica, utilizamos un alfabeto formato por todos los caracteres en minúsculas y todos los caracteres en mayúsculas. Por tanto, un alfabeto de 52 elementos. Si una cadena contiene además símbolos que no están contemplados en nuestro alfabeto, éstos no se tienen en cuenta. \n",
    "\n",
    "Para el desarrollo de este apartado hemos implementado las siguientes funciones\n",
    "- La función *algoritmo_euclides(a,b)* que calcula el máximo común divisor de los dos números pasados como parámetros de manera recursiva.\n",
    "- La función *algoritmo_euclides_extendido(a,b)* que aplica el algoritmo de extendido de Euclides que hemos estudiado. Esta función recibe dos números *a* y *b* como parámetros y devuelve el máximo común divisor de ellos, *u* y *v*, los coeficientes de la Identidad de Bézout: **1=a\\*u + b\\*v**. Por tanto con esta función obtenemos el inverso de *a* módulo *b*, que es *u* y recíprocamente, el inverso de *b* mod *a*, que es *v*.\n",
    "- La función *inverso(a,m)*, que calcula el inverso multiplicativo de *a* módulo *m* si *a* y *m* son primos relativos.\n"
   ]
  },
  {
   "cell_type": "code",
   "execution_count": 17,
   "id": "eaebc2e3",
   "metadata": {
    "scrolled": true
   },
   "outputs": [],
   "source": [
    "import gmpy2\n",
    "from gmpy2 import mpz\n",
    "import sympy\n",
    "import numpy as np"
   ]
  },
  {
   "cell_type": "code",
   "execution_count": 19,
   "id": "912d32d4",
   "metadata": {},
   "outputs": [],
   "source": [
    "def algoritmo_euclides(a,b):\n",
    "    if gmpy2.t_mod(a,b) == 0:\n",
    "        return b\n",
    "    else:\n",
    "        return algoritmo_euclides(b, gmpy2.t_mod(a,b))"
   ]
  },
  {
   "cell_type": "code",
   "execution_count": 20,
   "id": "fcdb17ab",
   "metadata": {
    "scrolled": true
   },
   "outputs": [
    {
     "name": "stdout",
     "output_type": "stream",
     "text": [
      "3\n"
     ]
    }
   ],
   "source": [
    "mcd=algoritmo_euclides(39,150)\n",
    "print(mcd)"
   ]
  },
  {
   "cell_type": "code",
   "execution_count": 21,
   "id": "b353eca6",
   "metadata": {},
   "outputs": [
    {
     "data": {
      "text/plain": [
       "mpz(1)"
      ]
     },
     "execution_count": 21,
     "metadata": {},
     "output_type": "execute_result"
    }
   ],
   "source": [
    "algoritmo_euclides(7,15)"
   ]
  },
  {
   "cell_type": "code",
   "execution_count": 23,
   "id": "5dc05ac1",
   "metadata": {},
   "outputs": [],
   "source": [
    "def algoritmo_euclides_extendido(a,b):\n",
    "    \"\"\"\n",
    "    # Condición a>b, sino las cambiamos\n",
    "    if b>a:\n",
    "        aux=a\n",
    "        a=b\n",
    "        b=aux\n",
    "    \"\"\"\n",
    "    # Identidad de Bézout 1=u*a + v*b\n",
    "    # El inverso de a módulo b es u. Recíprocamente, el inverso de b mod a es v\n",
    "    if a==0:\n",
    "        mcd=b\n",
    "        u=0\n",
    "        v=1\n",
    "    else:\n",
    "        mcd, x, y = algoritmo_euclides_extendido(gmpy2.c_mod(b,a), a)\n",
    "        u=gmpy2.sub(y,(gmpy2.mul(gmpy2.c_div(b,a),x)))\n",
    "        v=x\n",
    "        \n",
    "    return mcd, u, v"
   ]
  },
  {
   "cell_type": "code",
   "execution_count": 24,
   "id": "cc975e3d",
   "metadata": {},
   "outputs": [],
   "source": [
    "def inverso(a,m):\n",
    "    result = algoritmo_euclides_extendido(a,m)\n",
    "    # Comprobamos que el mcd es 1 para que exista inverso multiplicativo\n",
    "    # En consecuencia, a y m determinan una función afín inyectiva\n",
    "    if result[0] == 1:\n",
    "        # Entonces devolvemos el coeficiente u (que acompaña a) de la Id. de Bézout\n",
    "        inv=result[1]\n",
    "        return inv\n",
    "    else:\n",
    "        print(\"Error\")"
   ]
  },
  {
   "cell_type": "code",
   "execution_count": 25,
   "id": "14f2c323",
   "metadata": {
    "scrolled": true
   },
   "outputs": [
    {
     "data": {
      "text/plain": [
       "mpz(-9)"
      ]
     },
     "execution_count": 25,
     "metadata": {},
     "output_type": "execute_result"
    }
   ],
   "source": [
    "inverso(51,23)"
   ]
  },
  {
   "cell_type": "markdown",
   "id": "fdae170f",
   "metadata": {},
   "source": [
    "Las siguientes dos funciones: *read_input* y *read_output* se utilizarán a lo largo de todos los ejercicios de esta práctica para gestionar el comportamiento de entrada y salida requerido. \n",
    "\n",
    "- *read_input(i)* lee por la entrada estándar si el parámetro *i* es nulo. De lo contrario, abre el fichero pasado como parámetro.\n",
    "- *read_output(o, cadena)* imprime el parámetro *cadena* por la entrada estándar si el parámetro *o* es nulo. De lo contrario, escribe  *cadena* en el fichero *o*, y si no existe, lo crea."
   ]
  },
  {
   "cell_type": "code",
   "execution_count": 26,
   "id": "721d1ca5",
   "metadata": {},
   "outputs": [],
   "source": [
    "def read_input(i):\n",
    "    # Primero tomamos el input de i o de la entrada estándar\n",
    "    if i==0:\n",
    "        cadena=input()\n",
    "    else:\n",
    "        file=open(i, \"r\")\n",
    "        cadena=file.read()\n",
    "        file.close()\n",
    "    \n",
    "    if len(cadena)<50:\n",
    "        print(\"Cadena: {}\".format(cadena))\n",
    "    return cadena"
   ]
  },
  {
   "cell_type": "code",
   "execution_count": 27,
   "id": "d0ca9f79",
   "metadata": {},
   "outputs": [],
   "source": [
    "def print_output(o,cadena):\n",
    "    if o==0:\n",
    "        print(\"Cadena: {}\".format(cadena))\n",
    "    else:\n",
    "        file=open(o, \"w\")\n",
    "        cadenaToStr = ' '.join([str(elem) for elem in cadena])\n",
    "        file.write(cadenaToStr)\n",
    "        file.close()"
   ]
  },
  {
   "cell_type": "markdown",
   "id": "1f3bd3da",
   "metadata": {},
   "source": [
    "La siguiente función implementa el método afín.\n",
    "\n",
    "La llamada a la función:\n",
    "\n",
    "**afin {-C|-D} {-m |Zm|} {-a N×} {-b N+} [-i filein] [-o fileout]**\n",
    "\n",
    "- -C el programa cifra\n",
    "- -D el programa descifra\n",
    "- -m tamaño del espacio de texto cifrado\n",
    "- -a coeficiente multiplicativo de la función afín\n",
    "- -b término constante de la función afín\n",
    "- -i fichero de entrada\n",
    "- -o fichero de salida\n",
    "\n",
    "Como estamos trabajando con funciones de Python en celdas de Jupyter notebook, no con scripts, la llamada de la función se realiza en una celda así: afin(modo,m,a,b,i,o), indicando como modo *-C* o *-D*, *m*, *a*, *b* como enteros y *i*, *o* se introducen opcionalmente: si no se especifican, por defecto realiza la operación (entrada o salida) con la estándar y si se especifican, se trabaja con los ficheros proporcionados. \n",
    "\n",
    "Los parámetros *a* y *m* deben ser primos relativos, es la primera condición que verifica nuestra función. Si lo son, continúa con el algoritmo de cifrado o descifrado, según se haya especificado en la llamada. Además, *m* debe se la longitud de nuestro alfabeto.\n",
    "\n",
    "El esquema de funcionamiento que sigue este método y los demás métodos de la práctica es:\n",
    "\n",
    "1. Traducimos el input de caracteres a números enteros utilizando nuestro alfabeto de 52 elementos.\n",
    "2. Aplicamos el mecanismo de cifrado o descifrado sobre la cadena numérica. En este caso el del cifrado afín.\n",
    "3. Obtenemos una cadena cifrada numérica, que pasamos de números a caracteres usando nuestro alfabeto.\n"
   ]
  },
  {
   "cell_type": "code",
   "execution_count": 28,
   "id": "d60e34da",
   "metadata": {},
   "outputs": [],
   "source": [
    "def afin(modo,m,a,b,i=0,o=0):\n",
    "    alfabeto='abcdefghijklmnopqrstuvwxyzABCDEFGHIJKLMNOPQRSTUVWXYZ'\n",
    "    if algoritmo_euclides(a,m) == 1:\n",
    "        if modo==\"-C\":\n",
    "            cadena=read_input(i)\n",
    "            #Traducimos los caracteres a números\n",
    "            cadena_numerica=[]\n",
    "            for k in cadena:\n",
    "                if k in alfabeto: \n",
    "                    cadena_numerica.append(alfabeto.index(k))\n",
    "            cadena_cifrada=[]\n",
    "            for k in cadena_numerica:\n",
    "                cadena_cifrada.append(((a*k)+b)%m)\n",
    "            \n",
    "            #Traducimos la cadena_cifrada numérica a caracteres\n",
    "            resul=\"\"\n",
    "            for i in range(len(cadena_cifrada)):\n",
    "                   resul=resul+alfabeto[cadena_cifrada[i]]\n",
    "                    \n",
    "            print_output(o,resul)\n",
    "            \n",
    "        elif modo==\"-D\":\n",
    "            \n",
    "            cadena_cifrada=read_input(i)\n",
    "            \n",
    "            #Traducimos los caracteres a números\n",
    "            cadena_numerica=[]\n",
    "            for k in cadena_cifrada:\n",
    "                if k in alfabeto: \n",
    "                    cadena_numerica.append(alfabeto.index(k))\n",
    "                    \n",
    "            cadena_descifrada=[]\n",
    "            cadena_texto=\"\"\n",
    "            #inv=inverso(m,a)\n",
    "            inv=pow(a, -1, m)\n",
    "            print(inv)\n",
    "            for i in range(len(cadena_numerica)):\n",
    "                cadena_numerica[i]=int(cadena_numerica[i])\n",
    "                \n",
    "            for k in cadena_numerica:\n",
    "                k_descifrado=gmpy2.c_mod(gmpy2.mul((k-b),inv),m)\n",
    "                if k_descifrado<0:\n",
    "                    k_descifrado=m+k_descifrado\n",
    "                cadena_descifrada.append(k_descifrado)\n",
    "                cadena_texto=cadena_texto+alfabeto[k_descifrado]\n",
    "            \n",
    "            print_output(o, cadena_texto)\n",
    "    else:\n",
    "        print(\"{} y {} no son primos relativos. Error\".format(a,m))"
   ]
  },
  {
   "cell_type": "code",
   "execution_count": 29,
   "id": "dfbffa2c",
   "metadata": {
    "scrolled": true
   },
   "outputs": [
    {
     "name": "stdout",
     "output_type": "stream",
     "text": [
      "Cadena: Hola Nueva York!\n"
     ]
    }
   ],
   "source": [
    "afin(\"-C\",51,23,3,\"cadena.txt\",\"cadena_cifrada.txt\")"
   ]
  },
  {
   "cell_type": "code",
   "execution_count": 30,
   "id": "fc89ba63",
   "metadata": {},
   "outputs": [
    {
     "name": "stdout",
     "output_type": "stream",
     "text": [
      "Cadena: W t b d H e S B d F t L D\n",
      "20\n",
      "Cadena: HolaNuevaYork\n"
     ]
    }
   ],
   "source": [
    "afin(\"-D\",51,23,3, \"cadena_cifrada.txt\")"
   ]
  },
  {
   "cell_type": "code",
   "execution_count": 31,
   "id": "27ea3ba9",
   "metadata": {
    "scrolled": true
   },
   "outputs": [
    {
     "name": "stdout",
     "output_type": "stream",
     "text": [
      "16 y 130 no son primos relativos. Error\n"
     ]
    }
   ],
   "source": [
    "afin(\"-C\",130,16,27)"
   ]
  },
  {
   "cell_type": "code",
   "execution_count": 32,
   "id": "24513c1e",
   "metadata": {
    "scrolled": true
   },
   "outputs": [
    {
     "name": "stdout",
     "output_type": "stream",
     "text": [
      "Universidad Autonoma de Madrid\n",
      "Cadena: Universidad Autonoma de Madrid\n",
      "Cadena: LqcsbrEcNaNGfRDqDdaNbJaNrcN\n"
     ]
    }
   ],
   "source": [
    "afin(\"-C\",51,13,0)"
   ]
  },
  {
   "cell_type": "code",
   "execution_count": 33,
   "id": "0d6d733f",
   "metadata": {},
   "outputs": [
    {
     "name": "stdout",
     "output_type": "stream",
     "text": [
      "LqcsbrEcNaNGfRDqDdaNbJaNrcN\n",
      "Cadena: LqcsbrEcNaNGfRDqDdaNbJaNrcN\n",
      "4\n",
      "Cadena: UniversidadAutonomadeMadrid\n"
     ]
    }
   ],
   "source": [
    "afin(\"-D\",51,13,0)"
   ]
  },
  {
   "cell_type": "markdown",
   "id": "349e1f96",
   "metadata": {},
   "source": [
    "## 1.b Criptoanálisis del cifrado afín"
   ]
  },
  {
   "cell_type": "markdown",
   "id": "45aa5914",
   "metadata": {},
   "source": [
    "Nuestro afin no trivial se basa en aumentar el tamaño de la clave. Hemos decidido cambiar el tamaño de la base y cifrarlo en bigramas. Lo que nos daría un espacio de 676.Con el afín normal, en nuestro caso, obteniamos uno de 52. \n",
    "\n",
    "Como se puede observar en la función fortaleza y en su ejecución el normal nos daría 128 claves y el no trivial 11545444563871328761349212098135488565445348609393477048015277366400000000. \n",
    "\n"
   ]
  },
  {
   "cell_type": "code",
   "execution_count": 34,
   "id": "23215917",
   "metadata": {},
   "outputs": [],
   "source": [
    "def fortaleza(m):\n",
    "    z_m_inv=sympy.totient(m) #calculamos la funcion phi\n",
    "    return gmpy2.mul((m),z_m_inv) #calculamos la fortaleza multiplicando Zm y Zm*\n"
   ]
  },
  {
   "cell_type": "code",
   "execution_count": 35,
   "id": "a3950894",
   "metadata": {},
   "outputs": [
    {
     "name": "stdout",
     "output_type": "stream",
     "text": [
      "11545444563871328761349212098135488565445348609393477048015277366400000000\n",
      "1248\n"
     ]
    }
   ],
   "source": [
    "print(fortaleza(26**26+26))\n",
    "#fortaleza(26) este seria el resultado si no aceptaramos mayúsculas\n",
    "print(fortaleza(52))\n"
   ]
  },
  {
   "cell_type": "code",
   "execution_count": 36,
   "id": "05293d17",
   "metadata": {},
   "outputs": [],
   "source": [
    "alfabeto='abcdefghijklmnopqrstuvwxyz'\n",
    "digrama=([])\n",
    "for i in alfabeto:\n",
    "    for j in alfabeto:\n",
    "        digrama.append(i+j)\n",
    "\n"
   ]
  },
  {
   "cell_type": "markdown",
   "id": "73001553",
   "metadata": {},
   "source": [
    "El siguiente programa implementa el método afín no trivial.\n",
    "\n",
    "Llamada a la función:\n",
    "\n",
    "afin_no_trivial {-C|-D} {-m |Zm|} {-a N×} {-b N+} [-i filein] [-o fileout]\n",
    "\n",
    "- -C el programa cifra\n",
    "- -D el programa descifra\n",
    "- -m tamaño del espacio de texto cifrado\n",
    "- -a coeficiente multiplicativo de la función afín\n",
    "- -b término constante de la función afín\n",
    "- -i fichero de entrada\n",
    "- -o fichero de salida\n",
    "\n",
    "En este programa utilizamos un alfabeto de 26 elementos, las letras del abecedario en minúsculas\n"
   ]
  },
  {
   "cell_type": "code",
   "execution_count": 37,
   "id": "af2ff443",
   "metadata": {},
   "outputs": [],
   "source": [
    "def afin_no_trivial(modo,m,a,b,i=0,o=0):\n",
    "    alfabeto='abcdefghijklmnopqrstuvwxyz'\n",
    "    digrama=([]) #generamos un vetor de di-gramas del alfabeto que hemos declarado arriba\n",
    "    for k in alfabeto:\n",
    "        for j in alfabeto:\n",
    "            digrama.append(k+j)\n",
    "    \n",
    "    if algoritmo_euclides(a,m) == 1:\n",
    "        if modo==\"-C\":\n",
    "            #obtenemos el texto claro, si no se ha pasado por parámetro, se obtine de teclado\n",
    "            cadena=read_input(i)\n",
    "            #if i==0:\n",
    "            #cadena=input()\n",
    "            #cadena=read_input(i)\n",
    "            #else:\n",
    "            #    file=open(i, \"r\")\n",
    "             #   cadena=file.read()\n",
    "              #  file.close()\n",
    "            \n",
    "            #Traducimos los caracteres a números para poder operar\n",
    "            cadena_numerica=[]\n",
    "            j=0\n",
    "            if len(cadena)%2==0:\n",
    "                while j <(len(cadena)-1):\n",
    "                    cadena_numerica.append(digrama.index(cadena[j]+cadena[j+1]))\n",
    "                    j=j+2\n",
    "            else:\n",
    "                while j <(len(cadena)-2):\n",
    "                    cadena_numerica.append(digrama.index(cadena[j]+cadena[j+1]))\n",
    "                    j=j+2\n",
    "                cadena_numerica.append(alfabeto.index(cadena[len(cadena)-1])) #como es impar, la última letra la ciframos aparte\n",
    "            \n",
    "            #utilizamos la función de cifrado\n",
    "            cadena_cifrada=[]\n",
    "            for k in cadena_numerica:\n",
    "                cadena_cifrada.append(((a*k)+b)%m)\n",
    "            \n",
    "            #pasamos el resultado a caracteres y lo guardamos como string\n",
    "            resul=\"\"\n",
    "            for k in cadena_cifrada:\n",
    "                resul=resul+digrama[k]\n",
    "          \n",
    "            #si no se ha pasado un fichero de salida por parámetro, imprimimos el resultado\n",
    "            print_output(o,resul)\n",
    "            \n",
    "        elif modo==\"-D\":\n",
    "            \n",
    "            cadena_cifrada=read_input(i)\n",
    "            #cadena_cifrada=input()\n",
    "    \n",
    "            cadena_descifrada=[]\n",
    "            cadena_texto=\"\"\n",
    "            \n",
    "             #obtenemos el texto claro, si no se ha pasado por parámetro, se obtine de teclado\n",
    "            #if i==0:\n",
    "             #    cadena_cifrada=input()\n",
    "            #cadena=read_input(i)\n",
    "            #else:\n",
    "             #   file=open(i, \"r\")\n",
    "             #   cadena_cifrada=file.read()\n",
    "              #  file.close()\n",
    "                \n",
    "            #obtenemos el inverso en el modulo para poder utilizar la función de descifrado\n",
    "            #ya hemos comprobado al principio que el inverso existe.\n",
    "           \n",
    "            #inv=inverso(a,m)\n",
    "            inv=pow(a, -1, m)\n",
    "            \n",
    "            #pasamos el texto a un formato numérico para poder operar\n",
    "            cadena_numerica=[]\n",
    "            j=0\n",
    "            if len(cadena_cifrada)%2==0:\n",
    "                while j <(len(cadena_cifrada)-1):\n",
    "                    cadena_numerica.append(digrama.index(cadena_cifrada[j]+cadena_cifrada[j+1]))\n",
    "                    j=j+2\n",
    "            else:\n",
    "                while j <(len(cadena_cifrada)-2):\n",
    "                    cadena_numerica.append(digrama.index(cadena_cifrada[j]+cadena_cifrada[j+1]))\n",
    "                    j=j+2\n",
    "                cadena_numerica.append(alfabeto.index(cadena_cifrada[len(cadena_cifrada)-1])) #como es impar, la última letra la ciframos aparte\n",
    "            \n",
    "            #desciframos el texto con la función de descifrado: \n",
    "            for k in cadena_numerica:\n",
    "                k_descifrado=gmpy2.c_mod(gmpy2.mul((k-b),inv),m)\n",
    "                if k_descifrado<0: #ajustamos el modulo\n",
    "                    k_descifrado=m+k_descifrado\n",
    "                cadena_descifrada.append(k_descifrado)\n",
    "            \n",
    "            #pasamos el texto a caracteres\n",
    "            if len(cadena_cifrada)%2==0:\n",
    "                for k in cadena_descifrada:\n",
    "                    cadena_texto=cadena_texto+digrama[k]\n",
    "            else:       \n",
    "                for k in range(len(cadena_descifrada)-1):\n",
    "                    cadena_texto=cadena_texto+digrama[cadena_descifrada[k]]\n",
    "                    \n",
    "                cadena_texto=cadena_texto+alfabeto[cadena_descifrada[(len(cadena_descifrada)-1)]]\n",
    "            \n",
    "            #si no se ha pasado un archivo para guardar el resultado, se imprime por pantalla\n",
    "            print_output(o, cadena_texto)\n",
    "    else:\n",
    "        print(\"{} y {} no son primos relativos. Error\".format(a,m))"
   ]
  },
  {
   "cell_type": "code",
   "execution_count": 41,
   "id": "995098f2",
   "metadata": {
    "scrolled": true
   },
   "outputs": [
    {
     "name": "stdout",
     "output_type": "stream",
     "text": [
      "hola\n",
      "Cadena: hola\n",
      "Cadena: ltkm\n"
     ]
    }
   ],
   "source": [
    "afin_no_trivial(\"-C\",701,23,3)"
   ]
  },
  {
   "cell_type": "code",
   "execution_count": 42,
   "id": "3cea3f93",
   "metadata": {},
   "outputs": [
    {
     "name": "stdout",
     "output_type": "stream",
     "text": [
      "ltkm\n",
      "Cadena: ltkm\n",
      "Cadena: hola\n"
     ]
    }
   ],
   "source": [
    "afin_no_trivial(\"-D\",701,23,3)"
   ]
  },
  {
   "cell_type": "code",
   "execution_count": null,
   "id": "dd32a5f1",
   "metadata": {},
   "outputs": [],
   "source": [
    "afin_no_trivial(\"-D\",701,52,3)"
   ]
  },
  {
   "cell_type": "markdown",
   "id": "9b32343d",
   "metadata": {},
   "source": [
    "El cifrado afin muy vulnerable a los ataques. Se rompe imediatamente con B,C,D y E. Con A hace falta un analisis de frecuencias (El análisis de frecuencia es el estudio de la frecuencia de letras o grupos\n",
    "de letras en un texto cifrado)."
   ]
  },
  {
   "cell_type": "markdown",
   "id": "7b37608e",
   "metadata": {},
   "source": [
    "#### Ejemplo de criptoánalisis afín\n",
    "\n",
    "Hemos cifrado \"antiaereo\" con afin (modulo 51, a=13 y b=0), lo que nos ha dado la cadena \"aqRcabrbD\". \n",
    "\n",
    "En el ejemplo de abajo hemos guardado las tablas de frecuencia del castellano y el ingles y luego las hemos ordenado por mayor a menor. En este caso solo hemos utilizado la del castellano.\n",
    "\n",
    "Hemos conseguido descifrarlo con la segunda hipotesís:\n",
    "c1: la posición del elemento más utilizado de la cadena en el alfabeto.\n",
    "c2: la posición del segundo elemento más utilizado de la cadena en el alfabeto.\n",
    "t1: la posición del elemento más utilizado en el alfabeto.\n",
    "t2: la posición del segundo elemento más utilizado en el alfabeto.\n",
    "\n",
    "pos(c1)=pos(t1)* a+b \n",
    "pos(c2)=pos(t1)* a+b\n",
    "\n",
    "Se puede resolver de dos formas:\n",
    "1- restando las ecuaciones, lo que nos daría el resultado de: \n",
    "      pos(c1)-pos(c2)=(pos(t1)-pos(t2))* a -> \n",
    "      a=pos(c1)-pos(c2) inv((pos(t1)-pos(t2))\n",
    "      b=pos(c1)-pos(t1)* a\n",
    "\n",
    "2- Al introducir los datos conocidos, nos damos cuenta de que se puede simplificar y resolver casi directamente:\n",
    "      pos(c1)=pos(t1)* a+b -> 1=4* a+b->a=1* inv(4)=13\n",
    "      pos(c2)=pos(t1)* a+b -> 0=0* a+b ->b=0\n",
    "\n",
    "En ambos casos el resultado da a=13, b=0. El cifrado esta roto."
   ]
  },
  {
   "cell_type": "code",
   "execution_count": 43,
   "id": "21a61480",
   "metadata": {},
   "outputs": [
    {
     "name": "stdout",
     "output_type": "stream",
     "text": [
      "segunda hipotesis\n",
      "es correcto, antiaereo se cifro con 13 y 0\n"
     ]
    }
   ],
   "source": [
    "from collections import Counter\n",
    "\n",
    "cadena = \"aqRcabrbD\"\n",
    "letters = Counter(cadena)\n",
    "\n",
    "castellano=(['a', 11.96],['b', 0.92],['c', 2.92],['d', 6.87],['e', 16.78],['f', 0.52],['g', 0.73],\n",
    "           ['h', 0.89],['i', 4.15],['j', 0.3],['k', 0.0],['l', 8.37],['m', 2.12],['n', 7.01],\n",
    "           ['o', 8.69],['p', 2.77],['q', 1.53],['r', 4.94],['s', 7.88],['t', 3.31],['u', 4.80],\n",
    "           ['v', 0.39],['w', 0.0],['x', 0.06],['y', 1.54],['z', 0.15])\n",
    "\n",
    "ingles=(['a', 11.96],['b', 1.54],['c', 3.06],['d', 3.99],['e', 12.51],['f', 2.30],['g', 1.96],\n",
    "        ['h', 0.89],['i', 7.26],['j', 0.16],['k', 0.67],['l', 4.14],['m', 2.53],['n', 7.09],\n",
    "       ['o', 7.60],['p', 2.0],['q', 0.11],['r', 6.12],['s', 6,54],['t', 9.25],['u', 2.71],\n",
    "       ['v', 0.99],['w', 1.92],['x', 1.92],['y', 1.73],['z', 0.19])\n",
    "\n",
    "letras=sorted(letters, reverse=True)\n",
    "castellano_ord=sorted(castellano, key=lambda letra: letra[1], reverse=True)\n",
    "ingles_ord=sorted(ingles, key=lambda letra: letra[1], reverse=True)\n",
    "\n",
    "\n",
    "print(\"segunda hipotesis\")\n",
    "c1=alfabeto.index(\"b\")\n",
    "c2=alfabeto.index(\"a\")\n",
    "t1=alfabeto.index(castellano_ord[0][0])\n",
    "t2=alfabeto.index(castellano_ord[1][0])\n",
    "\n",
    "#pos(c1)=pos(t1)*a+b -> 1=4*a+b->a=1*inv(4)\n",
    "#-\n",
    "#pos(c2)=pos(t1)*a+b -> 0=0*a+b ->b=0\n",
    "\n",
    "#pos(c1)-pos(c2)=(pos(t1)-pos(t2))*a\n",
    "\n",
    "#1=(-4)*\n",
    "#0-1=(4-0)*a\n",
    "\n",
    "#a=1*inv(4)\n",
    "\n",
    "#comprobamos que hemos resuelto bien la ecuación\n",
    "a=1*pow(4,-1,51)\n",
    "#comprobamos que sean co-primos\n",
    "if algoritmo_euclides(a,51)==1:\n",
    "        b=c1-int(a)*t1\n",
    "        print(\"es correcto, antiaereo se cifro con 13 y 0\")\n",
    "        #print(afin(\"-D\", 51, a, b))\n",
    "        \n",
    "              \n",
    "    "
   ]
  },
  {
   "cell_type": "markdown",
   "id": "5bf621cd",
   "metadata": {},
   "source": [
    "## 2. Sustitución polialfabeto"
   ]
  },
  {
   "cell_type": "markdown",
   "id": "7d89fea6",
   "metadata": {},
   "source": [
    "## 2.a Método de Hill"
   ]
  },
  {
   "cell_type": "markdown",
   "id": "9f5fe236",
   "metadata": {},
   "source": [
    "El siguiente programa implementa el método hill.\n",
    "\n",
    "Llamada a la función:\n",
    "\n",
    "hill {-C|-D} {-m |Zm|} {-n NK} {-k f ileK} [-i f ilein] [-o f ileout]\n",
    "\n",
    "Los parámetros introducidos en este caso son:\n",
    "- m cardinalidad de Zm\n",
    "- n dimensión de la matriz de transformación\n",
    "- k fichero que contiene la matriz de transformación"
   ]
  },
  {
   "cell_type": "code",
   "execution_count": 44,
   "id": "aa473852",
   "metadata": {},
   "outputs": [],
   "source": [
    "import numpy as np\n",
    "import os\n",
    "import math\n",
    "import copy"
   ]
  },
  {
   "cell_type": "markdown",
   "id": "ae4e0b2e",
   "metadata": {},
   "source": [
    "Funcion que cálcula el determinante de una matriz"
   ]
  },
  {
   "cell_type": "code",
   "execution_count": 45,
   "id": "2c3c6e39",
   "metadata": {},
   "outputs": [],
   "source": [
    "def determinante(matriz):\n",
    "   \n",
    "    if len(matriz)==2 and len(matriz[0])==2:\n",
    "        #calculamos el determinante\n",
    "        det=matriz[0][0]*matriz[1][1]-(matriz[1][0]*matriz[0][1])\n",
    "       \n",
    "        return det\n",
    "    else:\n",
    "        suma=0\n",
    "        for i in range(len(matriz)): #calculamos el determinante por cofactores\n",
    "            maux=copy.deepcopy(matriz)\n",
    "            maux.remove(matriz[0]) #eliminamos la primera fila\n",
    "            for j in range(len(maux)):\n",
    "                maux[j]=maux[j][0:i]+maux[j][i+1:]\n",
    "                \n",
    "         \n",
    "            suma= suma+ (-1)**((i+j)%2)*matriz[0][i]*determinante(maux)\n",
    "            \n",
    "        return suma\n",
    "        "
   ]
  },
  {
   "cell_type": "code",
   "execution_count": 46,
   "id": "9177a009",
   "metadata": {},
   "outputs": [
    {
     "name": "stdout",
     "output_type": "stream",
     "text": [
      "-8\n",
      "53\n"
     ]
    }
   ],
   "source": [
    "#comprobación de la función\n",
    "matriz = [[1,2,3], [3,4,5], [1,4,3]]\n",
    "print(determinante(matriz))\n",
    "matriz = [[11,8], [3,7]]\n",
    "print(determinante(matriz))"
   ]
  },
  {
   "cell_type": "markdown",
   "id": "ddb257ea",
   "metadata": {},
   "source": [
    "Función que cálcula el adjunto de una matriz"
   ]
  },
  {
   "cell_type": "code",
   "execution_count": 47,
   "id": "270c9cdd",
   "metadata": {},
   "outputs": [],
   "source": [
    "def adjunto(matriz):\n",
    "    adjunto=np.zeros(np.shape(matriz))\n",
    "    if len(matriz)==2 and len(matriz[0])==2:\n",
    "         #calculamos el adjunto\n",
    "        adjunto[0][0]=matriz[1][1]\n",
    "        adjunto[0][1]=-matriz[0][1]\n",
    "        adjunto[1][0]=-matriz[1][0]\n",
    "        adjunto[1][1]=matriz[0][0]\n",
    "        \n",
    "        return adjunto\n",
    "    else:\n",
    "        \n",
    "        for i in range(len(matriz)):\n",
    "            maux=copy.deepcopy(matriz)\n",
    "            for j in range(len(matriz)):\n",
    "             \n",
    "                maux=np.delete(matriz,i,0)\n",
    "                aux=np.delete(maux,j,1)\n",
    "                auxi=aux.tolist()\n",
    "                #la matriz de cofactores transpuesta es el djunto\n",
    "                adjunto[j][i]=(-1)**((i+j)%2)*determinante(auxi)\n",
    "            \n",
    "                \n",
    "        return adjunto"
   ]
  },
  {
   "cell_type": "code",
   "execution_count": 48,
   "id": "053f1a4a",
   "metadata": {},
   "outputs": [
    {
     "name": "stdout",
     "output_type": "stream",
     "text": [
      "[[ 7. -8.]\n",
      " [-3. 11.]]\n"
     ]
    }
   ],
   "source": [
    "#comprobación de la función\n",
    "matriz = [[11,8], [3,7]]\n",
    "print(adjunto(matriz))"
   ]
  },
  {
   "cell_type": "markdown",
   "id": "724f1521",
   "metadata": {},
   "source": [
    "Función que cálcula la inversa de una matriz"
   ]
  },
  {
   "cell_type": "code",
   "execution_count": 49,
   "id": "267c546b",
   "metadata": {},
   "outputs": [],
   "source": [
    "def inversa(matriz,modulo):\n",
    "    inversa=np.zeros(np.shape(matriz))\n",
    "    det=determinante(matriz)%modulo\n",
    "    if det !=0:\n",
    "        adj=adjunto(matriz)%modulo\n",
    "        for i in range(len(matriz)):\n",
    "            for j in range(len(matriz[i])):\n",
    "                inversa[i][j]=(adj[i][j]/det)#%modulo\n",
    "                \n",
    "    return inversa%modulo #esto puede que no sea necesario porque ya estamos en matemática modular"
   ]
  },
  {
   "cell_type": "code",
   "execution_count": 50,
   "id": "5a3dc048",
   "metadata": {},
   "outputs": [
    {
     "name": "stdout",
     "output_type": "stream",
     "text": [
      "[[ 7. 18.]\n",
      " [23. 11.]]\n"
     ]
    }
   ],
   "source": [
    "#comprobación de la función\n",
    "matriz = [[11,8], [3,7]]\n",
    "print(inversa(matriz,26))"
   ]
  },
  {
   "cell_type": "code",
   "execution_count": 51,
   "id": "a150397b",
   "metadata": {},
   "outputs": [
    {
     "data": {
      "text/plain": [
       "array([[ 1,  2,  3,  4],\n",
       "       [ 9, 10, 11, 12]])"
      ]
     },
     "execution_count": 51,
     "metadata": {},
     "output_type": "execute_result"
    }
   ],
   "source": [
    "arr = np.array([[1,2,3,4], [5,6,7,8], [9,10,11,12]])\n",
    "np.delete(arr, 1, 0)"
   ]
  },
  {
   "cell_type": "code",
   "execution_count": 52,
   "id": "deeb5371",
   "metadata": {
    "scrolled": true
   },
   "outputs": [
    {
     "name": "stdout",
     "output_type": "stream",
     "text": [
      "[[1, 2, 4], [3, 5, 4], [1]]\n",
      "1\n",
      "[[1, 2, 4], [3, 5, 4], [1, 0, 0]]\n"
     ]
    },
    {
     "data": {
      "text/plain": [
       "array([[1, 2, 1],\n",
       "       [0, 2, 1],\n",
       "       [1, 0, 0]], dtype=int32)"
      ]
     },
     "execution_count": 52,
     "metadata": {},
     "output_type": "execute_result"
    }
   ],
   "source": [
    "matriz = [[1, 2, 4], [3,5,4], [1]]\n",
    "\n",
    "# Padding a la matriz\n",
    "n=3\n",
    "print(matriz)\n",
    "print(len(matriz[n-1]))\n",
    "k=len(matriz[n-1])\n",
    "if k<n:\n",
    "    padding=[0]*(n)\n",
    "    for i in range(0,k):\n",
    "        padding[i]=matriz[n-1][i]\n",
    "    matriz[n-1]=padding\n",
    "  \n",
    "print(matriz)\n",
    "matriz=np.array(matriz)\n",
    "matriz%3"
   ]
  },
  {
   "cell_type": "code",
   "execution_count": 53,
   "id": "804e7442",
   "metadata": {},
   "outputs": [
    {
     "name": "stdout",
     "output_type": "stream",
     "text": [
      "[3 5 4]\n"
     ]
    }
   ],
   "source": [
    "print(matriz[1])"
   ]
  },
  {
   "cell_type": "markdown",
   "id": "51b4da2c",
   "metadata": {},
   "source": [
    "Función de cifrado del algoritmo.\n",
    "\n",
    "Parámetros:\n",
    "- matriz_numerica: el texto a cifrar en formato matriz de numeros\n",
    "- matriz: matriz de transformación\n",
    "- mod: modulo en el que trabajamos\n",
    "- n: dimensión "
   ]
  },
  {
   "cell_type": "code",
   "execution_count": 54,
   "id": "05c07b3e",
   "metadata": {},
   "outputs": [],
   "source": [
    "def cifrar(matriz_numerica, matriz,mod,n):\n",
    "    matriz_cifrada=np.zeros((n,n))\n",
    "    \n",
    "    for i in range(len(matriz_numerica)):\n",
    "        cadena_cifrada= (np.dot(matriz_numerica[i],matriz))%mod\n",
    "        matriz_cifrada[i]=cadena_cifrada\n",
    "\n",
    "    return matriz_cifrada  "
   ]
  },
  {
   "cell_type": "markdown",
   "id": "d9235033",
   "metadata": {},
   "source": [
    "Función de descifrado del algoritmo.\n",
    "\n",
    "Parámetros:\n",
    "\n",
    "- matriz_cifrada: el cifrado a descifrar en formato matriz de numeros\n",
    "- matriz: matriz de transformación\n",
    "- mod: modulo en el que trabajamos\n",
    "- n: dimensión"
   ]
  },
  {
   "cell_type": "code",
   "execution_count": 55,
   "id": "89e0ad6a",
   "metadata": {},
   "outputs": [],
   "source": [
    "def descifrar(matriz_cifrada, matriz,mod,n):\n",
    "    matriz_descifrada=np.zeros((n,n))\n",
    "    inv=inversa(matriz,mod)\n",
    " \n",
    "    for i in range(len(matriz_cifrada)):\n",
    "        cadena_descifrada= (np.dot(matriz_cifrada[i],inv))%mod\n",
    "        matriz_descifrada[i]=cadena_descifrada\n",
    "\n",
    "    return matriz_descifrada  "
   ]
  },
  {
   "cell_type": "code",
   "execution_count": 56,
   "id": "de5e7c5f",
   "metadata": {},
   "outputs": [],
   "source": [
    "def hill(modo,mod,n,k,i=0,o=0):\n",
    "    alfabeto='abcdefghijklmnopqrstuvwxyz'\n",
    "  \n",
    "    #leemos la matriz de transformación del archivo y la guardamos\n",
    "    with open(k,'r') as f:\n",
    "        datos = ''.join(f.readlines()).replace('\\n',';')\n",
    "    matriz = np.matrix(datos).tolist()\n",
    "    f.close()\n",
    "   \n",
    "    #cálculamos el determinante de la matriz\n",
    "    det=np.linalg.det(matriz)\n",
    "    #comprobamos que la matriz K tiene una función biyectiva\n",
    "    if algoritmo_euclides(int(det),mod)==1:\n",
    "       \n",
    "        if modo==\"-C\":\n",
    "           \n",
    "            cadena=read_input(i)\n",
    "            #Traducimos los caracteres a números\n",
    "            cadena_numerica=[]\n",
    "            for k in cadena:\n",
    "                if k in alfabeto: \n",
    "                    cadena_numerica.append(alfabeto.index(k))\n",
    "                    \n",
    "            # Dividimos en bloques de n elementos el texto\n",
    "            # Si m no es múltiplo de n se añade padding\n",
    "            m=len(cadena_numerica)/n\n",
    "            max=len(cadena_numerica)\n",
    "            matriz_numerica=np.zeros((math.ceil(m),n))\n",
    "         \n",
    "            pos=0\n",
    "            for i in range(math.ceil(m)):\n",
    "                for j in range(n):\n",
    "                    if pos<max:\n",
    "                        matriz_numerica[i][j]=cadena_numerica[pos]\n",
    "                        pos=pos+1\n",
    "                        \n",
    "            #ciframos cadena a cadena y lo guardamos en un matriz           \n",
    "            matriz_cifrada=cifrar(matriz_numerica,matriz,mod,n)\n",
    "            print_output(o,matriz_cifrada)\n",
    "           \n",
    "            \n",
    "        elif modo==\"-D\":\n",
    "            if i==0:\n",
    "                cadena_cifrada=input()\n",
    "                mat_cifrada = np.matrix(cadena_cifrada).tolist()\n",
    "                matriz_cifrada= np.reshape(mat_cifrada, (n,n))\n",
    "               \n",
    "                        \n",
    "            else:\n",
    "                \n",
    "                with open(i,'r') as f:\n",
    "                    datos = ''.join(f.readlines()).replace('\\n',';')     \n",
    "                f.close()\n",
    "                \n",
    "                matriz_cifrada = np.matrix(datos).tolist() \n",
    "        \n",
    "           \n",
    "            matriz_descifrada=descifrar(matriz_cifrada, matriz,mod,n)\n",
    "            \n",
    "            cadena_num=[]*n*n\n",
    "            for i in range(len(matriz_descifrada)):\n",
    "                for j in range(len(matriz_descifrada[i])):\n",
    "                    \n",
    "                    if matriz_descifrada[i][j]<0:\n",
    "                        matriz_descifrada[i][j]=mod+matriz_descifrada[i][j]\n",
    "        \n",
    "                    cadena_num.append(alfabeto[int(matriz_descifrada[i][j])])\n",
    "            print_output(o,cadena_num)\n",
    "            \n",
    "    else:\n",
    "        print(\"{} y {} no son primos relativos. Error\".format(det,mod))"
   ]
  },
  {
   "cell_type": "code",
   "execution_count": 57,
   "id": "9b9f563c",
   "metadata": {},
   "outputs": [
    {
     "name": "stdout",
     "output_type": "stream",
     "text": [
      "Cadena: ['h', 'o', 'l', 'a']\n"
     ]
    }
   ],
   "source": [
    "k = [[11,8], [3,7]]\n",
    "hill(\"-D\",26, 2,\"matriz_k.txt\",\"matriz_cifrada.txt\" ,0)"
   ]
  },
  {
   "cell_type": "code",
   "execution_count": 58,
   "id": "1847b014",
   "metadata": {},
   "outputs": [
    {
     "name": "stdout",
     "output_type": "stream",
     "text": [
      "\n",
      "Cadena: \n",
      "Cadena: [[0. 0.]\n",
      " [0. 0.]]\n"
     ]
    }
   ],
   "source": [
    "hill(\"-C\",26,2, \"matriz_k.txt\", 0,0 )"
   ]
  },
  {
   "cell_type": "code",
   "execution_count": 59,
   "id": "7cbc5687",
   "metadata": {},
   "outputs": [
    {
     "name": "stdout",
     "output_type": "stream",
     "text": [
      "matriz_numerica\n",
      "[[ 8. 15.]\n",
      " [12.  1.]]\n",
      "matriz cifrada\n",
      "[[ 3. 13.]\n",
      " [ 5. 25.]]\n",
      "[[ 8. 15.]\n",
      " [12.  1.]]\n",
      "matriz descifrada\n",
      "['h', 'o', 'l', 'a']\n"
     ]
    }
   ],
   "source": [
    "cadena_numerica=[8,15,12,1]\n",
    "matriz = [[11,8], [3,7]]\n",
    "n=2\n",
    "\n",
    "m=len(cadena_numerica)/n\n",
    "max=len(cadena_numerica)\n",
    "matriz_numerica=np.zeros((math.ceil(m),n))\n",
    "\n",
    "pos=0\n",
    "for i in range(math.ceil(m)):\n",
    "\n",
    "    for j in range(n):\n",
    "        \n",
    "        if pos<max:\n",
    "           \n",
    "            matriz_numerica[i][j]=cadena_numerica[pos]\n",
    "            pos=pos+1\n",
    "            \n",
    "print(\"matriz_numerica\")\n",
    "print(matriz_numerica)   \n",
    "\n",
    "matriz_cifrada=cifrar(matriz_numerica, matriz,26,n)\n",
    "print(\"matriz cifrada\")\n",
    "print(cifrar(matriz_numerica, matriz,26,n))\n",
    "\n",
    "print(descifrar(matriz_cifrada, matriz,26,n))\n",
    "print(\"matriz descifrada\")\n",
    "matriz_descifrada=descifrar(matriz_cifrada, matriz,26,n)\n",
    "alfabeto='abcdefghijklmnopqrstuvwxyz'\n",
    "cadena_num=[]*n*n\n",
    "for i in range(len(matriz_descifrada)):\n",
    "    for j in range(len(matriz_descifrada[i])):\n",
    "        if matriz_descifrada[i][j]<0:\n",
    "            matriz_descifrada[i][j]=26+matriz_descifrada[i][j]\n",
    "        cadena_num.append(alfabeto[int(matriz_descifrada[i][j])-1])\n",
    "print(cadena_num)"
   ]
  },
  {
   "cell_type": "code",
   "execution_count": 60,
   "id": "c180731e",
   "metadata": {},
   "outputs": [
    {
     "name": "stdout",
     "output_type": "stream",
     "text": [
      "[[11  8]\n",
      " [ 3  7]]\n"
     ]
    }
   ],
   "source": [
    "with open('matriz_k.txt','r') as f:\n",
    "    datos = ''.join(f.readlines()).replace('\\n',';')\n",
    "\n",
    "matriz = np.matrix(datos)\n",
    "print(matriz)"
   ]
  },
  {
   "cell_type": "markdown",
   "id": "9c79aa8d",
   "metadata": {},
   "source": [
    "## 2.b Método de Vigenere"
   ]
  },
  {
   "cell_type": "markdown",
   "id": "4078c647",
   "metadata": {},
   "source": [
    "El siguiente programa implementa el método de Vigenere.\n",
    "\n",
    "Llamada a la función: \n",
    "\n",
    "vigenere {-C|-D} {-k clave} [-i filein] [-o fileout]\n",
    "\n",
    "El parámetro *k* es cadena de caracteres usada como clave. Consideramos que la clave está formada por caracteres de nuestro alfabeto. Puede ser una frase, ya que se eliminarán los espacios. Al igual que hacemos con el input, la clave se traducirá de caracteres a números. \n",
    "\n",
    "Como el cifrado de Vigenere es un cifrado de bloques, entonces dividimos el input en bloques de n (longitud de la clave) elementos. Si la longitud del input no es múltiplo de la longitud de la clave, añadimos padding de ceros al final del último bloque para que todos los bloques tengan n elementos. Tras este proceso hemos obtenido una matriz de n columnas, en la que cada fila es un bloque.\n",
    "\n",
    "Realizamos el cifrado de Vigenere a la matriz. Ciframos bloque a bloque recorriendo las filas de la matriz: al elemento i-ésimo del bloque se le suma el elemento i-ésimo de la clave y al resultado se le aplica el módulo de la longitud del alfabeto. Esta operación se realiza para cada elemento del bloque ( i de 1 a n).  Como resultado, obtenemos una matriz de bloques cifrados. A continuación concatenamos esta matriz para obtener la cadena cifrada resultante.\n",
    "\n",
    "A la hora de descifrar, el procesamiento es el mismo pero la operación que se realiza a la hora de descifrar bloque a bloque es diferente, naturalmente. Para cada elemento i-ésimo del bloque, se resta el elemento i-ésimo de la clave y al resultado se le aplica el módulo de la longitud del alfabeto.\n"
   ]
  },
  {
   "cell_type": "code",
   "execution_count": 61,
   "id": "f58f0ae6",
   "metadata": {},
   "outputs": [],
   "source": [
    "def vigenere(modo,k,i=0,o=0):\n",
    "    alfabeto='abcdefghijklmnopqrstuvwxyzABCDEFGHIJKLMNOPQRSTUVWXYZ'\n",
    "    base=len(alfabeto)\n",
    "    \n",
    "    #Traducimos la clave de caracteres a números\n",
    "    k_numerica=[]\n",
    "    for j in k:\n",
    "        if j in alfabeto: \n",
    "            k_numerica.append(alfabeto.index(j))\n",
    "    n=len(k_numerica)\n",
    "    if modo==\"-C\":\n",
    "        cadena=read_input(i)\n",
    "        # Traducimos los caracteres a números\n",
    "        cadena_numerica=[]\n",
    "        for k in cadena:\n",
    "            if k in alfabeto: \n",
    "                cadena_numerica.append(alfabeto.index(k))\n",
    "        # Dividimos en bloques de n elementos el input\n",
    "        # Si m no es múltiplo de n se añade padding\n",
    "        m=len(cadena_numerica)/n\n",
    "        maxi=len(cadena_numerica)\n",
    "        matriz_numerica=np.zeros((math.ceil(m),n))\n",
    "        pos=0\n",
    "        for i in range(math.ceil(m)):\n",
    "            for j in range(n):\n",
    "                if pos<maxi:\n",
    "                    matriz_numerica[i][j]=cadena_numerica[pos]\n",
    "                    pos=pos+1\n",
    "        # Tenemos una matriz que tenemos que cifrar. \n",
    "        # Cada bloque es una fila de la matriz\n",
    "        filas=matriz_numerica.shape[0]\n",
    "        elementos=matriz_numerica.shape[1]\n",
    "        matriz_cifrada=np.zeros((filas,elementos))\n",
    "        for i in range(filas):\n",
    "            for j in range(elementos):\n",
    "                matriz_cifrada[i][j]=(matriz_numerica[i][j]+k_numerica[j])%base\n",
    "        \n",
    "        cadena_cifrada=np.concatenate(matriz_cifrada)\n",
    "        resul=\"\"\n",
    "        for i in cadena_cifrada:\n",
    "            resul=resul+alfabeto[int(i)]\n",
    "        print_output(o,resul)\n",
    "    elif modo==\"-D\":\n",
    "        cadena_cifrada_texto=read_input(i)\n",
    "        cadena_cifrada=[]\n",
    "        for k in cadena_cifrada_texto:\n",
    "            if k in alfabeto: \n",
    "                cadena_cifrada.append(alfabeto.index(k))\n",
    "        # Dividimos en bloques de n elementos el texto cifrado\n",
    "        # Si m no es múltiplo de n se añade padding\n",
    "        m=len(cadena_cifrada)/n\n",
    "        maxi=len(cadena_cifrada)\n",
    "        matriz_cifrada=np.zeros((math.ceil(m),n))\n",
    "        pos=0\n",
    "        for i in range(math.ceil(m)):\n",
    "            for j in range(n):\n",
    "                if pos<maxi:\n",
    "                    matriz_cifrada[i][j]=cadena_cifrada[pos]\n",
    "                    pos=pos+1\n",
    "        # Tenemos una matriz que tenemos que descifrar. \n",
    "        # Cada bloque es una fila de la matriz\n",
    "        filas=matriz_cifrada.shape[0]\n",
    "        elementos=matriz_cifrada.shape[1]\n",
    "        matriz_descifrada=np.zeros((filas,elementos))\n",
    "        for i in range(filas):\n",
    "            for j in range(elementos):\n",
    "                matriz_descifrada[i][j]=(matriz_cifrada[i][j]-k_numerica[j])%base\n",
    "        cadena_descifrada=np.concatenate(matriz_descifrada)\n",
    "        cadena_texto=[]\n",
    "        for i in range(len(cadena_descifrada)):\n",
    "            cadena_texto.append(alfabeto[int(cadena_descifrada[i])])\n",
    "        print_output(o,cadena_texto)"
   ]
  },
  {
   "cell_type": "code",
   "execution_count": 62,
   "id": "ead14d27",
   "metadata": {},
   "outputs": [
    {
     "name": "stdout",
     "output_type": "stream",
     "text": [
      "Universidad Autonoma de Madrid\n",
      "Cadena: Universidad Autonoma de Madrid\n",
      "Cadena: WyiQitDiyefLuOspzmvhgXayvkoave\n"
     ]
    }
   ],
   "source": [
    "vigenere(\"-C\", \"clave\")"
   ]
  },
  {
   "cell_type": "code",
   "execution_count": 63,
   "id": "907b2b4a",
   "metadata": {
    "scrolled": true
   },
   "outputs": [
    {
     "name": "stdout",
     "output_type": "stream",
     "text": [
      "WyiQitDiyefLuOspzmvhgXayvkoave\n",
      "Cadena: WyiQitDiyefLuOspzmvhgXayvkoave\n",
      "Cadena: ['U', 'n', 'i', 'v', 'e', 'r', 's', 'i', 'd', 'a', 'd', 'A', 'u', 't', 'o', 'n', 'o', 'm', 'a', 'd', 'e', 'M', 'a', 'd', 'r', 'i', 'd', 'a', 'a', 'a']\n"
     ]
    }
   ],
   "source": [
    "vigenere(\"-D\", \"clave\")"
   ]
  },
  {
   "cell_type": "code",
   "execution_count": 98,
   "id": "77175b06",
   "metadata": {
    "scrolled": true
   },
   "outputs": [
    {
     "name": "stdout",
     "output_type": "stream",
     "text": [
      "Universidad Autonoma de Madrid\n",
      "Cadena: Universidad Autonoma de Madrid\n",
      "Cadena: jEwweDGAfoqONKopzmvhqMsorzja\n"
     ]
    }
   ],
   "source": [
    "vigenere(\"-C\", \"probamos con otra clave mas larga\")"
   ]
  },
  {
   "cell_type": "code",
   "execution_count": 99,
   "id": "1b236c84",
   "metadata": {},
   "outputs": [
    {
     "name": "stdout",
     "output_type": "stream",
     "text": [
      "jEwweDGAfoqONKopzmvhqMsorzja\n",
      "Cadena: jEwweDGAfoqONKopzmvhqMsorzja\n",
      "Cadena: ['U', 'n', 'i', 'v', 'e', 'r', 's', 'i', 'd', 'a', 'd', 'A', 'u', 't', 'o', 'n', 'o', 'm', 'a', 'd', 'e', 'M', 'a', 'd', 'r', 'i', 'd', 'a']\n"
     ]
    }
   ],
   "source": [
    "vigenere(\"-D\", \"probamos con otra clave mas larga\")"
   ]
  },
  {
   "cell_type": "code",
   "execution_count": null,
   "id": "e54fdffa",
   "metadata": {},
   "outputs": [],
   "source": [
    "vigenere(\"-C\", \"clave\", \"texto_vigenere.txt\", \"resultado_vigenere.txt\")"
   ]
  },
  {
   "cell_type": "code",
   "execution_count": null,
   "id": "78cd3442",
   "metadata": {
    "scrolled": true
   },
   "outputs": [],
   "source": [
    "vigenere(\"-D\", \"clave\", \"resultado_vigenere.txt\", \"descifrado_vigenere.txt\")"
   ]
  },
  {
   "cell_type": "markdown",
   "id": "140ad12e",
   "metadata": {},
   "source": [
    "También probamos el cifrado de Vigenere para cifrar el Quijote con la clave \"En un lugar de la Mancha, de cuyo nombre no quiero acordarme\"."
   ]
  },
  {
   "cell_type": "code",
   "execution_count": null,
   "id": "985d38f5",
   "metadata": {},
   "outputs": [],
   "source": [
    "vigenere(\"-C\",\"En un lugar de la Mancha, de cuyo nombre no quiero acordarme\", \"quijote.txt\", \"quijote_cifradoVigenere.txt\")"
   ]
  },
  {
   "cell_type": "code",
   "execution_count": null,
   "id": "b70a64a0",
   "metadata": {},
   "outputs": [],
   "source": [
    "vigenere(\"-D\", \"En un lugar de la Mancha, de cuyo nombre no quiero acordarme\", \"quijote_cifradoVigenere.txt\", \"quijote_descifradoVigenere.txt\")"
   ]
  },
  {
   "cell_type": "markdown",
   "id": "a1f492f4",
   "metadata": {},
   "source": [
    "## 2.c Criptoanálisis del cifrado de Vigenere"
   ]
  },
  {
   "cell_type": "markdown",
   "id": "97471f1d",
   "metadata": {},
   "source": [
    "El siguiente programa implementa el indice de coincidencia.\n",
    "\n",
    "Llamada a la función: \n",
    "IC {-l Ngrama} [-i filein] [-o fileout]\n",
    "\n",
    "-l longitud de n-grama buscado\n"
   ]
  },
  {
   "cell_type": "code",
   "execution_count": 64,
   "id": "337ef115",
   "metadata": {},
   "outputs": [
    {
     "ename": "SyntaxError",
     "evalue": "invalid syntax (Temp/ipykernel_6656/2227801207.py, line 1)",
     "output_type": "error",
     "traceback": [
      "\u001b[1;36m  File \u001b[1;32m\"C:\\Users\\anama\\AppData\\Local\\Temp/ipykernel_6656/2227801207.py\"\u001b[1;36m, line \u001b[1;32m1\u001b[0m\n\u001b[1;33m    El siguiente programa implementa el test de kasiski.\u001b[0m\n\u001b[1;37m       ^\u001b[0m\n\u001b[1;31mSyntaxError\u001b[0m\u001b[1;31m:\u001b[0m invalid syntax\n"
     ]
    }
   ],
   "source": [
    "El siguiente programa implementa el test de kasiski.\n",
    "\n",
    "Llamada a la función: \n",
    "kasiski {-l Ngrama} [-i f ilein] [-o f ileout]\n",
    "-l longitud de n-grama buscado"
   ]
  },
  {
   "cell_type": "code",
   "execution_count": 65,
   "id": "560e07d4",
   "metadata": {},
   "outputs": [],
   "source": [
    "def calcular_divisores(n):\n",
    "    lista = []\n",
    "    for i in range(2,n):\n",
    "        if n % i == 0:\n",
    "            lista.append(i)\n",
    "    return lista"
   ]
  },
  {
   "cell_type": "code",
   "execution_count": 66,
   "id": "3deae4a2",
   "metadata": {},
   "outputs": [
    {
     "name": "stdout",
     "output_type": "stream",
     "text": [
      "[5]\n"
     ]
    }
   ],
   "source": [
    "n=25\n",
    "print(calcular_divisores(n))"
   ]
  },
  {
   "cell_type": "code",
   "execution_count": 67,
   "id": "12481179",
   "metadata": {},
   "outputs": [],
   "source": [
    "def obtener_tuplas(lista):\n",
    "    res = {}\n",
    "    freq =[]\n",
    "    cont = 0\n",
    "    i = 0\n",
    "    while i < len(lista): \n",
    "        elt= lista[i:i+3] # Cogemos al menos 3 caracteres como tamaño de la tupla\n",
    "        tam = len(elt)\n",
    "        if tam == 3: #tiene que ser 3, si no estamos al final de la lista\n",
    "            for j in range(i+1,len(lista)): #Find further in the list for the same pattern\n",
    "                if lista[i:i+tam] == lista[j:j+tam]: #Si coinciden, seguimos comprobando\n",
    "                    while lista[i:i+tam] == lista[j:j+tam]:\n",
    "                        tam = tam + 1\n",
    "                    tam = tam -1\n",
    "                    elt = lista[i:i+tam] #Ahora tenemos una tupla \n",
    "                    dist = j - i #calculamos la distancia\n",
    "                    freq.extend(calcular_divisores(dist)) #Añadimos los divisores a la lista \n",
    "                    print (\"%s\\ti:%s\\tj:%s\\tdiff:%s\\t\\tDivisors:%s\" % (elt,i,j, dist,calcular_divisores(dist))) #Print information about the tuple (can be deleted)\n",
    "                    cont = cont +1\n",
    "                    j = j + tam + 1\n",
    "            i = i + tam -3 +1\n",
    "        else:\n",
    "            i = i + 1\n",
    "    return cont, freq"
   ]
  },
  {
   "cell_type": "code",
   "execution_count": 68,
   "id": "1c570007",
   "metadata": {},
   "outputs": [
    {
     "name": "stdout",
     "output_type": "stream",
     "text": [
      "uwpt\ti:4\tj:29\tdiff:25\t\tDivisors:[5]\n",
      "waH\ti:11\tj:46\tdiff:35\t\tDivisors:[5, 7]\n",
      "2\n",
      "[5, 5, 7]\n"
     ]
    }
   ],
   "source": [
    "lista=\"jzlvuwptvpnwaHedlpvvcnoIxcCtzuwptJhqGawmgyyLygwaHyutcvwkruzwqyaIhqnoHscytzw\"\n",
    "cont, freq=obtener_tuplas(lista)\n",
    "print(cont)\n",
    "print(freq)"
   ]
  },
  {
   "cell_type": "code",
   "execution_count": 69,
   "id": "90eb4c80",
   "metadata": {},
   "outputs": [],
   "source": [
    "def contDiv(lista): # devuelve una lista con (caracter_decimal, occ) \n",
    "    d={}\n",
    "    for elt in lista:\n",
    "        if d.__contains__(elt): #contamos los divisores de cada uno\n",
    "            d[elt] += 1\n",
    "        else:\n",
    "            d[elt] = 1\n",
    "    return sorted(d.items(),key=lambda x: x[1], reverse=True) #ordenamos la lista en orden descendente"
   ]
  },
  {
   "cell_type": "code",
   "execution_count": 70,
   "id": "8283d3a8",
   "metadata": {},
   "outputs": [],
   "source": [
    "def dividir_lista(key,lista): #ahora que sabemos la cardinalidad de la llave, dividimos la lista en ese modulo\n",
    "    dic = {}\n",
    "    for elem in range(key): #hacemos sublistas de key\n",
    "        dic[elem] = []\n",
    "        \n",
    "    i = 0\n",
    "    for j in range (len(lista)):\n",
    "        if i == key: #si el inidice es igual a key hemos llegado al final de la sublista\n",
    "            i = 0 #para la proxima sublista\n",
    "        dic[i].append(lista[j])\n",
    "        i = i + 1\n",
    "    return dic"
   ]
  },
  {
   "cell_type": "code",
   "execution_count": 71,
   "id": "b8ef5e54",
   "metadata": {},
   "outputs": [],
   "source": [
    "lista=\"jzlvuwptvpnwaHedlpvvcnoIxcCtzuwptJhqGawmgyyLygwaHyutcvwkruzwqyaIhqnoHscytzw\"\n",
    "\n",
    "key=5\n",
    "#dividir_lista(key, lista)"
   ]
  },
  {
   "cell_type": "code",
   "execution_count": 72,
   "id": "f3d5a3de",
   "metadata": {},
   "outputs": [],
   "source": [
    "def descifrar_v(lista,dist):\n",
    "    alfabeto=\"abcdefghijklmnopqrstuvwxyzABCDEFGHIJKLMNOPQRSTUVWXYZ\"\n",
    "    lista1=list()\n",
    "    for elem in lista:\n",
    "        valor = alfabeto.index(elem) - int(dist)\n",
    "        if valor < 0:\n",
    "            lista1.append(256 + (valor % -256))\n",
    "        else:\n",
    "            lista1.append(valor)\n",
    "    return lista1"
   ]
  },
  {
   "cell_type": "code",
   "execution_count": 73,
   "id": "d908a7e7",
   "metadata": {},
   "outputs": [
    {
     "name": "stdout",
     "output_type": "stream",
     "text": [
      "\n"
     ]
    },
    {
     "ename": "NameError",
     "evalue": "name 'contOcc' is not defined",
     "output_type": "error",
     "traceback": [
      "\u001b[1;31m---------------------------------------------------------------------------\u001b[0m",
      "\u001b[1;31mNameError\u001b[0m                                 Traceback (most recent call last)",
      "\u001b[1;32m~\\AppData\\Local\\Temp/ipykernel_6656/109386483.py\u001b[0m in \u001b[0;36m<module>\u001b[1;34m\u001b[0m\n\u001b[0;32m      2\u001b[0m \u001b[1;33m\u001b[0m\u001b[0m\n\u001b[0;32m      3\u001b[0m \u001b[0mcont\u001b[0m\u001b[1;33m,\u001b[0m\u001b[0mfreq\u001b[0m\u001b[1;33m=\u001b[0m\u001b[0mobtener_tuplas\u001b[0m\u001b[1;33m(\u001b[0m\u001b[0mlista\u001b[0m\u001b[1;33m)\u001b[0m\u001b[1;33m\u001b[0m\u001b[1;33m\u001b[0m\u001b[0m\n\u001b[1;32m----> 4\u001b[1;33m \u001b[0ml\u001b[0m\u001b[1;33m=\u001b[0m\u001b[0mcontOcc\u001b[0m\u001b[1;33m(\u001b[0m\u001b[0mfreq\u001b[0m\u001b[1;33m)\u001b[0m\u001b[1;33m\u001b[0m\u001b[1;33m\u001b[0m\u001b[0m\n\u001b[0m\u001b[0;32m      5\u001b[0m \u001b[0mres\u001b[0m \u001b[1;33m=\u001b[0m \u001b[0mdividir_lista\u001b[0m\u001b[1;33m(\u001b[0m\u001b[0ml\u001b[0m\u001b[1;33m[\u001b[0m\u001b[0mi\u001b[0m\u001b[1;33m]\u001b[0m\u001b[1;33m[\u001b[0m\u001b[1;36m0\u001b[0m\u001b[1;33m]\u001b[0m\u001b[1;33m,\u001b[0m \u001b[0mlista\u001b[0m\u001b[1;33m)\u001b[0m\u001b[1;33m\u001b[0m\u001b[1;33m\u001b[0m\u001b[0m\n\u001b[0;32m      6\u001b[0m \u001b[0mres\u001b[0m\u001b[1;33m=\u001b[0m\u001b[0mcontOcc\u001b[0m\u001b[1;33m(\u001b[0m\u001b[0mfreq\u001b[0m\u001b[1;33m)\u001b[0m\u001b[1;33m\u001b[0m\u001b[1;33m\u001b[0m\u001b[0m\n",
      "\u001b[1;31mNameError\u001b[0m: name 'contOcc' is not defined"
     ]
    }
   ],
   "source": [
    "lista=input()\n",
    "\n",
    "cont,freq=obtener_tuplas(lista)\n",
    "l=contOcc(freq)\n",
    "res = dividir_lista(l[i][0], lista) \n",
    "res=contOcc(freq)\n",
    "occ = contOcc(res[i]) \n",
    "print(res[1])\n",
    "print(occ[0][0])\n",
    "print(lista[0])\n",
    "print(l)\n",
    "descifrar_v(res[0],occ[0][0])"
   ]
  },
  {
   "cell_type": "code",
   "execution_count": 74,
   "id": "f36bd63b",
   "metadata": {},
   "outputs": [],
   "source": [
    "def recrear_lista(dic):\n",
    "    i = 0\n",
    "    output = []\n",
    "    try:\n",
    "        while 1:\n",
    "            for l in dic.values():\n",
    "                output.append(l[i])\n",
    "            i = i + 1\n",
    "    except:\n",
    "        pass\n",
    "    return output"
   ]
  },
  {
   "cell_type": "code",
   "execution_count": 75,
   "id": "131fe3e2",
   "metadata": {},
   "outputs": [],
   "source": [
    "def criptoanalisis_vigenere(lista):\n",
    "        alfabeto=\"abcdefghijklmnopqrstuvwxyzABCDEFGHIJKLMNOPQRSTUVWXYZ\"\n",
    "        #cadena=input() #obtenemos la cadena a descifrar\n",
    "        #lista=[]\n",
    "        #for elem in cadena:\n",
    "            #lista.append(alfabeto.index(elem)) #pasamos las letras a numeros\n",
    "        \n",
    "        #buscamos las tuplas del texto y la distancia entre ellas\n",
    "        cont,freq=obtener_tuplas(lista)\n",
    "        lista_modulos_posibles=contDiv(freq) #devuelve un lista con (divisor, #divisor)\n",
    "        #la lista_modulos_posibles esta ordenada del que más aparece al que menos, asique elegimos el primer elemento\n",
    "        \n",
    "        res = dividir_lista(lista_modulos_posibles[0][0], lista) #We consider in this exemple a key length of 10 and l the original list\n",
    "        #tenemos la lista original dividida en lista_modulos_posibles[0][0] elementos\n",
    "        print(len(res))\n",
    "        for i in range(lista_modulos_posibles[0][0]): #por cada sublista\n",
    "            \n",
    "            divisores = contDiv(res[i]) # Hacemos un analisis de frecuecia\n",
    "            shift = (alfabeto.index(divisores[0][0]) - 32) % 256 # Consider the most frequent element of being a space(32 in decimal)\n",
    "           \n",
    "            print (\"Frequency analysis for the index: %s\\tshift:%s\\n%s\\n\" % (i,shift,occ)) #Print informations (can be deleted)\n",
    "            res[i] = descifrar_v(res[i],shift) #Intnemos descifrarlo \n",
    "\n",
    "        final = recrear_lista(res) #Once we have processed all sub-list recreate a list with all the sub-lists.\n",
    "        print(final)\n",
    "        print(len(alfabeto))\n",
    "        resul=\"\"\n",
    "        for elem in final:\n",
    "            resul=resul+alfabeto[elem-1]\n",
    "        print(resul)\n",
    "        #print (''.join([chr(x) for x in final])) #Print the result"
   ]
  },
  {
   "cell_type": "code",
   "execution_count": 76,
   "id": "71bc0e73",
   "metadata": {},
   "outputs": [
    {
     "name": "stdout",
     "output_type": "stream",
     "text": [
      "uwpt\ti:4\tj:29\tdiff:25\t\tDivisors:[5]\n",
      "waH\ti:11\tj:46\tdiff:35\t\tDivisors:[5, 7]\n",
      "2\n",
      "[5, 5, 7]\n",
      "ipz\ti:49\tj:139\tdiff:90\t\tDivisors:[2, 3, 5, 6, 9, 10, 15, 18, 30, 45]\n",
      "Lyg\ti:108\tj:133\tdiff:25\t\tDivisors:[5]\n",
      "5\n"
     ]
    },
    {
     "ename": "NameError",
     "evalue": "name 'occ' is not defined",
     "output_type": "error",
     "traceback": [
      "\u001b[1;31m---------------------------------------------------------------------------\u001b[0m",
      "\u001b[1;31mNameError\u001b[0m                                 Traceback (most recent call last)",
      "\u001b[1;32m~\\AppData\\Local\\Temp/ipykernel_6656/585516424.py\u001b[0m in \u001b[0;36m<module>\u001b[1;34m\u001b[0m\n\u001b[0;32m      5\u001b[0m \u001b[0mprint\u001b[0m\u001b[1;33m(\u001b[0m\u001b[0mcont\u001b[0m\u001b[1;33m)\u001b[0m\u001b[1;33m\u001b[0m\u001b[1;33m\u001b[0m\u001b[0m\n\u001b[0;32m      6\u001b[0m \u001b[0mprint\u001b[0m\u001b[1;33m(\u001b[0m\u001b[0mfreq\u001b[0m\u001b[1;33m)\u001b[0m\u001b[1;33m\u001b[0m\u001b[1;33m\u001b[0m\u001b[0m\n\u001b[1;32m----> 7\u001b[1;33m \u001b[0mcriptoanalisis_vigenere\u001b[0m\u001b[1;33m(\u001b[0m\u001b[0mlista1\u001b[0m\u001b[1;33m)\u001b[0m\u001b[1;33m\u001b[0m\u001b[1;33m\u001b[0m\u001b[0m\n\u001b[0m",
      "\u001b[1;32m~\\AppData\\Local\\Temp/ipykernel_6656/930749467.py\u001b[0m in \u001b[0;36mcriptoanalisis_vigenere\u001b[1;34m(lista)\u001b[0m\n\u001b[0;32m     19\u001b[0m             \u001b[0mshift\u001b[0m \u001b[1;33m=\u001b[0m \u001b[1;33m(\u001b[0m\u001b[0malfabeto\u001b[0m\u001b[1;33m.\u001b[0m\u001b[0mindex\u001b[0m\u001b[1;33m(\u001b[0m\u001b[0mdivisores\u001b[0m\u001b[1;33m[\u001b[0m\u001b[1;36m0\u001b[0m\u001b[1;33m]\u001b[0m\u001b[1;33m[\u001b[0m\u001b[1;36m0\u001b[0m\u001b[1;33m]\u001b[0m\u001b[1;33m)\u001b[0m \u001b[1;33m-\u001b[0m \u001b[1;36m32\u001b[0m\u001b[1;33m)\u001b[0m \u001b[1;33m%\u001b[0m \u001b[1;36m256\u001b[0m \u001b[1;31m# Consider the most frequent element of being a space(32 in decimal)\u001b[0m\u001b[1;33m\u001b[0m\u001b[1;33m\u001b[0m\u001b[0m\n\u001b[0;32m     20\u001b[0m \u001b[1;33m\u001b[0m\u001b[0m\n\u001b[1;32m---> 21\u001b[1;33m             \u001b[0mprint\u001b[0m \u001b[1;33m(\u001b[0m\u001b[1;34m\"Frequency analysis for the index: %s\\tshift:%s\\n%s\\n\"\u001b[0m \u001b[1;33m%\u001b[0m \u001b[1;33m(\u001b[0m\u001b[0mi\u001b[0m\u001b[1;33m,\u001b[0m\u001b[0mshift\u001b[0m\u001b[1;33m,\u001b[0m\u001b[0mocc\u001b[0m\u001b[1;33m)\u001b[0m\u001b[1;33m)\u001b[0m \u001b[1;31m#Print informations (can be deleted)\u001b[0m\u001b[1;33m\u001b[0m\u001b[1;33m\u001b[0m\u001b[0m\n\u001b[0m\u001b[0;32m     22\u001b[0m             \u001b[0mres\u001b[0m\u001b[1;33m[\u001b[0m\u001b[0mi\u001b[0m\u001b[1;33m]\u001b[0m \u001b[1;33m=\u001b[0m \u001b[0mdescifrar_v\u001b[0m\u001b[1;33m(\u001b[0m\u001b[0mres\u001b[0m\u001b[1;33m[\u001b[0m\u001b[0mi\u001b[0m\u001b[1;33m]\u001b[0m\u001b[1;33m,\u001b[0m\u001b[0mshift\u001b[0m\u001b[1;33m)\u001b[0m \u001b[1;31m#Intnemos descifrarlo\u001b[0m\u001b[1;33m\u001b[0m\u001b[1;33m\u001b[0m\u001b[0m\n\u001b[0;32m     23\u001b[0m \u001b[1;33m\u001b[0m\u001b[0m\n",
      "\u001b[1;31mNameError\u001b[0m: name 'occ' is not defined"
     ]
    }
   ],
   "source": [
    "lista=\"jzlvuwptvpnwaHedlpvvcnoIxcCtzuwptJhqGawmgyyLygwaHyutcvwkruzwqyaIhqnoHscytzw\"\n",
    "lista1=\"jzlviuEawerpnNepoozroFcCeunoNeuDowvgEoysgycJwcDqPipztDippmPgjzszrvtdJgqxozwvpeEitnixmqEoOenxeIxgtnOitxiIedweLygyoxspDiBsfpsxmhCaMtgCoLygllHipzsxsoAiGesFevpizeNenrove\"\n",
    "\n",
    "cont, freq=obtener_tuplas(lista)\n",
    "print(cont)\n",
    "print(freq)\n",
    "criptoanalisis_vigenere(lista1)"
   ]
  },
  {
   "cell_type": "markdown",
   "id": "27a3b33e",
   "metadata": {},
   "source": [
    "## 3. Cifrado de flujo"
   ]
  },
  {
   "cell_type": "markdown",
   "id": "b87a5d04",
   "metadata": {},
   "source": [
    "El siguiente programa implementa el cifrado de flujo.\n",
    "\n",
    "Llamada a la función: \n",
    "\n",
    "flujo {-C|-D} {-m clave} {-n tamaño de la secuencia de claves} [-i filein] [-o fileout]\n",
    "\n",
    "Este cifrado es parecido al cifrado de Vigenere, de hecho, hemos visto que el cifrado de Vigenere se puede entender como un caso particular del cifrado de flujo. Su parecido reside en que el cifrado se realiza elemento a elemento operando con el elemento de la clave correspondiente. La diferencia es que las claves del cifrado de flujo pertenecen a una secuencia cifrante generada de manera aleatoria. Por lo tanto, para la implementación del cifrado de flujo es necesario programar un generador de una secuencia de números aleatorios, es decir, la secuencia cifrante. Hemos realizado un cifrado síncrono de flujo ya que el flujo de claves se codifica a partir de una clave que es independiente del texto original.\n",
    "Nuestro funcion *generador_aleatorio* genera la secuencia cifrante.\n",
    "\n",
    "Para cifrar, este método toma para cada elemento, un número aleatorio de la secuencia y los opera con la aplicación XOR lógica. Obtenemos una la cadena cifrada y expresada en binario, ya que actualmente los cifrados de flujo normalmente se expresan en alfabeto binario.\n",
    "\n",
    "\n",
    "La fortaleza de este cifrado depende directamente del generador de la secuencia aleatoria. En nuestro caso **FALTA**"
   ]
  },
  {
   "cell_type": "code",
   "execution_count": 77,
   "id": "3ec5d312",
   "metadata": {},
   "outputs": [],
   "source": [
    "def rec_fib(n):\n",
    "    if n > 1:\n",
    "        return rec_fib(n-1) + rec_fib(n-2)\n",
    "    return n"
   ]
  },
  {
   "cell_type": "code",
   "execution_count": 78,
   "id": "829d7d31",
   "metadata": {},
   "outputs": [],
   "source": [
    "# Generador de secuencia aleatoria\n",
    "def generador_aleatorio(m,cont):\n",
    "    k=(rec_fib(m)%m)*m*cont\n",
    "    return k"
   ]
  },
  {
   "cell_type": "code",
   "execution_count": 79,
   "id": "3cc1ff34",
   "metadata": {
    "scrolled": true
   },
   "outputs": [
    {
     "name": "stdout",
     "output_type": "stream",
     "text": [
      "0\n",
      "182\n",
      "364\n",
      "546\n",
      "728\n"
     ]
    }
   ],
   "source": [
    "# Ejemplo de secuencia cifrante de 5 elementos para clave 14\n",
    "m=14\n",
    "for i in range(5):\n",
    "    k=generador_aleatorio(m,i)\n",
    "    print(k)"
   ]
  },
  {
   "cell_type": "code",
   "execution_count": 80,
   "id": "d505e0fe",
   "metadata": {},
   "outputs": [],
   "source": [
    "# m es la clave\n",
    "# n es el tamaño de la secuencia de claves\n",
    "def flujo(modo,m,n,i=0,o=0):\n",
    "    alfabeto='abcdefghijklmnopqrstuvwxyzABCDEFGHIJKLMNOPQRSTUVWXYZ'\n",
    "    if modo==\"-C\":\n",
    "        cadena=read_input(i)\n",
    "        # Traducimos los caracteres a números\n",
    "        cadena_numerica=[]\n",
    "        for k in cadena:\n",
    "            if k in alfabeto: \n",
    "                cadena_numerica.append(alfabeto.index(k))\n",
    "        # Ciframos carácter a carácter\n",
    "        cadena_cifrada=[]\n",
    "        count=0\n",
    "        for i in cadena_numerica:\n",
    "            if count<n:\n",
    "                k=generador_aleatorio(m,count)\n",
    "            else:\n",
    "                k=generador_aleatorio(m,count-n)\n",
    "            cadena_cifrada.append(int(bin(i^k)[2:]))\n",
    "            count=count+1\n",
    "        print_output(o,cadena_cifrada)\n",
    "    elif modo==\"-D\":\n",
    "        cadena_cifrada=read_input(i)\n",
    "        cadena_cifrada=cadena_cifrada.split(\" \")\n",
    "        cadena_descifrada=[]\n",
    "        cadena_texto=[]\n",
    "        for i in range(len(cadena_cifrada)):\n",
    "            cadena_cifrada[i]=int(cadena_cifrada[i],2)\n",
    "        count=0\n",
    "        for i in cadena_cifrada:\n",
    "            if count<n:\n",
    "                k=generador_aleatorio(m,count)\n",
    "            else:\n",
    "                k=generador_aleatorio(m,count-n)\n",
    "            cadena_descifrada.append((i^k))\n",
    "            count=count+1\n",
    "        for i in range(len(cadena_descifrada)):\n",
    "            cadena_texto.append(alfabeto[int(cadena_descifrada[i])])\n",
    "        print_output(o,cadena_texto)"
   ]
  },
  {
   "cell_type": "code",
   "execution_count": 81,
   "id": "1fcf9647",
   "metadata": {},
   "outputs": [
    {
     "name": "stdout",
     "output_type": "stream",
     "text": [
      "Hola\n",
      "Cadena: Hola\n",
      "Cadena: [100001, 10, 1011, 1100]\n"
     ]
    }
   ],
   "source": [
    "flujo(\"-C\", 4,2)"
   ]
  },
  {
   "cell_type": "code",
   "execution_count": 82,
   "id": "1ffa7fe5",
   "metadata": {},
   "outputs": [
    {
     "name": "stdout",
     "output_type": "stream",
     "text": [
      "100001 10 1011 1100\n",
      "Cadena: 100001 10 1011 1100\n",
      "Cadena: ['H', 'o', 'l', 'a']\n"
     ]
    }
   ],
   "source": [
    "flujo(\"-D\", 4,2)"
   ]
  },
  {
   "cell_type": "code",
   "execution_count": null,
   "id": "ce0130bb",
   "metadata": {
    "scrolled": true
   },
   "outputs": [],
   "source": [
    "flujo(\"-C\", 10,20, \"cadena.txt\", \"cadena_cifradaFlujo.txt\")"
   ]
  },
  {
   "cell_type": "code",
   "execution_count": null,
   "id": "995b8540",
   "metadata": {},
   "outputs": [],
   "source": [
    "flujo(\"-D\", 10, 20, \"cadena_cifradaFlujo.txt\", \"cadena_descifradaFlujo.txt\")"
   ]
  },
  {
   "cell_type": "markdown",
   "id": "16734e98",
   "metadata": {},
   "source": [
    "A continuación, aplicamos el cifrado de flujo al libro del Quijote."
   ]
  },
  {
   "cell_type": "code",
   "execution_count": null,
   "id": "2e2ab1d5",
   "metadata": {},
   "outputs": [],
   "source": [
    "flujo(\"-C\", 8, 500, \"quijote.txt\", \"quijote_cifradoFlujo.txt\")"
   ]
  },
  {
   "cell_type": "code",
   "execution_count": null,
   "id": "21b2e69e",
   "metadata": {},
   "outputs": [],
   "source": [
    "flujo(\"-D\", 8, 500, \"quijote_cifradoFlujo.txt\", \"quijote_descifradoFlujo.txt\")"
   ]
  },
  {
   "cell_type": "markdown",
   "id": "ce83825b",
   "metadata": {},
   "source": [
    "## 4. Producto de criptosistemas de permutación"
   ]
  },
  {
   "cell_type": "code",
   "execution_count": 95,
   "id": "34c6b88a",
   "metadata": {},
   "outputs": [],
   "source": [
    "# k1: vector de m elementos que constituye la clave para el cifrado de permutación por filas\n",
    "# k2: vector de n elementos que constituye la clave para el cifrado de permutación por columnas\n",
    "def permutacion(modo,k1,k2,i=0,o=0):\n",
    "    alfabeto='abcdefghijklmnopqrstuvwxyzABCDEFGHIJKLMNOPQRSTUVWXYZ'\n",
    "    if modo==\"-C\":\n",
    "        cadena=read_input(i)\n",
    "        # Traducimos los caracteres a números\n",
    "        cadena_numerica=[]\n",
    "        for k in cadena:\n",
    "            if k in alfabeto: \n",
    "                cadena_numerica.append(alfabeto.index(k))\n",
    "\n",
    "        # Matriz numerica es la matriz m x n \n",
    "        m=len(k1)\n",
    "        n=len(k2)\n",
    "        maxi=len(cadena_numerica)\n",
    "        matriz_numerica=np.zeros((m,n))\n",
    "         \n",
    "        pos=0\n",
    "        for i in range(m):\n",
    "            for j in range(n):\n",
    "                if pos<maxi:\n",
    "                    matriz_numerica[i][j]=cadena_numerica[pos]\n",
    "                    pos=pos+1\n",
    "        #print(matriz_numerica)\n",
    "        \n",
    "        # Cifrado de permutación por filas\n",
    "        matriz_cifrada1=np.zeros((m,n))\n",
    "        for i in range(m):\n",
    "            for j in range(n):\n",
    "                matriz_cifrada1[i][j]=matriz_numerica[k1[i]][j]\n",
    "        #print(matriz_cifrada1)\n",
    "                \n",
    "        # Cifrado de permutación por columnas\n",
    "        matriz_cifrada2=np.zeros((m,n))\n",
    "        for i in range(m):\n",
    "            for j in range(n):\n",
    "                matriz_cifrada2[i][j]=matriz_cifrada1[i][k2[j]]\n",
    "                \n",
    "        #print(matriz_cifrada2)\n",
    "        cadena_cifrada=np.concatenate(matriz_cifrada2)\n",
    "        resul=\"\"\n",
    "        for i in cadena_cifrada:\n",
    "            resul=resul+alfabeto[int(i)]\n",
    "      \n",
    "        print_output(o, resul)\n",
    "    elif modo==\"-D\":\n",
    "        cadena_cifrada_texto=read_input(i)\n",
    "        cadena_cifrada=[]\n",
    "        for k in cadena_cifrada_texto:\n",
    "            if k in alfabeto: \n",
    "                cadena_cifrada.append(alfabeto.index(k))\n",
    "        \n",
    "        \n",
    "         # Matriz numerica es la matriz m x n \n",
    "        m=len(k1)\n",
    "        n=len(k2)\n",
    "        maxi=len(cadena_cifrada)\n",
    "        matriz_cifrada=np.zeros((m,n))\n",
    "         \n",
    "        pos=0\n",
    "        for i in range(m):\n",
    "            for j in range(n):\n",
    "                if pos<maxi:\n",
    "                    matriz_cifrada[i][j]=cadena_cifrada[pos]\n",
    "                    pos=pos+1\n",
    "        #print(matriz_cifrada)\n",
    "        \n",
    "        # Desciframos cifrado de permutación por columnas\n",
    "        matriz_descifrada2=np.zeros((m,n))\n",
    "        for i in range(m):\n",
    "            for j in range(n):\n",
    "                matriz_descifrada2[i][k2[j]]=matriz_cifrada[i][j]\n",
    "        \n",
    "        #print(matriz_descifrada2)\n",
    "        \n",
    "        # Desciframos cifrado de permutación por filas\n",
    "        matriz_descifrada1=np.zeros((m,n))\n",
    "        for i in range(m):\n",
    "            for j in range(n):\n",
    "                matriz_descifrada1[k1[i]][j]=matriz_descifrada2[i][j]\n",
    "        #print(matriz_descifrada1)\n",
    "        \n",
    "        cadena_descifrada=np.concatenate(matriz_descifrada1)\n",
    "        cadena_texto=[]\n",
    "        for i in range(len(cadena_descifrada)):\n",
    "            #cadena_cifrada[i]=int(cadena_cifrada[i])\n",
    "            cadena_texto.append(alfabeto[int(cadena_descifrada[i])])\n",
    "\n",
    "        print_output(o, cadena_texto)"
   ]
  },
  {
   "cell_type": "code",
   "execution_count": 96,
   "id": "85828852",
   "metadata": {},
   "outputs": [
    {
     "name": "stdout",
     "output_type": "stream",
     "text": [
      "Cadena: Hola Nueva York!\n"
     ]
    }
   ],
   "source": [
    "k1=[3,2,4,1,0]\n",
    "k2=[1,3,2,0]\n",
    "permutacion(\"-C\", k1, k2, \"cadena.txt\", \"cadena_cifradaPermutacion.txt\")"
   ]
  },
  {
   "cell_type": "code",
   "execution_count": 97,
   "id": "ab4830bb",
   "metadata": {},
   "outputs": [
    {
     "name": "stdout",
     "output_type": "stream",
     "text": [
      "Cadena: a a a k Y r o a a a a a u v e N o a l H\n"
     ]
    }
   ],
   "source": [
    "permutacion(\"-D\", k1, k2, \"cadena_cifradaPermutacion.txt\", \"cadena_descifradaPermutacion.txt\")"
   ]
  }
 ],
 "metadata": {
  "kernelspec": {
   "display_name": "Python 3 (ipykernel)",
   "language": "python",
   "name": "python3"
  },
  "language_info": {
   "codemirror_mode": {
    "name": "ipython",
    "version": 3
   },
   "file_extension": ".py",
   "mimetype": "text/x-python",
   "name": "python",
   "nbconvert_exporter": "python",
   "pygments_lexer": "ipython3",
   "version": "3.9.7"
  }
 },
 "nbformat": 4,
 "nbformat_minor": 5
}
