{
 "cells": [
  {
   "cell_type": "markdown",
   "id": "f9952fdd",
   "metadata": {},
   "source": [
    "# Práctica 1: Criptografía clásica\n",
    "## UAM, 2022/2023\n",
    "\n",
    "### Maitane Gómez González\n",
    "### Ana Martínez Sabiote"
   ]
  },
  {
   "cell_type": "markdown",
   "id": "14e31d52",
   "metadata": {},
   "source": [
    "## 1. Sustitución monoalfabeto"
   ]
  },
  {
   "cell_type": "markdown",
   "id": "65d4723f",
   "metadata": {},
   "source": [
    "## 1.a Método afín\n",
    "El siguiente programa implementa el método afín.\n",
    "\n",
    "Llamada a la función:\n",
    "\n",
    "afin {-C|-D} {-m |Zm|} {-a N×} {-b N+} [-i f ilein] [-o f ileout]\n"
   ]
  },
  {
   "cell_type": "code",
   "execution_count": 222,
   "id": "eaebc2e3",
   "metadata": {
    "scrolled": true
   },
   "outputs": [],
   "source": [
    "import gmpy2\n",
    "from gmpy2 import mpz"
   ]
  },
  {
   "cell_type": "code",
   "execution_count": 223,
   "id": "0013cce1",
   "metadata": {},
   "outputs": [
    {
     "data": {
      "text/plain": [
       "'\\nVERSIÓN SIN GMP \\n\\ndef algoritmo_euclides(a,b):\\n    if a%b == 0:\\n        return b\\n    else:\\n        return algoritmo_euclides(b, a%b)\\n'"
      ]
     },
     "execution_count": 223,
     "metadata": {},
     "output_type": "execute_result"
    }
   ],
   "source": [
    "\"\"\"\n",
    "VERSIÓN SIN GMP \n",
    "\n",
    "def algoritmo_euclides(a,b):\n",
    "    if a%b == 0:\n",
    "        return b\n",
    "    else:\n",
    "        return algoritmo_euclides(b, a%b)\n",
    "\"\"\""
   ]
  },
  {
   "cell_type": "code",
   "execution_count": 224,
   "id": "912d32d4",
   "metadata": {},
   "outputs": [],
   "source": [
    "def algoritmo_euclides(a,b):\n",
    "    if gmpy2.t_mod(a,b) == 0:\n",
    "        return b\n",
    "    else:\n",
    "        return algoritmo_euclides(b, gmpy2.t_mod(a,b))"
   ]
  },
  {
   "cell_type": "code",
   "execution_count": 225,
   "id": "fcdb17ab",
   "metadata": {
    "scrolled": true
   },
   "outputs": [
    {
     "name": "stdout",
     "output_type": "stream",
     "text": [
      "3\n"
     ]
    }
   ],
   "source": [
    "mcd=algoritmo_euclides(39,150)\n",
    "print(mcd)"
   ]
  },
  {
   "cell_type": "code",
   "execution_count": 226,
   "id": "b353eca6",
   "metadata": {},
   "outputs": [
    {
     "data": {
      "text/plain": [
       "mpz(1)"
      ]
     },
     "execution_count": 226,
     "metadata": {},
     "output_type": "execute_result"
    }
   ],
   "source": [
    "algoritmo_euclides(7,15)"
   ]
  },
  {
   "cell_type": "code",
   "execution_count": 227,
   "id": "885404f8",
   "metadata": {},
   "outputs": [
    {
     "data": {
      "text/plain": [
       "'\\nVERSIÓN SIN GMP \\n\\ndef algoritmo_euclides_extendido(a,b):\\n\\n    # Identidad de Bézout 1=u*a + v*b\\n    # El inverso de a módulo b es u. Recíprocamente, el inverso de b mod a es v\\n    if a==0:\\n        mcd=b\\n        u=0\\n        v=1\\n    else:\\n        mcd, x, y = algoritmo_euclides_extendido(b%a, a)\\n        u=y-(b//a)*x\\n        v=x\\n        \\n    return mcd, u, v\\n'"
      ]
     },
     "execution_count": 227,
     "metadata": {},
     "output_type": "execute_result"
    }
   ],
   "source": [
    "\"\"\"\n",
    "VERSIÓN SIN GMP \n",
    "\n",
    "def algoritmo_euclides_extendido(a,b):\n",
    "\n",
    "    # Identidad de Bézout 1=u*a + v*b\n",
    "    # El inverso de a módulo b es u. Recíprocamente, el inverso de b mod a es v\n",
    "    if a==0:\n",
    "        mcd=b\n",
    "        u=0\n",
    "        v=1\n",
    "    else:\n",
    "        mcd, x, y = algoritmo_euclides_extendido(b%a, a)\n",
    "        u=y-(b//a)*x\n",
    "        v=x\n",
    "        \n",
    "    return mcd, u, v\n",
    "\"\"\""
   ]
  },
  {
   "cell_type": "code",
   "execution_count": 228,
   "id": "5dc05ac1",
   "metadata": {},
   "outputs": [],
   "source": [
    "def algoritmo_euclides_extendido(a,b):\n",
    "    \"\"\"\n",
    "    # Condición a>b, sino las cambiamos\n",
    "    if b>a:\n",
    "        aux=a\n",
    "        a=b\n",
    "        b=aux\n",
    "    \"\"\"\n",
    "    # Identidad de Bézout 1=u*a + v*b\n",
    "    # El inverso de a módulo b es u. Recíprocamente, el inverso de b mod a es v\n",
    "    if a==0:\n",
    "        mcd=b\n",
    "        u=0\n",
    "        v=1\n",
    "    else:\n",
    "        mcd, x, y = algoritmo_euclides_extendido(gmpy2.c_mod(b,a), a)\n",
    "        u=gmpy2.sub(y,(gmpy2.mul(gmpy2.c_div(b,a),x)))\n",
    "        v=x\n",
    "        \n",
    "    return mcd, u, v"
   ]
  },
  {
   "cell_type": "code",
   "execution_count": 229,
   "id": "cc975e3d",
   "metadata": {},
   "outputs": [],
   "source": [
    "def inverso(a,m):\n",
    "    result = algoritmo_euclides_extendido(a,m)\n",
    "    # Comprobamos que el mcd es 1 para que exista inverso multiplicativo\n",
    "    # En consecuencia, a y m determinan una función afín inyectiva\n",
    "    if result[0] == 1:\n",
    "        # Entonces devolvemos el coeficiente u (que acompaña a) de la Id. de Bézout\n",
    "        inv=result[1]\n",
    "        return inv\n",
    "    else:\n",
    "        print(\"Error\")"
   ]
  },
  {
   "cell_type": "code",
   "execution_count": 232,
   "id": "721d1ca5",
   "metadata": {},
   "outputs": [],
   "source": [
    "def read_input(i):\n",
    "    # Primero tomamos el input de i o de la entrada estándar\n",
    "    if i==0:\n",
    "        cadena=input()\n",
    "    else:\n",
    "        file=open(i, \"r\")\n",
    "        cadena=file.read()\n",
    "        file.close()\n",
    "    print(\"Cadena: {}\".format(cadena))\n",
    "    return cadena"
   ]
  },
  {
   "cell_type": "code",
   "execution_count": 233,
   "id": "d0ca9f79",
   "metadata": {},
   "outputs": [],
   "source": [
    "def print_output(o,cadena):\n",
    "    if o==0:\n",
    "        print(\"Cadena: {}\".format(cadena))\n",
    "    else:\n",
    "        file=open(o, \"w\")\n",
    "        cadenaToStr = ' '.join([str(elem) for elem in cadena])\n",
    "        file.write(cadenaToStr)\n",
    "        file.close()"
   ]
  },
  {
   "cell_type": "code",
   "execution_count": 234,
   "id": "d60e34da",
   "metadata": {},
   "outputs": [],
   "source": [
    "def afin(modo,m,a,b,i=0,o=0):\n",
    "    alfabeto='abcdefghijklmnopqrstuvwxyzABCDEFGHIJKLMNOPQRSTUVWXYZ'\n",
    "    if algoritmo_euclides(a,m) == 1:\n",
    "        if modo==\"-C\":\n",
    "            cadena=read_input(i)\n",
    "            #Traducimos los caracteres a números\n",
    "            cadena_numerica=[]\n",
    "            for k in cadena:\n",
    "                if k in alfabeto: \n",
    "                    cadena_numerica.append(alfabeto.index(k))\n",
    "            cadena_cifrada=[]\n",
    "            for k in cadena_numerica:\n",
    "                cadena_cifrada.append(((a*k)+b)%m)\n",
    "            print_output(o,cadena_cifrada)\n",
    "        elif modo==\"-D\":\n",
    "            cadena_cifrada=read_input(i)\n",
    "            cadena_cifrada=cadena_cifrada.split(\", \")\n",
    "            cadena_descifrada=[]\n",
    "            cadena_texto=[]\n",
    "            inv=inverso(a,m)\n",
    "            for i in range(len(cadena_cifrada)):\n",
    "                cadena_cifrada[i]=int(cadena_cifrada[i])\n",
    "            for k in cadena_cifrada:\n",
    "                k_descifrado=gmpy2.c_mod(gmpy2.mul((k-b),inv),m)\n",
    "                if k_descifrado<0:\n",
    "                    k_descifrado=m+k_descifrado\n",
    "                cadena_descifrada.append(k_descifrado)\n",
    "                cadena_texto.append(alfabeto[k_descifrado])\n",
    "            \n",
    "            print_output(o, cadena_texto)\n",
    "    else:\n",
    "        print(\"{} y {} no son primos relativos. Error\".format(a,m))"
   ]
  },
  {
   "cell_type": "code",
   "execution_count": 235,
   "id": "dfbffa2c",
   "metadata": {},
   "outputs": [
    {
     "name": "stdout",
     "output_type": "stream",
     "text": [
      "Cadena: Hola Nueva York!\n",
      "Cadena: [34, 13, 48, 3, 16, 47, 43, 18, 3, 9, 13, 30, 25]\n"
     ]
    }
   ],
   "source": [
    "afin(\"-C\",52,23,3,\"cadena.txt\")"
   ]
  },
  {
   "cell_type": "code",
   "execution_count": 236,
   "id": "27ea3ba9",
   "metadata": {
    "scrolled": true
   },
   "outputs": [
    {
     "name": "stdout",
     "output_type": "stream",
     "text": [
      "16 y 130 no son primos relativos. Error\n"
     ]
    }
   ],
   "source": [
    "afin(\"-C\",130,16,27)"
   ]
  },
  {
   "cell_type": "code",
   "execution_count": 240,
   "id": "24513c1e",
   "metadata": {
    "scrolled": true
   },
   "outputs": [
    {
     "name": "stdout",
     "output_type": "stream",
     "text": [
      "Ejercicio 1 acabado\n",
      "Cadena: Ejercicio 1 acabado\n",
      "Cadena: [17, 2, 43, 30, 49, 31, 49, 31, 13, 3, 49, 3, 26, 3, 20, 13]\n"
     ]
    }
   ],
   "source": [
    "afin(\"-C\",52,23,3)"
   ]
  },
  {
   "cell_type": "code",
   "execution_count": 241,
   "id": "0d6d733f",
   "metadata": {},
   "outputs": [
    {
     "name": "stdout",
     "output_type": "stream",
     "text": [
      "17, 2, 43, 30, 49, 31, 49, 31, 13, 3, 49, 3, 26, 3, 20, 13\n",
      "Cadena: 17, 2, 43, 30, 49, 31, 49, 31, 13, 3, 49, 3, 26, 3, 20, 13\n",
      "Cadena: ['E', 'j', 'e', 'r', 'c', 'i', 'c', 'i', 'o', 'a', 'c', 'a', 'b', 'a', 'd', 'o']\n"
     ]
    }
   ],
   "source": [
    "afin(\"-D\",52,23,3)"
   ]
  },
  {
   "cell_type": "code",
   "execution_count": 237,
   "id": "e1cd5bc9",
   "metadata": {
    "scrolled": true
   },
   "outputs": [
    {
     "name": "stdout",
     "output_type": "stream",
     "text": [
      "Cadena: 34, 13, 48, 3, 16, 47, 43, 18, 3, 9, 13, 30, 25\n"
     ]
    }
   ],
   "source": [
    "afin(\"-D\",52,23,3,\"cadena_cifrada.txt\",\"resultado.txt\")"
   ]
  },
  {
   "cell_type": "markdown",
   "id": "5bf621cd",
   "metadata": {},
   "source": [
    "## Sustitución polialfabeto"
   ]
  },
  {
   "cell_type": "markdown",
   "id": "7d89fea6",
   "metadata": {},
   "source": [
    "## 2.a Método de Hill"
   ]
  },
  {
   "cell_type": "code",
   "execution_count": 243,
   "id": "aa473852",
   "metadata": {},
   "outputs": [],
   "source": [
    "import numpy as np\n",
    "import os"
   ]
  },
  {
   "cell_type": "code",
   "execution_count": null,
   "id": "de5e7c5f",
   "metadata": {},
   "outputs": [],
   "source": [
    "def hill(modo,m,n,k,i,o):\n",
    "    alfabeto='abcdefghijklmnopqrstuvwxyzABCDEFGHIJKLMNOPQRSTUVWXYZ'\n",
    "    matriz = np.loadtxt(k, delimiter = '\\ t')\n",
    "    det = np.linalg.det(matriz)%m\n",
    "    dim = np.shape(matriz)\n",
    "    if dim%n != 0:\n",
    "        matriz = np.pad(matriz, [(dim[0], n-1), (dim[1], n-1)], mode='constant')\n",
    "    if algoritmo_euclides(det,m)==1:\n",
    "        if modo==\"-C\":\n",
    "            cadena=read_input(i)\n",
    "            #Traducimos los caracteres a números\n",
    "            cadena_numerica=[]\n",
    "            for k in cadena:\n",
    "                if k in alfabeto: \n",
    "                    cadena_numerica.append(alfabeto.index(k))\n",
    "            cadena_cifrada=[]\n",
    "    else\n",
    "        print(\"{} y {} no son primos relativos. Error\".format(det,m)\")"
   ]
  }
 ],
 "metadata": {
  "kernelspec": {
   "display_name": "Python 3 (ipykernel)",
   "language": "python",
   "name": "python3"
  },
  "language_info": {
   "codemirror_mode": {
    "name": "ipython",
    "version": 3
   },
   "file_extension": ".py",
   "mimetype": "text/x-python",
   "name": "python",
   "nbconvert_exporter": "python",
   "pygments_lexer": "ipython3",
   "version": "3.9.7"
  }
 },
 "nbformat": 4,
 "nbformat_minor": 5
}
