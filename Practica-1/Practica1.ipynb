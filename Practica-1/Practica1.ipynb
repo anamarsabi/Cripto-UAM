{
 "cells": [
  {
   "cell_type": "markdown",
   "id": "f9952fdd",
   "metadata": {},
   "source": [
    "# Práctica 1: Criptografía clásica\n",
    "## UAM, 2022/2023\n",
    "\n",
    "### Maitane Gómez González\n",
    "### Ana Martínez Sabiote"
   ]
  },
  {
   "cell_type": "markdown",
   "id": "14e31d52",
   "metadata": {},
   "source": [
    "## 1. Sustitución monoalfabeto"
   ]
  },
  {
   "cell_type": "markdown",
   "id": "65d4723f",
   "metadata": {},
   "source": [
    "## 1.a Método afín\n",
    "El siguiente programa implementa el método afín.\n",
    "\n",
    "Llamada a la función:\n",
    "\n",
    "afin {-C|-D} {-m |Zm|} {-a N×} {-b N+} [-i f ilein] [-o f ileout]\n"
   ]
  },
  {
   "cell_type": "code",
   "execution_count": 14,
   "id": "eaebc2e3",
   "metadata": {
    "scrolled": true
   },
   "outputs": [],
   "source": [
    "import gmpy2\n",
    "from gmpy2 import mpz\n",
    "import sympy\n",
    "import numpy as np"
   ]
  },
  {
   "cell_type": "code",
   "execution_count": 15,
   "id": "0013cce1",
   "metadata": {},
   "outputs": [
    {
     "data": {
      "text/plain": [
       "'\\nVERSIÓN SIN GMP \\n\\ndef algoritmo_euclides(a,b):\\n    if a%b == 0:\\n        return b\\n    else:\\n        return algoritmo_euclides(b, a%b)\\n'"
      ]
     },
     "execution_count": 15,
     "metadata": {},
     "output_type": "execute_result"
    }
   ],
   "source": [
    "\"\"\"\n",
    "VERSIÓN SIN GMP \n",
    "\n",
    "def algoritmo_euclides(a,b):\n",
    "    if a%b == 0:\n",
    "        return b\n",
    "    else:\n",
    "        return algoritmo_euclides(b, a%b)\n",
    "\"\"\""
   ]
  },
  {
   "cell_type": "code",
   "execution_count": 16,
   "id": "912d32d4",
   "metadata": {},
   "outputs": [],
   "source": [
    "def algoritmo_euclides(a,b):\n",
    "    if gmpy2.t_mod(a,b) == 0:\n",
    "        return b\n",
    "    else:\n",
    "        return algoritmo_euclides(b, gmpy2.t_mod(a,b))"
   ]
  },
  {
   "cell_type": "code",
   "execution_count": 17,
   "id": "fcdb17ab",
   "metadata": {
    "scrolled": true
   },
   "outputs": [
    {
     "name": "stdout",
     "output_type": "stream",
     "text": [
      "3\n"
     ]
    }
   ],
   "source": [
    "mcd=algoritmo_euclides(39,150)\n",
    "print(mcd)"
   ]
  },
  {
   "cell_type": "code",
   "execution_count": 18,
   "id": "b353eca6",
   "metadata": {},
   "outputs": [
    {
     "data": {
      "text/plain": [
       "mpz(1)"
      ]
     },
     "execution_count": 18,
     "metadata": {},
     "output_type": "execute_result"
    }
   ],
   "source": [
    "algoritmo_euclides(7,15)"
   ]
  },
  {
   "cell_type": "code",
   "execution_count": 19,
   "id": "885404f8",
   "metadata": {},
   "outputs": [
    {
     "data": {
      "text/plain": [
       "'\\nVERSIÓN SIN GMP \\n\\ndef algoritmo_euclides_extendido(a,b):\\n\\n    # Identidad de Bézout 1=u*a + v*b\\n    # El inverso de a módulo b es u. Recíprocamente, el inverso de b mod a es v\\n    if a==0:\\n        mcd=b\\n        u=0\\n        v=1\\n    else:\\n        mcd, x, y = algoritmo_euclides_extendido(b%a, a)\\n        u=y-(b//a)*x\\n        v=x\\n        \\n    return mcd, u, v\\n'"
      ]
     },
     "execution_count": 19,
     "metadata": {},
     "output_type": "execute_result"
    }
   ],
   "source": [
    "\"\"\"\n",
    "VERSIÓN SIN GMP \n",
    "\n",
    "def algoritmo_euclides_extendido(a,b):\n",
    "\n",
    "    # Identidad de Bézout 1=u*a + v*b\n",
    "    # El inverso de a módulo b es u. Recíprocamente, el inverso de b mod a es v\n",
    "    if a==0:\n",
    "        mcd=b\n",
    "        u=0\n",
    "        v=1\n",
    "    else:\n",
    "        mcd, x, y = algoritmo_euclides_extendido(b%a, a)\n",
    "        u=y-(b//a)*x\n",
    "        v=x\n",
    "        \n",
    "    return mcd, u, v\n",
    "\"\"\""
   ]
  },
  {
   "cell_type": "code",
   "execution_count": 20,
   "id": "5dc05ac1",
   "metadata": {},
   "outputs": [],
   "source": [
    "def algoritmo_euclides_extendido(a,b):\n",
    "    \"\"\"\n",
    "    # Condición a>b, sino las cambiamos\n",
    "    if b>a:\n",
    "        aux=a\n",
    "        a=b\n",
    "        b=aux\n",
    "    \"\"\"\n",
    "    # Identidad de Bézout 1=u*a + v*b\n",
    "    # El inverso de a módulo b es u. Recíprocamente, el inverso de b mod a es v\n",
    "    if a==0:\n",
    "        mcd=b\n",
    "        u=0\n",
    "        v=1\n",
    "    else:\n",
    "        mcd, x, y = algoritmo_euclides_extendido(gmpy2.c_mod(b,a), a)\n",
    "        u=gmpy2.sub(y,(gmpy2.mul(gmpy2.c_div(b,a),x)))\n",
    "        v=x\n",
    "        \n",
    "    return mcd, u, v"
   ]
  },
  {
   "cell_type": "code",
   "execution_count": 21,
   "id": "cc975e3d",
   "metadata": {},
   "outputs": [],
   "source": [
    "def inverso(a,m):\n",
    "    result = algoritmo_euclides_extendido(a,m)\n",
    "    # Comprobamos que el mcd es 1 para que exista inverso multiplicativo\n",
    "    # En consecuencia, a y m determinan una función afín inyectiva\n",
    "    if result[0] == 1:\n",
    "        # Entonces devolvemos el coeficiente u (que acompaña a) de la Id. de Bézout\n",
    "        inv=result[1]\n",
    "        return inv\n",
    "    else:\n",
    "        print(\"Error\")"
   ]
  },
  {
   "cell_type": "code",
   "execution_count": 22,
   "id": "721d1ca5",
   "metadata": {},
   "outputs": [],
   "source": [
    "def read_input(i):\n",
    "    # Primero tomamos el input de i o de la entrada estándar\n",
    "    if i==0:\n",
    "        cadena=input()\n",
    "    else:\n",
    "        file=open(i, \"r\")\n",
    "        cadena=file.read()\n",
    "        file.close()\n",
    "    print(\"Cadena: {}\".format(cadena))\n",
    "    return cadena"
   ]
  },
  {
   "cell_type": "code",
   "execution_count": 23,
   "id": "d0ca9f79",
   "metadata": {},
   "outputs": [],
   "source": [
    "def print_output(o,cadena):\n",
    "    if o==0:\n",
    "        print(\"Cadena: {}\".format(cadena))\n",
    "    else:\n",
    "        file=open(o, \"w\")\n",
    "        cadenaToStr = ' '.join([str(elem) for elem in cadena])\n",
    "        file.write(cadenaToStr)\n",
    "        file.close()"
   ]
  },
  {
   "cell_type": "code",
   "execution_count": 24,
   "id": "d60e34da",
   "metadata": {},
   "outputs": [],
   "source": [
    "def afin(modo,m,a,b,i=0,o=0):\n",
    "    alfabeto='abcdefghijklmnopqrstuvwxyz'\n",
    "    if algoritmo_euclides(a,m) == 1:\n",
    "        if modo==\"-C\":\n",
    "            cadena=read_input(i)\n",
    "            #Traducimos los caracteres a números\n",
    "            cadena_numerica=[]\n",
    "            for k in cadena:\n",
    "                if k in alfabeto: \n",
    "                    cadena_numerica.append(alfabeto.index(k))\n",
    "            cadena_cifrada=[]\n",
    "            for k in cadena_numerica:\n",
    "                cadena_cifrada.append(((a*k)+b)%m)\n",
    "            print_output(o,cadena_cifrada)\n",
    "        elif modo==\"-D\":\n",
    "            cadena_cifrada=read_input(i)\n",
    "            cadena_cifrada=cadena_cifrada.split(\", \")\n",
    "            cadena_descifrada=[]\n",
    "            cadena_texto=[]\n",
    "            inv=inverso(a,m)\n",
    "            for i in range(len(cadena_cifrada)):\n",
    "                cadena_cifrada[i]=int(cadena_cifrada[i])\n",
    "            for k in cadena_cifrada:\n",
    "                k_descifrado=gmpy2.c_mod(gmpy2.mul((k-b),inv),m)\n",
    "                if k_descifrado<0:\n",
    "                    k_descifrado=m+k_descifrado\n",
    "                cadena_descifrada.append(k_descifrado)\n",
    "                cadena_texto.append(alfabeto[k_descifrado])\n",
    "            \n",
    "            print_output(o, cadena_texto)\n",
    "    else:\n",
    "        print(\"{} y {} no son primos relativos. Error\".format(a,m))"
   ]
  },
  {
   "cell_type": "code",
   "execution_count": 25,
   "id": "dfbffa2c",
   "metadata": {},
   "outputs": [
    {
     "name": "stdout",
     "output_type": "stream",
     "text": [
      "Cadena: Hola Nueva York!\n",
      "Cadena: [13, 22, 3, 21, 17, 18, 3, 13, 4, 25]\n"
     ]
    }
   ],
   "source": [
    "afin(\"-C\",26,23,3,\"cadena.txt\")"
   ]
  },
  {
   "cell_type": "code",
   "execution_count": 26,
   "id": "27ea3ba9",
   "metadata": {
    "scrolled": true
   },
   "outputs": [
    {
     "name": "stdout",
     "output_type": "stream",
     "text": [
      "16 y 130 no son primos relativos. Error\n"
     ]
    }
   ],
   "source": [
    "afin(\"-C\",130,16,27)"
   ]
  },
  {
   "cell_type": "code",
   "execution_count": 27,
   "id": "24513c1e",
   "metadata": {
    "scrolled": true
   },
   "outputs": [
    {
     "name": "stdout",
     "output_type": "stream",
     "text": [
      "\n",
      "Cadena: \n",
      "Cadena: []\n"
     ]
    }
   ],
   "source": [
    "afin(\"-C\",52,23,3)"
   ]
  },
  {
   "cell_type": "code",
   "execution_count": 28,
   "id": "0d6d733f",
   "metadata": {},
   "outputs": [
    {
     "name": "stdout",
     "output_type": "stream",
     "text": [
      "\n",
      "Cadena: \n"
     ]
    },
    {
     "ename": "ValueError",
     "evalue": "invalid literal for int() with base 10: ''",
     "output_type": "error",
     "traceback": [
      "\u001b[1;31m---------------------------------------------------------------------------\u001b[0m",
      "\u001b[1;31mValueError\u001b[0m                                Traceback (most recent call last)",
      "Input \u001b[1;32mIn [28]\u001b[0m, in \u001b[0;36m<cell line: 1>\u001b[1;34m()\u001b[0m\n\u001b[1;32m----> 1\u001b[0m \u001b[43mafin\u001b[49m\u001b[43m(\u001b[49m\u001b[38;5;124;43m\"\u001b[39;49m\u001b[38;5;124;43m-D\u001b[39;49m\u001b[38;5;124;43m\"\u001b[39;49m\u001b[43m,\u001b[49m\u001b[38;5;241;43m52\u001b[39;49m\u001b[43m,\u001b[49m\u001b[38;5;241;43m23\u001b[39;49m\u001b[43m,\u001b[49m\u001b[38;5;241;43m3\u001b[39;49m\u001b[43m)\u001b[49m\n",
      "Input \u001b[1;32mIn [24]\u001b[0m, in \u001b[0;36mafin\u001b[1;34m(modo, m, a, b, i, o)\u001b[0m\n\u001b[0;32m     20\u001b[0m inv\u001b[38;5;241m=\u001b[39minverso(a,m)\n\u001b[0;32m     21\u001b[0m \u001b[38;5;28;01mfor\u001b[39;00m i \u001b[38;5;129;01min\u001b[39;00m \u001b[38;5;28mrange\u001b[39m(\u001b[38;5;28mlen\u001b[39m(cadena_cifrada)):\n\u001b[1;32m---> 22\u001b[0m     cadena_cifrada[i]\u001b[38;5;241m=\u001b[39m\u001b[38;5;28;43mint\u001b[39;49m\u001b[43m(\u001b[49m\u001b[43mcadena_cifrada\u001b[49m\u001b[43m[\u001b[49m\u001b[43mi\u001b[49m\u001b[43m]\u001b[49m\u001b[43m)\u001b[49m\n\u001b[0;32m     23\u001b[0m \u001b[38;5;28;01mfor\u001b[39;00m k \u001b[38;5;129;01min\u001b[39;00m cadena_cifrada:\n\u001b[0;32m     24\u001b[0m     k_descifrado\u001b[38;5;241m=\u001b[39mgmpy2\u001b[38;5;241m.\u001b[39mc_mod(gmpy2\u001b[38;5;241m.\u001b[39mmul((k\u001b[38;5;241m-\u001b[39mb),inv),m)\n",
      "\u001b[1;31mValueError\u001b[0m: invalid literal for int() with base 10: ''"
     ]
    }
   ],
   "source": [
    "afin(\"-D\",52,23,3)"
   ]
  },
  {
   "cell_type": "code",
   "execution_count": 29,
   "id": "e1cd5bc9",
   "metadata": {
    "scrolled": false
   },
   "outputs": [
    {
     "name": "stdout",
     "output_type": "stream",
     "text": [
      "Cadena: 34, 13, 48, 3, 16, 47, 43, 18, 3, 9, 13, 30, 25\n"
     ]
    },
    {
     "ename": "IndexError",
     "evalue": "string index out of range",
     "output_type": "error",
     "traceback": [
      "\u001b[1;31m---------------------------------------------------------------------------\u001b[0m",
      "\u001b[1;31mIndexError\u001b[0m                                Traceback (most recent call last)",
      "Input \u001b[1;32mIn [29]\u001b[0m, in \u001b[0;36m<cell line: 1>\u001b[1;34m()\u001b[0m\n\u001b[1;32m----> 1\u001b[0m \u001b[43mafin\u001b[49m\u001b[43m(\u001b[49m\u001b[38;5;124;43m\"\u001b[39;49m\u001b[38;5;124;43m-D\u001b[39;49m\u001b[38;5;124;43m\"\u001b[39;49m\u001b[43m,\u001b[49m\u001b[38;5;241;43m52\u001b[39;49m\u001b[43m,\u001b[49m\u001b[38;5;241;43m23\u001b[39;49m\u001b[43m,\u001b[49m\u001b[38;5;241;43m3\u001b[39;49m\u001b[43m,\u001b[49m\u001b[38;5;124;43m\"\u001b[39;49m\u001b[38;5;124;43mcadena_cifrada.txt\u001b[39;49m\u001b[38;5;124;43m\"\u001b[39;49m\u001b[43m,\u001b[49m\u001b[38;5;124;43m\"\u001b[39;49m\u001b[38;5;124;43mresultado.txt\u001b[39;49m\u001b[38;5;124;43m\"\u001b[39;49m\u001b[43m)\u001b[49m\n",
      "Input \u001b[1;32mIn [24]\u001b[0m, in \u001b[0;36mafin\u001b[1;34m(modo, m, a, b, i, o)\u001b[0m\n\u001b[0;32m     26\u001b[0m                 k_descifrado\u001b[38;5;241m=\u001b[39mm\u001b[38;5;241m+\u001b[39mk_descifrado\n\u001b[0;32m     27\u001b[0m             cadena_descifrada\u001b[38;5;241m.\u001b[39mappend(k_descifrado)\n\u001b[1;32m---> 28\u001b[0m             cadena_texto\u001b[38;5;241m.\u001b[39mappend(\u001b[43malfabeto\u001b[49m\u001b[43m[\u001b[49m\u001b[43mk_descifrado\u001b[49m\u001b[43m]\u001b[49m)\n\u001b[0;32m     30\u001b[0m         print_output(o, cadena_texto)\n\u001b[0;32m     31\u001b[0m \u001b[38;5;28;01melse\u001b[39;00m:\n",
      "\u001b[1;31mIndexError\u001b[0m: string index out of range"
     ]
    }
   ],
   "source": [
    "afin(\"-D\",52,23,3,\"cadena_cifrada.txt\",\"resultado.txt\")"
   ]
  },
  {
   "cell_type": "markdown",
   "id": "349e1f96",
   "metadata": {},
   "source": [
    "## 1.b Criptoanálisis del cifrado afín"
   ]
  },
  {
   "cell_type": "code",
   "execution_count": 30,
   "id": "05293d17",
   "metadata": {},
   "outputs": [],
   "source": [
    "alfabeto='abcdefghijklmnopqrstuvwxyz'\n",
    "digrama=([])\n",
    "for i in alfabeto:\n",
    "    for j in alfabeto:\n",
    "        digrama.append(i+j)\n",
    "\n"
   ]
  },
  {
   "cell_type": "code",
   "execution_count": 31,
   "id": "af2ff443",
   "metadata": {},
   "outputs": [],
   "source": [
    "def afin_no_trivial(modo, m, a, b, i=0, o=0):\n",
    "    \n",
    "    alfabeto='abcdefghijklmnopqrstuvwxyz'\n",
    "    digrama=([]) #generamos un vetor de di-gramas del alfabeto que hemos declarado arriba\n",
    "    for i in alfabeto:\n",
    "        for j in alfabeto:\n",
    "            digrama.append(i+j)\n",
    "    \n",
    "    if algoritmo_euclides(a,m) == 1:\n",
    "        if modo==\"-C\":\n",
    "            \n",
    "            cadena=read_input(i)\n",
    "            #cadena=input()\n",
    "            \n",
    "            #Traducimos los caracteres a números\n",
    "            cadena_numerica=[]\n",
    "            \n",
    "            j=0\n",
    "            if len(cadena)%2==0:\n",
    "                while j <(len(cadena)-1):\n",
    "                    cadena_numerica.append(digrama.index(cadena[j]+cadena[j+1]))\n",
    "                    j=j+2\n",
    "            else:\n",
    "                while j <(len(cadena)-2):\n",
    "                    cadena_numerica.append(digrama.index(cadena[j]+cadena[j+1]))\n",
    "                    j=j+2\n",
    "                cadena_numerica.append(alfabeto.index(cadena[len(cadena)-1])) #como es impar, la última letra la ciframos aparte\n",
    "                \n",
    "            cadena_cifrada=[]\n",
    "            for k in cadena_numerica:\n",
    "                cadena_cifrada.append(((a*k)+b)%m)\n",
    "            print_output(o,cadena_cifrada)\n",
    "            \n",
    "        elif modo==\"-D\":\n",
    "            \n",
    "            #cadena_cifrada=read_input(i)\n",
    "            cadena_cifrada=input()\n",
    "            cadena_cifrada=cadena_cifrada.split(\", \")\n",
    "            cadena_descifrada=[]\n",
    "            cadena_texto=[]\n",
    "            inv=inverso(a,m)\n",
    "            \n",
    "            for i in range(len(cadena_cifrada)):\n",
    "                cadena_cifrada[i]=int(cadena_cifrada[i])\n",
    "            \n",
    "            for k in cadena_cifrada:\n",
    "                k_descifrado=gmpy2.c_mod(gmpy2.mul((k-b),inv),m)\n",
    "              \n",
    "                if k_descifrado<0:\n",
    "                    k_descifrado=m+k_descifrado\n",
    "                cadena_descifrada.append(k_descifrado)\n",
    "          \n",
    "            for k in cadena_descifrada:\n",
    "                    cadena_texto.append(digrama[k])\n",
    "                    \n",
    "            if len(cadena_descifrada)%2!=0:\n",
    "                cadena_texto[len(cadena_texto)-1]=alfabeto[cadena_descifrada[(len(cadena_descifrada)-1)]]\n",
    "            \n",
    "            print_output(o, cadena_texto)\n",
    "    else:\n",
    "        print(\"{} y {} no son primos relativos. Error\".format(a,m))"
   ]
  },
  {
   "cell_type": "code",
   "execution_count": 32,
   "id": "995098f2",
   "metadata": {},
   "outputs": [
    {
     "ename": "FileNotFoundError",
     "evalue": "[Errno 2] No such file or directory: 'z'",
     "output_type": "error",
     "traceback": [
      "\u001b[1;31m---------------------------------------------------------------------------\u001b[0m",
      "\u001b[1;31mFileNotFoundError\u001b[0m                         Traceback (most recent call last)",
      "Input \u001b[1;32mIn [32]\u001b[0m, in \u001b[0;36m<cell line: 1>\u001b[1;34m()\u001b[0m\n\u001b[1;32m----> 1\u001b[0m \u001b[43mafin_no_trivial\u001b[49m\u001b[43m(\u001b[49m\u001b[38;5;124;43m\"\u001b[39;49m\u001b[38;5;124;43m-C\u001b[39;49m\u001b[38;5;124;43m\"\u001b[39;49m\u001b[43m,\u001b[49m\u001b[38;5;241;43m675\u001b[39;49m\u001b[43m,\u001b[49m\u001b[38;5;241;43m23\u001b[39;49m\u001b[43m,\u001b[49m\u001b[38;5;241;43m3\u001b[39;49m\u001b[43m,\u001b[49m\u001b[38;5;241;43m0\u001b[39;49m\u001b[43m,\u001b[49m\u001b[38;5;241;43m0\u001b[39;49m\u001b[43m)\u001b[49m\n",
      "Input \u001b[1;32mIn [31]\u001b[0m, in \u001b[0;36mafin_no_trivial\u001b[1;34m(modo, m, a, b, i, o)\u001b[0m\n\u001b[0;32m      9\u001b[0m \u001b[38;5;28;01mif\u001b[39;00m algoritmo_euclides(a,m) \u001b[38;5;241m==\u001b[39m \u001b[38;5;241m1\u001b[39m:\n\u001b[0;32m     10\u001b[0m     \u001b[38;5;28;01mif\u001b[39;00m modo\u001b[38;5;241m==\u001b[39m\u001b[38;5;124m\"\u001b[39m\u001b[38;5;124m-C\u001b[39m\u001b[38;5;124m\"\u001b[39m:\n\u001b[1;32m---> 12\u001b[0m         cadena\u001b[38;5;241m=\u001b[39m\u001b[43mread_input\u001b[49m\u001b[43m(\u001b[49m\u001b[43mi\u001b[49m\u001b[43m)\u001b[49m\n\u001b[0;32m     13\u001b[0m         \u001b[38;5;66;03m#cadena=input()\u001b[39;00m\n\u001b[0;32m     14\u001b[0m         \n\u001b[0;32m     15\u001b[0m         \u001b[38;5;66;03m#Traducimos los caracteres a números\u001b[39;00m\n\u001b[0;32m     16\u001b[0m         cadena_numerica\u001b[38;5;241m=\u001b[39m[]\n",
      "Input \u001b[1;32mIn [22]\u001b[0m, in \u001b[0;36mread_input\u001b[1;34m(i)\u001b[0m\n\u001b[0;32m      4\u001b[0m     cadena\u001b[38;5;241m=\u001b[39m\u001b[38;5;28minput\u001b[39m()\n\u001b[0;32m      5\u001b[0m \u001b[38;5;28;01melse\u001b[39;00m:\n\u001b[1;32m----> 6\u001b[0m     file\u001b[38;5;241m=\u001b[39m\u001b[38;5;28;43mopen\u001b[39;49m\u001b[43m(\u001b[49m\u001b[43mi\u001b[49m\u001b[43m,\u001b[49m\u001b[43m \u001b[49m\u001b[38;5;124;43m\"\u001b[39;49m\u001b[38;5;124;43mr\u001b[39;49m\u001b[38;5;124;43m\"\u001b[39;49m\u001b[43m)\u001b[49m\n\u001b[0;32m      7\u001b[0m     cadena\u001b[38;5;241m=\u001b[39mfile\u001b[38;5;241m.\u001b[39mread()\n\u001b[0;32m      8\u001b[0m     file\u001b[38;5;241m.\u001b[39mclose()\n",
      "\u001b[1;31mFileNotFoundError\u001b[0m: [Errno 2] No such file or directory: 'z'"
     ]
    }
   ],
   "source": [
    "afin_no_trivial(\"-C\",675,23,3,0,0)"
   ]
  },
  {
   "cell_type": "code",
   "execution_count": 33,
   "id": "dd32a5f1",
   "metadata": {},
   "outputs": [
    {
     "name": "stdout",
     "output_type": "stream",
     "text": [
      "\n"
     ]
    },
    {
     "ename": "ValueError",
     "evalue": "invalid literal for int() with base 10: ''",
     "output_type": "error",
     "traceback": [
      "\u001b[1;31m---------------------------------------------------------------------------\u001b[0m",
      "\u001b[1;31mValueError\u001b[0m                                Traceback (most recent call last)",
      "Input \u001b[1;32mIn [33]\u001b[0m, in \u001b[0;36m<cell line: 1>\u001b[1;34m()\u001b[0m\n\u001b[1;32m----> 1\u001b[0m \u001b[43mafin_no_trivial\u001b[49m\u001b[43m(\u001b[49m\u001b[38;5;124;43m\"\u001b[39;49m\u001b[38;5;124;43m-D\u001b[39;49m\u001b[38;5;124;43m\"\u001b[39;49m\u001b[43m,\u001b[49m\u001b[38;5;241;43m675\u001b[39;49m\u001b[43m,\u001b[49m\u001b[38;5;241;43m23\u001b[39;49m\u001b[43m,\u001b[49m\u001b[38;5;241;43m3\u001b[39;49m\u001b[43m)\u001b[49m\n",
      "Input \u001b[1;32mIn [31]\u001b[0m, in \u001b[0;36mafin_no_trivial\u001b[1;34m(modo, m, a, b, i, o)\u001b[0m\n\u001b[0;32m     41\u001b[0m inv\u001b[38;5;241m=\u001b[39minverso(a,m)\n\u001b[0;32m     43\u001b[0m \u001b[38;5;28;01mfor\u001b[39;00m i \u001b[38;5;129;01min\u001b[39;00m \u001b[38;5;28mrange\u001b[39m(\u001b[38;5;28mlen\u001b[39m(cadena_cifrada)):\n\u001b[1;32m---> 44\u001b[0m     cadena_cifrada[i]\u001b[38;5;241m=\u001b[39m\u001b[38;5;28;43mint\u001b[39;49m\u001b[43m(\u001b[49m\u001b[43mcadena_cifrada\u001b[49m\u001b[43m[\u001b[49m\u001b[43mi\u001b[49m\u001b[43m]\u001b[49m\u001b[43m)\u001b[49m\n\u001b[0;32m     46\u001b[0m \u001b[38;5;28;01mfor\u001b[39;00m k \u001b[38;5;129;01min\u001b[39;00m cadena_cifrada:\n\u001b[0;32m     47\u001b[0m     k_descifrado\u001b[38;5;241m=\u001b[39mgmpy2\u001b[38;5;241m.\u001b[39mc_mod(gmpy2\u001b[38;5;241m.\u001b[39mmul((k\u001b[38;5;241m-\u001b[39mb),inv),m)\n",
      "\u001b[1;31mValueError\u001b[0m: invalid literal for int() with base 10: ''"
     ]
    }
   ],
   "source": [
    "afin_no_trivial(\"-D\",675,23,3)"
   ]
  },
  {
   "cell_type": "code",
   "execution_count": 34,
   "id": "23215917",
   "metadata": {},
   "outputs": [],
   "source": [
    "def fortaleza(m):\n",
    "    z_m_inv=sympy.totient(m) #calculamos la funcion phi\n",
    "    return gmpy2.mul((m),z_m_inv) #calculamos la fortaleza multiplicando Zm y Zm*\n"
   ]
  },
  {
   "cell_type": "code",
   "execution_count": 35,
   "id": "a3950894",
   "metadata": {},
   "outputs": [
    {
     "data": {
      "text/plain": [
       "mpz(1248)"
      ]
     },
     "execution_count": 35,
     "metadata": {},
     "output_type": "execute_result"
    }
   ],
   "source": [
    "fortaleza(26**26+26)\n",
    "fortaleza(26)\n",
    "fortaleza(52)\n"
   ]
  },
  {
   "cell_type": "code",
   "execution_count": 36,
   "id": "00f00288",
   "metadata": {},
   "outputs": [
    {
     "ename": "SyntaxError",
     "evalue": "invalid syntax (3617434814.py, line 1)",
     "output_type": "error",
     "traceback": [
      "\u001b[1;36m  Input \u001b[1;32mIn [36]\u001b[1;36m\u001b[0m\n\u001b[1;33m    El cifrado afin muy vulnerable a los ataques. Principalmente al de analisis\u001b[0m\n\u001b[1;37m       ^\u001b[0m\n\u001b[1;31mSyntaxError\u001b[0m\u001b[1;31m:\u001b[0m invalid syntax\n"
     ]
    }
   ],
   "source": [
    "El cifrado afin muy vulnerable a los ataques. Principalmente al de analisis \n",
    "de frecuencias y busqueda en el espacio de claves."
   ]
  },
  {
   "cell_type": "code",
   "execution_count": 37,
   "id": "cdf262a6",
   "metadata": {},
   "outputs": [],
   "source": [
    "def cambiar_orden(castellano):\n",
    "    \n",
    "    aux=np.array([])\n",
    "    for i in range(len(castellano)):\n",
    "        cambios=np.array([])\n",
    "        cambios=np.append(cambios,castellano[i])\n",
    "        for j in range(len(castellano)):\n",
    "            if castellano[j] not in cambios:\n",
    "                cambios=np.append(cambios,castellano[j])\n",
    "        aux=np.append(aux,cambios)\n",
    "        \n",
    "    for i in range(len(castellano)):\n",
    "        cambios=np.array([])\n",
    "        cambios=np.append(cambios,castellano[i])            \n",
    "        for j in reversed(range(len(castellano))):\n",
    "            if castellano[j] not in cambios:\n",
    "                cambios=np.append(cambios,castellano[j])\n",
    "        aux=np.append(aux,cambios)\n",
    "    \n",
    "    lista=np.reshape(aux, (2*len(castellano), len(castellano)))\n",
    "    \n",
    "    \n",
    "    return lista"
   ]
  },
  {
   "cell_type": "code",
   "execution_count": 38,
   "id": "0fa212c8",
   "metadata": {},
   "outputs": [],
   "source": [
    "def cambiar_ord(castellano):\n",
    "    auxi=castellano\n",
    "    aux=np.array([])\n",
    "    \n",
    "    i=0\n",
    "    aux=np.append(aux,castellano)\n",
    "    while i <len(castellano)-1:\n",
    "        \n",
    "        for j in range(len(castellano)):\n",
    "            \n",
    "            a=auxi[j]\n",
    "            auxi=np.insert(auxi,len(auxi),a)\n",
    "            print(auxi)\n",
    "            auxi=np.delete(auxi,j)\n",
    "            print(auxi)\n",
    "            aux=np.append(aux,auxi)\n",
    "        i=i+1\n",
    "        \n",
    "    lista=np.reshape(aux, (7, len(castellano)))\n",
    "    print(lista)\n",
    "        "
   ]
  },
  {
   "cell_type": "code",
   "execution_count": 39,
   "id": "580671c2",
   "metadata": {},
   "outputs": [
    {
     "name": "stdout",
     "output_type": "stream",
     "text": [
      "['a' 'b' 'c' 'a']\n",
      "['b' 'c' 'a']\n",
      "['b' 'c' 'a' 'c']\n",
      "['b' 'a' 'c']\n",
      "['b' 'a' 'c' 'c']\n",
      "['b' 'a' 'c']\n",
      "['b' 'a' 'c' 'b']\n",
      "['a' 'c' 'b']\n",
      "['a' 'c' 'b' 'c']\n",
      "['a' 'b' 'c']\n",
      "['a' 'b' 'c' 'c']\n",
      "['a' 'b' 'c']\n",
      "[['a' 'b' 'c']\n",
      " ['b' 'c' 'a']\n",
      " ['b' 'a' 'c']\n",
      " ['b' 'a' 'c']\n",
      " ['a' 'c' 'b']\n",
      " ['a' 'b' 'c']\n",
      " ['a' 'b' 'c']]\n"
     ]
    }
   ],
   "source": [
    "cambiar_ord(['a', 'b', 'c'])\n"
   ]
  },
  {
   "cell_type": "code",
   "execution_count": 40,
   "id": "9d3c8869",
   "metadata": {},
   "outputs": [
    {
     "data": {
      "text/plain": [
       "array([['a', 'b', 'c', 'e', 'f'],\n",
       "       ['b', 'a', 'c', 'e', 'f'],\n",
       "       ['c', 'a', 'b', 'e', 'f'],\n",
       "       ['e', 'a', 'b', 'c', 'f'],\n",
       "       ['f', 'a', 'b', 'c', 'e'],\n",
       "       ['a', 'f', 'e', 'c', 'b'],\n",
       "       ['b', 'f', 'e', 'c', 'a'],\n",
       "       ['c', 'f', 'e', 'b', 'a'],\n",
       "       ['e', 'f', 'c', 'b', 'a'],\n",
       "       ['f', 'e', 'c', 'b', 'a']], dtype='<U32')"
      ]
     },
     "execution_count": 40,
     "metadata": {},
     "output_type": "execute_result"
    }
   ],
   "source": [
    "cambiar_orden(['a', 'b', 'c', 'e', 'f'])"
   ]
  },
  {
   "cell_type": "code",
   "execution_count": 41,
   "id": "21a61480",
   "metadata": {},
   "outputs": [
    {
     "ename": "SyntaxError",
     "evalue": "invalid syntax (3765980283.py, line 36)",
     "output_type": "error",
     "traceback": [
      "\u001b[1;36m  Input \u001b[1;32mIn [41]\u001b[1;36m\u001b[0m\n\u001b[1;33m    a=np.array([[, 1],[, 1]])\u001b[0m\n\u001b[1;37m                 ^\u001b[0m\n\u001b[1;31mSyntaxError\u001b[0m\u001b[1;31m:\u001b[0m invalid syntax\n"
     ]
    }
   ],
   "source": [
    "from collections import Counter\n",
    "\n",
    "cadena = input()\n",
    "text= cadena.split(\", \")\n",
    "letters = Counter(text)\n",
    "#letras=np.array(list(letters.items()))\n",
    "print(\"cantidad de letras = \", len(letters))\n",
    "print(letters)\n",
    "\n",
    "castellano=(['a', 11.96],['b', 0.92],['c', 2.92],['d', 6.87],['e', 16.78],['f', 0.52],['g', 0.73],\n",
    "           ['h', 0.89],['i', 4.15],['j', 0.3],['k', 0.0],['l', 8.37],['m', 2.12],['n', 7.01],\n",
    "           ['o', 8.69],['p', 2.77],['q', 1.53],['r', 4.94],['s', 7.88],['t', 3.31],['u', 4.80],\n",
    "           ['v', 0.39],['w', 0.0],['x', 0.06],['y', 1.54],['z', 0.15])\n",
    "\n",
    "ingles=(['a', 11.96],['b', 1.54],['c', 3.06],['d', 3.99],['e', 12.51],['f', 2.30],['g', 1.96],\n",
    "        ['h', 0.89],['i', 7.26],['j', 0.16],['k', 0.67],['l', 4.14],['m', 2.53],['n', 7.09],\n",
    "       ['o', 7.60],['p', 2.0],['q', 0.11],['r', 6.12],['s', 6,54],['t', 9.25],['u', 2.71],\n",
    "       ['v', 0.99],['w', 1.92],['x', 1.92],['y', 1.73],['z', 0.19])\n",
    "\n",
    "letras=sorted(letters, reverse=True)\n",
    "castellano_ord=sorted(castellano, key=lambda letra: letra[1], reverse=True)\n",
    "ingles_ord=sorted(ingles, key=lambda letra: letra[1], reverse=True)\n",
    "\n",
    "aux=np.array([])\n",
    "for i in range(len(castellano_ord)):\n",
    "    aux=np.append(aux, castellano_ord[i][0])\n",
    "\n",
    "#pruebas=cambiar_orden(aux)\n",
    "#print(len(pruebas[0]))\n",
    "#lista=list(letters.elements())\n",
    "#cambio=[]\n",
    "\n",
    "a=alfabeto.indice(castellano_ord[0][0])\n",
    "print(a)\n",
    "if(algoritmo_euclides(a,m)==1):\n",
    "    a=np.array([[, 1],[, 1]])\n",
    "    b=np.array([, ])\n",
    "    x_sol=np.linalg.solve(a,b)\n",
    "\n",
    "#for j in range(len(pruebas)):\n",
    " #   texto=[]\n",
    "  #  for elem in text:\n",
    "   #     for i in range(len(lista)):\n",
    "    #        if elem==lista[i]: #si su porcentaje es el i-esimo\n",
    "     #           texto.append(pruebas[j][i]) #lo intercambiamos por el i-esimo componente de la prueba actual\n",
    "                #cambio.append(castellano_ord[i][0])\n",
    "                \n",
    "      #          break\n",
    "    \n",
    "    \n",
    "    #print(texto)\n",
    "    \n",
    "    #print(\"es una solucion valida S/N\")\n",
    "    #print(\"otra posible solucion\")\n",
    "    #if input()==\"S\":\n",
    "     #   break\n",
    "    \n",
    "    \n",
    "    "
   ]
  },
  {
   "cell_type": "code",
   "execution_count": 42,
   "id": "5413f469",
   "metadata": {},
   "outputs": [
    {
     "name": "stdout",
     "output_type": "stream",
     "text": [
      "\n",
      "Cadena: \n",
      "Cadena: []\n"
     ]
    }
   ],
   "source": [
    "afin(\"-C\",26,23,3)\n"
   ]
  },
  {
   "cell_type": "code",
   "execution_count": 43,
   "id": "594f7944",
   "metadata": {},
   "outputs": [],
   "source": [
    "#Para los casos B,C,D y E"
   ]
  },
  {
   "cell_type": "code",
   "execution_count": 44,
   "id": "1b9cd260",
   "metadata": {},
   "outputs": [],
   "source": [
    "def criptoanalisis_afin(claro1=0,cifrado1=0, claro2=0, cifrado2=0):\n",
    "    alfabeto='abcdefghijklmnopqrstuvwxyz'\n",
    "    #obtenemos la primera pareja de textos\n",
    "    if claro1==0:\n",
    "        claro1=input()\n",
    "    else:\n",
    "        file=open(i, \"r\")\n",
    "        claro1=file.read()\n",
    "        file.close()\n",
    "    \n",
    "    if cifrado1==0:\n",
    "        cifrado1=input()\n",
    "    else:\n",
    "        file=open(i, \"r\")\n",
    "        cifrado1=file.read()\n",
    "        file.close()\n",
    "    \n",
    "    #obtenemos la segunda pareja de textos\n",
    "    if claro2==0:\n",
    "        claro2=input()\n",
    "    else:\n",
    "        file=open(i, \"r\")\n",
    "        claro2=file.read()\n",
    "        file.close()\n",
    "    \n",
    "    if cifrado2==0:\n",
    "        cifrado2=input()\n",
    "    else:\n",
    "        file=open(i, \"r\")\n",
    "        cifrado2=file.read()\n",
    "        file.close()\n",
    "    \n",
    "    #y1=a*x1+b%m -> a*x1=y1-b%m ->a=invX1*(y1-b%m)\n",
    "    #y2=a*x2+b%m->b%m= y2-a*x3\n",
    "    mod=26\n",
    "    \n",
    "    #pasamos a numero el texto claro\n",
    "    cadena_numerica1=0\n",
    "    for k in claro1:\n",
    "        if k in alfabeto: \n",
    "            cadena_numerica1=cadena_numerica1*10+alfabeto.index(k)\n",
    "    \n",
    "    cadena_numerica1=cadena_numerica1%mod\n",
    "    \n",
    "    cadena_numerica2=0\n",
    "    for k in claro2:\n",
    "        if k in alfabeto: \n",
    "            cadena_numerica2=cadena_numerica2*10+alfabeto.index(k)\n",
    "    cadena_numerica2=cadena_numerica2%mod\n",
    "    \n",
    "    #cadena_num1=str(cadena_numerica1)\n",
    "    print(cifrado1)\n",
    "    #cifrado1=(cadena_numerica1*a+b)%mod\n",
    "    #cifrado2=(cadena_numerica2*a+b)%mod\n",
    "    #a_sinmod=(cifrado1-(cifrado2-(cadena_numerica2*a)))*inv(cadena_numerica)\n",
    "    #cadena_numerica1%mod+ 1%mod -cifrado1\n",
    "    #cadena_numerica2%mod+ 1%mod -cifrado2\n",
    "   # a_sinmod=(cifrado1-(b%mod))*inv(cadena_numerica)\n",
    "    #a=a_sinmod%mod\n",
    "    #b_sinmod=cifrado2-(cadena_numerica2*a)%mod\n",
    "    #b=b_sinmod%b\n",
    "    #cifrado1=int(cifrado1)%mod\n",
    "    #cifrado2=int(cifrado2)%mod\n",
    "  \n",
    "    a=np.array([[int(cifrado1), 1],[int(cifrado2), 1]])\n",
    "    b=np.array([cadena_numerica1,cadena_numerica2 ])\n",
    "    x_sol=np.linalg.solve(a,b)\n",
    "    \n",
    "    #c=(cadena_numerica2-cadena_numerica1)\n",
    "    #print(c)\n",
    "    print(cadena_numerica1)\n",
    "    \n",
    "    #inv1=pow(cadena_numerica1-cadena_numerica1,-1,26262626)\n",
    "    #inv2=pow(cadena_numerica1,-1,26)\n",
    "    x=cadena_numerica1-cadena_numerica2\n",
    "    y=int(cifrado1)-int(cifrado2)\n",
    "    ##a=y*pow(x,-1,mod)\n",
    "    #inver=inverso((cadena_numerica2-cadena_numerica1),mod)\n",
    "    #a=(int(cifrado1)-int(cifrado2))*(inv1)\n",
    "    #b=int(cifrado1)-a*(cadena_numerica1)\n",
    "    a=x_sol[0]\n",
    "    b=x_sol[0]\n",
    "    print(x_sol)\n",
    "    print(a)\n",
    "    print(b)\n",
    "    if a<0:\n",
    "        a=mod+a\n",
    "    if b<0:\n",
    "        b=mod+b\n",
    "\n",
    "    print(a%mod)\n",
    "    print(b%mod)\n",
    "    "
   ]
  },
  {
   "cell_type": "code",
   "execution_count": 45,
   "id": "bb1d110f",
   "metadata": {},
   "outputs": [
    {
     "name": "stdout",
     "output_type": "stream",
     "text": [
      "\n",
      "\n",
      "\n",
      "\n",
      "\n"
     ]
    },
    {
     "ename": "ValueError",
     "evalue": "invalid literal for int() with base 10: ''",
     "output_type": "error",
     "traceback": [
      "\u001b[1;31m---------------------------------------------------------------------------\u001b[0m",
      "\u001b[1;31mValueError\u001b[0m                                Traceback (most recent call last)",
      "Input \u001b[1;32mIn [45]\u001b[0m, in \u001b[0;36m<cell line: 1>\u001b[1;34m()\u001b[0m\n\u001b[1;32m----> 1\u001b[0m \u001b[43mcriptoanalisis_afin\u001b[49m\u001b[43m(\u001b[49m\u001b[43m \u001b[49m\u001b[43m)\u001b[49m\n",
      "Input \u001b[1;32mIn [44]\u001b[0m, in \u001b[0;36mcriptoanalisis_afin\u001b[1;34m(claro1, cifrado1, claro2, cifrado2)\u001b[0m\n\u001b[0;32m     52\u001b[0m \u001b[38;5;28mprint\u001b[39m(cifrado1)\n\u001b[0;32m     53\u001b[0m \u001b[38;5;66;03m#cifrado1=(cadena_numerica1*a+b)%mod\u001b[39;00m\n\u001b[0;32m     54\u001b[0m \u001b[38;5;66;03m#cifrado2=(cadena_numerica2*a+b)%mod\u001b[39;00m\n\u001b[0;32m     55\u001b[0m \u001b[38;5;66;03m#a_sinmod=(cifrado1-(cifrado2-(cadena_numerica2*a)))*inv(cadena_numerica)\u001b[39;00m\n\u001b[1;32m   (...)\u001b[0m\n\u001b[0;32m     62\u001b[0m \u001b[38;5;66;03m#cifrado1=int(cifrado1)%mod\u001b[39;00m\n\u001b[0;32m     63\u001b[0m \u001b[38;5;66;03m#cifrado2=int(cifrado2)%mod\u001b[39;00m\n\u001b[1;32m---> 65\u001b[0m a\u001b[38;5;241m=\u001b[39mnp\u001b[38;5;241m.\u001b[39marray([[\u001b[38;5;28;43mint\u001b[39;49m\u001b[43m(\u001b[49m\u001b[43mcifrado1\u001b[49m\u001b[43m)\u001b[49m, \u001b[38;5;241m1\u001b[39m],[\u001b[38;5;28mint\u001b[39m(cifrado2), \u001b[38;5;241m1\u001b[39m]])\n\u001b[0;32m     66\u001b[0m b\u001b[38;5;241m=\u001b[39mnp\u001b[38;5;241m.\u001b[39marray([cadena_numerica1,cadena_numerica2 ])\n\u001b[0;32m     67\u001b[0m x_sol\u001b[38;5;241m=\u001b[39mnp\u001b[38;5;241m.\u001b[39mlinalg\u001b[38;5;241m.\u001b[39msolve(a,b)\n",
      "\u001b[1;31mValueError\u001b[0m: invalid literal for int() with base 10: ''"
     ]
    }
   ],
   "source": [
    "criptoanalisis_afin( )"
   ]
  },
  {
   "cell_type": "code",
   "execution_count": null,
   "id": "8a679257",
   "metadata": {},
   "outputs": [],
   "source": []
  },
  {
   "cell_type": "code",
   "execution_count": 46,
   "id": "f277c862",
   "metadata": {},
   "outputs": [
    {
     "ename": "SyntaxError",
     "evalue": "invalid syntax (1967006992.py, line 2)",
     "output_type": "error",
     "traceback": [
      "\u001b[1;36m  Input \u001b[1;32mIn [46]\u001b[1;36m\u001b[0m\n\u001b[1;33m    El análisis de frecuencia es el estudio de la frecuencia de letras o grupos\u001b[0m\n\u001b[1;37m       ^\u001b[0m\n\u001b[1;31mSyntaxError\u001b[0m\u001b[1;31m:\u001b[0m invalid syntax\n"
     ]
    }
   ],
   "source": [
    "#Análisis de frecuencia\n",
    "El análisis de frecuencia es el estudio de la frecuencia de letras o grupos\n",
    "de letras en un texto cifrado."
   ]
  },
  {
   "cell_type": "markdown",
   "id": "5bf621cd",
   "metadata": {},
   "source": [
    "## 2. Sustitución polialfabeto"
   ]
  },
  {
   "cell_type": "markdown",
   "id": "7d89fea6",
   "metadata": {},
   "source": [
    "## 2.a Método de Hill"
   ]
  },
  {
   "cell_type": "code",
   "execution_count": 47,
   "id": "aa473852",
   "metadata": {},
   "outputs": [],
   "source": [
    "import numpy as np\n",
    "import os\n",
    "import math\n",
    "import copy"
   ]
  },
  {
   "cell_type": "code",
   "execution_count": 48,
   "id": "2c3c6e39",
   "metadata": {},
   "outputs": [],
   "source": [
    "def determinante(matriz):\n",
    "   \n",
    "    if len(matriz)==2 and len(matriz[0])==2:\n",
    "        #calculamos el determinante\n",
    "        det=matriz[0][0]*matriz[1][1]-(matriz[1][0]*matriz[0][1])\n",
    "       \n",
    "        return det\n",
    "    else:\n",
    "        suma=0\n",
    "        for i in range(len(matriz)): #calculamos el determinante por cofactores\n",
    "            maux=copy.deepcopy(matriz)\n",
    "            maux.remove(matriz[0]) #eliminamos la primera fila\n",
    "            for j in range(len(maux)):\n",
    "                maux[j]=maux[j][0:i]+maux[j][i+1:]\n",
    "                \n",
    "         \n",
    "            suma= suma+ (-1)**((i+j)%2)*matriz[0][i]*determinante(maux)\n",
    "            \n",
    "        return suma\n",
    "        "
   ]
  },
  {
   "cell_type": "code",
   "execution_count": 49,
   "id": "9177a009",
   "metadata": {},
   "outputs": [
    {
     "name": "stdout",
     "output_type": "stream",
     "text": [
      "-8\n",
      "53\n"
     ]
    }
   ],
   "source": [
    "matriz = [[1,2,3], [3,4,5], [1,4,3]]\n",
    "print(determinante(matriz))\n",
    "matriz = [[11,8], [3,7]]\n",
    "print(determinante(matriz))"
   ]
  },
  {
   "cell_type": "code",
   "execution_count": 50,
   "id": "270c9cdd",
   "metadata": {},
   "outputs": [],
   "source": [
    "def adjunto(matriz):\n",
    "    adjunto=np.zeros(np.shape(matriz))\n",
    "    if len(matriz)==2 and len(matriz[0])==2:\n",
    "         #calculamos el adjunto\n",
    "        adjunto[0][0]=matriz[1][1]\n",
    "        adjunto[0][1]=-matriz[0][1]\n",
    "        adjunto[1][0]=-matriz[1][0]\n",
    "        adjunto[1][1]=matriz[0][0]\n",
    "        \n",
    "        return adjunto\n",
    "    else:\n",
    "        \n",
    "        for i in range(len(matriz)):\n",
    "            maux=copy.deepcopy(matriz)\n",
    "            for j in range(len(matriz)):\n",
    "             \n",
    "                maux=np.delete(matriz,i,0)\n",
    "                aux=np.delete(maux,j,1)\n",
    "                auxi=aux.tolist()\n",
    "                #la matriz de cofactores transpuesta es el djunto\n",
    "                adjunto[j][i]=(-1)**((i+j)%2)*determinante(auxi)\n",
    "            \n",
    "                \n",
    "        return adjunto"
   ]
  },
  {
   "cell_type": "code",
   "execution_count": 51,
   "id": "053f1a4a",
   "metadata": {},
   "outputs": [
    {
     "name": "stdout",
     "output_type": "stream",
     "text": [
      "[[ 7. -8.]\n",
      " [-3. 11.]]\n"
     ]
    }
   ],
   "source": [
    "matriz = [[11,8], [3,7]]\n",
    "print(adjunto(matriz))"
   ]
  },
  {
   "cell_type": "code",
   "execution_count": 52,
   "id": "267c546b",
   "metadata": {},
   "outputs": [],
   "source": [
    "def inversa(matriz,modulo):\n",
    "    inversa=np.zeros(np.shape(matriz))\n",
    "    det=determinante(matriz)%modulo\n",
    "    if det !=0:\n",
    "        adj=adjunto(matriz)%modulo\n",
    "        for i in range(len(matriz)):\n",
    "            for j in range(len(matriz[i])):\n",
    "                inversa[i][j]=(adj[i][j]/det)#%modulo\n",
    "                \n",
    "    return inversa%modulo #esto puede que no sea necesario porque ya estamos en matemática modular"
   ]
  },
  {
   "cell_type": "code",
   "execution_count": 53,
   "id": "5a3dc048",
   "metadata": {},
   "outputs": [
    {
     "name": "stdout",
     "output_type": "stream",
     "text": [
      "[[ 7. 18.]\n",
      " [23. 11.]]\n"
     ]
    }
   ],
   "source": [
    "matriz = [[11,8], [3,7]]\n",
    "print(inversa(matriz,26))"
   ]
  },
  {
   "cell_type": "code",
   "execution_count": 54,
   "id": "a150397b",
   "metadata": {},
   "outputs": [
    {
     "data": {
      "text/plain": [
       "array([[ 1,  2,  3,  4],\n",
       "       [ 9, 10, 11, 12]])"
      ]
     },
     "execution_count": 54,
     "metadata": {},
     "output_type": "execute_result"
    }
   ],
   "source": [
    "arr = np.array([[1,2,3,4], [5,6,7,8], [9,10,11,12]])\n",
    "np.delete(arr, 1, 0)"
   ]
  },
  {
   "cell_type": "code",
   "execution_count": 55,
   "id": "deeb5371",
   "metadata": {
    "scrolled": true
   },
   "outputs": [
    {
     "name": "stdout",
     "output_type": "stream",
     "text": [
      "[[1, 2, 4], [3, 5, 4], [1]]\n",
      "1\n",
      "[[1, 2, 4], [3, 5, 4], [1, 0, 0]]\n"
     ]
    },
    {
     "data": {
      "text/plain": [
       "array([[1, 2, 1],\n",
       "       [0, 2, 1],\n",
       "       [1, 0, 0]], dtype=int32)"
      ]
     },
     "execution_count": 55,
     "metadata": {},
     "output_type": "execute_result"
    }
   ],
   "source": [
    "matriz = [[1, 2, 4], [3,5,4], [1]]\n",
    "\n",
    "# Padding a la matriz\n",
    "n=3\n",
    "print(matriz)\n",
    "print(len(matriz[n-1]))\n",
    "k=len(matriz[n-1])\n",
    "if k<n:\n",
    "    padding=[0]*(n)\n",
    "    for i in range(0,k):\n",
    "        padding[i]=matriz[n-1][i]\n",
    "    matriz[n-1]=padding\n",
    "  \n",
    "print(matriz)\n",
    "matriz=np.array(matriz)\n",
    "matriz%3"
   ]
  },
  {
   "cell_type": "code",
   "execution_count": 56,
   "id": "804e7442",
   "metadata": {},
   "outputs": [
    {
     "name": "stdout",
     "output_type": "stream",
     "text": [
      "[3 5 4]\n"
     ]
    }
   ],
   "source": [
    "print(matriz[1])"
   ]
  },
  {
   "cell_type": "code",
   "execution_count": 57,
   "id": "05c07b3e",
   "metadata": {},
   "outputs": [],
   "source": [
    "def cifrar(matriz_numerica, matriz,mod,n):\n",
    "    matriz_cifrada=np.zeros((n,n))\n",
    "    \n",
    "    for i in range(len(matriz_numerica)):\n",
    "        cadena_cifrada= (np.dot(matriz_numerica[i],matriz))%mod\n",
    "        matriz_cifrada[i]=cadena_cifrada\n",
    "\n",
    "    return matriz_cifrada  "
   ]
  },
  {
   "cell_type": "code",
   "execution_count": 58,
   "id": "89e0ad6a",
   "metadata": {},
   "outputs": [],
   "source": [
    "def descifrar(matriz_cifrada, matriz,mod,n):\n",
    "    matriz_descifrada=np.zeros((n,n))\n",
    "    inv=inversa(matriz,mod)\n",
    " \n",
    "    for i in range(len(matriz_cifrada)):\n",
    "        cadena_descifrada= (np.dot(matriz_cifrada[i],inv))%mod\n",
    "        matriz_descifrada[i]=cadena_descifrada\n",
    "\n",
    "    return matriz_descifrada  "
   ]
  },
  {
   "cell_type": "code",
   "execution_count": 59,
   "id": "de5e7c5f",
   "metadata": {},
   "outputs": [],
   "source": [
    "def hill(modo,mod,n,k,i=0,o=0):\n",
    "    alfabeto='abcdefghijklmnopqrstuvwxyz'\n",
    "  \n",
    "    with open(k,'r') as f:\n",
    "        datos = ''.join(f.readlines()).replace('\\n',';')\n",
    "    matriz = np.matrix(datos).tolist()\n",
    "    f.close()\n",
    "    \n",
    "    # Padding a la matriz\n",
    "    #ult=len(matriz[n-1])\n",
    "    #if ult<n:\n",
    "     #   padding=[0]*(n)\n",
    "      #  for i in range(0,k):\n",
    "       #     padding[i]=matriz[n-1][i]\n",
    "        #matriz[n-1]=padding\n",
    "    #matriz=np.array(matriz)\n",
    "   \n",
    "    det=np.linalg.det(matriz)\n",
    "    #comprobamos que la matriz K tiene una función biyectiva\n",
    "    if algoritmo_euclides(int(det),mod)==1:\n",
    "       \n",
    "        if modo==\"-C\":\n",
    "           \n",
    "            cadena=read_input(i)\n",
    "            #Traducimos los caracteres a números\n",
    "            cadena_numerica=[]\n",
    "            for k in cadena:\n",
    "                if k in alfabeto: \n",
    "                    cadena_numerica.append(alfabeto.index(k))\n",
    "                    \n",
    "            # Dividimos en bloques de n elementos el texto\n",
    "            # Si m no es múltiplo de n se añade padding\n",
    "            m=len(cadena_numerica)/n\n",
    "            max=len(cadena_numerica)\n",
    "            matriz_numerica=np.zeros((math.ceil(m),n))\n",
    "         \n",
    "            pos=0\n",
    "            for i in range(math.ceil(m)):\n",
    "                for j in range(n):\n",
    "                    if pos<max:\n",
    "                        matriz_numerica[i][j]=cadena_numerica[pos]\n",
    "                        pos=pos+1\n",
    "                        \n",
    "            #ciframos cadena a cadena y lo guardamos en un matriz           \n",
    "            matriz_cifrada=cifrar(matriz_numerica,matriz,mod,n)\n",
    "            print_output(o,matriz_cifrada)\n",
    "           \n",
    "            \n",
    "        elif modo==\"-D\":\n",
    "            if i==0:\n",
    "                cadena_cifrada=input()\n",
    "                mat_cifrada = np.matrix(cadena_cifrada).tolist()\n",
    "                matriz_cifrada= np.reshape(mat_cifrada, (n,n))\n",
    "               \n",
    "                        \n",
    "            else:\n",
    "                \n",
    "                with open(i,'r') as f:\n",
    "                    datos = ''.join(f.readlines()).replace('\\n',';')     \n",
    "                f.close()\n",
    "                \n",
    "                matriz_cifrada = np.matrix(datos).tolist() \n",
    "        \n",
    "           \n",
    "            matriz_descifrada=descifrar(matriz_cifrada, matriz,mod,n)\n",
    "            \n",
    "            cadena_num=[]*n*n\n",
    "            for i in range(len(matriz_descifrada)):\n",
    "                for j in range(len(matriz_descifrada[i])):\n",
    "                    \n",
    "                    if matriz_descifrada[i][j]<0:\n",
    "                        matriz_descifrada[i][j]=mod+matriz_descifrada[i][j]\n",
    "        \n",
    "                    cadena_num.append(alfabeto[int(matriz_descifrada[i][j])])\n",
    "            print_output(o,cadena_num)\n",
    "            \n",
    "    else:\n",
    "        print(\"{} y {} no son primos relativos. Error\".format(det,mod))"
   ]
  },
  {
   "cell_type": "code",
   "execution_count": 60,
   "id": "9b9f563c",
   "metadata": {},
   "outputs": [
    {
     "name": "stdout",
     "output_type": "stream",
     "text": [
      "Cadena: ['h', 'o', 'l', 'a']\n"
     ]
    }
   ],
   "source": [
    "k = [[11,8], [3,7]]\n",
    "hill(\"-D\",26, 2,\"matriz_k.txt\",\"matriz_cifrada.txt\" ,0)"
   ]
  },
  {
   "cell_type": "code",
   "execution_count": 61,
   "id": "1847b014",
   "metadata": {},
   "outputs": [
    {
     "name": "stdout",
     "output_type": "stream",
     "text": [
      "\n",
      "Cadena: \n",
      "Cadena: [[0. 0.]\n",
      " [0. 0.]]\n"
     ]
    }
   ],
   "source": [
    "hill(\"-C\",26,2, \"matriz_k.txt\", 0,0 )"
   ]
  },
  {
   "cell_type": "code",
   "execution_count": 62,
   "id": "7cbc5687",
   "metadata": {},
   "outputs": [
    {
     "name": "stdout",
     "output_type": "stream",
     "text": [
      "matriz_numerica\n",
      "[[ 8. 15.]\n",
      " [12.  1.]]\n",
      "matriz cifrada\n",
      "[[ 3. 13.]\n",
      " [ 5. 25.]]\n",
      "[[ 8. 15.]\n",
      " [12.  1.]]\n",
      "matriz descifrada\n",
      "['h', 'o', 'l', 'a']\n"
     ]
    }
   ],
   "source": [
    "cadena_numerica=[8,15,12,1]\n",
    "matriz = [[11,8], [3,7]]\n",
    "n=2\n",
    "\n",
    "m=len(cadena_numerica)/n\n",
    "max=len(cadena_numerica)\n",
    "matriz_numerica=np.zeros((math.ceil(m),n))\n",
    "\n",
    "pos=0\n",
    "for i in range(math.ceil(m)):\n",
    "\n",
    "    for j in range(n):\n",
    "        \n",
    "        if pos<max:\n",
    "           \n",
    "            matriz_numerica[i][j]=cadena_numerica[pos]\n",
    "            pos=pos+1\n",
    "            \n",
    "print(\"matriz_numerica\")\n",
    "print(matriz_numerica)   \n",
    "\n",
    "matriz_cifrada=cifrar(matriz_numerica, matriz,26,n)\n",
    "print(\"matriz cifrada\")\n",
    "print(cifrar(matriz_numerica, matriz,26,n))\n",
    "\n",
    "print(descifrar(matriz_cifrada, matriz,26,n))\n",
    "print(\"matriz descifrada\")\n",
    "matriz_descifrada=descifrar(matriz_cifrada, matriz,26,n)\n",
    "alfabeto='abcdefghijklmnopqrstuvwxyz'\n",
    "cadena_num=[]*n*n\n",
    "for i in range(len(matriz_descifrada)):\n",
    "    for j in range(len(matriz_descifrada[i])):\n",
    "        if matriz_descifrada[i][j]<0:\n",
    "            matriz_descifrada[i][j]=26+matriz_descifrada[i][j]\n",
    "        cadena_num.append(alfabeto[int(matriz_descifrada[i][j])-1])\n",
    "print(cadena_num)"
   ]
  },
  {
   "cell_type": "code",
   "execution_count": 63,
   "id": "c180731e",
   "metadata": {},
   "outputs": [
    {
     "name": "stdout",
     "output_type": "stream",
     "text": [
      "[[11  8]\n",
      " [ 3  7]]\n"
     ]
    }
   ],
   "source": [
    "with open('matriz_k.txt','r') as f:\n",
    "    datos = ''.join(f.readlines()).replace('\\n',';')\n",
    "\n",
    "matriz = np.matrix(datos)\n",
    "print(matriz)"
   ]
  },
  {
   "cell_type": "markdown",
   "id": "9c79aa8d",
   "metadata": {},
   "source": [
    "## 2.b Método de Vigenere"
   ]
  },
  {
   "cell_type": "code",
   "execution_count": 64,
   "id": "f58f0ae6",
   "metadata": {},
   "outputs": [],
   "source": [
    "def vigenere(modo,k,i=0,o=0):\n",
    "    alfabeto='abcdefghijklmnopqrstuvwxyzABCDEFGHIJKLMNOPQRSTUVWXYZ'\n",
    "    base=len(alfabeto)\n",
    "    n=len(k)\n",
    "    #Traducimos la clave de caracteres a números\n",
    "    k_numerica=[]\n",
    "    for j in k:\n",
    "        if j in alfabeto: \n",
    "            k_numerica.append(alfabeto.index(j))\n",
    "    if modo==\"-C\":\n",
    "        cadena=read_input(i)\n",
    "        # Traducimos los caracteres a números\n",
    "        cadena_numerica=[]\n",
    "        for k in cadena:\n",
    "            if k in alfabeto: \n",
    "                cadena_numerica.append(alfabeto.index(k))\n",
    "        # Dividimos en bloques de n elementos el input\n",
    "        # Si m no es múltiplo de n se añade padding\n",
    "        m=len(cadena_numerica)/n\n",
    "        maxi=len(cadena_numerica)\n",
    "        matriz_numerica=np.zeros((math.ceil(m),n))\n",
    "        pos=0\n",
    "        for i in range(math.ceil(m)):\n",
    "            for j in range(n):\n",
    "                if pos<maxi:\n",
    "                    matriz_numerica[i][j]=cadena_numerica[pos]\n",
    "                    pos=pos+1\n",
    "        # Tenemos una matriz que tenemos que cifrar. \n",
    "        # Cada bloque es una fila de la matriz\n",
    "        filas=matriz_numerica.shape[0]\n",
    "        elementos=matriz_numerica.shape[1]\n",
    "        #print(\"Matriz numerica\")\n",
    "        #print(matriz_numerica)\n",
    "        matriz_cifrada=np.zeros((filas,elementos))\n",
    "        #print(\"Matriz cifrada de ceros\")\n",
    "        #print(matriz_cifrada)\n",
    "        if elementos==n:\n",
    "            print(\"Bloques ok\")\n",
    "        for i in range(filas):\n",
    "            for j in range(elementos):\n",
    "                matriz_cifrada[i][j]=(matriz_numerica[i][j]+k_numerica[j])%base\n",
    "        #print(\"Matriz cifrada\")\n",
    "        #print(matriz_cifrada)\n",
    "        cadena_cifrada=np.concatenate(matriz_cifrada)\n",
    "        #print(cadena_cifrada)\n",
    "        print_output(o,cadena_cifrada)\n",
    "    elif modo==\"-D\":\n",
    "        cadena_cifrada=read_input(i)\n",
    "        cadena_cifrada=cadena_cifrada.split(\" \")\n",
    "        #for i in range(len(cadena_cifrada)):\n",
    "        #   cadena_cifrada[i]=int(cadena_cifrada[i])\n",
    "        # Dividimos en bloques de n elementos el texto cifrado\n",
    "        # Si m no es múltiplo de n se añade padding\n",
    "        m=len(cadena_cifrada)/n\n",
    "        maxi=len(cadena_cifrada)\n",
    "        matriz_cifrada=np.zeros((math.ceil(m),n))\n",
    "        pos=0\n",
    "        for i in range(math.ceil(m)):\n",
    "            for j in range(n):\n",
    "                if pos<maxi:\n",
    "                    matriz_cifrada[i][j]=cadena_cifrada[pos]\n",
    "                    pos=pos+1\n",
    "        # Tenemos una matriz que tenemos que descifrar. \n",
    "        # Cada bloque es una fila de la matriz\n",
    "        filas=matriz_cifrada.shape[0]\n",
    "        elementos=matriz_cifrada.shape[1]\n",
    "        matriz_descifrada=np.zeros((filas,elementos))\n",
    "        if elementos==n:\n",
    "            print(\"Bloques ok\")\n",
    "        for i in range(filas):\n",
    "            for j in range(elementos):\n",
    "                matriz_descifrada[i][j]=(matriz_cifrada[i][j]-k_numerica[j])%base\n",
    "        cadena_descifrada=np.concatenate(matriz_descifrada)\n",
    "        cadena_texto=[]\n",
    "        for i in range(len(cadena_descifrada)):\n",
    "            #cadena_cifrada[i]=int(cadena_cifrada[i])\n",
    "            cadena_texto.append(alfabeto[int(cadena_descifrada[i])])\n",
    "        print_output(o,cadena_texto)"
   ]
  },
  {
   "cell_type": "code",
   "execution_count": 65,
   "id": "ead14d27",
   "metadata": {},
   "outputs": [
    {
     "name": "stdout",
     "output_type": "stream",
     "text": [
      "hola\n",
      "Cadena: hola\n",
      "Bloques ok\n",
      "Cadena: [ 9. 25. 11. 21.  4.]\n"
     ]
    }
   ],
   "source": [
    "vigenere(\"-C\", \"clave\")"
   ]
  },
  {
   "cell_type": "code",
   "execution_count": null,
   "id": "907b2b4a",
   "metadata": {},
   "outputs": [],
   "source": [
    "vigenere(\"-D\", \"clave\")\n"
   ]
  },
  {
   "cell_type": "code",
   "execution_count": 66,
   "id": "e54fdffa",
   "metadata": {},
   "outputs": [
    {
     "name": "stdout",
     "output_type": "stream",
     "text": [
      "Cadena: Universidad Autonoma de Madrid\n",
      "Bloques ok\n"
     ]
    }
   ],
   "source": [
    "vigenere(\"-C\", \"clave\", \"texto_vigenere.txt\", \"resultado_vigenere.txt\")"
   ]
  },
  {
   "cell_type": "code",
   "execution_count": 67,
   "id": "78cd3442",
   "metadata": {},
   "outputs": [
    {
     "name": "stdout",
     "output_type": "stream",
     "text": [
      "Cadena: 48.0 24.0 8.0 42.0 8.0 19.0 29.0 8.0 24.0 4.0 5.0 37.0 20.0 40.0 18.0 15.0 25.0 12.0 21.0 7.0 6.0 49.0 0.0 24.0 21.0 10.0 14.0 0.0 21.0 4.0\n",
      "Bloques ok\n"
     ]
    }
   ],
   "source": [
    "vigenere(\"-D\", \"clave\", \"resultado_vigenere.txt\", \"descifrado_vigenere.txt\")"
   ]
  },
  {
   "cell_type": "markdown",
   "id": "a1f492f4",
   "metadata": {},
   "source": [
    "## 2.c Criptoanálisis del cifrado de Vigenere"
   ]
  },
  {
   "cell_type": "code",
   "execution_count": null,
   "id": "337ef115",
   "metadata": {},
   "outputs": [],
   "source": [
    "#test de kasiski\n",
    "\n"
   ]
  },
  {
   "cell_type": "code",
   "execution_count": 68,
   "id": "ba7d46cb",
   "metadata": {},
   "outputs": [],
   "source": [
    "def calcular_divisores(n):\n",
    "    lista = []\n",
    "    for i in range(2,n):\n",
    "        if n % i == 0:\n",
    "            lista.append(i)\n",
    "    return lista"
   ]
  },
  {
   "cell_type": "code",
   "execution_count": 132,
   "id": "54c35ab1",
   "metadata": {},
   "outputs": [],
   "source": [
    "def obtener_tuplas(lista):\n",
    "    res = {}\n",
    "    freq =[]\n",
    "    cont = 0\n",
    "    i = 0\n",
    "    while i < len(lista): \n",
    "        elt= lista[i:i+3] # Cogemos al menos 3 caracteres como tamaño de la tupla\n",
    "        tam = len(elt)\n",
    "        if tam == 3: #tiene que ser 3, si no estamos al final de la lista\n",
    "            for j in range(i+1,len(lista)): #Find further in the list for the same pattern\n",
    "                if lista[i:i+tam] == lista[j:j+tam]: #Si coinciden, seguimos comprobando\n",
    "                    while lista[i:i+tam] == lista[j:j+tam]:\n",
    "                        tam = tam + 1\n",
    "                    tam = tam -1\n",
    "                    elt = lista[i:i+tam] #Ahora tenemos una tupla \n",
    "                    dist = j - i #calculamos la distancia\n",
    "                    freq.extend(calcular_divisores(dist)) #Añadimos los divisores a la lista \n",
    "                    #print (\"%s\\ti:%s\\tj:%s\\tdiff:%s\\t\\tDivisors:%s\" % (elt,i,j, dist,calcular_divisores(dist))) #Print information about the tuple (can be deleted)\n",
    "                    cont = cont +1\n",
    "                    j = j + tam + 1\n",
    "            i = i + tam -3 +1\n",
    "        else:\n",
    "            i = i + 1\n",
    "    return cont, freq"
   ]
  },
  {
   "cell_type": "code",
   "execution_count": 133,
   "id": "2aca8f51",
   "metadata": {},
   "outputs": [],
   "source": [
    "def contOcc(lista): # devuelve una lista con (caracter_decimal, occ) \n",
    "    d={}\n",
    "    for elt in lista:\n",
    "        if d.__contains__(elt): #contamos los divisores de cada uno\n",
    "            d[elt] += 1\n",
    "        else:\n",
    "            d[elt] = 1\n",
    "    return sorted(d.items(),key=lambda x: x[1], reverse=True) #ordenamos la lista en orden descendente"
   ]
  },
  {
   "cell_type": "code",
   "execution_count": 134,
   "id": "3c3cfa81",
   "metadata": {},
   "outputs": [],
   "source": [
    "def dividir_lista(key,lista): #ahora que sabemos la cardinalidad de la llave, dividimos la lista en ese modulo\n",
    "    dic = {}\n",
    "    for e in range(1,key+1):\n",
    "        dic[e] = []\n",
    "    i = 0\n",
    "    for index in range(len(lista)):\n",
    "        if i == key:\n",
    "            i = 0\n",
    "        dic[i+1].append(lista[index])\n",
    "        i = i + 1\n",
    "    return dic"
   ]
  },
  {
   "cell_type": "code",
   "execution_count": 162,
   "id": "50fa441b",
   "metadata": {},
   "outputs": [],
   "source": [
    "def descifrar_v(lista,dist):\n",
    "    lista1 = list()\n",
    "    for elem in lista:\n",
    "        valor = int(elem) - int(dist)\n",
    "        if valor < 0:\n",
    "            lista1.append(256 + (valor % -256))\n",
    "        else:\n",
    "            lista1.append(valor)\n",
    "    return lista1"
   ]
  },
  {
   "cell_type": "code",
   "execution_count": 163,
   "id": "b47a71c7",
   "metadata": {},
   "outputs": [],
   "source": [
    "def recrear_lista(dic):\n",
    "    i = 0\n",
    "    output = []\n",
    "    try:\n",
    "        while 1:\n",
    "            for l in dic.values():\n",
    "                output.append(l[i])\n",
    "            i = i + 1\n",
    "    except:\n",
    "        pass\n",
    "    return output"
   ]
  },
  {
   "cell_type": "code",
   "execution_count": 164,
   "id": "7989d0f5",
   "metadata": {},
   "outputs": [],
   "source": [
    "def criptoanalisis_vigenere(lista):\n",
    "    \n",
    "    cont,freq=obtener_tuplas(lista)\n",
    "    l=contOcc(freq)\n",
    "    #print(l)\n",
    "    for i in range(len(l)):\n",
    "        res = dividir_lista(l[i][0], lista) #We consider in this exemple a key length of 10 and l the original list\n",
    "        for i in range(1,10+1): #por cada sublista\n",
    "            occ = contOcc(res[i]) # Hacemos un analisis de frecuecia\n",
    "            #shift = (occ[0][0] - 32) % 256 # Consider the most frequent element of being a space(32 in decimal)\n",
    "            mod=occ[0][0]\n",
    "            #print (\"Frequency analysis for the index: %s\\tshift:%s\\n%s\\n\" % (i,shift,occ)) #Print informations (can be deleted)\n",
    "            res[i] = descifrar_v(res[i],int(mod)) #Intnemos descifrarlo \n",
    "\n",
    "        final = recrear_lista(res) #Once we have processed all sub-list recreate a list with all the sub-lists.\n",
    "        print (''.join([chr(x) for x in final])) #Print the result"
   ]
  },
  {
   "cell_type": "code",
   "execution_count": 165,
   "id": "e79029aa",
   "metadata": {},
   "outputs": [
    {
     "name": "stdout",
     "output_type": "stream",
     "text": [
      "48.0 24.0 8.0 42.0 8.0 19.0 29.0 8.0 24.0 4.0 5.0 37.0 20.0 40.0 18.0 15.0 25.0 12.0 21.0 7.0 6.0 49.0 0.0 24.0 21.0 10.0 14.0 0.0 21.0 4.0\n",
      "res\n",
      "[(2, 62), (3, 49), (6, 22), (4, 22), (7, 17), (5, 13), (9, 12), (14, 12), (19, 11), (8, 10), (11, 8), (12, 7), (21, 6), (10, 6), (16, 5), (13, 5), (28, 4), (15, 4), (22, 3), (33, 3), (26, 3), (38, 3), (23, 2), (42, 2), (47, 2), (35, 2), (24, 2), (17, 2), (61, 1), (25, 1), (27, 1), (18, 1), (30, 1), (45, 1), (31, 1)]\n",
      "2\n"
     ]
    },
    {
     "ename": "ValueError",
     "evalue": "invalid literal for int() with base 10: '.'",
     "output_type": "error",
     "traceback": [
      "\u001b[1;31m---------------------------------------------------------------------------\u001b[0m",
      "\u001b[1;31mValueError\u001b[0m                                Traceback (most recent call last)",
      "Input \u001b[1;32mIn [165]\u001b[0m, in \u001b[0;36m<cell line: 9>\u001b[1;34m()\u001b[0m\n\u001b[0;32m      7\u001b[0m \u001b[38;5;28mprint\u001b[39m(res)\n\u001b[0;32m      8\u001b[0m \u001b[38;5;28mprint\u001b[39m(res[\u001b[38;5;241m0\u001b[39m][\u001b[38;5;241m0\u001b[39m])\n\u001b[1;32m----> 9\u001b[0m \u001b[43mcriptoanalisis_vigenere\u001b[49m\u001b[43m(\u001b[49m\u001b[43mlista\u001b[49m\u001b[43m)\u001b[49m\n",
      "Input \u001b[1;32mIn [164]\u001b[0m, in \u001b[0;36mcriptoanalisis_vigenere\u001b[1;34m(lista)\u001b[0m\n\u001b[0;32m     11\u001b[0m     mod\u001b[38;5;241m=\u001b[39mocc[\u001b[38;5;241m0\u001b[39m][\u001b[38;5;241m0\u001b[39m]\n\u001b[0;32m     12\u001b[0m     \u001b[38;5;66;03m#print (\"Frequency analysis for the index: %s\\tshift:%s\\n%s\\n\" % (i,shift,occ)) #Print informations (can be deleted)\u001b[39;00m\n\u001b[1;32m---> 13\u001b[0m     res[i] \u001b[38;5;241m=\u001b[39m \u001b[43mdescifrar_v\u001b[49m\u001b[43m(\u001b[49m\u001b[43mres\u001b[49m\u001b[43m[\u001b[49m\u001b[43mi\u001b[49m\u001b[43m]\u001b[49m\u001b[43m,\u001b[49m\u001b[38;5;28;43mint\u001b[39;49m\u001b[43m(\u001b[49m\u001b[43mmod\u001b[49m\u001b[43m)\u001b[49m\u001b[43m)\u001b[49m \u001b[38;5;66;03m#Intnemos descifrarlo \u001b[39;00m\n\u001b[0;32m     15\u001b[0m final \u001b[38;5;241m=\u001b[39m recrear_lista(res) \u001b[38;5;66;03m#Once we have processed all sub-list recreate a list with all the sub-lists.\u001b[39;00m\n\u001b[0;32m     16\u001b[0m \u001b[38;5;28mprint\u001b[39m (\u001b[38;5;124m'\u001b[39m\u001b[38;5;124m'\u001b[39m\u001b[38;5;241m.\u001b[39mjoin([\u001b[38;5;28mchr\u001b[39m(x) \u001b[38;5;28;01mfor\u001b[39;00m x \u001b[38;5;129;01min\u001b[39;00m final]))\n",
      "Input \u001b[1;32mIn [162]\u001b[0m, in \u001b[0;36mdescifrar_v\u001b[1;34m(lista, dist)\u001b[0m\n\u001b[0;32m      2\u001b[0m lista1 \u001b[38;5;241m=\u001b[39m \u001b[38;5;28mlist\u001b[39m()\n\u001b[0;32m      3\u001b[0m \u001b[38;5;28;01mfor\u001b[39;00m elem \u001b[38;5;129;01min\u001b[39;00m lista:\n\u001b[1;32m----> 4\u001b[0m     valor \u001b[38;5;241m=\u001b[39m \u001b[38;5;28;43mint\u001b[39;49m\u001b[43m(\u001b[49m\u001b[43melem\u001b[49m\u001b[43m)\u001b[49m \u001b[38;5;241m-\u001b[39m \u001b[38;5;28mint\u001b[39m(dist)\n\u001b[0;32m      5\u001b[0m     \u001b[38;5;28;01mif\u001b[39;00m valor \u001b[38;5;241m<\u001b[39m \u001b[38;5;241m0\u001b[39m:\n\u001b[0;32m      6\u001b[0m         lista1\u001b[38;5;241m.\u001b[39mappend(\u001b[38;5;241m256\u001b[39m \u001b[38;5;241m+\u001b[39m (valor \u001b[38;5;241m%\u001b[39m \u001b[38;5;241m-\u001b[39m\u001b[38;5;241m256\u001b[39m))\n",
      "\u001b[1;31mValueError\u001b[0m: invalid literal for int() with base 10: '.'"
     ]
    }
   ],
   "source": [
    "lista=input()\n",
    "cont, freq=obtener_tuplas(lista)\n",
    "\n",
    "\n",
    "res=contOcc(freq)\n",
    "print(\"res\")\n",
    "print(res)\n",
    "print(res[0][0])\n",
    "criptoanalisis_vigenere(lista)"
   ]
  },
  {
   "cell_type": "markdown",
   "id": "27a3b33e",
   "metadata": {},
   "source": [
    "## 3. Cifrado de flujo"
   ]
  },
  {
   "cell_type": "code",
   "execution_count": null,
   "id": "3ec5d312",
   "metadata": {},
   "outputs": [],
   "source": [
    "def rec_fib(n):\n",
    "    if n > 1:\n",
    "        return rec_fib(n-1) + rec_fib(n-2)\n",
    "    return n"
   ]
  },
  {
   "cell_type": "code",
   "execution_count": null,
   "id": "829d7d31",
   "metadata": {},
   "outputs": [],
   "source": [
    "# Generador de secuencia aleatoria\n",
    "def generador_aleatorio(m,cont):\n",
    "    k=(rec_fib(m)%m)*m*cont\n",
    "    return k"
   ]
  },
  {
   "cell_type": "code",
   "execution_count": null,
   "id": "3cc1ff34",
   "metadata": {
    "scrolled": true
   },
   "outputs": [],
   "source": [
    "# Ejemplo de secuencia cifrante de 5 elementos para clave 14\n",
    "m=14\n",
    "for i in range(5):\n",
    "    k=generador_aleatorio(m,i)\n",
    "    print(k)"
   ]
  },
  {
   "cell_type": "code",
   "execution_count": null,
   "id": "d505e0fe",
   "metadata": {},
   "outputs": [],
   "source": [
    "# m es la clave\n",
    "# n es el tamaño de la secuencia de claves\n",
    "def flujo(modo,m,n,i=0,o=0):\n",
    "    alfabeto='abcdefghijklmnopqrstuvwxyzABCDEFGHIJKLMNOPQRSTUVWXYZ'\n",
    "    if modo==\"-C\":\n",
    "        cadena=read_input(i)\n",
    "        # Traducimos los caracteres a números\n",
    "        cadena_numerica=[]\n",
    "        for k in cadena:\n",
    "            if k in alfabeto: \n",
    "                cadena_numerica.append(alfabeto.index(k))\n",
    "        # Ciframos carácter a carácter\n",
    "        cadena_cifrada=[]\n",
    "        count=0\n",
    "        for i in cadena_numerica:\n",
    "            if count<n:\n",
    "                k=generador_aleatorio(m,count)\n",
    "            else:\n",
    "                k=generador_aleatorio(m,count-n)\n",
    "            cadena_cifrada.append(int(bin(i^k)[2:]))\n",
    "            count=count+1\n",
    "        print_output(o,cadena_cifrada)\n",
    "    elif modo==\"-D\":\n",
    "        cadena_cifrada=read_input(i)\n",
    "        cadena_cifrada=cadena_cifrada.split(\" \")\n",
    "        cadena_descifrada=[]\n",
    "        cadena_texto=[]\n",
    "        for i in range(len(cadena_cifrada)):\n",
    "            cadena_cifrada[i]=int(cadena_cifrada[i],2)\n",
    "        count=0\n",
    "        for i in cadena_cifrada:\n",
    "            if count<n:\n",
    "                k=generador_aleatorio(m,count)\n",
    "            else:\n",
    "                k=generador_aleatorio(m,count-n)\n",
    "            cadena_descifrada.append((i^k))\n",
    "            count=count+1\n",
    "        for i in range(len(cadena_descifrada)):\n",
    "            cadena_texto.append(alfabeto[int(cadena_descifrada[i])])\n",
    "        print_output(o,cadena_texto)"
   ]
  },
  {
   "cell_type": "code",
   "execution_count": null,
   "id": "1fcf9647",
   "metadata": {},
   "outputs": [],
   "source": [
    "flujo(\"-C\", 4,2)"
   ]
  },
  {
   "cell_type": "code",
   "execution_count": null,
   "id": "1ffa7fe5",
   "metadata": {},
   "outputs": [],
   "source": [
    "flujo(\"-D\", 4,2)"
   ]
  },
  {
   "cell_type": "code",
   "execution_count": null,
   "id": "ce0130bb",
   "metadata": {
    "scrolled": true
   },
   "outputs": [],
   "source": [
    "flujo(\"-C\", 10,20)"
   ]
  },
  {
   "cell_type": "code",
   "execution_count": null,
   "id": "995b8540",
   "metadata": {},
   "outputs": [],
   "source": [
    "flujo(\"-D\", 10, 20)"
   ]
  },
  {
   "cell_type": "code",
   "execution_count": null,
   "id": "092b5777",
   "metadata": {},
   "outputs": [],
   "source": []
  }
 ],
 "metadata": {
  "kernelspec": {
   "display_name": "Python 3 (ipykernel)",
   "language": "python",
   "name": "python3"
  },
  "language_info": {
   "codemirror_mode": {
    "name": "ipython",
    "version": 3
   },
   "file_extension": ".py",
   "mimetype": "text/x-python",
   "name": "python",
   "nbconvert_exporter": "python",
   "pygments_lexer": "ipython3",
   "version": "3.9.12"
  }
 },
 "nbformat": 4,
 "nbformat_minor": 5
}
