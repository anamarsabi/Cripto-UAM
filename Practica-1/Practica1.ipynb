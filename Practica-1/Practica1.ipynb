{
 "cells": [
  {
   "cell_type": "markdown",
   "id": "f9952fdd",
   "metadata": {},
   "source": [
    "# Práctica 1: Criptografía clásica\n",
    "## UAM, 2022/2023\n",
    "\n",
    "### Maitane Gómez González\n",
    "### Ana Martínez Sabiote"
   ]
  },
  {
   "cell_type": "markdown",
   "id": "14e31d52",
   "metadata": {},
   "source": [
    "## 1. Sustitución monoalfabeto"
   ]
  },
  {
   "cell_type": "markdown",
   "id": "65d4723f",
   "metadata": {},
   "source": [
    "## 1.a Método afín\n",
    "El siguiente programa implementa el método afín.\n",
    "\n",
    "Llamada a la función:\n",
    "\n",
    "afin {-C|-D} {-m |Zm|} {-a N×} {-b N+} [-i f ilein] [-o f ileout]\n"
   ]
  },
  {
   "cell_type": "code",
   "execution_count": 18,
   "id": "eaebc2e3",
   "metadata": {
    "scrolled": true
   },
   "outputs": [],
   "source": [
    "import gmpy2\n",
    "from gmpy2 import mpz"
   ]
  },
  {
   "cell_type": "code",
   "execution_count": 19,
   "id": "0013cce1",
   "metadata": {},
   "outputs": [
    {
     "data": {
      "text/plain": [
       "'\\nVERSIÓN SIN GMP \\n\\ndef algoritmo_euclides(a,b):\\n    if a%b == 0:\\n        return b\\n    else:\\n        return algoritmo_euclides(b, a%b)\\n'"
      ]
     },
     "execution_count": 19,
     "metadata": {},
     "output_type": "execute_result"
    }
   ],
   "source": [
    "\"\"\"\n",
    "VERSIÓN SIN GMP \n",
    "\n",
    "def algoritmo_euclides(a,b):\n",
    "    if a%b == 0:\n",
    "        return b\n",
    "    else:\n",
    "        return algoritmo_euclides(b, a%b)\n",
    "\"\"\""
   ]
  },
  {
   "cell_type": "code",
   "execution_count": 20,
   "id": "912d32d4",
   "metadata": {},
   "outputs": [],
   "source": [
    "def algoritmo_euclides(a,b):\n",
    "    if gmpy2.t_mod(a,b) == 0:\n",
    "        return b\n",
    "    else:\n",
    "        return algoritmo_euclides(b, gmpy2.t_mod(a,b))"
   ]
  },
  {
   "cell_type": "code",
   "execution_count": 21,
   "id": "fcdb17ab",
   "metadata": {
    "scrolled": true
   },
   "outputs": [
    {
     "name": "stdout",
     "output_type": "stream",
     "text": [
      "3\n"
     ]
    }
   ],
   "source": [
    "mcd=algoritmo_euclides(39,150)\n",
    "print(mcd)"
   ]
  },
  {
   "cell_type": "code",
   "execution_count": 22,
   "id": "b353eca6",
   "metadata": {},
   "outputs": [
    {
     "data": {
      "text/plain": [
       "mpz(1)"
      ]
     },
     "execution_count": 22,
     "metadata": {},
     "output_type": "execute_result"
    }
   ],
   "source": [
    "algoritmo_euclides(7,15)"
   ]
  },
  {
   "cell_type": "code",
   "execution_count": 23,
   "id": "885404f8",
   "metadata": {},
   "outputs": [
    {
     "data": {
      "text/plain": [
       "'\\nVERSIÓN SIN GMP \\n\\ndef algoritmo_euclides_extendido(a,b):\\n\\n    # Identidad de Bézout 1=u*a + v*b\\n    # El inverso de a módulo b es u. Recíprocamente, el inverso de b mod a es v\\n    if a==0:\\n        mcd=b\\n        u=0\\n        v=1\\n    else:\\n        mcd, x, y = algoritmo_euclides_extendido(b%a, a)\\n        u=y-(b//a)*x\\n        v=x\\n        \\n    return mcd, u, v\\n'"
      ]
     },
     "execution_count": 23,
     "metadata": {},
     "output_type": "execute_result"
    }
   ],
   "source": [
    "\"\"\"\n",
    "VERSIÓN SIN GMP \n",
    "\n",
    "def algoritmo_euclides_extendido(a,b):\n",
    "\n",
    "    # Identidad de Bézout 1=u*a + v*b\n",
    "    # El inverso de a módulo b es u. Recíprocamente, el inverso de b mod a es v\n",
    "    if a==0:\n",
    "        mcd=b\n",
    "        u=0\n",
    "        v=1\n",
    "    else:\n",
    "        mcd, x, y = algoritmo_euclides_extendido(b%a, a)\n",
    "        u=y-(b//a)*x\n",
    "        v=x\n",
    "        \n",
    "    return mcd, u, v\n",
    "\"\"\""
   ]
  },
  {
   "cell_type": "code",
   "execution_count": 24,
   "id": "5dc05ac1",
   "metadata": {},
   "outputs": [],
   "source": [
    "def algoritmo_euclides_extendido(a,b):\n",
    "    \"\"\"\n",
    "    # Condición a>b, sino las cambiamos\n",
    "    if b>a:\n",
    "        aux=a\n",
    "        a=b\n",
    "        b=aux\n",
    "    \"\"\"\n",
    "    # Identidad de Bézout 1=u*a + v*b\n",
    "    # El inverso de a módulo b es u. Recíprocamente, el inverso de b mod a es v\n",
    "    if a==0:\n",
    "        mcd=b\n",
    "        u=0\n",
    "        v=1\n",
    "    else:\n",
    "        mcd, x, y = algoritmo_euclides_extendido(gmpy2.c_mod(b,a), a)\n",
    "        u=gmpy2.sub(y,(gmpy2.mul(gmpy2.c_div(b,a),x)))\n",
    "        v=x\n",
    "        \n",
    "    return mcd, u, v"
   ]
  },
  {
   "cell_type": "code",
   "execution_count": 25,
   "id": "cc975e3d",
   "metadata": {},
   "outputs": [],
   "source": [
    "def inverso(a,m):\n",
    "    result = algoritmo_euclides_extendido(a,m)\n",
    "    # Comprobamos que el mcd es 1 para que exista inverso multiplicativo\n",
    "    # En consecuencia, a y m determinan una función afín inyectiva\n",
    "    if result[0] == 1:\n",
    "        # Entonces devolvemos el coeficiente u (que acompaña a) de la Id. de Bézout\n",
    "        inv=result[1]\n",
    "        return inv\n",
    "    else:\n",
    "        print(\"Error\")"
   ]
  },
  {
   "cell_type": "code",
   "execution_count": 26,
   "id": "721d1ca5",
   "metadata": {},
   "outputs": [],
   "source": [
    "def read_input(i):\n",
    "    # Primero tomamos el input de i o de la entrada estándar\n",
    "    if i==0:\n",
    "        cadena=input()\n",
    "    else:\n",
    "        file=open(i, \"r\")\n",
    "        cadena=file.read()\n",
    "        file.close()\n",
    "    print(\"Cadena: {}\".format(cadena))\n",
    "    return cadena"
   ]
  },
  {
   "cell_type": "code",
   "execution_count": 27,
   "id": "d0ca9f79",
   "metadata": {},
   "outputs": [],
   "source": [
    "def print_output(o,cadena):\n",
    "    if o==0:\n",
    "        print(\"Cadena: {}\".format(cadena))\n",
    "    else:\n",
    "        file=open(o, \"w\")\n",
    "        cadenaToStr = ' '.join([str(elem) for elem in cadena])\n",
    "        file.write(cadenaToStr)\n",
    "        file.close()"
   ]
  },
  {
   "cell_type": "code",
   "execution_count": 28,
   "id": "d60e34da",
   "metadata": {},
   "outputs": [],
   "source": [
    "def afin(modo,m,a,b,i=0,o=0):\n",
    "    alfabeto='abcdefghijklmnopqrstuvwxyzABCDEFGHIJKLMNOPQRSTUVWXYZ'\n",
    "    if algoritmo_euclides(a,m) == 1:\n",
    "        if modo==\"-C\":\n",
    "            cadena=read_input(i)\n",
    "            #Traducimos los caracteres a números\n",
    "            cadena_numerica=[]\n",
    "            for k in cadena:\n",
    "                if k in alfabeto: \n",
    "                    cadena_numerica.append(alfabeto.index(k))\n",
    "            cadena_cifrada=[]\n",
    "            for k in cadena_numerica:\n",
    "                cadena_cifrada.append(((a*k)+b)%m)\n",
    "            print_output(o,cadena_cifrada)\n",
    "        elif modo==\"-D\":\n",
    "            cadena_cifrada=read_input(i)\n",
    "            cadena_cifrada=cadena_cifrada.split(\", \")\n",
    "            cadena_descifrada=[]\n",
    "            cadena_texto=[]\n",
    "            inv=inverso(a,m)\n",
    "            for i in range(len(cadena_cifrada)):\n",
    "                cadena_cifrada[i]=int(cadena_cifrada[i])\n",
    "            for k in cadena_cifrada:\n",
    "                k_descifrado=gmpy2.c_mod(gmpy2.mul((k-b),inv),m)\n",
    "                if k_descifrado<0:\n",
    "                    k_descifrado=m+k_descifrado\n",
    "                cadena_descifrada.append(k_descifrado)\n",
    "                cadena_texto.append(alfabeto[k_descifrado])\n",
    "            \n",
    "            print_output(o, cadena_texto)\n",
    "    else:\n",
    "        print(\"{} y {} no son primos relativos. Error\".format(a,m))"
   ]
  },
  {
   "cell_type": "code",
   "execution_count": 29,
   "id": "dfbffa2c",
   "metadata": {},
   "outputs": [
    {
     "name": "stdout",
     "output_type": "stream",
     "text": [
      "Cadena: Hola Nueva York!\n",
      "Cadena: [34, 13, 48, 3, 16, 47, 43, 18, 3, 9, 13, 30, 25]\n"
     ]
    }
   ],
   "source": [
    "afin(\"-C\",52,23,3,\"cadena.txt\")"
   ]
  },
  {
   "cell_type": "code",
   "execution_count": 30,
   "id": "27ea3ba9",
   "metadata": {
    "scrolled": true
   },
   "outputs": [
    {
     "name": "stdout",
     "output_type": "stream",
     "text": [
      "16 y 130 no son primos relativos. Error\n"
     ]
    }
   ],
   "source": [
    "afin(\"-C\",130,16,27)"
   ]
  },
  {
   "cell_type": "code",
   "execution_count": 31,
   "id": "24513c1e",
   "metadata": {
    "scrolled": true
   },
   "outputs": [
    {
     "name": "stdout",
     "output_type": "stream",
     "text": [
      "Universidad Autonoma de Madrid\n",
      "Cadena: Universidad Autonoma de Madrid\n",
      "Cadena: [21, 42, 31, 18, 43, 30, 1, 31, 20, 3, 20, 29, 47, 24, 13, 42, 13, 19, 3, 20, 43, 45, 3, 20, 30, 31, 20]\n"
     ]
    }
   ],
   "source": [
    "afin(\"-C\",52,23,3)"
   ]
  },
  {
   "cell_type": "code",
   "execution_count": 32,
   "id": "0d6d733f",
   "metadata": {},
   "outputs": [
    {
     "name": "stdout",
     "output_type": "stream",
     "text": [
      "21, 42, 31, 18, 43, 30, 1, 31, 20, 3, 20, 29, 47, 24, 13, 42, 13, 19, 3, 20, 43, 45, 3, 20, 30, 31, 20\n",
      "Cadena: 21, 42, 31, 18, 43, 30, 1, 31, 20, 3, 20, 29, 47, 24, 13, 42, 13, 19, 3, 20, 43, 45, 3, 20, 30, 31, 20\n",
      "Cadena: ['U', 'n', 'i', 'v', 'e', 'r', 's', 'i', 'd', 'a', 'd', 'A', 'u', 't', 'o', 'n', 'o', 'm', 'a', 'd', 'e', 'M', 'a', 'd', 'r', 'i', 'd']\n"
     ]
    }
   ],
   "source": [
    "afin(\"-D\",52,23,3)"
   ]
  },
  {
   "cell_type": "code",
   "execution_count": 33,
   "id": "e1cd5bc9",
   "metadata": {
    "scrolled": false
   },
   "outputs": [
    {
     "name": "stdout",
     "output_type": "stream",
     "text": [
      "Cadena: 34, 13, 48, 3, 16, 47, 43, 18, 3, 9, 13, 30, 25\n"
     ]
    }
   ],
   "source": [
    "afin(\"-D\",52,23,3,\"cadena_cifrada.txt\",\"resultado.txt\")"
   ]
  },
  {
   "cell_type": "markdown",
   "id": "349e1f96",
   "metadata": {},
   "source": [
    "## 1.b Criptoanálisis del cifrado afín"
   ]
  },
  {
   "cell_type": "code",
   "execution_count": null,
   "id": "af2ff443",
   "metadata": {},
   "outputs": [],
   "source": []
  },
  {
   "cell_type": "markdown",
   "id": "5bf621cd",
   "metadata": {},
   "source": [
    "## 2. Sustitución polialfabeto"
   ]
  },
  {
   "cell_type": "markdown",
   "id": "7d89fea6",
   "metadata": {},
   "source": [
    "## 2.a Método de Hill"
   ]
  },
  {
   "cell_type": "code",
   "execution_count": 34,
   "id": "aa473852",
   "metadata": {},
   "outputs": [],
   "source": [
    "import numpy as np\n",
    "import os\n",
    "import math"
   ]
  },
  {
   "cell_type": "code",
   "execution_count": 35,
   "id": "2c3c6e39",
   "metadata": {},
   "outputs": [],
   "source": [
    "def determinante(matriz):\n",
    "   \n",
    "    if len(matriz)==2 and len(matriz[0]):\n",
    "        #calculamos el determinante\n",
    "        det=matriz[0][0]*matriz[1][1]-matriz[1][0]*matriz[0][1]\n",
    "       \n",
    "        return det\n",
    "    else:\n",
    "        suma=0\n",
    "        for i in range(len(matriz)): #calculamos el determinante por cofactores\n",
    "            maux=copy.deepcopy(matriz)\n",
    "            maux.remove(matriz[0]) #eliminamos la primera fila\n",
    "            for j in range(len(maux)):\n",
    "                maux[j]=maux[j][0:i]+maux[j][i+1:]\n",
    "                \n",
    "         \n",
    "            suma= suma+ (-1)**((i+j)%2)*matriz[0][i]*determinante(maux)\n",
    "            \n",
    "        return suma\n",
    "        "
   ]
  },
  {
   "cell_type": "code",
   "execution_count": 36,
   "id": "9177a009",
   "metadata": {},
   "outputs": [
    {
     "ename": "NameError",
     "evalue": "name 'copy' is not defined",
     "output_type": "error",
     "traceback": [
      "\u001b[1;31m---------------------------------------------------------------------------\u001b[0m",
      "\u001b[1;31mNameError\u001b[0m                                 Traceback (most recent call last)",
      "\u001b[1;32m~\\AppData\\Local\\Temp/ipykernel_13028/2768917182.py\u001b[0m in \u001b[0;36m<module>\u001b[1;34m\u001b[0m\n\u001b[0;32m      1\u001b[0m \u001b[0mmatriz\u001b[0m \u001b[1;33m=\u001b[0m \u001b[1;33m[\u001b[0m\u001b[1;33m[\u001b[0m\u001b[1;36m1\u001b[0m\u001b[1;33m,\u001b[0m\u001b[1;36m2\u001b[0m\u001b[1;33m,\u001b[0m\u001b[1;36m3\u001b[0m\u001b[1;33m]\u001b[0m\u001b[1;33m,\u001b[0m \u001b[1;33m[\u001b[0m\u001b[1;36m3\u001b[0m\u001b[1;33m,\u001b[0m\u001b[1;36m5\u001b[0m\u001b[1;33m,\u001b[0m\u001b[1;36m5\u001b[0m\u001b[1;33m]\u001b[0m\u001b[1;33m,\u001b[0m \u001b[1;33m[\u001b[0m\u001b[1;36m1\u001b[0m\u001b[1;33m,\u001b[0m\u001b[1;36m2\u001b[0m\u001b[1;33m,\u001b[0m\u001b[1;36m3\u001b[0m\u001b[1;33m]\u001b[0m\u001b[1;33m]\u001b[0m\u001b[1;33m\u001b[0m\u001b[1;33m\u001b[0m\u001b[0m\n\u001b[1;32m----> 2\u001b[1;33m \u001b[0mprint\u001b[0m\u001b[1;33m(\u001b[0m\u001b[0mdeterminante\u001b[0m\u001b[1;33m(\u001b[0m\u001b[0mmatriz\u001b[0m\u001b[1;33m)\u001b[0m\u001b[1;33m)\u001b[0m\u001b[1;33m\u001b[0m\u001b[1;33m\u001b[0m\u001b[0m\n\u001b[0m",
      "\u001b[1;32m~\\AppData\\Local\\Temp/ipykernel_13028/3896763499.py\u001b[0m in \u001b[0;36mdeterminante\u001b[1;34m(matriz)\u001b[0m\n\u001b[0;32m      9\u001b[0m         \u001b[0msuma\u001b[0m\u001b[1;33m=\u001b[0m\u001b[1;36m0\u001b[0m\u001b[1;33m\u001b[0m\u001b[1;33m\u001b[0m\u001b[0m\n\u001b[0;32m     10\u001b[0m         \u001b[1;32mfor\u001b[0m \u001b[0mi\u001b[0m \u001b[1;32min\u001b[0m \u001b[0mrange\u001b[0m\u001b[1;33m(\u001b[0m\u001b[0mlen\u001b[0m\u001b[1;33m(\u001b[0m\u001b[0mmatriz\u001b[0m\u001b[1;33m)\u001b[0m\u001b[1;33m)\u001b[0m\u001b[1;33m:\u001b[0m \u001b[1;31m#calculamos el determinante por cofactores\u001b[0m\u001b[1;33m\u001b[0m\u001b[1;33m\u001b[0m\u001b[0m\n\u001b[1;32m---> 11\u001b[1;33m             \u001b[0mmaux\u001b[0m\u001b[1;33m=\u001b[0m\u001b[0mcopy\u001b[0m\u001b[1;33m.\u001b[0m\u001b[0mdeepcopy\u001b[0m\u001b[1;33m(\u001b[0m\u001b[0mmatriz\u001b[0m\u001b[1;33m)\u001b[0m\u001b[1;33m\u001b[0m\u001b[1;33m\u001b[0m\u001b[0m\n\u001b[0m\u001b[0;32m     12\u001b[0m             \u001b[0mmaux\u001b[0m\u001b[1;33m.\u001b[0m\u001b[0mremove\u001b[0m\u001b[1;33m(\u001b[0m\u001b[0mmatriz\u001b[0m\u001b[1;33m[\u001b[0m\u001b[1;36m0\u001b[0m\u001b[1;33m]\u001b[0m\u001b[1;33m)\u001b[0m \u001b[1;31m#eliminamos la primera fila\u001b[0m\u001b[1;33m\u001b[0m\u001b[1;33m\u001b[0m\u001b[0m\n\u001b[0;32m     13\u001b[0m             \u001b[1;32mfor\u001b[0m \u001b[0mj\u001b[0m \u001b[1;32min\u001b[0m \u001b[0mrange\u001b[0m\u001b[1;33m(\u001b[0m\u001b[0mlen\u001b[0m\u001b[1;33m(\u001b[0m\u001b[0mmaux\u001b[0m\u001b[1;33m)\u001b[0m\u001b[1;33m)\u001b[0m\u001b[1;33m:\u001b[0m\u001b[1;33m\u001b[0m\u001b[1;33m\u001b[0m\u001b[0m\n",
      "\u001b[1;31mNameError\u001b[0m: name 'copy' is not defined"
     ]
    }
   ],
   "source": [
    "matriz = [[1,2,3], [3,5,5], [1,2,3]]\n",
    "print(determinante(matriz))"
   ]
  },
  {
   "cell_type": "code",
   "execution_count": null,
   "id": "55d9a2d9",
   "metadata": {},
   "outputs": [],
   "source": [
    "def inversa(matriz,modulo):\n",
    "    det=np.det(matriz)%modulo\n",
    "    adjunto=np.adj(matriz)%modulo\n",
    "    return=np."
   ]
  },
  {
   "cell_type": "code",
   "execution_count": null,
   "id": "270c9cdd",
   "metadata": {},
   "outputs": [],
   "source": [
    "def adjunto(matriz):\n",
    "    adjunto=np.zeros(np.shape(matriz))\n",
    "    if len(matriz)==2 and len(matriz[0]):\n",
    "         #calculamos el adjunto\n",
    "        adjunto[0][1]=-matriz[1][0]\n",
    "        adjunto[1][0]=-matriz[0][1]\n",
    "        adjunto[0][0]=matriz[1][1]\n",
    "        adjunto[1][1]=matriz[0][0]\n",
    "        \n",
    "        return adjunto\n",
    "    else:\n",
    "        for i in range(len(matriz)):\n",
    "            maux=copy.deepcopy(matriz)\n",
    "            for j in range(len(matriz)):\n",
    "             \n",
    "                maux=np.delete(matriz,i,0)\n",
    "                aux=np.delete(maux,j,1)\n",
    "                auxi=maux.tolist()\n",
    "           \n",
    "                adjunto[i][j]=(-1)**((i+j)%2)*determinante(auxi)\n",
    "                \n",
    "        return adjunto\n",
    "        "
   ]
  },
  {
   "cell_type": "code",
   "execution_count": null,
   "id": "053f1a4a",
   "metadata": {},
   "outputs": [],
   "source": [
    "matriz = [[1,2,3], [3,5,5], [1,2,3]]\n",
    "print(adjunto(matriz))"
   ]
  },
  {
   "cell_type": "code",
   "execution_count": null,
   "id": "a150397b",
   "metadata": {},
   "outputs": [],
   "source": [
    "arr = np.array([[1,2,3,4], [5,6,7,8], [9,10,11,12]])\n",
    "np.delete(arr, 1, 0)"
   ]
  },
  {
   "cell_type": "code",
   "execution_count": null,
   "id": "deeb5371",
   "metadata": {
    "scrolled": true
   },
   "outputs": [],
   "source": [
    "matriz = [[1, 2, 4], [3,5,4], [1]]\n",
    "\n",
    "# Padding a la matriz\n",
    "n=3\n",
    "print(matriz)\n",
    "print(len(matriz[n-1]))\n",
    "k=len(matriz[n-1])\n",
    "if k<n:\n",
    "    padding=[0]*(n)\n",
    "    for i in range(0,k):\n",
    "        padding[i]=matriz[n-1][i]\n",
    "    matriz[n-1]=padding\n",
    "  \n",
    "print(matriz)\n",
    "matriz=np.array(matriz)\n",
    "matriz%3"
   ]
  },
  {
   "cell_type": "code",
   "execution_count": null,
   "id": "804e7442",
   "metadata": {},
   "outputs": [],
   "source": [
    "print(matriz[1])"
   ]
  },
  {
   "cell_type": "code",
   "execution_count": null,
   "id": "de5e7c5f",
   "metadata": {},
   "outputs": [],
   "source": [
    "def hill(modo,m,n,k,i,o):\n",
    "    alfabeto='abcdefghijklmnopqrstuvwxyzABCDEFGHIJKLMNOPQRSTUVWXYZ'\n",
    "    matriz = np.loadtxt(k, delimiter = '\\ t')\n",
    "    det = np.linalg.det(matriz)%m # Hay que sustituir con nuestro propio método\n",
    "    dim = np.shape(matriz)\n",
    "    \n",
    "    # Padding a la matriz\n",
    "    k=len(matriz[n-1])\n",
    "    if k<n:\n",
    "        padding=[0]*(n)\n",
    "        for i in range(0,k):\n",
    "            padding[i]=matriz[n-1][i]\n",
    "        matriz[n-1]=padding\n",
    "    matriz=np.array(matriz)\n",
    "    \n",
    "    if algoritmo_euclides(det,m)==1:\n",
    "        if modo==\"-C\":\n",
    "            cadena=read_input(i)\n",
    "            #Traducimos los caracteres a números\n",
    "            cadena_numerica=[]\n",
    "            for k in cadena:\n",
    "                if k in alfabeto: \n",
    "                    cadena_numerica.append(alfabeto.index(k))\n",
    "            # Dividimos en bloques de n elementos el texto\n",
    "            # Si m no es múltiplo de n se añade padding\n",
    "            m=len(cadena_numerica)/n\n",
    "            maxi=len(cadena_numerica)\n",
    "            matriz_numerica=np.zeros((math.ceil(m),n))\n",
    "            pos=0\n",
    "            for i in range(math.ceil(m)):\n",
    "                for j in range(n):\n",
    "                    if pos<maxi:\n",
    "                        matriz_numerica[i][j]=cadena_numerica[pos]\n",
    "                        pos=pos+1\n",
    "    else:\n",
    "        print(\"{} y {} no son primos relativos. Error\".format(det,m))"
   ]
  },
  {
   "cell_type": "code",
   "execution_count": null,
   "id": "7cbc5687",
   "metadata": {},
   "outputs": [],
   "source": [
    "cadena_numerica=[2,4,5,3,6]\n",
    "n=2\n",
    "\n",
    "m=len(cadena_numerica)/n\n",
    "maxi=len(cadena_numerica)\n",
    "matriz_numerica=np.zeros((math.ceil(m),n))\n",
    "pos=0\n",
    "for i in range(math.ceil(m)):\n",
    "    print(\"itero i\")\n",
    "    for j in range(n):\n",
    "        print(\"itero j\")\n",
    "        if pos<maxi:\n",
    "            print(\"meto valor\")\n",
    "            matriz_numerica[i][j]=cadena_numerica[pos]\n",
    "            pos=pos+1\n",
    "        \n",
    "        \n",
    "print(matriz_numerica)   \n",
    "print(m)\n",
    "print(math.ceil(m))\n",
    "print(matriz_numerica.shape)\n",
    "texto_numerico=np.concatenate(matriz_numerica)\n",
    "print(texto_numerico)"
   ]
  },
  {
   "cell_type": "code",
   "execution_count": null,
   "id": "c180731e",
   "metadata": {},
   "outputs": [],
   "source": []
  },
  {
   "cell_type": "markdown",
   "id": "9c79aa8d",
   "metadata": {},
   "source": [
    "## 2.b Método de Vigenere"
   ]
  },
  {
   "cell_type": "code",
   "execution_count": 37,
   "id": "f58f0ae6",
   "metadata": {},
   "outputs": [],
   "source": [
    "def vigenere(modo,k,i=0,o=0):\n",
    "    alfabeto='abcdefghijklmnopqrstuvwxyzABCDEFGHIJKLMNOPQRSTUVWXYZ'\n",
    "    base=len(alfabeto)\n",
    "    n=len(k)\n",
    "    #Traducimos la clave de caracteres a números\n",
    "    k_numerica=[]\n",
    "    for j in k:\n",
    "        if j in alfabeto: \n",
    "            k_numerica.append(alfabeto.index(j))\n",
    "    if modo==\"-C\":\n",
    "        cadena=read_input(i)\n",
    "        # Traducimos los caracteres a números\n",
    "        cadena_numerica=[]\n",
    "        for k in cadena:\n",
    "            if k in alfabeto: \n",
    "                cadena_numerica.append(alfabeto.index(k))\n",
    "        # Dividimos en bloques de n elementos el input\n",
    "        # Si m no es múltiplo de n se añade padding\n",
    "        m=len(cadena_numerica)/n\n",
    "        maxi=len(cadena_numerica)\n",
    "        matriz_numerica=np.zeros((math.ceil(m),n))\n",
    "        pos=0\n",
    "        for i in range(math.ceil(m)):\n",
    "            for j in range(n):\n",
    "                if pos<maxi:\n",
    "                    matriz_numerica[i][j]=cadena_numerica[pos]\n",
    "                    pos=pos+1\n",
    "        # Tenemos una matriz que tenemos que cifrar. \n",
    "        # Cada bloque es una fila de la matriz\n",
    "        filas=matriz_numerica.shape[0]\n",
    "        elementos=matriz_numerica.shape[1]\n",
    "        #print(\"Matriz numerica\")\n",
    "        #print(matriz_numerica)\n",
    "        matriz_cifrada=np.zeros((filas,elementos))\n",
    "        #print(\"Matriz cifrada de ceros\")\n",
    "        #print(matriz_cifrada)\n",
    "        if elementos==n:\n",
    "            print(\"Bloques ok\")\n",
    "        for i in range(filas):\n",
    "            for j in range(elementos):\n",
    "                matriz_cifrada[i][j]=(matriz_numerica[i][j]+k_numerica[j])%base\n",
    "        #print(\"Matriz cifrada\")\n",
    "        #print(matriz_cifrada)\n",
    "        cadena_cifrada=np.concatenate(matriz_cifrada)\n",
    "        #print(cadena_cifrada)\n",
    "        print_output(o,cadena_cifrada)\n",
    "    elif modo==\"-D\":\n",
    "        cadena_cifrada=read_input(i)\n",
    "        cadena_cifrada=cadena_cifrada.split(\" \")\n",
    "        #for i in range(len(cadena_cifrada)):\n",
    "        #   cadena_cifrada[i]=int(cadena_cifrada[i])\n",
    "        # Dividimos en bloques de n elementos el texto cifrado\n",
    "        # Si m no es múltiplo de n se añade padding\n",
    "        m=len(cadena_cifrada)/n\n",
    "        maxi=len(cadena_cifrada)\n",
    "        matriz_cifrada=np.zeros((math.ceil(m),n))\n",
    "        pos=0\n",
    "        for i in range(math.ceil(m)):\n",
    "            for j in range(n):\n",
    "                if pos<maxi:\n",
    "                    matriz_cifrada[i][j]=cadena_cifrada[pos]\n",
    "                    pos=pos+1\n",
    "        # Tenemos una matriz que tenemos que descifrar. \n",
    "        # Cada bloque es una fila de la matriz\n",
    "        filas=matriz_cifrada.shape[0]\n",
    "        elementos=matriz_cifrada.shape[1]\n",
    "        matriz_descifrada=np.zeros((filas,elementos))\n",
    "        if elementos==n:\n",
    "            print(\"Bloques ok\")\n",
    "        for i in range(filas):\n",
    "            for j in range(elementos):\n",
    "                matriz_descifrada[i][j]=(matriz_cifrada[i][j]-k_numerica[j])%base\n",
    "        cadena_descifrada=np.concatenate(matriz_descifrada)\n",
    "        cadena_texto=[]\n",
    "        for i in range(len(cadena_descifrada)):\n",
    "            #cadena_cifrada[i]=int(cadena_cifrada[i])\n",
    "            cadena_texto.append(alfabeto[int(cadena_descifrada[i])])\n",
    "        print_output(o,cadena_texto)"
   ]
  },
  {
   "cell_type": "code",
   "execution_count": 39,
   "id": "ead14d27",
   "metadata": {},
   "outputs": [
    {
     "name": "stdout",
     "output_type": "stream",
     "text": [
      "Universidad Autonoma de Madrid\n",
      "Cadena: Universidad Autonoma de Madrid\n",
      "Bloques ok\n",
      "Cadena: [48. 24.  8. 42.  8. 19. 29.  8. 24.  4.  5. 37. 20. 40. 18. 15. 25. 12.\n",
      " 21.  7.  6. 49.  0. 24. 21. 10. 14.  0. 21.  4.]\n"
     ]
    }
   ],
   "source": [
    "vigenere(\"-C\", \"clave\")"
   ]
  },
  {
   "cell_type": "code",
   "execution_count": 43,
   "id": "907b2b4a",
   "metadata": {},
   "outputs": [
    {
     "name": "stdout",
     "output_type": "stream",
     "text": [
      "21 10 14 0 21 4\n",
      "Cadena: 21 10 14 0 21 4\n",
      "Bloques ok\n",
      "Cadena: ['t', 'Z', 'o', 'F', 'r', 'c', 'P', 'a', 'F', 'W']\n"
     ]
    }
   ],
   "source": [
    "vigenere(\"-D\", \"clave\")\n"
   ]
  },
  {
   "cell_type": "code",
   "execution_count": 41,
   "id": "e54fdffa",
   "metadata": {},
   "outputs": [
    {
     "name": "stdout",
     "output_type": "stream",
     "text": [
      "Cadena: Universidad Autonoma de Madrid\n",
      "Bloques ok\n"
     ]
    }
   ],
   "source": [
    "vigenere(\"-C\", \"clave\", \"texto_vigenere.txt\", \"resultado_vigenere.txt\")"
   ]
  },
  {
   "cell_type": "code",
   "execution_count": 42,
   "id": "78cd3442",
   "metadata": {},
   "outputs": [
    {
     "name": "stdout",
     "output_type": "stream",
     "text": [
      "Cadena: 48.0 24.0 8.0 42.0 8.0 19.0 29.0 8.0 24.0 4.0 5.0 37.0 20.0 40.0 18.0 15.0 25.0 12.0 21.0 7.0 6.0 49.0 0.0 24.0 21.0 10.0 14.0 0.0 21.0 4.0\n",
      "Bloques ok\n"
     ]
    }
   ],
   "source": [
    "vigenere(\"-D\", \"clave\", \"resultado_vigenere.txt\", \"descifrado_vigenere.txt\")"
   ]
  },
  {
   "cell_type": "markdown",
   "id": "a1f492f4",
   "metadata": {},
   "source": [
    "## 2.c Criptoanálisis del cifrado de Vigenere"
   ]
  },
  {
   "cell_type": "code",
   "execution_count": null,
   "id": "337ef115",
   "metadata": {},
   "outputs": [],
   "source": []
  },
  {
   "cell_type": "markdown",
   "id": "27a3b33e",
   "metadata": {},
   "source": [
    "## 3. Cifrado de flujo"
   ]
  },
  {
   "cell_type": "code",
   "execution_count": 44,
   "id": "3ec5d312",
   "metadata": {},
   "outputs": [],
   "source": [
    "def rec_fib(n):\n",
    "    if n > 1:\n",
    "        return rec_fib(n-1) + rec_fib(n-2)\n",
    "    return n"
   ]
  },
  {
   "cell_type": "code",
   "execution_count": 84,
   "id": "829d7d31",
   "metadata": {},
   "outputs": [],
   "source": [
    "# Generador de secuencia aleatoria\n",
    "def generador_aleatorio(m,cont):\n",
    "    k=(rec_fib(m)%m)*m*cont\n",
    "    return k"
   ]
  },
  {
   "cell_type": "code",
   "execution_count": 46,
   "id": "3cc1ff34",
   "metadata": {
    "scrolled": true
   },
   "outputs": [
    {
     "name": "stdout",
     "output_type": "stream",
     "text": [
      "0\n",
      "5278\n",
      "10556\n",
      "15834\n",
      "21112\n"
     ]
    }
   ],
   "source": [
    "# Ejemplo de secuencia cifrante de 5 elementos para clave 14\n",
    "m=14\n",
    "for i in range(5):\n",
    "    k=generador_aleatorio(m,i)\n",
    "    print(k)"
   ]
  },
  {
   "cell_type": "code",
   "execution_count": 90,
   "id": "d505e0fe",
   "metadata": {},
   "outputs": [],
   "source": [
    "# m es la clave\n",
    "# n es el tamaño de la secuencia de claves\n",
    "def flujo(modo,m,n,i=0,o=0):\n",
    "    alfabeto='abcdefghijklmnopqrstuvwxyzABCDEFGHIJKLMNOPQRSTUVWXYZ'\n",
    "    if modo==\"-C\":\n",
    "        cadena=read_input(i)\n",
    "        # Traducimos los caracteres a números\n",
    "        cadena_numerica=[]\n",
    "        for k in cadena:\n",
    "            if k in alfabeto: \n",
    "                cadena_numerica.append(alfabeto.index(k))\n",
    "        # Ciframos carácter a carácter\n",
    "        cadena_cifrada=[]\n",
    "        count=0\n",
    "        for i in cadena_numerica:\n",
    "            if count<n:\n",
    "                k=generador_aleatorio(m,count)\n",
    "            else:\n",
    "                k=generador_aleatorio(m,count-n)\n",
    "            cadena_cifrada.append(int(bin(i^k)[2:]))\n",
    "            count=count+1\n",
    "        print_output(o,cadena_cifrada)\n",
    "    elif modo==\"-D\":\n",
    "        cadena_cifrada=read_input(i)\n",
    "        cadena_cifrada=cadena_cifrada.split(\" \")\n",
    "        cadena_descifrada=[]\n",
    "        cadena_texto=[]\n",
    "        for i in range(len(cadena_cifrada)):\n",
    "            cadena_cifrada[i]=int(cadena_cifrada[i],2)\n",
    "        count=0\n",
    "        for i in cadena_cifrada:\n",
    "            if count<n:\n",
    "                k=generador_aleatorio(m,count)\n",
    "            else:\n",
    "                k=generador_aleatorio(m,count-n)\n",
    "            cadena_descifrada.append((i^k))\n",
    "            count=count+1\n",
    "        for i in range(len(cadena_descifrada)):\n",
    "            cadena_texto.append(alfabeto[int(cadena_descifrada[i])])\n",
    "        print_output(o,cadena_texto)"
   ]
  },
  {
   "cell_type": "code",
   "execution_count": 94,
   "id": "1fcf9647",
   "metadata": {},
   "outputs": [
    {
     "name": "stdout",
     "output_type": "stream",
     "text": [
      "Hola\n",
      "Cadena: Hola\n",
      "Cadena: [100001, 10, 1011, 1100]\n"
     ]
    }
   ],
   "source": [
    "flujo(\"-C\", 4,2)"
   ]
  },
  {
   "cell_type": "code",
   "execution_count": 95,
   "id": "1ffa7fe5",
   "metadata": {},
   "outputs": [
    {
     "name": "stdout",
     "output_type": "stream",
     "text": [
      "100001 10 1011 1100\n",
      "Cadena: 100001 10 1011 1100\n",
      "Cadena: ['H', 'o', 'l', 'a']\n"
     ]
    }
   ],
   "source": [
    "flujo(\"-D\", 4,2)"
   ]
  },
  {
   "cell_type": "code",
   "execution_count": 91,
   "id": "ce0130bb",
   "metadata": {
    "scrolled": true
   },
   "outputs": [
    {
     "name": "stdout",
     "output_type": "stream",
     "text": [
      "Madrid\n",
      "Cadena: Madrid\n",
      "Cadena: [100110, 110010, 1100111, 10000111, 11000000, 11111001]\n"
     ]
    }
   ],
   "source": [
    "flujo(\"-C\", 10,20)"
   ]
  },
  {
   "cell_type": "code",
   "execution_count": 92,
   "id": "995b8540",
   "metadata": {},
   "outputs": [
    {
     "name": "stdout",
     "output_type": "stream",
     "text": [
      "100110 110010 1100111 10000111 11000000 11111001\n",
      "Cadena: 100110 110010 1100111 10000111 11000000 11111001\n",
      "Cadena: ['M', 'a', 'd', 'r', 'i', 'd']\n"
     ]
    }
   ],
   "source": [
    "flujo(\"-D\", 10, 20)"
   ]
  },
  {
   "cell_type": "code",
   "execution_count": null,
   "id": "092b5777",
   "metadata": {},
   "outputs": [],
   "source": []
  }
 ],
 "metadata": {
  "kernelspec": {
   "display_name": "Python 3 (ipykernel)",
   "language": "python",
   "name": "python3"
  },
  "language_info": {
   "codemirror_mode": {
    "name": "ipython",
    "version": 3
   },
   "file_extension": ".py",
   "mimetype": "text/x-python",
   "name": "python",
   "nbconvert_exporter": "python",
   "pygments_lexer": "ipython3",
   "version": "3.9.7"
  }
 },
 "nbformat": 4,
 "nbformat_minor": 5
}
