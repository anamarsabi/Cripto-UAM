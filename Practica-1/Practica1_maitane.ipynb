{
 "cells": [
  {
   "cell_type": "markdown",
   "id": "f9952fdd",
   "metadata": {},
   "source": [
    "# Práctica 1: Criptografía clásica\n",
    "## UAM, 2022/2023\n",
    "\n",
    "### Maitane Gómez González\n",
    "### Ana Martínez Sabiote"
   ]
  },
  {
   "cell_type": "markdown",
   "id": "14e31d52",
   "metadata": {},
   "source": [
    "## 1. Sustitución monoalfabeto"
   ]
  },
  {
   "cell_type": "markdown",
   "id": "65d4723f",
   "metadata": {},
   "source": [
    "## 1.a Método afín\n",
    "El siguiente programa implementa el método afín.\n",
    "\n",
    "Llamada a la función:\n",
    "\n",
    "afin {-C|-D} {-m |Zm|} {-a N×} {-b N+} [-i filein] [-o fileout]\n"
   ]
  },
  {
   "cell_type": "code",
   "execution_count": 1,
   "id": "eaebc2e3",
   "metadata": {
    "scrolled": true
   },
   "outputs": [],
   "source": [
    "import gmpy2\n",
    "from gmpy2 import mpz\n",
    "import sympy\n",
    "import numpy as np"
   ]
  },
  {
   "cell_type": "markdown",
   "id": "a7acde31",
   "metadata": {},
   "source": [
    "\"\"\"\n",
    "VERSIÓN SIN GMP \n",
    "\n",
    "def algoritmo_euclides(a,b):\n",
    "    if a%b == 0:\n",
    "        return b\n",
    "    else:\n",
    "        return algoritmo_euclides(b, a%b)\n",
    "\"\"\""
   ]
  },
  {
   "cell_type": "markdown",
   "id": "43612b5d",
   "metadata": {},
   "source": [
    "Función que cálcula el máximo común divisor entre dos números pasados por parámetro (a y b)"
   ]
  },
  {
   "cell_type": "code",
   "execution_count": 2,
   "id": "912d32d4",
   "metadata": {},
   "outputs": [],
   "source": [
    "def algoritmo_euclides(a,b):\n",
    "    if gmpy2.t_mod(a,b) == 0:\n",
    "        return b\n",
    "    else:\n",
    "        return algoritmo_euclides(b, gmpy2.t_mod(a,b))"
   ]
  },
  {
   "cell_type": "code",
   "execution_count": 3,
   "id": "fcdb17ab",
   "metadata": {
    "scrolled": true
   },
   "outputs": [
    {
     "name": "stdout",
     "output_type": "stream",
     "text": [
      "3\n"
     ]
    }
   ],
   "source": [
    "mcd=algoritmo_euclides(39,150)\n",
    "print(mcd)"
   ]
  },
  {
   "cell_type": "code",
   "execution_count": 4,
   "id": "b353eca6",
   "metadata": {},
   "outputs": [
    {
     "data": {
      "text/plain": [
       "mpz(1)"
      ]
     },
     "execution_count": 4,
     "metadata": {},
     "output_type": "execute_result"
    }
   ],
   "source": [
    "algoritmo_euclides(7,15)"
   ]
  },
  {
   "cell_type": "markdown",
   "id": "676a4cb9",
   "metadata": {},
   "source": [
    "\"\"\"\n",
    "VERSIÓN SIN GMP \n",
    "\n",
    "def algoritmo_euclides_extendido(a,b):\n",
    "\n",
    "    # Identidad de Bézout 1=u*a + v*b\n",
    "    # El inverso de a módulo b es u. Recíprocamente, el inverso de b mod a es v\n",
    "    if a==0:\n",
    "        mcd=b\n",
    "        u=0\n",
    "        v=1\n",
    "    else:\n",
    "        mcd, x, y = algoritmo_euclides_extendido(b%a, a)\n",
    "        u=y-(b//a)*x\n",
    "        v=x\n",
    "        \n",
    "    return mcd, u, v\n",
    "\"\"\""
   ]
  },
  {
   "cell_type": "code",
   "execution_count": 5,
   "id": "5dc05ac1",
   "metadata": {},
   "outputs": [],
   "source": [
    "def algoritmo_euclides_extendido(a,b):\n",
    "    \"\"\"\n",
    "    # Condición a>b, sino las cambiamos\n",
    "    if b>a:\n",
    "        aux=a\n",
    "        a=b\n",
    "        b=aux\n",
    "    \"\"\"\n",
    "    # Identidad de Bézout 1=u*a + v*b\n",
    "    # El inverso de a módulo b es u. Recíprocamente, el inverso de b mod a es v\n",
    "    if a==0:\n",
    "        mcd=b\n",
    "        u=0\n",
    "        v=1\n",
    "    else:\n",
    "        mcd, x, y = algoritmo_euclides_extendido(gmpy2.c_mod(b,a), a)\n",
    "        u=gmpy2.sub(y,(gmpy2.mul(gmpy2.c_div(b,a),x)))\n",
    "        v=x\n",
    "        \n",
    "    return mcd, u, v"
   ]
  },
  {
   "cell_type": "code",
   "execution_count": 6,
   "id": "cc975e3d",
   "metadata": {},
   "outputs": [],
   "source": [
    "def inverso(a,m):\n",
    "    result = algoritmo_euclides_extendido(a,m)\n",
    "    # Comprobamos que el mcd es 1 para que exista inverso multiplicativo\n",
    "    # En consecuencia, a y m determinan una función afín inyectiva\n",
    "    if result[0] == 1:\n",
    "        # Entonces devolvemos el coeficiente u (que acompaña a) de la Id. de Bézout\n",
    "        inv=result[1]\n",
    "        return inv\n",
    "    else:\n",
    "        print(\"Error\")"
   ]
  },
  {
   "cell_type": "code",
   "execution_count": 7,
   "id": "14f2c323",
   "metadata": {},
   "outputs": [
    {
     "data": {
      "text/plain": [
       "mpz(-9)"
      ]
     },
     "execution_count": 7,
     "metadata": {},
     "output_type": "execute_result"
    }
   ],
   "source": [
    "inverso(51,23)"
   ]
  },
  {
   "cell_type": "code",
   "execution_count": 8,
   "id": "721d1ca5",
   "metadata": {},
   "outputs": [],
   "source": [
    "def read_input(i):\n",
    "    # Primero tomamos el input de i o de la entrada estándar\n",
    "    if i==0:\n",
    "        cadena=input()\n",
    "    else:\n",
    "        file=open(i, \"r\")\n",
    "        cadena=file.read()\n",
    "        file.close()\n",
    "    print(\"Cadena: {}\".format(cadena))\n",
    "    return cadena"
   ]
  },
  {
   "cell_type": "code",
   "execution_count": 9,
   "id": "d0ca9f79",
   "metadata": {},
   "outputs": [],
   "source": [
    "def print_output(o,cadena):\n",
    "    if o==0:\n",
    "        print(\"Cadena: {}\".format(cadena))\n",
    "    else:\n",
    "        file=open(o, \"w\")\n",
    "        cadenaToStr = ' '.join([str(elem) for elem in cadena])\n",
    "        file.write(cadenaToStr)\n",
    "        file.close()"
   ]
  },
  {
   "cell_type": "code",
   "execution_count": 10,
   "id": "d60e34da",
   "metadata": {},
   "outputs": [],
   "source": [
    "def afin(modo,m,a,b,i=0,o=0):\n",
    "    alfabeto='abcdefghijklmnopqrstuvwxyzABCDEFGHIJKLMNOPQRSTUVWXYZ'\n",
    "    if algoritmo_euclides(a,m) == 1:\n",
    "        if modo==\"-C\":\n",
    "            cadena=read_input(i)\n",
    "            #Traducimos los caracteres a números\n",
    "            cadena_numerica=[]\n",
    "            for k in cadena:\n",
    "                if k in alfabeto: \n",
    "                    cadena_numerica.append(alfabeto.index(k))\n",
    "            cadena_cifrada=[]\n",
    "            for k in cadena_numerica:\n",
    "                cadena_cifrada.append(((a*k)+b)%m)\n",
    "            \n",
    "            #print(cadena_cifrada)\n",
    "            resul=\"\"\n",
    "            for i in range(len(cadena_cifrada)):\n",
    "                   resul=resul+alfabeto[cadena_cifrada[i]]\n",
    "                    \n",
    "            print_output(o,resul)\n",
    "            \n",
    "        elif modo==\"-D\":\n",
    "            \n",
    "            cadena_cifrada=read_input(i)\n",
    "            #cadena_cifrada=cadena_cifrada.split(\", \")\n",
    "            \n",
    "            cadena_numerica=[]\n",
    "            for k in cadena_cifrada:\n",
    "                if k in alfabeto: \n",
    "                    cadena_numerica.append(alfabeto.index(k))\n",
    "                    \n",
    "            cadena_descifrada=[]\n",
    "            cadena_texto=\"\"\n",
    "            #inv=inverso(m,a)\n",
    "            inv=pow(a, -1, m)\n",
    "            print(inv)\n",
    "            for i in range(len(cadena_numerica)):\n",
    "                cadena_numerica[i]=int(cadena_numerica[i])\n",
    "                \n",
    "            for k in cadena_numerica:\n",
    "                k_descifrado=gmpy2.c_mod(gmpy2.mul((k-b),inv),m)\n",
    "                if k_descifrado<0:\n",
    "                    k_descifrado=m+k_descifrado\n",
    "                cadena_descifrada.append(k_descifrado)\n",
    "                cadena_texto=cadena_texto+alfabeto[k_descifrado]\n",
    "            \n",
    "            print_output(o, cadena_texto)\n",
    "    else:\n",
    "        print(\"{} y {} no son primos relativos. Error\".format(a,m))"
   ]
  },
  {
   "cell_type": "code",
   "execution_count": 11,
   "id": "dfbffa2c",
   "metadata": {
    "scrolled": true
   },
   "outputs": [
    {
     "name": "stdout",
     "output_type": "stream",
     "text": [
      "Cadena: Hola Nueva York!\n"
     ]
    }
   ],
   "source": [
    "afin(\"-C\",51,23,3,\"cadena.txt\",\"cadena_cifrada.txt\")"
   ]
  },
  {
   "cell_type": "code",
   "execution_count": 12,
   "id": "fc89ba63",
   "metadata": {},
   "outputs": [
    {
     "name": "stdout",
     "output_type": "stream",
     "text": [
      "Cadena: W t b d H e S B d F t L D\n",
      "20\n",
      "Cadena: HolaNuevaYork\n"
     ]
    }
   ],
   "source": [
    "afin(\"-D\",51,23,3, \"cadena_cifrada.txt\")"
   ]
  },
  {
   "cell_type": "code",
   "execution_count": 13,
   "id": "27ea3ba9",
   "metadata": {
    "scrolled": true
   },
   "outputs": [
    {
     "name": "stdout",
     "output_type": "stream",
     "text": [
      "16 y 130 no son primos relativos. Error\n"
     ]
    }
   ],
   "source": [
    "afin(\"-C\",130,16,27)"
   ]
  },
  {
   "cell_type": "code",
   "execution_count": 14,
   "id": "24513c1e",
   "metadata": {
    "scrolled": true
   },
   "outputs": [
    {
     "name": "stdout",
     "output_type": "stream",
     "text": [
      "hola\n",
      "Cadena: hola\n",
      "Cadena: ODPa\n"
     ]
    }
   ],
   "source": [
    "afin(\"-C\",51,13,0)"
   ]
  },
  {
   "cell_type": "code",
   "execution_count": 15,
   "id": "0d6d733f",
   "metadata": {},
   "outputs": [
    {
     "name": "stdout",
     "output_type": "stream",
     "text": [
      "holiss\n",
      "Cadena: holiss\n",
      "4\n",
      "Cadena: CfSGvv\n"
     ]
    }
   ],
   "source": [
    "afin(\"-D\",51,13,0)"
   ]
  },
  {
   "cell_type": "markdown",
   "id": "349e1f96",
   "metadata": {},
   "source": [
    "## 1.b Criptoanálisis del cifrado afín"
   ]
  },
  {
   "cell_type": "markdown",
   "id": "45aa5914",
   "metadata": {},
   "source": [
    "Nuestro afin no trivial se basa en aumentar el tamaño de la clave. Hemos decidido cambiar el tamaño de la base y cifrarlo en bigramas. Lo que nos daría un espacio de 676.Con el afín normal, en nuestro caso, obteniamos uno de 52. \n",
    "\n",
    "Como se puede observar en la función #fortaleza y en su ejecución el normal, nos daría 128 claves y el no trivial 11545444563871328761349212098135488565445348609393477048015277366400000000. \n",
    "\n"
   ]
  },
  {
   "cell_type": "code",
   "execution_count": 16,
   "id": "23215917",
   "metadata": {},
   "outputs": [],
   "source": [
    "def fortaleza(m):\n",
    "    z_m_inv=sympy.totient(m) #calculamos la funcion phi\n",
    "    return gmpy2.mul((m),z_m_inv) #calculamos la fortaleza multiplicando Zm y Zm*\n"
   ]
  },
  {
   "cell_type": "code",
   "execution_count": 17,
   "id": "a3950894",
   "metadata": {},
   "outputs": [
    {
     "name": "stdout",
     "output_type": "stream",
     "text": [
      "11545444563871328761349212098135488565445348609393477048015277366400000000\n",
      "1248\n"
     ]
    }
   ],
   "source": [
    "print(fortaleza(26**26+26))\n",
    "#fortaleza(26) este seria el resultado si no aceptaramos mayúsculas\n",
    "print(fortaleza(52))\n"
   ]
  },
  {
   "cell_type": "code",
   "execution_count": 18,
   "id": "05293d17",
   "metadata": {},
   "outputs": [],
   "source": [
    "alfabeto='abcdefghijklmnopqrstuvwxyz'\n",
    "digrama=([])\n",
    "for i in alfabeto:\n",
    "    for j in alfabeto:\n",
    "        digrama.append(i+j)\n",
    "\n"
   ]
  },
  {
   "cell_type": "markdown",
   "id": "73001553",
   "metadata": {},
   "source": [
    "El siguiente programa implementa el método afín no trivial.\n",
    "\n",
    "Llamada a la función:\n",
    "\n",
    "afin_no_trivial {-C|-D} {-m |Zm|} {-a N×} {-b N+} [-i filein] [-o fileout]\n",
    "\n",
    "- -C el programa cifra\n",
    "- -D el programa descifra\n",
    "- -m tamaño del espacio de texto cifrado\n",
    "- -a coeficiente multiplicativo de la función afín\n",
    "- -b término constante de la función afín\n",
    "- -i fichero de entrada\n",
    "- -o fichero de salida\n",
    "\n",
    "En este programa utilizamos un alfabeto de 26 elementos, las letras del abecedario en minúsculas\n"
   ]
  },
  {
   "cell_type": "code",
   "execution_count": 19,
   "id": "af2ff443",
   "metadata": {},
   "outputs": [],
   "source": [
    "def afin_no_trivial(modo,m,a,b,i=0,o=0):\n",
    "    alfabeto='abcdefghijklmnopqrstuvwxyz'\n",
    "    digrama=([]) #generamos un vetor de di-gramas del alfabeto que hemos declarado arriba\n",
    "    for k in alfabeto:\n",
    "        for j in alfabeto:\n",
    "            digrama.append(k+j)\n",
    "    \n",
    "    if algoritmo_euclides(a,m) == 1:\n",
    "        if modo==\"-C\":\n",
    "            #obtenemos el texto claro, si no se ha pasado por parámetro, se obtine de teclado\n",
    "            cadena=read_input(i)\n",
    "            #if i==0:\n",
    "            #cadena=input()\n",
    "            #cadena=read_input(i)\n",
    "            #else:\n",
    "            #    file=open(i, \"r\")\n",
    "             #   cadena=file.read()\n",
    "              #  file.close()\n",
    "            \n",
    "            #ponemos la cadena de entrada solo en caracteres de nuestro alfabeto\n",
    "            cadena_formateada=\"\"\n",
    "            for k in range(len(cadena)):\n",
    "                if cadena[k] in alfabeto:\n",
    "                    cadena_formateada=cadena_formateada+cadena[k]\n",
    "                \n",
    "            #Traducimos los caracteres a números para poder operar\n",
    "            cadena_numerica=[]\n",
    "            j=0\n",
    "            if len(cadena_formateada)%2==0:\n",
    "                    while j <(len(cadena_formateada)-1):\n",
    "                        cadena_numerica.append(digrama.index(cadena_formateada[j]+cadena_formateada[j+1]))\n",
    "                        j=j+2\n",
    "            else:\n",
    "                    while j <(len(cadena_formateada)-2):\n",
    "                        cadena_numerica.append(digrama.index(cadena_formateada[j]+cadena_formateada[j+1]))\n",
    "                        j=j+2\n",
    "                    cadena_numerica.append(alfabeto.index(cadena_formateada[len(cadena_formateada)-1])) #como es impar, la última letra la ciframos aparte\n",
    "            \n",
    "            #utilizamos la función de cifrado\n",
    "            cadena_cifrada=[]\n",
    "            for k in cadena_numerica:\n",
    "                cadena_cifrada.append(((a*k)+b)%m)\n",
    "            \n",
    "            #pasamos el resultado a caracteres y lo guardamos como string\n",
    "            resul=\"\"\n",
    "            for k in cadena_cifrada:\n",
    "                resul=resul+digrama[k]\n",
    "          \n",
    "            #si no se ha pasado un fichero de salida por parámetro, imprimimos el resultado\n",
    "            print_output(o,resul)\n",
    "            \n",
    "        elif modo==\"-D\":\n",
    "            \n",
    "            cadena_cifrada=read_input(i)\n",
    "            #cadena_cifrada=input()\n",
    "    \n",
    "            cadena_descifrada=[]\n",
    "            cadena_texto=\"\"\n",
    "            \n",
    "             #obtenemos el texto claro, si no se ha pasado por parámetro, se obtine de teclado\n",
    "            #if i==0:\n",
    "             #    cadena_cifrada=input()\n",
    "            #cadena=read_input(i)\n",
    "            #else:\n",
    "             #   file=open(i, \"r\")\n",
    "             #   cadena_cifrada=file.read()\n",
    "              #  file.close()\n",
    "                \n",
    "            #obtenemos el inverso en el modulo para poder utilizar la función de descifrado\n",
    "            #ya hemos comprobado al principio que el inverso existe.\n",
    "           \n",
    "            #inv=inverso(a,m)\n",
    "            inv=pow(a, -1, m)\n",
    "            \n",
    "            #pasamos el texto a un formato numérico para poder operar\n",
    "            cadena_numerica=[]\n",
    "            j=0\n",
    "            if len(cadena_cifrada)%2==0:\n",
    "                while j <(len(cadena_cifrada)-1):\n",
    "                    cadena_numerica.append(digrama.index(cadena_cifrada[j]+cadena_cifrada[j+1]))\n",
    "                    j=j+2\n",
    "            else:\n",
    "                while j <(len(cadena_cifrada)-2):\n",
    "                    cadena_numerica.append(digrama.index(cadena_cifrada[j]+cadena_cifrada[j+1]))\n",
    "                    j=j+2\n",
    "                cadena_numerica.append(alfabeto.index(cadena_cifrada[len(cadena_cifrada)-1])) #como es impar, la última letra la ciframos aparte\n",
    "            \n",
    "            #desciframos el texto con la función de descifrado: \n",
    "            for k in cadena_numerica:\n",
    "                k_descifrado=gmpy2.c_mod(gmpy2.mul((k-b),inv),m)\n",
    "                if k_descifrado<0: #ajustamos el modulo\n",
    "                    k_descifrado=m+k_descifrado\n",
    "                cadena_descifrada.append(k_descifrado)\n",
    "            \n",
    "            #pasamos el texto a caracteres\n",
    "            if len(cadena_cifrada)%2==0:\n",
    "                for k in cadena_descifrada:\n",
    "                    cadena_texto=cadena_texto+digrama[k]\n",
    "            else:       \n",
    "                for k in range(len(cadena_descifrada)-1):\n",
    "                    cadena_texto=cadena_texto+digrama[cadena_descifrada[k]]\n",
    "                    \n",
    "                cadena_texto=cadena_texto+alfabeto[cadena_descifrada[(len(cadena_descifrada)-1)]]\n",
    "            \n",
    "            #si no se ha pasado un archivo para guardar el resultado, se imprime por pantalla\n",
    "            print_output(o, cadena_texto)\n",
    "    else:\n",
    "        print(\"{} y {} no son primos relativos. Error\".format(a,m))"
   ]
  },
  {
   "cell_type": "code",
   "execution_count": 20,
   "id": "995098f2",
   "metadata": {
    "scrolled": true
   },
   "outputs": [
    {
     "name": "stdout",
     "output_type": "stream",
     "text": [
      "palabra\n",
      "Cadena: palabra\n",
      "Cadena: vpkmlfad\n"
     ]
    }
   ],
   "source": [
    "afin_no_trivial(\"-C\",701,23,3)"
   ]
  },
  {
   "cell_type": "code",
   "execution_count": 21,
   "id": "3cea3f93",
   "metadata": {},
   "outputs": [
    {
     "name": "stdout",
     "output_type": "stream",
     "text": [
      "vpkmlfad\n",
      "Cadena: vpkmlfad\n",
      "Cadena: palabraa\n"
     ]
    }
   ],
   "source": [
    "afin_no_trivial(\"-D\",701,23,3)"
   ]
  },
  {
   "cell_type": "code",
   "execution_count": 22,
   "id": "dd32a5f1",
   "metadata": {},
   "outputs": [
    {
     "name": "stdout",
     "output_type": "stream",
     "text": [
      "vpkmlfad\n",
      "Cadena: vpkmlfad\n",
      "Cadena: palabraa\n"
     ]
    }
   ],
   "source": [
    "afin_no_trivial(\"-D\",701,23,3)"
   ]
  },
  {
   "cell_type": "markdown",
   "id": "9b32343d",
   "metadata": {},
   "source": [
    "El cifrado afin muy vulnerable a los ataques. Se rompe imediatamente con B,C,D y E. Con A hace falta un analisis de frecuencias (El análisis de frecuencia es el estudio de la frecuencia de letras o grupos\n",
    "de letras en un texto cifrado)."
   ]
  },
  {
   "cell_type": "markdown",
   "id": "7b37608e",
   "metadata": {},
   "source": [
    "#### Ejemplo de criptoánalisis afín\n",
    "\n",
    "Hemos cifrado \"antiaereo\" con afin (modulo 51, a=13 y b=0), lo que nos ha dado la cadena \"aqRcabrbD\". \n",
    "\n",
    "En el ejemplo de abajo hemos guardado las tablas de frecuencia del castellano y el ingles y luego las hemos ordenado por mayor a menor. En este caso solo hemos utilizado la del castellano.\n",
    "\n",
    "Hemos conseguido descifrarlo con la segunda hipotesís:\n",
    "c1: la posición del elemento más utilizado de la cadena en el alfabeto.\n",
    "c2: la posición del segundo elemento más utilizado de la cadena en el alfabeto.\n",
    "t1: la posición del elemento más utilizado en el alfabeto.\n",
    "t2: la posición del segundo elemento más utilizado en el alfabeto.\n",
    "\n",
    "pos(c1)=pos(t1)* a+b \n",
    "pos(c2)=pos(t1)* a+b\n",
    "\n",
    "Se puede resolver de dos formas:\n",
    "1- restando las ecuaciones, lo que nos daría el resultado de: \n",
    "      pos(c1)-pos(c2)=(pos(t1)-pos(t2))* a -> \n",
    "      a=pos(c1)-pos(c2) inv((pos(t1)-pos(t2))\n",
    "      b=pos(c1)-pos(t1)* a\n",
    "\n",
    "2- Al introducir los datos conocidos, nos damos cuenta de que se puede simplificar y resolver casi directamente:\n",
    "      pos(c1)=pos(t1)* a+b -> 1=4* a+b->a=1* inv(4)=13\n",
    "      pos(c2)=pos(t1)* a+b -> 0=0* a+b ->b=0\n",
    "\n",
    "En ambos casos el resultado da a=13, b=0. El cifrado esta roto."
   ]
  },
  {
   "cell_type": "code",
   "execution_count": 58,
   "id": "21a61480",
   "metadata": {},
   "outputs": [
    {
     "name": "stdout",
     "output_type": "stream",
     "text": [
      "Counter({'a': 2, 'b': 2, 'q': 1, 'R': 1, 'c': 1, 'r': 1, 'D': 1})\n",
      "Primera hipotesis:\n",
      "No es correcto\n",
      "Segunda hipotesis:\n",
      "Es correcto, antiaereo se cifro con 13 y 0\n"
     ]
    }
   ],
   "source": [
    "\n",
    "\n",
    "cadena = \"aqRcabrbD\"\n",
    "\n",
    "\n",
    "castellano=(['a', 11.96],['b', 0.92],['c', 2.92],['d', 6.87],['e', 16.78],['f', 0.52],['g', 0.73],\n",
    "           ['h', 0.89],['i', 4.15],['j', 0.3],['k', 0.0],['l', 8.37],['m', 2.12],['n', 7.01],\n",
    "           ['o', 8.69],['p', 2.77],['q', 1.53],['r', 4.94],['s', 7.88],['t', 3.31],['u', 4.80],\n",
    "           ['v', 0.39],['w', 0.0],['x', 0.06],['y', 1.54],['z', 0.15])\n",
    "\n",
    "ingles=(['a', 11.96],['b', 1.54],['c', 3.06],['d', 3.99],['e', 12.51],['f', 2.30],['g', 1.96],\n",
    "        ['h', 0.89],['i', 7.26],['j', 0.16],['k', 0.67],['l', 4.14],['m', 2.53],['n', 7.09],\n",
    "       ['o', 7.60],['p', 2.0],['q', 0.11],['r', 6.12],['s', 6,54],['t', 9.25],['u', 2.71],\n",
    "       ['v', 0.99],['w', 1.92],['x', 1.92],['y', 1.73],['z', 0.19])\n",
    "\n",
    "\n",
    "castellano_ord=sorted(castellano, key=lambda letra: letra[1], reverse=True)\n",
    "ingles_ord=sorted(ingles, key=lambda letra: letra[1], reverse=True)\n",
    "\n",
    "print(\"Primera hipotesis:\")\n",
    "c1=alfabeto.index(\"a\")\n",
    "c2=alfabeto.index(\"b\")\n",
    "t1=alfabeto.index(castellano_ord[0][0])\n",
    "t2=alfabeto.index(castellano_ord[1][0])\n",
    "\n",
    "#pos(c1)=pos(t1)*a+b -> 0=4*a+b->a=-1*inv(4)\n",
    "#-\n",
    "#pos(c2)=pos(t1)*a+b -> 1=0*a+b ->b=1\n",
    "a=1*pow(-1,-1,51)\n",
    "\n",
    "#comprobamos que hemos resuelto bien la ecuación\n",
    "#comprobamos que sean co-primos\n",
    "if algoritmo_euclides(a,51)==1:\n",
    "        b=c1-int(a)*t1\n",
    "        if a==13 and b%51==0:\n",
    "            print(\"es correcto, antiaereo se cifro con 13 y 0\")\n",
    "        else:\n",
    "            print(\"No es correcto\")\n",
    "else:\n",
    "    print(\"no son coprimos\")\n",
    "\n",
    "\n",
    "print(\"Segunda hipotesis:\")\n",
    "c1=alfabeto.index(\"b\")\n",
    "c2=alfabeto.index(\"a\")\n",
    "t1=alfabeto.index(castellano_ord[0][0])\n",
    "t2=alfabeto.index(castellano_ord[1][0])\n",
    "\n",
    "#pos(c1)=pos(t1)*a+b -> 1=4*a+b->a=1*inv(4)\n",
    "#-\n",
    "#pos(c2)=pos(t1)*a+b -> 0=0*a+b ->b=0\n",
    "\n",
    "#pos(c1)-pos(c2)=(pos(t1)-pos(t2))*a\n",
    "#0-1=(4-0)*a\n",
    "#a=1*inv(4)\n",
    "\n",
    "a=1*pow(4,-1,51)\n",
    "\n",
    "#comprobamos que hemos resuelto bien la ecuación\n",
    "#comprobamos que sean co-primos\n",
    "if algoritmo_euclides(a,51)==1:\n",
    "        b=c1-int(a)*t1\n",
    "        if a==13 and b%51==0:\n",
    "            print(\"Es correcto, antiaereo se cifro con 13 y 0\")\n",
    "        else:\n",
    "            print(\"No es correcto\")\n",
    "        \n",
    "else:\n",
    "    print(\"no son coprimos\")\n",
    "              \n",
    "    "
   ]
  },
  {
   "cell_type": "markdown",
   "id": "5bf621cd",
   "metadata": {},
   "source": [
    "## 2. Sustitución polialfabeto"
   ]
  },
  {
   "cell_type": "markdown",
   "id": "7d89fea6",
   "metadata": {},
   "source": [
    "## 2.a Método de Hill"
   ]
  },
  {
   "cell_type": "markdown",
   "id": "9f5fe236",
   "metadata": {},
   "source": [
    "El siguiente programa implementa el método hill. El cifrado Hill es de\n",
    "sustitución poligráfica basado en álgebra lineal.\n",
    "\n",
    "En este cifrado se utiliza una matriz cuadrada como clave de dimesiones n*n, tenemos que divir el texto claro (ahora numerico) en bloques de n elementos. Si la división no es exacta, se hace padding.\n",
    "\n",
    "El requisito principal para poder cifrar y descifrar, es que la matriz tenga una función biyectiva. Si no fuera así habría que cambiar los datos ya que si lo cifráramos no podríamos descifrarlo.\n",
    "\n",
    "Primero se asocia cada letra del alfabeto con un número. La forma más sencilla es hacerlo con la asociación natural ordenada pero se podría hacer mediante otras asociaciones.\n",
    "\n",
    "Después, aplicamos la función de cifrado y volvemos a pasar el resultado a letras. Para descifrar el proceso es muy parecido, simplemente hay que cambiar la función de cifrado por la de descifrado. Y para ello tenemos que tener la inversa de la matriz calculada.\n",
    "\n",
    "\n",
    "\n",
    "\n",
    "Llamada a la función:\n",
    "\n",
    "hill {-C|-D} {-m |Zm|} {-n NK} {-k f ileK} [-i f ilein] [-o f ileout]\n",
    "\n",
    "Los parámetros introducidos en este caso son:\n",
    "-m cardinalidad de Zm\n",
    "-n dimensión de la matriz de transformación\n",
    "-k fichero que contiene la matriz de transformación"
   ]
  },
  {
   "cell_type": "code",
   "execution_count": 24,
   "id": "aa473852",
   "metadata": {},
   "outputs": [],
   "source": [
    "import numpy as np\n",
    "import os\n",
    "import math\n",
    "import copy"
   ]
  },
  {
   "cell_type": "markdown",
   "id": "ae4e0b2e",
   "metadata": {},
   "source": [
    "Funcion que cálcula el determinante de una matriz.\n",
    "\n",
    "determinante{matriz}"
   ]
  },
  {
   "cell_type": "code",
   "execution_count": 25,
   "id": "2c3c6e39",
   "metadata": {},
   "outputs": [],
   "source": [
    "def determinante(matriz):\n",
    "   \n",
    "    if len(matriz)==2 and len(matriz[0])==2:\n",
    "        #calculamos el determinante\n",
    "        det=matriz[0][0]*matriz[1][1]-(matriz[1][0]*matriz[0][1])\n",
    "       \n",
    "        return det\n",
    "    else:\n",
    "        suma=0\n",
    "        for i in range(len(matriz)): #calculamos el determinante por cofactores\n",
    "            maux=copy.deepcopy(matriz)\n",
    "            maux.remove(matriz[0]) #eliminamos la primera fila\n",
    "            for j in range(len(maux)):\n",
    "                maux[j]=maux[j][0:i]+maux[j][i+1:]\n",
    "                \n",
    "         \n",
    "            suma= suma+ (-1)**((i+j)%2)*matriz[0][i]*determinante(maux)\n",
    "            \n",
    "        return suma\n",
    "        "
   ]
  },
  {
   "cell_type": "code",
   "execution_count": 26,
   "id": "9177a009",
   "metadata": {},
   "outputs": [
    {
     "name": "stdout",
     "output_type": "stream",
     "text": [
      "-8\n",
      "53\n"
     ]
    }
   ],
   "source": [
    "#comprobación de la función\n",
    "matriz = [[11,8], [3,7]]\n",
    "print(determinante(matriz))"
   ]
  },
  {
   "cell_type": "markdown",
   "id": "ddb257ea",
   "metadata": {},
   "source": [
    "Función que cálcula el adjunto de una matriz.\n",
    "\n",
    "adjunto{matriz}"
   ]
  },
  {
   "cell_type": "code",
   "execution_count": 27,
   "id": "270c9cdd",
   "metadata": {},
   "outputs": [],
   "source": [
    "def adjunto(matriz):\n",
    "    adjunto=np.zeros(np.shape(matriz))\n",
    "    if len(matriz)==2 and len(matriz[0])==2:\n",
    "         #calculamos el adjunto\n",
    "        adjunto[0][0]=matriz[1][1]\n",
    "        adjunto[0][1]=-matriz[0][1]\n",
    "        adjunto[1][0]=-matriz[1][0]\n",
    "        adjunto[1][1]=matriz[0][0]\n",
    "        \n",
    "        return adjunto\n",
    "    else:\n",
    "        \n",
    "        for i in range(len(matriz)):\n",
    "            maux=copy.deepcopy(matriz)\n",
    "            for j in range(len(matriz)):\n",
    "             \n",
    "                maux=np.delete(matriz,i,0)\n",
    "                aux=np.delete(maux,j,1)\n",
    "                auxi=aux.tolist()\n",
    "                #la matriz de cofactores transpuesta es el djunto\n",
    "                adjunto[j][i]=(-1)**((i+j)%2)*determinante(auxi)\n",
    "            \n",
    "                \n",
    "        return adjunto"
   ]
  },
  {
   "cell_type": "code",
   "execution_count": 28,
   "id": "053f1a4a",
   "metadata": {},
   "outputs": [
    {
     "name": "stdout",
     "output_type": "stream",
     "text": [
      "[[ 7. -8.]\n",
      " [-3. 11.]]\n"
     ]
    }
   ],
   "source": [
    "#comprobación de la función\n",
    "matriz = [[11,8], [3,7]]\n",
    "print(adjunto(matriz))"
   ]
  },
  {
   "cell_type": "markdown",
   "id": "724f1521",
   "metadata": {},
   "source": [
    "Función que cálcula la inversa de una matriz.\n",
    "\n",
    "inversa{matriz}{modulo}"
   ]
  },
  {
   "cell_type": "code",
   "execution_count": 29,
   "id": "267c546b",
   "metadata": {},
   "outputs": [],
   "source": [
    "def inversa(matriz,modulo):\n",
    "    inversa=np.zeros(np.shape(matriz))\n",
    "    det=determinante(matriz)%modulo\n",
    "    if det !=0:\n",
    "        adj=adjunto(matriz)%modulo\n",
    "        for i in range(len(matriz)):\n",
    "            for j in range(len(matriz[i])):\n",
    "                inversa[i][j]=(adj[i][j]/det)#%modulo\n",
    "                \n",
    "    return inversa%modulo #esto puede que no sea necesario porque ya estamos en matemática modular"
   ]
  },
  {
   "cell_type": "code",
   "execution_count": 30,
   "id": "5a3dc048",
   "metadata": {},
   "outputs": [
    {
     "name": "stdout",
     "output_type": "stream",
     "text": [
      "[[ 7. 18.]\n",
      " [23. 11.]]\n"
     ]
    }
   ],
   "source": [
    "#comprobación de la función\n",
    "matriz = [[11,8], [3,7]]\n",
    "print(inversa(matriz,26))"
   ]
  },
  {
   "cell_type": "markdown",
   "id": "51b4da2c",
   "metadata": {},
   "source": [
    "Función de cifrado del algoritmo.\n",
    "\n",
    "cifrar{matriz_numerica}{matriz}{mod}{n}\n",
    "\n",
    "Parámetros:\n",
    "- matriz_numerica: el texto a cifrar en formato matriz de numeros\n",
    "- matriz: matriz de transformación\n",
    "- mod: modulo en el que trabajamos\n",
    "- n: dimensión "
   ]
  },
  {
   "cell_type": "code",
   "execution_count": 635,
   "id": "05c07b3e",
   "metadata": {},
   "outputs": [],
   "source": [
    "def cifrar(matriz_numerica, matriz,mod,n):\n",
    "  \n",
    "    matriz_cifrada=[]\n",
    "    for i in range(len(matriz_numerica)):\n",
    "        cadena_cifrada= (np.dot(matriz_numerica[i],matriz))%mod #utilizamos la función de cifrado\n",
    "        matriz_cifrada.append(cadena_cifrada)\n",
    "\n",
    "    return matriz_cifrada  "
   ]
  },
  {
   "cell_type": "markdown",
   "id": "d9235033",
   "metadata": {},
   "source": [
    "Función de descifrado del algoritmo.\n",
    "\n",
    "descifrar{matriz_cifrada}{matriz}{mod}{n}\n",
    "\n",
    "Parámetros:\n",
    "\n",
    "- matriz_cifrada: el cifrado a descifrar en formato matriz de numeros\n",
    "- matriz: matriz de transformación\n",
    "- mod: modulo en el que trabajamos\n",
    "- n: dimensión"
   ]
  },
  {
   "cell_type": "code",
   "execution_count": 649,
   "id": "89e0ad6a",
   "metadata": {},
   "outputs": [],
   "source": [
    "def descifrar(matriz_cifrada, matriz,mod,n):\n",
    "    \n",
    "    inv=inversa(matriz,mod)\n",
    "    matriz_descifrada=[]\n",
    "    for i in range(len(matriz_cifrada)):\n",
    "        cadena_descifrada= (np.dot(matriz_cifrada[i],inv))%mod #utilizamos la funcion de descifrado\n",
    "        matriz_descifrada.append(cadena_descifrada)\n",
    "\n",
    "    return matriz_descifrada  "
   ]
  },
  {
   "cell_type": "code",
   "execution_count": 650,
   "id": "de5e7c5f",
   "metadata": {},
   "outputs": [],
   "source": [
    "def hill(modo,mod,n,k,i=0,o=0):\n",
    "    alfabeto='abcdefghijklmnopqrstuvwxyz'\n",
    "  \n",
    "    #leemos la matriz de transformación del archivo y la guardamos\n",
    "    with open(k,'r') as f:\n",
    "        datos = ''.join(f.readlines()).replace('\\n',';')\n",
    "    matriz = np.matrix(datos).tolist()\n",
    "    f.close()\n",
    "    \n",
    "    #cálculamos el determinante de la matriz\n",
    "    det=np.linalg.det(matriz)\n",
    "    #comprobamos que la matriz K tiene una función biyectiva\n",
    "    if algoritmo_euclides(int(det),mod)==1:\n",
    "       \n",
    "        if modo==\"-C\":\n",
    "            \n",
    "            cadena=read_input(i)\n",
    "            #Traducimos los caracteres a números\n",
    "            cadena_numerica=[]\n",
    "            for k in cadena:\n",
    "                if k in alfabeto: \n",
    "                    cadena_numerica.append(alfabeto.index(k))\n",
    "                    \n",
    "            # Dividimos en bloques de n elementos el texto\n",
    "            # Si m no es múltiplo de n se añade padding\n",
    "            m=len(cadena_numerica)/n\n",
    "            maxi=len(cadena_numerica)\n",
    "            \n",
    "            matriz_numerica=np.zeros((math.ceil(m),n))\n",
    "         \n",
    "            pos=0\n",
    "            for i in range(math.ceil(m)):\n",
    "                for j in range(n):\n",
    "                    if pos<maxi:\n",
    "                        matriz_numerica[i][j]=cadena_numerica[pos]\n",
    "                        pos=pos+1\n",
    "        \n",
    "            #ciframos cadena a cadena y lo guardamos en un matriz           \n",
    "            matriz_cifrada=cifrar(matriz_numerica,matriz,mod,n)\n",
    "            \n",
    "            #lo volvemos a pasar a caracteres\n",
    "            resul=\"\"\n",
    "            for i in range(len(matriz_cifrada)):\n",
    "                for j in range(len(matriz_cifrada[i])):\n",
    "                    resul=resul+alfabeto[int(matriz_cifrada[i][j])]\n",
    "          \n",
    "            print_output(o,resul)\n",
    "           \n",
    "            \n",
    "        elif modo==\"-D\":\n",
    "            if i==0:\n",
    "                cadena_cifrada=input()\n",
    "                datos=[]\n",
    "                for i in range(len(cadena_cifrada)):\n",
    "                    if cadena_cifrada[i] in alfabeto:\n",
    "                        datos.append(alfabeto.index(cadena_cifrada[i]))\n",
    "                \n",
    "                        \n",
    "            else:\n",
    "                file=open(i, \"r\")\n",
    "                cadena_cifrada=file.read()\n",
    "                file.close()\n",
    "               \n",
    "                \n",
    "                datos=[]\n",
    "                for i in range(len(cadena_cifrada)):\n",
    "                    if cadena_cifrada[i] in alfabeto:\n",
    "                        datos.append(alfabeto.index(cadena_cifrada[i]))\n",
    "\n",
    "             \n",
    "                \n",
    "            # Dividimos en bloques de n elementos el texto\n",
    "            # Si m no es múltiplo de n se añade padding\n",
    "            m=len(datos)/n\n",
    "            maxi=len(datos)\n",
    "            \n",
    "            matriz_cifrada=np.zeros((math.ceil(m),n))\n",
    "         \n",
    "            pos=0\n",
    "            for i in range(math.ceil(m)):\n",
    "                for j in range(n):\n",
    "                    if pos<maxi:\n",
    "                        matriz_cifrada[i][j]=datos[pos]\n",
    "                        pos=pos+1\n",
    "        \n",
    "            #ciframos cadena a cadena y lo guardamos en un matriz  \n",
    "            matriz_descifrada=descifrar(matriz_cifrada, matriz,mod,n)\n",
    "            \n",
    "            resul=\"\"\n",
    "            for i in range(len(matriz_descifrada)):\n",
    "                for j in range(len(matriz_descifrada[i])):\n",
    "                    \n",
    "                    if matriz_descifrada[i][j]<0:\n",
    "                        matriz_descifrada[i][j]=mod+matriz_descifrada[i][j]\n",
    "        \n",
    "                    resul=resul+alfabeto[int(matriz_descifrada[i][j])]\n",
    "            \n",
    "             \n",
    "            print_output(o,resul)\n",
    "            \n",
    "    else:\n",
    "        print(\"{} y {} no son primos relativos. Error\".format(det,mod))"
   ]
  },
  {
   "cell_type": "code",
   "execution_count": 657,
   "id": "9b9f563c",
   "metadata": {},
   "outputs": [
    {
     "name": "stdout",
     "output_type": "stream",
     "text": [
      "2\n",
      "Cadena: holaquetal\n"
     ]
    }
   ],
   "source": [
    "k = [[11,8], [3,7]]\n",
    "hill(\"-D\",26, 2,\"matriz_k.txt\",\"matriz_cifrada.txt\" ,0)"
   ]
  },
  {
   "cell_type": "code",
   "execution_count": 658,
   "id": "1847b014",
   "metadata": {},
   "outputs": [
    {
     "name": "stdout",
     "output_type": "stream",
     "text": [
      "2\n",
      "hola que tal\n",
      "Cadena: hola que tal\n",
      "[array([15., 24.]), array([17., 10.]), array([2., 8.]), array([23.,  9.]), array([ 7., 25.])]\n"
     ]
    }
   ],
   "source": [
    "\n",
    "hill(\"-C\",26,2, \"matriz_k.txt\", 0,\"resulta_hill.txt\" )"
   ]
  },
  {
   "cell_type": "code",
   "execution_count": 659,
   "id": "d968e2a9",
   "metadata": {},
   "outputs": [
    {
     "name": "stdout",
     "output_type": "stream",
     "text": [
      "2\n",
      "Cadena: holaquetal\n"
     ]
    }
   ],
   "source": [
    "hill(\"-D\",26, 2,\"matriz_k.txt\",\"resulta_hill.txt\",0)"
   ]
  },
  {
   "cell_type": "markdown",
   "id": "9c79aa8d",
   "metadata": {},
   "source": [
    "## 2.b Método de Vigenere"
   ]
  },
  {
   "cell_type": "markdown",
   "id": "4078c647",
   "metadata": {},
   "source": [
    "El siguiente programa implementa el método. de Vigenere.\n",
    "\n",
    "Llamada a la función: \n",
    "\n",
    "vigenere {-C|-D} {-k clave} [-i filein] [-o fileout]\n",
    "\n",
    "-k cadena de caracteres usada como clave"
   ]
  },
  {
   "cell_type": "code",
   "execution_count": 165,
   "id": "f58f0ae6",
   "metadata": {},
   "outputs": [],
   "source": [
    "def vigenere(modo,k,i=0,o=0):\n",
    "    alfabeto='abcdefghijklmnopqrstuvwxyz'\n",
    "    base=len(alfabeto)\n",
    "    n=len(k)\n",
    "    #Traducimos la clave de caracteres a números\n",
    "    k_numerica=[]\n",
    "    for j in k:\n",
    "        if j in alfabeto: \n",
    "            k_numerica.append(alfabeto.index(j))\n",
    "    if modo==\"-C\":\n",
    "        cadena=read_input(i)\n",
    "        # Traducimos los caracteres a números\n",
    "        cadena_numerica=[]\n",
    "        for k in cadena:\n",
    "            if k in alfabeto: \n",
    "                cadena_numerica.append(alfabeto.index(k))\n",
    "        # Dividimos en bloques de n elementos el input\n",
    "        # Si m no es múltiplo de n se añade padding\n",
    "        m=len(cadena_numerica)/n\n",
    "        maxi=len(cadena_numerica)\n",
    "        matriz_numerica=np.zeros((math.ceil(m),n))\n",
    "        pos=0\n",
    "        for i in range(math.ceil(m)):\n",
    "            for j in range(n):\n",
    "                if pos<maxi:\n",
    "                    matriz_numerica[i][j]=cadena_numerica[pos]\n",
    "                    pos=pos+1\n",
    "        # Tenemos una matriz que tenemos que cifrar. \n",
    "        # Cada bloque es una fila de la matriz\n",
    "        filas=matriz_numerica.shape[0]\n",
    "        elementos=matriz_numerica.shape[1]\n",
    "        #print(\"Matriz numerica\")\n",
    "        #print(matriz_numerica)\n",
    "        matriz_cifrada=np.zeros((filas,elementos))\n",
    "        #print(\"Matriz cifrada de ceros\")\n",
    "        #print(matriz_cifrada)\n",
    "        if elementos==n:\n",
    "            print(\"Bloques ok\")\n",
    "        for i in range(filas):\n",
    "            for j in range(elementos):\n",
    "                matriz_cifrada[i][j]=(matriz_numerica[i][j]+k_numerica[j])%base\n",
    "        #print(\"Matriz cifrada\")\n",
    "        #print(matriz_cifrada)\n",
    "        cadena_cifrada=np.concatenate(matriz_cifrada)\n",
    "        print(cadena_cifrada)\n",
    "        resul=\"\"\n",
    "        for i in cadena_cifrada:\n",
    "            resul=resul+alfabeto[int(i)]\n",
    "        #print(cadena_cifrada)\n",
    "        print_output(o,resul)\n",
    "    elif modo==\"-D\":\n",
    "        cadena=read_input(i)\n",
    "        #cadena_cifrada=cadena_cifrada.split(\" \")\n",
    "        #for i in range(len(cadena_cifrada)):\n",
    "        #   cadena_cifrada[i]=int(cadena_cifrada[i])\n",
    "        cadena_cifrada=[]\n",
    "        for k in cadena:\n",
    "            if k in alfabeto: \n",
    "                cadena_cifrada.append(alfabeto.index(k))\n",
    "        print(cadena_cifrada)\n",
    "        # Dividimos en bloques de n elementos el texto cifrado\n",
    "        # Si m no es múltiplo de n se añade padding\n",
    "        m=len(cadena_cifrada)/n\n",
    "        maxi=len(cadena_cifrada)\n",
    "        matriz_cifrada=np.zeros((math.ceil(m),n))\n",
    "        pos=0\n",
    "        for i in range(math.ceil(m)):\n",
    "            for j in range(n):\n",
    "                if pos<maxi:\n",
    "                    matriz_cifrada[i][j]=cadena_cifrada[pos]\n",
    "                    pos=pos+1\n",
    "        # Tenemos una matriz que tenemos que descifrar. \n",
    "        # Cada bloque es una fila de la matriz\n",
    "        filas=matriz_cifrada.shape[0]\n",
    "        elementos=matriz_cifrada.shape[1]\n",
    "        matriz_descifrada=np.zeros((filas,elementos))\n",
    "        if elementos==n:\n",
    "            print(\"Bloques ok\")\n",
    "        for i in range(filas):\n",
    "            for j in range(elementos):\n",
    "                matriz_descifrada[i][j]=(matriz_cifrada[i][j]-k_numerica[j])%base\n",
    "        cadena_descifrada=np.concatenate(matriz_descifrada)\n",
    "        cadena_texto=\"\"\n",
    "        for i in range(len(cadena_descifrada)):\n",
    "            #cadena_cifrada[i]=int(cadena_cifrada[i])\n",
    "            cadena_texto=cadena_texto+alfabeto[int(cadena_descifrada[i])]\n",
    "        print_output(o,cadena_texto)"
   ]
  },
  {
   "cell_type": "code",
   "execution_count": 481,
   "id": "ead14d27",
   "metadata": {},
   "outputs": [
    {
     "name": "stdout",
     "output_type": "stream",
     "text": [
      "Miren vuestras mercedes también cómo el emperador vuelve las espaldas y deja despechado a don Gaiferos, el cual ya ven cómo arroja, impaciente de la cólera, lejos de sí el tablero y las tablas, y pide apriesa las armas, y a don Roldán su primo pide prestada su espada Durindana, y cómo don Roldán no se la quiere prestar, ofreciéndole su compañía en la difícil empresa en que se pone; pero el valeroso enojado no lo quiere aceptar; antes, dice que él solo es bastante para sacar a su esposa, si bien estuviese metida en el más hondo centro de la tierra; y con esto, se entra a armar, para ponerse luego en camino. Vuelvan vuestras mercedes los ojos a aquella torre que allí parece, que se presupone que es una de las torres del alcázar de Zaragoza, que ahora llaman la Aljafería; y aquella dama que en aquel balcón parece, vestida a lo moro, es la sin par Melisendra, que desde allí muchas veces se ponía a mirar el camino de Francia, y puesta la imaginación en París y en su esposo, se consolaba en su cautiverio. Miren también un nuevo caso que ahora sucede, quizá no visto jamás. ¿No veen aquel moro que callandico y pasito a paso, puesto el dedo en la boca, se llega por las espaldas de Melisendra? Pues miren cómo la da un beso en mitad de los labios, y la priesa que ella se da a escupir, y a limpiárselos con la blanca manga de su camisa, y cómo se lamenta, y se arranca de pesar sus hermosos cabellos, como si ellos tuvieran la culpa del maleficio. Miren también cómo aquel grave moro que está en aquellos corredores es el rey Marsilio de Sansueña; el cual, por haber visto la insolencia del moro, puesto que era un pariente y gran privado suyo, le mandó luego prender, y que le den docientos azotes, llevándole por las calles acostumbradas de la ciudad\n",
      "Cadena: Miren vuestras mercedes también cómo el emperador vuelve las espaldas y deja despechado a don Gaiferos, el cual ya ven cómo arroja, impaciente de la cólera, lejos de sí el tablero y las tablas, y pide apriesa las armas, y a don Roldán su primo pide prestada su espada Durindana, y cómo don Roldán no se la quiere prestar, ofreciéndole su compañía en la difícil empresa en que se pone; pero el valeroso enojado no lo quiere aceptar; antes, dice que él solo es bastante para sacar a su esposa, si bien estuviese metida en el más hondo centro de la tierra; y con esto, se entra a armar, para ponerse luego en camino. Vuelvan vuestras mercedes los ojos a aquella torre que allí parece, que se presupone que es una de las torres del alcázar de Zaragoza, que ahora llaman la Aljafería; y aquella dama que en aquel balcón parece, vestida a lo moro, es la sin par Melisendra, que desde allí muchas veces se ponía a mirar el camino de Francia, y puesta la imaginación en París y en su esposo, se consolaba en su cautiverio. Miren también un nuevo caso que ahora sucede, quizá no visto jamás. ¿No veen aquel moro que callandico y pasito a paso, puesto el dedo en la boca, se llega por las espaldas de Melisendra? Pues miren cómo la da un beso en mitad de los labios, y la priesa que ella se da a escupir, y a limpiárselos con la blanca manga de su camisa, y cómo se lamenta, y se arranca de pesar sus hermosos cabellos, como si ellos tuvieran la culpa del maleficio. Miren también cómo aquel grave moro que está en aquellos corredores es el rey Marsilio de Sansueña; el cual, por haber visto la insolencia del moro, puesto que era un pariente y gran privado suyo, le mandó luego prender, y que le den docientos azotes, llevándole por las calles acostumbradas de la ciudad\n",
      "Bloques ok\n",
      "[10.  2.  4. ...  0. 21.  4.]\n",
      "Cadena: kceizwpsovcdmzvepdzwvlmwmpnmjinpmkitldjvxfegzgwaniuaaghcdyyilldzwrpccefzayspliaitzszpefagccgeigozamvquadqrlcdipeeyinlcgitllznqddzwgwtvfnprjcnlsoedwancrtdzercizwcwanetxanccooisnonnyrcihsrtdzttpsoeflspiuaayewciihcyatgozdjrqwdirqdegesfizvgarzwvlrjjtpcdrfzlzwwnohtcleipcoiagkwehttpsvipbuzwgaoiirprjingagitzsjipzjvhqyogssfizvglcztvlrvrvpsymepqpindogsgdbvwvlnoirlrvwcnameufentqdanmdteiiueuqmgdehivtdvipplhwjznysepnovqoegevtemvcjcjrgdtjwgpnovclamqccpvvcaoiitdegygrozrelmdrqfegzcyvpiuervwoprxifpsgsuzjjwclqpinwaostcelygllgtccexisfenircenyrznzuwpenypldzpcdtjvtpsyinllxdccdzetlgjdcbuzejzrvpnlmvrnlleehprvccbuzpnldvqcbuziplqpinmaggpaamiepvzwvtdvenzmjvqpsgeutnketpldwgydmesfeyiuoevpnxuxlcdvzggdsztqyavqkcaminnahmpzdzvcycdeaauzwvllvmolgdrcniiiplrncgyspiuaonsupcjruzlvfcpnnyeluomxprdskceixcxbdrwynpixzcvwqbuzejzrvwwneyisfiurqginxquahwqgezrcbuzpozrjuwpcvpnlnymezykeuttjerlsjtwpsosgwdzhqpngedzcvwgwlzkcaompcdentcwdvwfpegmupnyvcfenqkceigozlvhcfnwiuzeiqkeayhgwonpcmijwawakvkpsvuwpegpcdeyecpsxyrtrtentmkmtdegsunoipcmlvrelmvrildzwwnahmulyxqqdegeopnoeadevvtlnxefppzwccspwjprhsuzsxedplgsunohsutegpqdtpzkprvrnlcpprldzpollzjknijmtpnoeomiigozalygwgmexpmjvqbuziueeiesfegpqdcjvtpdjvgdenincetetdigmqoevrufevinnuvprzrcedprqmueogekysjpgycdefplhstzppiueolygprvypaammgytzcicaitttvvhqdutsnpmvrfwuzkqarzrfprtuwplzhgydjgkpnosulzjxgdlgixydjpgaompcdcvpnpsvgqdtpqdcayeuoegeetuyeflave\n"
     ]
    }
   ],
   "source": [
    "vigenere(\"-C\", \"clave\")"
   ]
  },
  {
   "cell_type": "code",
   "execution_count": 49,
   "id": "907b2b4a",
   "metadata": {},
   "outputs": [
    {
     "name": "stdout",
     "output_type": "stream",
     "text": [
      "rllvftlsve\n",
      "Cadena: rllvftlsve\n",
      "[17, 11, 11, 21, 5, 19, 11, 18, 21, 4]\n",
      "Bloques ok\n",
      "Cadena: palabrasaa\n"
     ]
    }
   ],
   "source": [
    "vigenere(\"-D\", \"clave\")\n"
   ]
  },
  {
   "cell_type": "code",
   "execution_count": 50,
   "id": "e54fdffa",
   "metadata": {},
   "outputs": [
    {
     "name": "stdout",
     "output_type": "stream",
     "text": [
      "Cadena: Universidad Autonoma de Madrid\n",
      "Bloques ok\n",
      "[15. 19. 21. 25. 21. 20. 19.  3. 21.  7. 22.  4. 14.  8. 18. 14. 11.  3.\n",
      " 25.  4.  5.  2.  8. 24.  4.]\n"
     ]
    }
   ],
   "source": [
    "vigenere(\"-C\", \"clave\", \"texto_vigenere.txt\", \"resultado_vigenere.txt\")"
   ]
  },
  {
   "cell_type": "code",
   "execution_count": 51,
   "id": "78cd3442",
   "metadata": {},
   "outputs": [
    {
     "name": "stdout",
     "output_type": "stream",
     "text": [
      "Cadena: p t v z v u t d v h w e o i s o l d z e f c i y e\n",
      "[15, 19, 21, 25, 21, 20, 19, 3, 21, 7, 22, 4, 14, 8, 18, 14, 11, 3, 25, 4, 5, 2, 8, 24, 4]\n",
      "Bloques ok\n"
     ]
    }
   ],
   "source": [
    "vigenere(\"-D\", \"clave\", \"resultado_vigenere.txt\", \"descifrado_vigenere.txt\")"
   ]
  },
  {
   "cell_type": "markdown",
   "id": "a1f492f4",
   "metadata": {},
   "source": [
    "## 2.c Criptoanálisis del cifrado de Vigenere"
   ]
  },
  {
   "cell_type": "markdown",
   "id": "bb8f1881",
   "metadata": {},
   "source": [
    "El primer paso para criptoanalizar el cifrado de vigneres es calcular el tamaño de la clave. Para ello hay dos opciones:\n",
    "\n",
    "1-test de Kasiski: se trata de buscar repeticiones de conjuntos de caracteres en el texto y despues medir la distancia entre ellas.\n",
    "\n",
    "2-indice de coincidencia: este índice determina la probabilidad de que \n",
    "\n",
    "Lo más interesante a destacar del uso de este índice es que si una cadena o texto descifrado posee un IC parecido al de su idioma, significa que la clave propuesta es la original del cifrado.\n"
   ]
  },
  {
   "cell_type": "markdown",
   "id": "9ca0e954",
   "metadata": {},
   "source": [
    "El siguiente programa implementa el test de kasiski.\n",
    "\n",
    "Llamada a la función: \n",
    "kasiski {lista}{-tam conjunto_caracteres} [-i f ilein] [-o f ileout]\n",
    "\n",
    "-tam longitud del conjunto de caracteres"
   ]
  },
  {
   "cell_type": "code",
   "execution_count": 453,
   "id": "323dcb31",
   "metadata": {},
   "outputs": [],
   "source": [
    "def test_kasiski(lista, tam, i=0, o=0):\n",
    "    \n",
    "    res = {}\n",
    "    freq =[]\n",
    "   \n",
    "    \n",
    "    #buscamos las tuplas del texto y la distancia entre ellas\n",
    "    cont = 0\n",
    "    i = 0\n",
    "    while i < len(lista): \n",
    "        conj= lista[i:i+3] # Cogemos al menos 3 caracteres como tamaño de la tupla\n",
    "        t = len(conj)\n",
    "        if t == tam: #tiene que ser t, si no estamos al final de la lista\n",
    "            for j in range(i+1,len(lista)): #Find further in the list for the same pattern\n",
    "                if lista[i:i+t] == lista[j:j+t]: #Si coinciden, seguimos comprobando\n",
    "                    while lista[i:i+t] == lista[j:j+t]:\n",
    "                        t = t + 1\n",
    "                    t = t -1\n",
    "                    conj = lista[i:i+t] #Ahora tenemos un conjunto que sabemos que se repite\n",
    "                    dist = j - i #calculamos la distancia\n",
    "                    freq.extend(calcular_divisores(dist)) #Añadimos los divisores a la lista \n",
    "                    print (\"%s\\ti:%s\\tj:%s\\tdist:%s\\t\\tDivisores:%s\" % (conj,i,j, dist,calcular_divisores(dist))) \n",
    "                    cont = cont +1 #contamos cuantos conjuntos diferentes hay\n",
    "                    j = j + t + 1\n",
    "            i = i + t -3 +1\n",
    "        else:\n",
    "            i = i + 1\n",
    "    \n",
    "    return freq[0]"
   ]
  },
  {
   "cell_type": "code",
   "execution_count": 484,
   "id": "9472e053",
   "metadata": {},
   "outputs": [
    {
     "name": "stdout",
     "output_type": "stream",
     "text": [
      "kcei\ti:0\tj:770\tdist:770\t\tDivisores:[2, 5, 7, 10, 11, 14, 22, 35, 55, 70, 77, 110, 154, 385]\n",
      "kcei\ti:0\tj:915\tdist:915\t\tDivisores:[3, 5, 15, 61, 183, 305]\n",
      "izw\ti:3\tj:157\tdist:154\t\tDivisores:[2, 7, 11, 14, 22, 77]\n",
      "wpso\ti:5\tj:860\tdist:855\t\tDivisores:[3, 5, 9, 15, 19, 45, 57, 95, 171, 285]\n",
      "ovc\ti:8\tj:433\tdist:425\t\tDivisores:[5, 17, 25, 85]\n",
      "dzw\ti:17\tj:62\tdist:45\t\tDivisores:[3, 5, 9, 15]\n",
      "dzw\ti:17\tj:127\tdist:110\t\tDivisores:[2, 5, 10, 11, 22, 55]\n",
      "dzw\ti:17\tj:1007\tdist:990\t\tDivisores:[2, 3, 5, 6, 9, 10, 11, 15, 18, 22, 30, 33, 45, 55, 66, 90, 99, 110, 165, 198, 330, 495]\n",
      "zwvl\ti:18\tj:238\tdist:220\t\tDivisores:[2, 4, 5, 10, 11, 20, 22, 44, 55, 110]\n",
      "zwvl\ti:18\tj:713\tdist:695\t\tDivisores:[5, 139]\n",
      "jin\ti:28\tj:293\tdist:265\t\tDivisores:[5, 53]\n",
      "npm\ti:30\tj:1255\tdist:1225\t\tDivisores:[5, 7, 25, 35, 49, 175, 245]\n",
      "itl\ti:34\tj:119\tdist:85\t\tDivisores:[5, 17]\n",
      "djv\ti:37\tj:1152\tdist:1115\t\tDivisores:[5, 223]\n",
      "fegz\ti:41\tj:466\tdist:425\t\tDivisores:[5, 17, 25, 85]\n",
      "wan\ti:46\tj:146\tdist:100\t\tDivisores:[2, 4, 5, 10, 20, 25, 50]\n",
      "wan\ti:46\tj:161\tdist:115\t\tDivisores:[5, 23]\n",
      "iuaa\ti:49\tj:199\tdist:150\t\tDivisores:[2, 3, 5, 6, 10, 15, 25, 30, 50, 75]\n",
      "ldz\ti:61\tj:541\tdist:480\t\tDivisores:[2, 3, 4, 5, 6, 8, 10, 12, 15, 16, 20, 24, 30, 32, 40, 48, 60, 80, 96, 120, 160, 240]\n",
      "ldzw\ti:61\tj:1006\tdist:945\t\tDivisores:[3, 5, 7, 9, 15, 21, 27, 35, 45, 63, 105, 135, 189, 315]\n",
      "cce\ti:67\tj:515\tdist:448\t\tDivisores:[2, 4, 7, 8, 14, 16, 28, 32, 56, 64, 112, 224]\n",
      "ysp\ti:73\tj:736\tdist:663\t\tDivisores:[3, 13, 17, 39, 51, 221]\n",
      "ait\ti:78\tj:1242\tdist:1164\t\tDivisores:[2, 3, 4, 6, 12, 97, 194, 291, 388, 582]\n",
      "itzs\ti:79\tj:299\tdist:220\t\tDivisores:[2, 4, 5, 10, 11, 20, 22, 44, 55, 110]\n",
      "eigoz\ti:92\tj:917\tdist:825\t\tDivisores:[3, 5, 11, 15, 25, 33, 55, 75, 165, 275]\n",
      "oza\ti:95\tj:1115\tdist:1020\t\tDivisores:[2, 3, 4, 5, 6, 10, 12, 15, 17, 20, 30, 34, 51, 60, 68, 85, 102, 170, 204, 255, 340, 510]\n",
      "qua\ti:100\tj:815\tdist:715\t\tDivisores:[5, 11, 13, 55, 65, 143]\n",
      "lcd\ti:106\tj:674\tdist:568\t\tDivisores:[2, 4, 8, 71, 142, 284]\n",
      "eyi\ti:112\tj:662\tdist:550\t\tDivisores:[2, 5, 10, 11, 22, 25, 50, 55, 110, 275]\n",
      "eyi\ti:112\tj:802\tdist:690\t\tDivisores:[2, 3, 5, 6, 10, 15, 23, 30, 46, 69, 115, 138, 230, 345]\n",
      "yinl\ti:113\tj:553\tdist:440\t\tDivisores:[2, 4, 5, 8, 10, 11, 20, 22, 40, 44, 55, 88, 110, 220]\n",
      "nlc\ti:115\tj:1085\tdist:970\t\tDivisores:[2, 5, 10, 97, 194, 485]\n",
      "git\ti:118\tj:298\tdist:180\t\tDivisores:[2, 3, 4, 5, 6, 9, 10, 12, 15, 18, 20, 30, 36, 45, 60, 90]\n",
      "llz\ti:121\tj:1096\tdist:975\t\tDivisores:[3, 5, 13, 15, 25, 39, 65, 75, 195, 325]\n",
      "dzw\ti:127\tj:1007\tdist:880\t\tDivisores:[2, 4, 5, 8, 10, 11, 16, 20, 22, 40, 44, 55, 80, 88, 110, 176, 220, 440]\n",
      "zwg\ti:128\tj:283\tdist:155\t\tDivisores:[5, 31]\n",
      "wgw\ti:129\tj:879\tdist:750\t\tDivisores:[2, 3, 5, 6, 10, 15, 25, 30, 50, 75, 125, 150, 250, 375]\n",
      "prj\ti:136\tj:291\tdist:155\t\tDivisores:[5, 31]\n",
      "soe\ti:142\tj:192\tdist:50\t\tDivisores:[2, 5, 10, 25]\n",
      "wan\ti:146\tj:161\tdist:15\t\tDivisores:[3, 5]\n",
      "anc\ti:147\tj:167\tdist:20\t\tDivisores:[2, 4, 5, 10]\n",
      "rtdz\ti:150\tj:185\tdist:35\t\tDivisores:[5, 7]\n",
      "dze\ti:152\tj:562\tdist:410\t\tDivisores:[2, 5, 10, 41, 82, 205]\n",
      "rci\ti:155\tj:180\tdist:25\t\tDivisores:[5]\n",
      "zwc\ti:158\tj:1043\tdist:885\t\tDivisores:[3, 5, 15, 59, 177, 295]\n",
      "nny\ti:177\tj:757\tdist:580\t\tDivisores:[2, 4, 5, 10, 20, 29, 58, 116, 145, 290]\n",
      "nyr\ti:178\tj:528\tdist:350\t\tDivisores:[2, 5, 7, 10, 14, 25, 35, 50, 70, 175]\n",
      "ttps\ti:189\tj:274\tdist:85\t\tDivisores:[5, 17]\n",
      "pso\ti:191\tj:861\tdist:670\t\tDivisores:[2, 5, 10, 67, 134, 335]\n",
      "efl\ti:194\tj:1339\tdist:1145\t\tDivisores:[5, 229]\n",
      "spiua\ti:197\tj:737\tdist:540\t\tDivisores:[2, 3, 4, 5, 6, 9, 10, 12, 15, 18, 20, 27, 30, 36, 45, 54, 60, 90, 108, 135, 180, 270]\n",
      "aye\ti:202\tj:1327\tdist:1125\t\tDivisores:[3, 5, 9, 15, 25, 45, 75, 125, 225, 375]\n",
      "goz\ti:214\tj:919\tdist:705\t\tDivisores:[3, 5, 15, 47, 141, 235]\n",
      "goz\ti:214\tj:1114\tdist:900\t\tDivisores:[2, 3, 4, 5, 6, 9, 10, 12, 15, 18, 20, 25, 30, 36, 45, 50, 60, 75, 90, 100, 150, 180, 225, 300, 450]\n",
      "qdege\ti:225\tj:1020\tdist:795\t\tDivisores:[3, 5, 15, 53, 159, 265]\n",
      "esf\ti:229\tj:659\tdist:430\t\tDivisores:[2, 5, 10, 43, 86, 215]\n",
      "esf\ti:229\tj:1139\tdist:910\t\tDivisores:[2, 5, 7, 10, 13, 14, 26, 35, 65, 70, 91, 130, 182, 455]\n",
      "sfizvg\ti:230\tj:315\tdist:85\t\tDivisores:[5, 17]\n",
      "arz\ti:236\tj:1266\tdist:1030\t\tDivisores:[2, 5, 10, 103, 206, 515]\n",
      "zwv\ti:238\tj:628\tdist:390\t\tDivisores:[2, 3, 5, 6, 10, 13, 15, 26, 30, 39, 65, 78, 130, 195]\n",
      "zwvl\ti:238\tj:713\tdist:475\t\tDivisores:[5, 19, 25, 95]\n",
      "vlr\ti:240\tj:325\tdist:85\t\tDivisores:[5, 17]\n",
      "pcd\ti:246\tj:544\tdist:298\t\tDivisores:[2, 149]\n",
      "pcd\ti:246\tj:889\tdist:643\t\tDivisores:[]\n",
      "pcd\ti:246\tj:964\tdist:718\t\tDivisores:[2, 359]\n",
      "pcd\ti:246\tj:1309\tdist:1063\t\tDivisores:[]\n",
      "zwwn\ti:253\tj:1008\tdist:755\t\tDivisores:[5, 151]\n",
      "noh\ti:256\tj:1066\tdist:810\t\tDivisores:[2, 3, 5, 6, 9, 10, 15, 18, 27, 30, 45, 54, 81, 90, 135, 162, 270, 405]\n",
      "ipc\ti:263\tj:993\tdist:730\t\tDivisores:[2, 5, 10, 73, 146, 365]\n",
      "tps\ti:275\tj:550\tdist:275\t\tDivisores:[5, 11, 25, 55]\n",
      "psv\ti:276\tj:956\tdist:680\t\tDivisores:[2, 4, 5, 8, 10, 17, 20, 34, 40, 68, 85, 136, 170, 340]\n",
      "psv\ti:276\tj:1316\tdist:1040\t\tDivisores:[2, 4, 5, 8, 10, 13, 16, 20, 26, 40, 52, 65, 80, 104, 130, 208, 260, 520]\n",
      "vip\ti:278\tj:393\tdist:115\t\tDivisores:[5, 23]\n",
      "buz\ti:281\tj:571\tdist:290\t\tDivisores:[2, 5, 10, 29, 58, 145]\n",
      "buz\ti:281\tj:596\tdist:315\t\tDivisores:[3, 5, 7, 9, 15, 21, 35, 45, 63, 105]\n",
      "buz\ti:281\tj:606\tdist:325\t\tDivisores:[5, 13, 25, 65]\n",
      "buz\ti:281\tj:791\tdist:510\t\tDivisores:[2, 3, 5, 6, 10, 15, 17, 30, 34, 51, 85, 102, 170, 255]\n",
      "buz\ti:281\tj:826\tdist:545\t\tDivisores:[5, 109]\n",
      "buz\ti:281\tj:1131\tdist:850\t\tDivisores:[2, 5, 10, 17, 25, 34, 50, 85, 170, 425]\n",
      "uzw\ti:282\tj:712\tdist:430\t\tDivisores:[2, 5, 10, 43, 86, 215]\n",
      "gao\ti:285\tj:1305\tdist:1020\t\tDivisores:[2, 3, 4, 5, 6, 10, 12, 15, 17, 20, 30, 34, 51, 60, 68, 85, 102, 170, 204, 255, 340, 510]\n",
      "aoii\ti:286\tj:446\tdist:160\t\tDivisores:[2, 4, 5, 8, 10, 16, 20, 32, 40, 80]\n",
      "vhq\ti:308\tj:1248\tdist:940\t\tDivisores:[2, 4, 5, 10, 20, 47, 94, 188, 235, 470]\n",
      "ogs\ti:312\tj:342\tdist:30\t\tDivisores:[2, 3, 5, 6, 10, 15]\n",
      "sfi\ti:315\tj:805\tdist:490\t\tDivisores:[2, 5, 7, 10, 14, 35, 49, 70, 98, 245]\n",
      "lrv\ti:326\tj:356\tdist:30\t\tDivisores:[2, 3, 5, 6, 10, 15]\n",
      "rvr\ti:327\tj:1082\tdist:755\t\tDivisores:[5, 151]\n",
      "rvp\ti:329\tj:577\tdist:248\t\tDivisores:[2, 4, 8, 31, 62, 124]\n",
      "psy\ti:331\tj:551\tdist:220\t\tDivisores:[2, 4, 5, 10, 11, 20, 22, 44, 55, 110]\n",
      "yme\ti:333\tj:843\tdist:510\t\tDivisores:[2, 3, 5, 6, 10, 15, 17, 30, 34, 51, 85, 102, 170, 255]\n",
      "qpin\ti:337\tj:497\tdist:160\t\tDivisores:[2, 4, 5, 8, 10, 16, 20, 32, 40, 80]\n",
      "qpin\ti:337\tj:612\tdist:275\t\tDivisores:[5, 11, 25, 55]\n",
      "wvl\ti:349\tj:714\tdist:365\t\tDivisores:[5, 73]\n",
      "noi\ti:352\tj:991\tdist:639\t\tDivisores:[3, 9, 71, 213]\n",
      "rvw\ti:357\tj:477\tdist:120\t\tDivisores:[2, 3, 4, 5, 6, 8, 10, 12, 15, 20, 24, 30, 40, 60]\n",
      "rvw\ti:357\tj:797\tdist:440\t\tDivisores:[2, 4, 5, 8, 10, 11, 20, 22, 40, 44, 55, 88, 110, 220]\n",
      "ufe\ti:365\tj:1175\tdist:810\t\tDivisores:[2, 3, 5, 6, 9, 10, 15, 18, 27, 30, 45, 54, 81, 90, 135, 162, 270, 405]\n",
      "fen\ti:366\tj:521\tdist:155\t\tDivisores:[5, 31]\n",
      "fen\ti:366\tj:911\tdist:545\t\tDivisores:[5, 109]\n",
      "ent\ti:367\tj:892\tdist:525\t\tDivisores:[3, 5, 7, 15, 21, 25, 35, 75, 105, 175]\n",
      "ent\ti:367\tj:979\tdist:612\t\tDivisores:[2, 3, 4, 6, 9, 12, 17, 18, 34, 36, 51, 68, 102, 153, 204, 306]\n",
      "iue\ti:379\tj:474\tdist:95\t\tDivisores:[5, 19]\n",
      "iue\ti:379\tj:1134\tdist:755\t\tDivisores:[5, 151]\n",
      "iue\ti:379\tj:1219\tdist:840\t\tDivisores:[2, 3, 4, 5, 6, 7, 8, 10, 12, 14, 15, 20, 21, 24, 28, 30, 35, 40, 42, 56, 60, 70, 84, 105, 120, 140, 168, 210, 280, 420]\n",
      "gde\ti:385\tj:1155\tdist:770\t\tDivisores:[2, 5, 7, 10, 11, 14, 22, 35, 55, 70, 77, 110, 154, 385]\n",
      "vtdv\ti:390\tj:630\tdist:240\t\tDivisores:[2, 3, 4, 5, 6, 8, 10, 12, 15, 16, 20, 24, 30, 40, 48, 60, 80, 120]\n",
      "plh\ti:396\tj:1211\tdist:815\t\tDivisores:[5, 163]\n",
      "pnov\ti:406\tj:431\tdist:25\t\tDivisores:[5]\n",
      "qoe\ti:410\tj:1170\tdist:760\t\tDivisores:[2, 4, 5, 8, 10, 19, 20, 38, 40, 76, 95, 152, 190, 380]\n",
      "oege\ti:411\tj:1331\tdist:920\t\tDivisores:[2, 4, 5, 8, 10, 20, 23, 40, 46, 92, 115, 184, 230, 460]\n",
      "cjr\ti:422\tj:747\tdist:325\t\tDivisores:[5, 13, 25, 65]\n",
      "dtj\ti:426\tj:546\tdist:120\t\tDivisores:[2, 3, 4, 5, 6, 8, 10, 12, 15, 20, 24, 30, 40, 60]\n",
      "pno\ti:431\tj:1026\tdist:595\t\tDivisores:[5, 7, 17, 35, 85, 119]\n",
      "pno\ti:431\tj:1106\tdist:675\t\tDivisores:[3, 5, 9, 15, 25, 27, 45, 75, 135, 225]\n",
      "pno\ti:431\tj:1286\tdist:855\t\tDivisores:[3, 5, 9, 15, 19, 45, 57, 95, 171, 285]\n",
      "cao\ti:445\tj:885\tdist:440\t\tDivisores:[2, 4, 5, 8, 10, 11, 20, 22, 40, 44, 55, 88, 110, 220]\n",
      "tdeg\ti:450\tj:985\tdist:535\t\tDivisores:[5, 107]\n",
      "ozr\ti:457\tj:830\tdist:373\t\tDivisores:[]\n",
      "relm\ti:459\tj:999\tdist:540\t\tDivisores:[2, 3, 4, 5, 6, 9, 10, 12, 15, 18, 20, 27, 30, 36, 45, 54, 60, 90, 108, 135, 180, 270]\n",
      "feg\ti:466\tj:1141\tdist:675\t\tDivisores:[3, 5, 9, 15, 25, 27, 45, 75, 135, 225]\n",
      "piu\ti:473\tj:738\tdist:265\t\tDivisores:[5, 53]\n",
      "piue\ti:473\tj:1218\tdist:745\t\tDivisores:[5, 149]\n",
      "rvw\ti:477\tj:797\tdist:320\t\tDivisores:[2, 4, 5, 8, 10, 16, 20, 32, 40, 64, 80, 160]\n",
      "psg\ti:486\tj:641\tdist:155\t\tDivisores:[5, 31]\n",
      "gsu\ti:488\tj:988\tdist:500\t\tDivisores:[2, 4, 5, 10, 20, 25, 50, 100, 125, 250]\n",
      "gsu\ti:488\tj:1063\tdist:575\t\tDivisores:[5, 23, 25, 115]\n",
      "suz\ti:489\tj:1054\tdist:565\t\tDivisores:[5, 113]\n",
      "lqpin\ti:496\tj:611\tdist:115\t\tDivisores:[5, 23]\n",
      "lyg\ti:508\tj:1118\tdist:610\t\tDivisores:[2, 5, 10, 61, 122, 305]\n",
      "lyg\ti:508\tj:1223\tdist:715\t\tDivisores:[5, 11, 13, 55, 65, 143]\n",
      "isf\ti:519\tj:804\tdist:285\t\tDivisores:[3, 5, 15, 19, 57, 95]\n",
      "sfe\ti:520\tj:660\tdist:140\t\tDivisores:[2, 4, 5, 7, 10, 14, 20, 28, 35, 70]\n",
      "sfe\ti:520\tj:1140\tdist:620\t\tDivisores:[2, 4, 5, 10, 20, 31, 62, 124, 155, 310]\n",
      "fen\ti:521\tj:911\tdist:390\t\tDivisores:[2, 3, 5, 6, 10, 13, 15, 26, 30, 39, 65, 78, 130, 195]\n",
      "eni\ti:522\tj:1157\tdist:635\t\tDivisores:[5, 127]\n",
      "rce\ti:525\tj:1187\tdist:662\t\tDivisores:[2, 331]\n",
      "eny\ti:527\tj:537\tdist:10\t\tDivisores:[2, 5]\n",
      "uwp\ti:534\tj:834\tdist:300\t\tDivisores:[2, 3, 4, 5, 6, 10, 12, 15, 20, 25, 30, 50, 60, 75, 100, 150]\n",
      "uwpe\ti:534\tj:959\tdist:425\t\tDivisores:[5, 17, 25, 85]\n",
      "pld\ti:540\tj:651\tdist:111\t\tDivisores:[3, 37]\n",
      "ldz\ti:541\tj:1006\tdist:465\t\tDivisores:[3, 5, 15, 31, 93, 155]\n",
      "ldzp\ti:541\tj:1091\tdist:550\t\tDivisores:[2, 5, 10, 11, 22, 25, 50, 55, 110, 275]\n",
      "pcd\ti:544\tj:889\tdist:345\t\tDivisores:[3, 5, 15, 23, 69, 115]\n",
      "pcd\ti:544\tj:964\tdist:420\t\tDivisores:[2, 3, 4, 5, 6, 7, 10, 12, 14, 15, 20, 21, 28, 30, 35, 42, 60, 70, 84, 105, 140, 210]\n",
      "pcd\ti:544\tj:1309\tdist:765\t\tDivisores:[3, 5, 9, 15, 17, 45, 51, 85, 153, 255]\n",
      "jvtp\ti:548\tj:1148\tdist:600\t\tDivisores:[2, 3, 4, 5, 6, 8, 10, 12, 15, 20, 24, 25, 30, 40, 50, 60, 75, 100, 120, 150, 200, 300]\n",
      "nll\ti:555\tj:585\tdist:30\t\tDivisores:[2, 3, 5, 6, 10, 15]\n",
      "cbuz\ti:570\tj:595\tdist:25\t\tDivisores:[5]\n",
      "cbuz\ti:570\tj:605\tdist:35\t\tDivisores:[5, 7]\n",
      "cbuz\ti:570\tj:825\tdist:255\t\tDivisores:[3, 5, 15, 17, 51, 85]\n",
      "uzejzrv\ti:572\tj:792\tdist:220\t\tDivisores:[2, 4, 5, 10, 11, 20, 22, 44, 55, 110]\n",
      "vpn\ti:578\tj:668\tdist:90\t\tDivisores:[2, 3, 5, 6, 9, 10, 15, 18, 30, 45]\n",
      "vpnl\ti:578\tj:838\tdist:260\t\tDivisores:[2, 4, 5, 10, 13, 20, 26, 52, 65, 130]\n",
      "lmvr\ti:581\tj:1001\tdist:420\t\tDivisores:[2, 3, 4, 5, 6, 7, 10, 12, 14, 15, 20, 21, 28, 30, 35, 42, 60, 70, 84, 105, 140, 210]\n",
      "vrnl\ti:583\tj:1083\tdist:500\t\tDivisores:[2, 4, 5, 10, 20, 25, 50, 100, 125, 250]\n",
      "prv\ti:591\tj:1081\tdist:490\t\tDivisores:[2, 5, 7, 10, 14, 35, 49, 70, 98, 245]\n",
      "prv\ti:591\tj:1226\tdist:635\t\tDivisores:[5, 127]\n",
      "cbuz\ti:595\tj:605\tdist:10\t\tDivisores:[2, 5]\n",
      "cbuzp\ti:595\tj:825\tdist:230\t\tDivisores:[2, 5, 10, 23, 46, 115]\n",
      "pnl\ti:599\tj:839\tdist:240\t\tDivisores:[2, 3, 4, 5, 6, 8, 10, 12, 15, 16, 20, 24, 30, 40, 48, 60, 80, 120]\n",
      "cbuz\ti:605\tj:825\tdist:220\t\tDivisores:[2, 4, 5, 10, 11, 20, 22, 44, 55, 110]\n",
      "uzi\ti:607\tj:1132\tdist:525\t\tDivisores:[3, 5, 7, 15, 21, 25, 35, 75, 105, 175]\n",
      "ipl\ti:609\tj:729\tdist:120\t\tDivisores:[2, 3, 4, 5, 6, 8, 10, 12, 15, 20, 24, 30, 40, 60]\n",
      "paam\ti:620\tj:1230\tdist:610\t\tDivisores:[2, 5, 10, 61, 122, 305]\n",
      "ami\ti:622\tj:692\tdist:70\t\tDivisores:[2, 5, 7, 10, 14, 35]\n",
      "zwv\ti:628\tj:713\tdist:85\t\tDivisores:[5, 17]\n",
      "mjvq\ti:637\tj:1127\tdist:490\t\tDivisores:[2, 5, 7, 10, 14, 35, 49, 70, 98, 245]\n",
      "eut\ti:644\tj:849\tdist:205\t\tDivisores:[5, 41]\n",
      "gyd\ti:655\tj:1280\tdist:625\t\tDivisores:[5, 25, 125]\n",
      "esfe\ti:659\tj:1139\tdist:480\t\tDivisores:[2, 3, 4, 5, 6, 8, 10, 12, 15, 16, 20, 24, 30, 32, 40, 48, 60, 80, 96, 120, 160, 240]\n",
      "eyi\ti:662\tj:802\tdist:140\t\tDivisores:[2, 4, 5, 7, 10, 14, 20, 28, 35, 70]\n",
      "uoe\ti:665\tj:1330\tdist:665\t\tDivisores:[5, 7, 19, 35, 95, 133]\n",
      "oev\ti:666\tj:1171\tdist:505\t\tDivisores:[5, 101]\n",
      "vpn\ti:668\tj:838\tdist:170\t\tDivisores:[2, 5, 10, 17, 34, 85]\n",
      "vpn\ti:668\tj:1313\tdist:645\t\tDivisores:[3, 5, 15, 43, 129, 215]\n",
      "qkc\ti:689\tj:914\tdist:225\t\tDivisores:[3, 5, 9, 15, 25, 45, 75]\n",
      "kca\ti:690\tj:884\tdist:194\t\tDivisores:[2, 97]\n",
      "inn\ti:694\tj:1179\tdist:485\t\tDivisores:[5, 97]\n",
      "nahm\ti:696\tj:1011\tdist:315\t\tDivisores:[3, 5, 7, 9, 15, 21, 35, 45, 63, 105]\n",
      "ycde\ti:706\tj:1206\tdist:500\t\tDivisores:[2, 4, 5, 10, 20, 25, 50, 100, 125, 250]\n",
      "piu\ti:738\tj:1218\tdist:480\t\tDivisores:[2, 3, 4, 5, 6, 8, 10, 12, 15, 16, 20, 24, 30, 32, 40, 48, 60, 80, 96, 120, 160, 240]\n",
      "zlv\ti:751\tj:921\tdist:170\t\tDivisores:[2, 5, 10, 17, 34, 85]\n",
      "kcei\ti:770\tj:915\tdist:145\t\tDivisores:[5, 29]\n",
      "zcvw\ti:786\tj:876\tdist:90\t\tDivisores:[2, 3, 5, 6, 9, 10, 15, 18, 30, 45]\n",
      "qbuz\ti:790\tj:1130\tdist:340\t\tDivisores:[2, 4, 5, 10, 17, 20, 34, 68, 85, 170]\n",
      "uze\ti:792\tj:930\tdist:138\t\tDivisores:[2, 3, 6, 23, 46, 69]\n",
      "wwn\ti:799\tj:1009\tdist:210\t\tDivisores:[2, 3, 5, 6, 7, 10, 14, 15, 21, 30, 35, 42, 70, 105]\n",
      "zrc\ti:823\tj:1186\tdist:363\t\tDivisores:[3, 11, 33, 121]\n",
      "buz\ti:826\tj:1131\tdist:305\t\tDivisores:[5, 61]\n",
      "zpo\ti:828\tj:1093\tdist:265\t\tDivisores:[5, 53]\n"
     ]
    },
    {
     "name": "stdout",
     "output_type": "stream",
     "text": [
      "uwp\ti:834\tj:959\tdist:125\t\tDivisores:[5, 25]\n",
      "uwp\ti:834\tj:1274\tdist:440\t\tDivisores:[2, 4, 5, 8, 10, 11, 20, 22, 40, 44, 55, 88, 110, 220]\n",
      "cvpn\ti:837\tj:1312\tdist:475\t\tDivisores:[5, 19, 25, 95]\n",
      "aompcd\ti:886\tj:1306\tdist:420\t\tDivisores:[2, 3, 4, 5, 6, 7, 10, 12, 14, 15, 20, 21, 28, 30, 35, 42, 60, 70, 84, 105, 140, 210]\n",
      "cde\ti:890\tj:965\tdist:75\t\tDivisores:[3, 5, 15, 25]\n",
      "cde\ti:890\tj:1207\tdist:317\t\tDivisores:[]\n",
      "den\ti:891\tj:1156\tdist:265\t\tDivisores:[5, 53]\n",
      "ent\ti:892\tj:979\tdist:87\t\tDivisores:[3, 29]\n",
      "peg\ti:901\tj:961\tdist:60\t\tDivisores:[2, 3, 4, 5, 6, 10, 12, 15, 20, 30]\n",
      "igoz\ti:918\tj:1113\tdist:195\t\tDivisores:[3, 5, 13, 15, 39, 65]\n",
      "pcm\ti:944\tj:994\tdist:50\t\tDivisores:[2, 5, 10, 25]\n",
      "psv\ti:956\tj:1316\tdist:360\t\tDivisores:[2, 3, 4, 5, 6, 8, 9, 10, 12, 15, 18, 20, 24, 30, 36, 40, 45, 60, 72, 90, 120, 180]\n",
      "uwp\ti:959\tj:1274\tdist:315\t\tDivisores:[3, 5, 7, 9, 15, 21, 35, 45, 63, 105]\n",
      "egp\ti:962\tj:1072\tdist:110\t\tDivisores:[2, 5, 10, 11, 22, 55]\n",
      "egp\ti:962\tj:1142\tdist:180\t\tDivisores:[2, 3, 4, 5, 6, 9, 10, 12, 15, 18, 20, 30, 36, 45, 60, 90]\n",
      "pcd\ti:964\tj:1309\tdist:345\t\tDivisores:[3, 5, 15, 23, 69, 115]\n",
      "cde\ti:965\tj:1207\tdist:242\t\tDivisores:[2, 11, 22, 121]\n",
      "deg\ti:986\tj:1021\tdist:35\t\tDivisores:[5, 7]\n",
      "gsuno\ti:988\tj:1063\tdist:75\t\tDivisores:[3, 5, 15, 25]\n",
      "mvr\ti:1002\tj:1257\tdist:255\t\tDivisores:[3, 5, 15, 17, 51, 85]\n",
      "ldz\ti:1006\tj:1091\tdist:85\t\tDivisores:[5, 17]\n",
      "ege\ti:1022\tj:1332\tdist:310\t\tDivisores:[2, 5, 10, 31, 62, 155]\n",
      "pnoe\ti:1026\tj:1106\tdist:80\t\tDivisores:[2, 4, 5, 8, 10, 16, 20, 40]\n",
      "efp\ti:1039\tj:1209\tdist:170\t\tDivisores:[2, 5, 10, 17, 34, 85]\n",
      "hsu\ti:1053\tj:1068\tdist:15\t\tDivisores:[3, 5]\n",
      "edp\ti:1059\tj:1189\tdist:130\t\tDivisores:[2, 5, 10, 13, 26, 65]\n",
      "egpqd\ti:1072\tj:1142\tdist:70\t\tDivisores:[2, 5, 7, 10, 14, 35]\n",
      "qdtp\ti:1075\tj:1320\tdist:245\t\tDivisores:[5, 7, 35, 49]\n",
      "prv\ti:1081\tj:1226\tdist:145\t\tDivisores:[5, 29]\n",
      "lzj\ti:1097\tj:1291\tdist:194\t\tDivisores:[2, 97]\n",
      "pno\ti:1106\tj:1286\tdist:180\t\tDivisores:[2, 3, 4, 5, 6, 9, 10, 12, 15, 18, 20, 30, 36, 45, 60, 90]\n",
      "lyg\ti:1118\tj:1223\tdist:105\t\tDivisores:[3, 5, 7, 15, 21, 35]\n",
      "iue\ti:1134\tj:1219\tdist:85\t\tDivisores:[5, 17]\n",
      "pqdc\ti:1144\tj:1323\tdist:179\t\tDivisores:[]\n",
      "rzr\ti:1185\tj:1267\tdist:82\t\tDivisores:[2, 41]\n",
      "ueo\ti:1195\tj:1220\tdist:25\t\tDivisores:[5]\n",
      "jpg\ti:1203\tj:1303\tdist:100\t\tDivisores:[2, 4, 5, 10, 20, 25, 50]\n",
      "ydj\ti:1281\tj:1301\tdist:20\t\tDivisores:[2, 4, 5, 10]\n",
      "2\n"
     ]
    },
    {
     "ename": "KeyboardInterrupt",
     "evalue": "Interrupted by user",
     "output_type": "error",
     "traceback": [
      "\u001b[1;31m---------------------------------------------------------------------------\u001b[0m",
      "\u001b[1;31mKeyboardInterrupt\u001b[0m                         Traceback (most recent call last)",
      "Input \u001b[1;32mIn [484]\u001b[0m, in \u001b[0;36m<cell line: 3>\u001b[1;34m()\u001b[0m\n\u001b[0;32m      1\u001b[0m lista\u001b[38;5;241m=\u001b[39m\u001b[38;5;124m\"\u001b[39m\u001b[38;5;124mkceizwpsovcdmzvepdzwvlmwmpnmjinpmkitldjvxfegzgwaniuaaghcdyyilldzwrpccefzayspliaitzszpefagccgeigozamvquadqrlcdipeeyinlcgitllznqddzwgwtvfnprjcnlsoedwancrtdzercizwcwanetxanccooisnonnyrcihsrtdzttpsoeflspiuaayewciihcyatgozdjrqwdirqdegesfizvgarzwvlrjjtpcdrfzlzwwnohtcleipcoiagkwehttpsvipbuzwgaoiirprjingagitzsjipzjvhqyogssfizvglcztvlrvrvpsymepqpindogsgdbvwvlnoirlrvwcnameufentqdanmdteiiueuqmgdehivtdvipplhwjznysepnovqoegevtemvcjcjrgdtjwgpnovclamqccpvvcaoiitdegygrozrelmdrqfegzcyvpiuervwoprxifpsgsuzjjwclqpinwaostcelygllgtccexisfenircenyrznzuwpenypldzpcdtjvtpsyinllxdccdzetlgjdcbuzejzrvpnlmvrnlleehprvccbuzpnldvqcbuziplqpinmaggpaamiepvzwvtdvenzmjvqpsgeutnketpldwgydmesfeyiuoevpnxuxlcdvzggdsztqyavqkcaminnahmpzdzvcycdeaauzwvllvmolgdrcniiiplrncgyspiuaonsupcjruzlvfcpnnyeluomxprdskceixcxbdrwynpixzcvwqbuzejzrvwwneyisfiurqginxquahwqgezrcbuzpozrjuwpcvpnlnymezykeuttjerlsjtwpsosgwdzhqpngedzcvwgwlzkcaompcdentcwdvwfpegmupnyvcfenqkceigozlvhcfnwiuzeiqkeayhgwonpcmijwawakvkpsvuwpegpcdeyecpsxyrtrtentmkmtdegsunoipcmlvrelmvrildzwwnahmulyxqqdegeopnoeadevvtlnxefppzwccspwjprhsuzsxedplgsunohsutegpqdtpzkprvrnlcpprldzpollzjknijmtpnoeomiigozalygwgmexpmjvqbuziueeiesfegpqdcjvtpdjvgdenincetetdigmqoevrufevinnuvprzrcedprqmueogekysjpgycdefplhstzppiueolygprvypaammgytzcicaitttvvhqdutsnpmvrfwuzkqarzrfprtuwplzhgydjgkpnosulzjxgdlgixydjpgaompcdcvpnpsvgqdtpqdcayeuoegeetuyeflave\u001b[39m\u001b[38;5;124m\"\u001b[39m\n\u001b[0;32m      2\u001b[0m \u001b[38;5;28mprint\u001b[39m(test_kasiski(lista,\u001b[38;5;241m3\u001b[39m))\n\u001b[1;32m----> 3\u001b[0m \u001b[38;5;28mprint\u001b[39m(\u001b[43mvigenere\u001b[49m\u001b[43m(\u001b[49m\u001b[38;5;124;43m\"\u001b[39;49m\u001b[38;5;124;43m-D\u001b[39;49m\u001b[38;5;124;43m\"\u001b[39;49m\u001b[43m,\u001b[49m\u001b[43m \u001b[49m\u001b[38;5;124;43m\"\u001b[39;49m\u001b[38;5;124;43mclave\u001b[39;49m\u001b[38;5;124;43m\"\u001b[39;49m\u001b[43m)\u001b[49m)\n",
      "Input \u001b[1;32mIn [165]\u001b[0m, in \u001b[0;36mvigenere\u001b[1;34m(modo, k, i, o)\u001b[0m\n\u001b[0;32m     50\u001b[0m     print_output(o,resul)\n\u001b[0;32m     51\u001b[0m \u001b[38;5;28;01melif\u001b[39;00m modo\u001b[38;5;241m==\u001b[39m\u001b[38;5;124m\"\u001b[39m\u001b[38;5;124m-D\u001b[39m\u001b[38;5;124m\"\u001b[39m:\n\u001b[1;32m---> 52\u001b[0m     cadena\u001b[38;5;241m=\u001b[39m\u001b[43mread_input\u001b[49m\u001b[43m(\u001b[49m\u001b[43mi\u001b[49m\u001b[43m)\u001b[49m\n\u001b[0;32m     53\u001b[0m     \u001b[38;5;66;03m#cadena_cifrada=cadena_cifrada.split(\" \")\u001b[39;00m\n\u001b[0;32m     54\u001b[0m     \u001b[38;5;66;03m#for i in range(len(cadena_cifrada)):\u001b[39;00m\n\u001b[0;32m     55\u001b[0m     \u001b[38;5;66;03m#   cadena_cifrada[i]=int(cadena_cifrada[i])\u001b[39;00m\n\u001b[0;32m     56\u001b[0m     cadena_cifrada\u001b[38;5;241m=\u001b[39m[]\n",
      "Input \u001b[1;32mIn [8]\u001b[0m, in \u001b[0;36mread_input\u001b[1;34m(i)\u001b[0m\n\u001b[0;32m      1\u001b[0m \u001b[38;5;28;01mdef\u001b[39;00m \u001b[38;5;21mread_input\u001b[39m(i):\n\u001b[0;32m      2\u001b[0m     \u001b[38;5;66;03m# Primero tomamos el input de i o de la entrada estándar\u001b[39;00m\n\u001b[0;32m      3\u001b[0m     \u001b[38;5;28;01mif\u001b[39;00m i\u001b[38;5;241m==\u001b[39m\u001b[38;5;241m0\u001b[39m:\n\u001b[1;32m----> 4\u001b[0m         cadena\u001b[38;5;241m=\u001b[39m\u001b[38;5;28;43minput\u001b[39;49m\u001b[43m(\u001b[49m\u001b[43m)\u001b[49m\n\u001b[0;32m      5\u001b[0m     \u001b[38;5;28;01melse\u001b[39;00m:\n\u001b[0;32m      6\u001b[0m         file\u001b[38;5;241m=\u001b[39m\u001b[38;5;28mopen\u001b[39m(i, \u001b[38;5;124m\"\u001b[39m\u001b[38;5;124mr\u001b[39m\u001b[38;5;124m\"\u001b[39m)\n",
      "File \u001b[1;32m~\\anaconda3\\lib\\site-packages\\ipykernel\\kernelbase.py:1075\u001b[0m, in \u001b[0;36mKernel.raw_input\u001b[1;34m(self, prompt)\u001b[0m\n\u001b[0;32m   1071\u001b[0m \u001b[38;5;28;01mif\u001b[39;00m \u001b[38;5;129;01mnot\u001b[39;00m \u001b[38;5;28mself\u001b[39m\u001b[38;5;241m.\u001b[39m_allow_stdin:\n\u001b[0;32m   1072\u001b[0m     \u001b[38;5;28;01mraise\u001b[39;00m StdinNotImplementedError(\n\u001b[0;32m   1073\u001b[0m         \u001b[38;5;124m\"\u001b[39m\u001b[38;5;124mraw_input was called, but this frontend does not support input requests.\u001b[39m\u001b[38;5;124m\"\u001b[39m\n\u001b[0;32m   1074\u001b[0m     )\n\u001b[1;32m-> 1075\u001b[0m \u001b[38;5;28;01mreturn\u001b[39;00m \u001b[38;5;28;43mself\u001b[39;49m\u001b[38;5;241;43m.\u001b[39;49m\u001b[43m_input_request\u001b[49m\u001b[43m(\u001b[49m\n\u001b[0;32m   1076\u001b[0m \u001b[43m    \u001b[49m\u001b[38;5;28;43mstr\u001b[39;49m\u001b[43m(\u001b[49m\u001b[43mprompt\u001b[49m\u001b[43m)\u001b[49m\u001b[43m,\u001b[49m\n\u001b[0;32m   1077\u001b[0m \u001b[43m    \u001b[49m\u001b[38;5;28;43mself\u001b[39;49m\u001b[38;5;241;43m.\u001b[39;49m\u001b[43m_parent_ident\u001b[49m\u001b[43m[\u001b[49m\u001b[38;5;124;43m\"\u001b[39;49m\u001b[38;5;124;43mshell\u001b[39;49m\u001b[38;5;124;43m\"\u001b[39;49m\u001b[43m]\u001b[49m\u001b[43m,\u001b[49m\n\u001b[0;32m   1078\u001b[0m \u001b[43m    \u001b[49m\u001b[38;5;28;43mself\u001b[39;49m\u001b[38;5;241;43m.\u001b[39;49m\u001b[43mget_parent\u001b[49m\u001b[43m(\u001b[49m\u001b[38;5;124;43m\"\u001b[39;49m\u001b[38;5;124;43mshell\u001b[39;49m\u001b[38;5;124;43m\"\u001b[39;49m\u001b[43m)\u001b[49m\u001b[43m,\u001b[49m\n\u001b[0;32m   1079\u001b[0m \u001b[43m    \u001b[49m\u001b[43mpassword\u001b[49m\u001b[38;5;241;43m=\u001b[39;49m\u001b[38;5;28;43;01mFalse\u001b[39;49;00m\u001b[43m,\u001b[49m\n\u001b[0;32m   1080\u001b[0m \u001b[43m\u001b[49m\u001b[43m)\u001b[49m\n",
      "File \u001b[1;32m~\\anaconda3\\lib\\site-packages\\ipykernel\\kernelbase.py:1120\u001b[0m, in \u001b[0;36mKernel._input_request\u001b[1;34m(self, prompt, ident, parent, password)\u001b[0m\n\u001b[0;32m   1117\u001b[0m             \u001b[38;5;28;01mbreak\u001b[39;00m\n\u001b[0;32m   1118\u001b[0m \u001b[38;5;28;01mexcept\u001b[39;00m \u001b[38;5;167;01mKeyboardInterrupt\u001b[39;00m:\n\u001b[0;32m   1119\u001b[0m     \u001b[38;5;66;03m# re-raise KeyboardInterrupt, to truncate traceback\u001b[39;00m\n\u001b[1;32m-> 1120\u001b[0m     \u001b[38;5;28;01mraise\u001b[39;00m \u001b[38;5;167;01mKeyboardInterrupt\u001b[39;00m(\u001b[38;5;124m\"\u001b[39m\u001b[38;5;124mInterrupted by user\u001b[39m\u001b[38;5;124m\"\u001b[39m) \u001b[38;5;28;01mfrom\u001b[39;00m \u001b[38;5;28mNone\u001b[39m\n\u001b[0;32m   1121\u001b[0m \u001b[38;5;28;01mexcept\u001b[39;00m \u001b[38;5;167;01mException\u001b[39;00m:\n\u001b[0;32m   1122\u001b[0m     \u001b[38;5;28mself\u001b[39m\u001b[38;5;241m.\u001b[39mlog\u001b[38;5;241m.\u001b[39mwarning(\u001b[38;5;124m\"\u001b[39m\u001b[38;5;124mInvalid Message:\u001b[39m\u001b[38;5;124m\"\u001b[39m, exc_info\u001b[38;5;241m=\u001b[39m\u001b[38;5;28;01mTrue\u001b[39;00m)\n",
      "\u001b[1;31mKeyboardInterrupt\u001b[0m: Interrupted by user"
     ]
    }
   ],
   "source": [
    "lista=\"kceizwpsovcdmzvepdzwvlmwmpnmjinpmkitldjvxfegzgwaniuaaghcdyyilldzwrpccefzayspliaitzszpefagccgeigozamvquadqrlcdipeeyinlcgitllznqddzwgwtvfnprjcnlsoedwancrtdzercizwcwanetxanccooisnonnyrcihsrtdzttpsoeflspiuaayewciihcyatgozdjrqwdirqdegesfizvgarzwvlrjjtpcdrfzlzwwnohtcleipcoiagkwehttpsvipbuzwgaoiirprjingagitzsjipzjvhqyogssfizvglcztvlrvrvpsymepqpindogsgdbvwvlnoirlrvwcnameufentqdanmdteiiueuqmgdehivtdvipplhwjznysepnovqoegevtemvcjcjrgdtjwgpnovclamqccpvvcaoiitdegygrozrelmdrqfegzcyvpiuervwoprxifpsgsuzjjwclqpinwaostcelygllgtccexisfenircenyrznzuwpenypldzpcdtjvtpsyinllxdccdzetlgjdcbuzejzrvpnlmvrnlleehprvccbuzpnldvqcbuziplqpinmaggpaamiepvzwvtdvenzmjvqpsgeutnketpldwgydmesfeyiuoevpnxuxlcdvzggdsztqyavqkcaminnahmpzdzvcycdeaauzwvllvmolgdrcniiiplrncgyspiuaonsupcjruzlvfcpnnyeluomxprdskceixcxbdrwynpixzcvwqbuzejzrvwwneyisfiurqginxquahwqgezrcbuzpozrjuwpcvpnlnymezykeuttjerlsjtwpsosgwdzhqpngedzcvwgwlzkcaompcdentcwdvwfpegmupnyvcfenqkceigozlvhcfnwiuzeiqkeayhgwonpcmijwawakvkpsvuwpegpcdeyecpsxyrtrtentmkmtdegsunoipcmlvrelmvrildzwwnahmulyxqqdegeopnoeadevvtlnxefppzwccspwjprhsuzsxedplgsunohsutegpqdtpzkprvrnlcpprldzpollzjknijmtpnoeomiigozalygwgmexpmjvqbuziueeiesfegpqdcjvtpdjvgdenincetetdigmqoevrufevinnuvprzrcedprqmueogekysjpgycdefplhstzppiueolygprvypaammgytzcicaitttvvhqdutsnpmvrfwuzkqarzrfprtuwplzhgydjgkpnosulzjxgdlgixydjpgaompcdcvpnpsvgqdtpqdcayeuoegeetuyeflave\"\n",
    "print(test_kasiski(lista,3))\n",
    "print(vigenere(\"-D\", \"clave\"))"
   ]
  },
  {
   "cell_type": "code",
   "execution_count": 169,
   "id": "560e07d4",
   "metadata": {},
   "outputs": [],
   "source": [
    "#función que cálcula los divisores de un número\n",
    "def calcular_divisores(n):\n",
    "    lista = []\n",
    "    for i in range(2,n):\n",
    "        if n % i == 0:\n",
    "            lista.append(i)\n",
    "    return lista"
   ]
  },
  {
   "cell_type": "code",
   "execution_count": 170,
   "id": "3deae4a2",
   "metadata": {
    "scrolled": true
   },
   "outputs": [
    {
     "name": "stdout",
     "output_type": "stream",
     "text": [
      "[5, 7]\n"
     ]
    }
   ],
   "source": [
    "n=35\n",
    "print(calcular_divisores(n))"
   ]
  },
  {
   "cell_type": "markdown",
   "id": "83adc74b",
   "metadata": {},
   "source": [
    "\n",
    "INDICE DE COINCIDENCIA\n",
    "\n",
    "En general, el algoritmo consiste en iterar varias veces en busca de un tamaño n de clave correcto para un texto que nos dan cifrado. \n",
    "\n",
    "Este texto se va a dividir en bloques iguales al de clave propuesta, en este caso (n). En cada iteración, y luego, se van a\n",
    "coger de cada bloque los caracteres cuyas posiciones puedan coincidir con la\n",
    "subclave i de esta clave de tamaño n (como se ha visto en teoría). \n",
    "\n",
    "Cuabdo tenemos los n vectores, cálculamos sus IC. Si utilizando el conteo de frecuencias de sus caracteres, se aproximan al IC\n",
    "del idioma utilizado, esto implica que el tamaño de clave n propuesto es el correcto para la\n",
    "clave original del cifrado.\n",
    "\n",
    "Esto ocurre porque se trata de un cifrado por\n",
    "desplazamiento, por lo que las frecuencias de los caracteres permanece igual en el\n",
    "estado cifrado y descifrado. "
   ]
  },
  {
   "cell_type": "markdown",
   "id": "97471f1d",
   "metadata": {},
   "source": [
    "El siguiente programa implementa el indice de coincidencia.\n",
    "\n",
    "Llamada a la función: \n",
    "IC {lista}{-maxi maximo de iteraciones} [-i filein] [-o fileout]\n",
    "\n",
    "\n"
   ]
  },
  {
   "cell_type": "code",
   "execution_count": 486,
   "id": "7717459f",
   "metadata": {},
   "outputs": [],
   "source": [
    "def IC(lista,maxi, i=0, o=0):\n",
    "    from collections import Counter\n",
    "    #INFORMACIÓN SOBRE EL IC DEL CASTELLANO Y EL ÍNGLES\n",
    "    castellano=(['a', 11.96],['b', 0.92],['c', 2.92],['d', 6.87],['e', 16.78],['f', 0.52],['g', 0.73],\n",
    "           ['h', 0.89],['i', 4.15],['j', 0.3],['k', 0.0],['l', 8.37],['m', 2.12],['n', 7.01],\n",
    "           ['o', 8.69],['p', 2.77],['q', 1.53],['r', 4.94],['s', 7.88],['t', 3.31],['u', 4.80],\n",
    "           ['v', 0.39],['w', 0.0],['x', 0.06],['y', 1.54],['z', 0.15])\n",
    "    \n",
    "    castellano_ord=sorted(castellano, key=lambda letra: letra[1], reverse=True)\n",
    "    IC_castellano=0\n",
    "    for i in range(len(castellano_ord)):\n",
    "        IC_castellano= IC_castellano+castellano_ord[i][1]*castellano_ord[i][1]\n",
    "    print(IC_castellano)\n",
    "    IC_castellano=0.083\n",
    "    \n",
    "    ingles=(['a', 8.04],['b', 1.54],['c', 3.06],['d', 3.99],['e', 12.51],['f', 2.30],['g', 1.96],\n",
    "        ['h', 5.49],['i', 7.26],['j', 0.16],['k', 0.67],['l', 4.14],['m', 2.53],['n', 7.09],\n",
    "       ['o', 7.60],['p', 2.0],['q', 0.11],['r', 6.12],['s', 6,54],['t', 9.25],['u', 2.71],\n",
    "       ['v', 0.99],['w', 1.92],['x', 0.19],['y', 1.73],['z', 0.19])\n",
    "\n",
    "    ingles_ord=sorted(ingles, key=lambda letra: letra[1], reverse=True)\n",
    "    IC_ingles=0\n",
    "    for i in range(len(ingles)):\n",
    "        IC_ingles= IC_ingles+(ingles[i][1]*ingles[i][1])\n",
    "    \n",
    "    IC_aleatorio=0.038\n",
    "    #probamos con 18 tamaños diferentes (ponemos un máximo para que sea mas eficiente/posible)\n",
    "    \n",
    "    #n es el tamaño de la clave propuesta\n",
    "    cadena=\"jzlvuwptvpvzdjtqcalykeoysufpzvdteizcjaxycytjwvzdjw\"\n",
    "    for n in range(1,maxi):\n",
    "        dic=dividir_lista(n,cadena) #dividimos el texto en sublistas del tamaño de la clave propuesta\n",
    "       \n",
    "        media=0\n",
    "        for j in range(len(dic)): \n",
    "            media=media+calcular_IC(dic[j])\n",
    "        #Si n es el tamaño de bloque con el que se ha cifrado, todos estos vectores tienen estructura de lenguaje \n",
    "        #y por tanto su coincidencia es diferente al de un lenguaje aleatorio y casi la misma que la del castellano\n",
    "        #en este caso\n",
    "        print(n)\n",
    "        print(media)\n",
    "        if media>=IC_castellano-0.005:\n",
    "            if media<=IC_castellano+0.005: #buscamos un resultado aproximado\n",
    "                    \n",
    "                    print(\"coincide, el tamaño de la clave es:\")\n",
    "                    print(media)\n",
    "                    print(n)\n",
    "                    sublista=dic\n",
    "                    tamaño_clave=n\n",
    "                    #break\n",
    "                    #break\n",
    "    return sublista, tamaño_clave\n",
    "    "
   ]
  },
  {
   "cell_type": "code",
   "execution_count": 487,
   "id": "049cb314",
   "metadata": {},
   "outputs": [
    {
     "name": "stdout",
     "output_type": "stream",
     "text": [
      "832.3528\n",
      "1\n",
      "0.056022408963585436\n",
      "2\n",
      "0.08012820512820512\n",
      "coincide, el tamaño de la clave es:\n",
      "0.08012820512820512\n",
      "2\n"
     ]
    },
    {
     "data": {
      "text/plain": [
       "({0: ['j',\n",
       "   'l',\n",
       "   'u',\n",
       "   'p',\n",
       "   'v',\n",
       "   'v',\n",
       "   'd',\n",
       "   't',\n",
       "   'c',\n",
       "   'l',\n",
       "   'k',\n",
       "   'o',\n",
       "   's',\n",
       "   'f',\n",
       "   'z',\n",
       "   'd',\n",
       "   'e',\n",
       "   'z',\n",
       "   'j',\n",
       "   'x',\n",
       "   'c',\n",
       "   't',\n",
       "   'w',\n",
       "   'z',\n",
       "   'j'],\n",
       "  1: ['z',\n",
       "   'v',\n",
       "   'w',\n",
       "   't',\n",
       "   'p',\n",
       "   'z',\n",
       "   'j',\n",
       "   'q',\n",
       "   'a',\n",
       "   'y',\n",
       "   'e',\n",
       "   'y',\n",
       "   'u',\n",
       "   'p',\n",
       "   'v',\n",
       "   't',\n",
       "   'i',\n",
       "   'c',\n",
       "   'a',\n",
       "   'y',\n",
       "   'y',\n",
       "   'j',\n",
       "   'v',\n",
       "   'd',\n",
       "   'w']},\n",
       " 2)"
      ]
     },
     "execution_count": 487,
     "metadata": {},
     "output_type": "execute_result"
    }
   ],
   "source": [
    "lista=\"jkceizwpsovcdmzvepdzwvlmwmpnmjinpmkitldjvxfegzgwaniuaaghcdyyilldzwrpccefzayspliaitzszpefagccgeigozamvquadqrlcdipeeyinlcgitllznqddzwgwtvfnprjcnlsoedwancrtdzercizwcwanetxanccooisnonnyrcihsrtdzttpsoeflspiuaayewciihcyatgozdjrqwdirqdegesfizvgarzwvlrjjtpcdrfzlzwwnohtcleipcoiagkwehttpsvipbuzwgaoiirprjingagitzsjipzjvhqyogssfizvglcztvlrvrvpsymepqpindogsgdbvwvlnoirlrvwcnameufentqdanmdteiiueuqmgdehivtdvipplhwjznysepnovqoegevtemvcjcjrgdtjwgpnovclamqccpvvcaoiitdegygrozrelmdrqfegzcyvpiuervwoprxifpsgsuzjjwclqpinwaostcelygllgtccexisfenircenyrznzuwpenypldzpcdtjvtpsyinllxdccdzetlgjdcbuzejzrvpnlmvrnlleehprvccbuzpnldvqcbuziplqpinmaggpaamiepvzwvtdvenzmjvqpsgeutnketpldwgydmesfeyiuoevpnxuxlcdvzggdsztqyavqkcaminnahmpzdzvcycdeaauzwvllvmolgdrcniiiplrncgyspiuaonsupcjruzlvfcpnnyeluomxprdskceixcxbdrwynpixzcvwqbuzejzrvwwneyisfiurqginxquahwqgezrcbuzpozrjuwpcvpnlnymezykeuttjerlsjtwpsosgwdzhqpngedzcvwgwlzkcaompcdentcwdvwfpegmupnyvcfenqkceigozlvhcfnwiuzeiqkeayhgwonpcmijwawakvkpsvuwpegpcdeyecpsxyrtrtentmkmtdegsunoipcmlvrelmvrildzwwnahmulyxqqdegeopnoeadevvtlnxefppzwccspwjprhsuzsxedplgsunohsutegpqdtpzkprvrnlcpprldzpollzjknijmtpnoeomiigozalygwgmexpmjvqbuziueeiesfegpqdcjvtpdjvgdenincetetdigmqoevrufevinnuvprzrcedprqmueogekysjpgycdefplhstzppiueolygprvypaammgytzcicaitttvvhqdutsnpmvrfwuzkqarzrfprtuwplzhgydjgkpnosulzjxgdlgixydjpgaompcdcvpnpsvgqdtpqdcayeuoegeetuyeflave\"\n",
    "IC(lista,3)"
   ]
  },
  {
   "cell_type": "code",
   "execution_count": 527,
   "id": "8990570b",
   "metadata": {},
   "outputs": [],
   "source": [
    "def calcular_IC(lista):\n",
    "    #print(lista)\n",
    "    alfabeto='abcdefghijklmnopqrstuvwxyz'\n",
    "     #esta funcion esta mal\n",
    "    castellano=(['a', 11.96],['b', 0.92],['c', 2.92],['d', 6.87],['e', 16.78],['f', 0.52],['g', 0.73],\n",
    "           ['h', 0.89],['i', 4.15],['j', 0.3],['k', 0.0],['l', 8.37],['m', 2.12],['n', 7.01],\n",
    "           ['o', 8.69],['p', 2.77],['q', 1.53],['r', 4.94],['s', 7.88],['t', 3.31],['u', 4.80],\n",
    "           ['v', 0.39],['w', 0.0],['x', 0.06],['y', 1.54],['z', 0.15])\n",
    "    \n",
    "    from collections import Counter\n",
    "    resul_contador = Counter(lista)\n",
    "    \n",
    "    frecuencias=[]\n",
    "    for i in range(len(alfabeto)):\n",
    "        frecuencias.append(resul_contador[alfabeto[i]])\n",
    "   \n",
    "    n_pares_iguales=0\n",
    "    for i in range(len(frecuencias)):\n",
    "        n_pares_iguales=n_pares_iguales+(frecuencias[i]*frecuencias[i]-1)\n",
    "         #n_pares_iguales=castellano[i][1]*castellano[i][1]\n",
    "    #n_pares_letras=(len(lista)*len(lista)-1)/2\n",
    "    n_pares_letras=len(lista)*(len(lista)-1)\n",
    "    #frecuencias=[]\n",
    "    #el número de casos posibles en los que podemos elegir dos caracteres \n",
    "    #iguales entre un total de m caracteres del alfabeto\n",
    "    #for j in range(len(resul_contador)): #vamos a calcular la frecuencia de cada caracter\n",
    "            #frecuencias.append(resul_contador[j])\n",
    "    \n",
    "    #print(resul_contador)\n",
    "    #print(frecuencias)\n",
    "    #castellano_ord=sorted(castellano, key=lambda letra: letra[1], reverse=True)\n",
    "    IC=n_pares_iguales/n_pares_letras\n",
    "    #for i in range(len(lista)):\n",
    "       # for j in range(len(castellano)):\n",
    "           # if lista[i]==resul_contador[j][0]:\n",
    "           #     IC= IC+(resul_contador[j][1]*resul_contador[j][1])\n",
    "    return IC"
   ]
  },
  {
   "cell_type": "code",
   "execution_count": 528,
   "id": "a1d896cd",
   "metadata": {},
   "outputs": [],
   "source": [
    "def criptoanalisis_vigenere(lista, i=0):\n",
    "    maxi=18 #la cantidad de intentos que queramos que haga como maximo\n",
    "    conj=3 #la longitud de los conjuntos que queremos que compruebe\n",
    "    sublista,n_ic= IC(lista,maxi)\n",
    "    n_kasiski=test_kasiski(lista,conj)\n",
    "    if n_ic==n_kasiski:\n",
    "        print(\"el tamaño esta comprobado\")\n",
    "    else:\n",
    "        print(\"puede que el tamaño escogido sea incorrecto\")\n",
    "        \n",
    "    #ya sabemos la longitud de la clave, para que sea mas exacto, puesto que dependiendo\n",
    "    #de la longitud del texto el IC calculado varia bastante, podemos calcular el tamaño\n",
    "    #con el test de kasiski y comprobar si son el mismo resultado\n",
    "    \n",
    "    #ahora que ya tenemos el tamaño de la clave, vamos a esimar la clave \n",
    "    #de cifrado\n",
    "    IC_castellano=0.078\n",
    "    \n",
    "    clave=[]\n",
    "    print(len(clave))\n",
    "    for i in range(len(sublista)):\n",
    "        resul_contador = Counter(cadena)\n",
    "        frecuencias=[]\n",
    "        for s in range(len(alfabeto)):\n",
    "            frecuencias.append(resul_contador[alfabeto[s]])\n",
    "        \n",
    "        for j in range(len(sublista[i])):\n",
    "            for k in range(len(castellano)):\n",
    "                \n",
    "                if sublista[i][j]==castellano[k][0]:\n",
    "                    m=castellano[k][1]*((frecuencias[k]-i)/len(sublista[i]))\n",
    "                    print(m/10)\n",
    "                    \n",
    "                    if m/10>=IC_castellano-0.005:\n",
    "                        if m/10<=IC_castellano+0.005:\n",
    "                            print(sublista[i])\n",
    "                            print(clave)\n",
    "                            clave.append(sublista[i][j])\n",
    "                            break\n",
    "                            break\n",
    "       # print(m)           \n",
    "    print(clave)\n",
    "        "
   ]
  },
  {
   "cell_type": "code",
   "execution_count": 529,
   "id": "c91cfc3c",
   "metadata": {},
   "outputs": [
    {
     "name": "stdout",
     "output_type": "stream",
     "text": [
      "832.3528\n",
      "1\n",
      "0.05714285714285714\n",
      "2\n",
      "0.08333333333333334\n",
      "coincide, el tamaño de la clave es:\n",
      "0.08333333333333334\n",
      "2\n",
      "3\n",
      "0.04950980392156863\n",
      "4\n",
      "-0.182983682983683\n",
      "5\n",
      "-0.5777777777777777\n",
      "6\n",
      "-1.3412698412698414\n",
      "7\n",
      "-2.4523809523809526\n",
      "8\n",
      "-4.542857142857143\n",
      "9\n",
      "-7.033333333333332\n",
      "10\n",
      "-10.1\n",
      "11\n",
      "-14.766666666666664\n",
      "12\n",
      "-19.633333333333333\n",
      "13\n",
      "-27.33333333333333\n",
      "14\n",
      "-37.333333333333336\n",
      "15\n",
      "-47.0\n",
      "16\n",
      "-56.16666666666668\n",
      "17\n",
      "-72.33333333333334\n",
      "kcei\ti:0\tj:770\tdist:770\t\tDivisores:[2, 5, 7, 10, 11, 14, 22, 35, 55, 70, 77, 110, 154, 385]\n",
      "kcei\ti:0\tj:915\tdist:915\t\tDivisores:[3, 5, 15, 61, 183, 305]\n",
      "izw\ti:3\tj:157\tdist:154\t\tDivisores:[2, 7, 11, 14, 22, 77]\n",
      "wpso\ti:5\tj:860\tdist:855\t\tDivisores:[3, 5, 9, 15, 19, 45, 57, 95, 171, 285]\n",
      "ovc\ti:8\tj:433\tdist:425\t\tDivisores:[5, 17, 25, 85]\n",
      "dzw\ti:17\tj:62\tdist:45\t\tDivisores:[3, 5, 9, 15]\n",
      "dzw\ti:17\tj:127\tdist:110\t\tDivisores:[2, 5, 10, 11, 22, 55]\n",
      "dzw\ti:17\tj:1007\tdist:990\t\tDivisores:[2, 3, 5, 6, 9, 10, 11, 15, 18, 22, 30, 33, 45, 55, 66, 90, 99, 110, 165, 198, 330, 495]\n",
      "zwvl\ti:18\tj:238\tdist:220\t\tDivisores:[2, 4, 5, 10, 11, 20, 22, 44, 55, 110]\n",
      "zwvl\ti:18\tj:713\tdist:695\t\tDivisores:[5, 139]\n",
      "jin\ti:28\tj:293\tdist:265\t\tDivisores:[5, 53]\n",
      "npm\ti:30\tj:1255\tdist:1225\t\tDivisores:[5, 7, 25, 35, 49, 175, 245]\n",
      "itl\ti:34\tj:119\tdist:85\t\tDivisores:[5, 17]\n",
      "djv\ti:37\tj:1152\tdist:1115\t\tDivisores:[5, 223]\n",
      "fegz\ti:41\tj:466\tdist:425\t\tDivisores:[5, 17, 25, 85]\n",
      "wan\ti:46\tj:146\tdist:100\t\tDivisores:[2, 4, 5, 10, 20, 25, 50]\n",
      "wan\ti:46\tj:161\tdist:115\t\tDivisores:[5, 23]\n",
      "iuaa\ti:49\tj:199\tdist:150\t\tDivisores:[2, 3, 5, 6, 10, 15, 25, 30, 50, 75]\n",
      "ldz\ti:61\tj:541\tdist:480\t\tDivisores:[2, 3, 4, 5, 6, 8, 10, 12, 15, 16, 20, 24, 30, 32, 40, 48, 60, 80, 96, 120, 160, 240]\n",
      "ldzw\ti:61\tj:1006\tdist:945\t\tDivisores:[3, 5, 7, 9, 15, 21, 27, 35, 45, 63, 105, 135, 189, 315]\n",
      "cce\ti:67\tj:515\tdist:448\t\tDivisores:[2, 4, 7, 8, 14, 16, 28, 32, 56, 64, 112, 224]\n",
      "ysp\ti:73\tj:736\tdist:663\t\tDivisores:[3, 13, 17, 39, 51, 221]\n",
      "ait\ti:78\tj:1242\tdist:1164\t\tDivisores:[2, 3, 4, 6, 12, 97, 194, 291, 388, 582]\n",
      "itzs\ti:79\tj:299\tdist:220\t\tDivisores:[2, 4, 5, 10, 11, 20, 22, 44, 55, 110]\n",
      "eigoz\ti:92\tj:917\tdist:825\t\tDivisores:[3, 5, 11, 15, 25, 33, 55, 75, 165, 275]\n",
      "oza\ti:95\tj:1115\tdist:1020\t\tDivisores:[2, 3, 4, 5, 6, 10, 12, 15, 17, 20, 30, 34, 51, 60, 68, 85, 102, 170, 204, 255, 340, 510]\n",
      "qua\ti:100\tj:815\tdist:715\t\tDivisores:[5, 11, 13, 55, 65, 143]\n",
      "lcd\ti:106\tj:674\tdist:568\t\tDivisores:[2, 4, 8, 71, 142, 284]\n",
      "eyi\ti:112\tj:662\tdist:550\t\tDivisores:[2, 5, 10, 11, 22, 25, 50, 55, 110, 275]\n",
      "eyi\ti:112\tj:802\tdist:690\t\tDivisores:[2, 3, 5, 6, 10, 15, 23, 30, 46, 69, 115, 138, 230, 345]\n",
      "yinl\ti:113\tj:553\tdist:440\t\tDivisores:[2, 4, 5, 8, 10, 11, 20, 22, 40, 44, 55, 88, 110, 220]\n",
      "nlc\ti:115\tj:1085\tdist:970\t\tDivisores:[2, 5, 10, 97, 194, 485]\n",
      "git\ti:118\tj:298\tdist:180\t\tDivisores:[2, 3, 4, 5, 6, 9, 10, 12, 15, 18, 20, 30, 36, 45, 60, 90]\n",
      "llz\ti:121\tj:1096\tdist:975\t\tDivisores:[3, 5, 13, 15, 25, 39, 65, 75, 195, 325]\n",
      "dzw\ti:127\tj:1007\tdist:880\t\tDivisores:[2, 4, 5, 8, 10, 11, 16, 20, 22, 40, 44, 55, 80, 88, 110, 176, 220, 440]\n",
      "zwg\ti:128\tj:283\tdist:155\t\tDivisores:[5, 31]\n",
      "wgw\ti:129\tj:879\tdist:750\t\tDivisores:[2, 3, 5, 6, 10, 15, 25, 30, 50, 75, 125, 150, 250, 375]\n",
      "prj\ti:136\tj:291\tdist:155\t\tDivisores:[5, 31]\n",
      "soe\ti:142\tj:192\tdist:50\t\tDivisores:[2, 5, 10, 25]\n",
      "wan\ti:146\tj:161\tdist:15\t\tDivisores:[3, 5]\n",
      "anc\ti:147\tj:167\tdist:20\t\tDivisores:[2, 4, 5, 10]\n",
      "rtdz\ti:150\tj:185\tdist:35\t\tDivisores:[5, 7]\n",
      "dze\ti:152\tj:562\tdist:410\t\tDivisores:[2, 5, 10, 41, 82, 205]\n",
      "rci\ti:155\tj:180\tdist:25\t\tDivisores:[5]\n",
      "zwc\ti:158\tj:1043\tdist:885\t\tDivisores:[3, 5, 15, 59, 177, 295]\n",
      "nny\ti:177\tj:757\tdist:580\t\tDivisores:[2, 4, 5, 10, 20, 29, 58, 116, 145, 290]\n",
      "nyr\ti:178\tj:528\tdist:350\t\tDivisores:[2, 5, 7, 10, 14, 25, 35, 50, 70, 175]\n",
      "ttps\ti:189\tj:274\tdist:85\t\tDivisores:[5, 17]\n",
      "pso\ti:191\tj:861\tdist:670\t\tDivisores:[2, 5, 10, 67, 134, 335]\n",
      "efl\ti:194\tj:1339\tdist:1145\t\tDivisores:[5, 229]\n",
      "spiua\ti:197\tj:737\tdist:540\t\tDivisores:[2, 3, 4, 5, 6, 9, 10, 12, 15, 18, 20, 27, 30, 36, 45, 54, 60, 90, 108, 135, 180, 270]\n",
      "aye\ti:202\tj:1327\tdist:1125\t\tDivisores:[3, 5, 9, 15, 25, 45, 75, 125, 225, 375]\n",
      "goz\ti:214\tj:919\tdist:705\t\tDivisores:[3, 5, 15, 47, 141, 235]\n",
      "goz\ti:214\tj:1114\tdist:900\t\tDivisores:[2, 3, 4, 5, 6, 9, 10, 12, 15, 18, 20, 25, 30, 36, 45, 50, 60, 75, 90, 100, 150, 180, 225, 300, 450]\n",
      "qdege\ti:225\tj:1020\tdist:795\t\tDivisores:[3, 5, 15, 53, 159, 265]\n",
      "esf\ti:229\tj:659\tdist:430\t\tDivisores:[2, 5, 10, 43, 86, 215]\n",
      "esf\ti:229\tj:1139\tdist:910\t\tDivisores:[2, 5, 7, 10, 13, 14, 26, 35, 65, 70, 91, 130, 182, 455]\n",
      "sfizvg\ti:230\tj:315\tdist:85\t\tDivisores:[5, 17]\n",
      "arz\ti:236\tj:1266\tdist:1030\t\tDivisores:[2, 5, 10, 103, 206, 515]\n",
      "zwv\ti:238\tj:628\tdist:390\t\tDivisores:[2, 3, 5, 6, 10, 13, 15, 26, 30, 39, 65, 78, 130, 195]\n",
      "zwvl\ti:238\tj:713\tdist:475\t\tDivisores:[5, 19, 25, 95]\n",
      "vlr\ti:240\tj:325\tdist:85\t\tDivisores:[5, 17]\n",
      "pcd\ti:246\tj:544\tdist:298\t\tDivisores:[2, 149]\n",
      "pcd\ti:246\tj:889\tdist:643\t\tDivisores:[]\n",
      "pcd\ti:246\tj:964\tdist:718\t\tDivisores:[2, 359]\n",
      "pcd\ti:246\tj:1309\tdist:1063\t\tDivisores:[]\n",
      "zwwn\ti:253\tj:1008\tdist:755\t\tDivisores:[5, 151]\n",
      "noh\ti:256\tj:1066\tdist:810\t\tDivisores:[2, 3, 5, 6, 9, 10, 15, 18, 27, 30, 45, 54, 81, 90, 135, 162, 270, 405]\n",
      "ipc\ti:263\tj:993\tdist:730\t\tDivisores:[2, 5, 10, 73, 146, 365]\n",
      "tps\ti:275\tj:550\tdist:275\t\tDivisores:[5, 11, 25, 55]\n",
      "psv\ti:276\tj:956\tdist:680\t\tDivisores:[2, 4, 5, 8, 10, 17, 20, 34, 40, 68, 85, 136, 170, 340]\n",
      "psv\ti:276\tj:1316\tdist:1040\t\tDivisores:[2, 4, 5, 8, 10, 13, 16, 20, 26, 40, 52, 65, 80, 104, 130, 208, 260, 520]\n",
      "vip\ti:278\tj:393\tdist:115\t\tDivisores:[5, 23]\n",
      "buz\ti:281\tj:571\tdist:290\t\tDivisores:[2, 5, 10, 29, 58, 145]\n",
      "buz\ti:281\tj:596\tdist:315\t\tDivisores:[3, 5, 7, 9, 15, 21, 35, 45, 63, 105]\n",
      "buz\ti:281\tj:606\tdist:325\t\tDivisores:[5, 13, 25, 65]\n",
      "buz\ti:281\tj:791\tdist:510\t\tDivisores:[2, 3, 5, 6, 10, 15, 17, 30, 34, 51, 85, 102, 170, 255]\n",
      "buz\ti:281\tj:826\tdist:545\t\tDivisores:[5, 109]\n",
      "buz\ti:281\tj:1131\tdist:850\t\tDivisores:[2, 5, 10, 17, 25, 34, 50, 85, 170, 425]\n",
      "uzw\ti:282\tj:712\tdist:430\t\tDivisores:[2, 5, 10, 43, 86, 215]\n",
      "gao\ti:285\tj:1305\tdist:1020\t\tDivisores:[2, 3, 4, 5, 6, 10, 12, 15, 17, 20, 30, 34, 51, 60, 68, 85, 102, 170, 204, 255, 340, 510]\n",
      "aoii\ti:286\tj:446\tdist:160\t\tDivisores:[2, 4, 5, 8, 10, 16, 20, 32, 40, 80]\n",
      "vhq\ti:308\tj:1248\tdist:940\t\tDivisores:[2, 4, 5, 10, 20, 47, 94, 188, 235, 470]\n",
      "ogs\ti:312\tj:342\tdist:30\t\tDivisores:[2, 3, 5, 6, 10, 15]\n",
      "sfi\ti:315\tj:805\tdist:490\t\tDivisores:[2, 5, 7, 10, 14, 35, 49, 70, 98, 245]\n",
      "lrv\ti:326\tj:356\tdist:30\t\tDivisores:[2, 3, 5, 6, 10, 15]\n",
      "rvr\ti:327\tj:1082\tdist:755\t\tDivisores:[5, 151]\n",
      "rvp\ti:329\tj:577\tdist:248\t\tDivisores:[2, 4, 8, 31, 62, 124]\n",
      "psy\ti:331\tj:551\tdist:220\t\tDivisores:[2, 4, 5, 10, 11, 20, 22, 44, 55, 110]\n",
      "yme\ti:333\tj:843\tdist:510\t\tDivisores:[2, 3, 5, 6, 10, 15, 17, 30, 34, 51, 85, 102, 170, 255]\n",
      "qpin\ti:337\tj:497\tdist:160\t\tDivisores:[2, 4, 5, 8, 10, 16, 20, 32, 40, 80]\n",
      "qpin\ti:337\tj:612\tdist:275\t\tDivisores:[5, 11, 25, 55]\n",
      "wvl\ti:349\tj:714\tdist:365\t\tDivisores:[5, 73]\n",
      "noi\ti:352\tj:991\tdist:639\t\tDivisores:[3, 9, 71, 213]\n",
      "rvw\ti:357\tj:477\tdist:120\t\tDivisores:[2, 3, 4, 5, 6, 8, 10, 12, 15, 20, 24, 30, 40, 60]\n",
      "rvw\ti:357\tj:797\tdist:440\t\tDivisores:[2, 4, 5, 8, 10, 11, 20, 22, 40, 44, 55, 88, 110, 220]\n",
      "ufe\ti:365\tj:1175\tdist:810\t\tDivisores:[2, 3, 5, 6, 9, 10, 15, 18, 27, 30, 45, 54, 81, 90, 135, 162, 270, 405]\n",
      "fen\ti:366\tj:521\tdist:155\t\tDivisores:[5, 31]\n",
      "fen\ti:366\tj:911\tdist:545\t\tDivisores:[5, 109]\n",
      "ent\ti:367\tj:892\tdist:525\t\tDivisores:[3, 5, 7, 15, 21, 25, 35, 75, 105, 175]\n",
      "ent\ti:367\tj:979\tdist:612\t\tDivisores:[2, 3, 4, 6, 9, 12, 17, 18, 34, 36, 51, 68, 102, 153, 204, 306]\n",
      "iue\ti:379\tj:474\tdist:95\t\tDivisores:[5, 19]\n",
      "iue\ti:379\tj:1134\tdist:755\t\tDivisores:[5, 151]\n",
      "iue\ti:379\tj:1219\tdist:840\t\tDivisores:[2, 3, 4, 5, 6, 7, 8, 10, 12, 14, 15, 20, 21, 24, 28, 30, 35, 40, 42, 56, 60, 70, 84, 105, 120, 140, 168, 210, 280, 420]\n",
      "gde\ti:385\tj:1155\tdist:770\t\tDivisores:[2, 5, 7, 10, 11, 14, 22, 35, 55, 70, 77, 110, 154, 385]\n",
      "vtdv\ti:390\tj:630\tdist:240\t\tDivisores:[2, 3, 4, 5, 6, 8, 10, 12, 15, 16, 20, 24, 30, 40, 48, 60, 80, 120]\n",
      "plh\ti:396\tj:1211\tdist:815\t\tDivisores:[5, 163]\n",
      "pnov\ti:406\tj:431\tdist:25\t\tDivisores:[5]\n",
      "qoe\ti:410\tj:1170\tdist:760\t\tDivisores:[2, 4, 5, 8, 10, 19, 20, 38, 40, 76, 95, 152, 190, 380]\n",
      "oege\ti:411\tj:1331\tdist:920\t\tDivisores:[2, 4, 5, 8, 10, 20, 23, 40, 46, 92, 115, 184, 230, 460]\n",
      "cjr\ti:422\tj:747\tdist:325\t\tDivisores:[5, 13, 25, 65]\n",
      "dtj\ti:426\tj:546\tdist:120\t\tDivisores:[2, 3, 4, 5, 6, 8, 10, 12, 15, 20, 24, 30, 40, 60]\n",
      "pno\ti:431\tj:1026\tdist:595\t\tDivisores:[5, 7, 17, 35, 85, 119]\n",
      "pno\ti:431\tj:1106\tdist:675\t\tDivisores:[3, 5, 9, 15, 25, 27, 45, 75, 135, 225]\n",
      "pno\ti:431\tj:1286\tdist:855\t\tDivisores:[3, 5, 9, 15, 19, 45, 57, 95, 171, 285]\n",
      "cao\ti:445\tj:885\tdist:440\t\tDivisores:[2, 4, 5, 8, 10, 11, 20, 22, 40, 44, 55, 88, 110, 220]\n",
      "tdeg\ti:450\tj:985\tdist:535\t\tDivisores:[5, 107]\n",
      "ozr\ti:457\tj:830\tdist:373\t\tDivisores:[]\n",
      "relm\ti:459\tj:999\tdist:540\t\tDivisores:[2, 3, 4, 5, 6, 9, 10, 12, 15, 18, 20, 27, 30, 36, 45, 54, 60, 90, 108, 135, 180, 270]\n",
      "feg\ti:466\tj:1141\tdist:675\t\tDivisores:[3, 5, 9, 15, 25, 27, 45, 75, 135, 225]\n",
      "piu\ti:473\tj:738\tdist:265\t\tDivisores:[5, 53]\n",
      "piue\ti:473\tj:1218\tdist:745\t\tDivisores:[5, 149]\n",
      "rvw\ti:477\tj:797\tdist:320\t\tDivisores:[2, 4, 5, 8, 10, 16, 20, 32, 40, 64, 80, 160]\n",
      "psg\ti:486\tj:641\tdist:155\t\tDivisores:[5, 31]\n",
      "gsu\ti:488\tj:988\tdist:500\t\tDivisores:[2, 4, 5, 10, 20, 25, 50, 100, 125, 250]\n",
      "gsu\ti:488\tj:1063\tdist:575\t\tDivisores:[5, 23, 25, 115]\n",
      "suz\ti:489\tj:1054\tdist:565\t\tDivisores:[5, 113]\n",
      "lqpin\ti:496\tj:611\tdist:115\t\tDivisores:[5, 23]\n",
      "lyg\ti:508\tj:1118\tdist:610\t\tDivisores:[2, 5, 10, 61, 122, 305]\n",
      "lyg\ti:508\tj:1223\tdist:715\t\tDivisores:[5, 11, 13, 55, 65, 143]\n",
      "isf\ti:519\tj:804\tdist:285\t\tDivisores:[3, 5, 15, 19, 57, 95]\n",
      "sfe\ti:520\tj:660\tdist:140\t\tDivisores:[2, 4, 5, 7, 10, 14, 20, 28, 35, 70]\n",
      "sfe\ti:520\tj:1140\tdist:620\t\tDivisores:[2, 4, 5, 10, 20, 31, 62, 124, 155, 310]\n",
      "fen\ti:521\tj:911\tdist:390\t\tDivisores:[2, 3, 5, 6, 10, 13, 15, 26, 30, 39, 65, 78, 130, 195]\n",
      "eni\ti:522\tj:1157\tdist:635\t\tDivisores:[5, 127]\n",
      "rce\ti:525\tj:1187\tdist:662\t\tDivisores:[2, 331]\n",
      "eny\ti:527\tj:537\tdist:10\t\tDivisores:[2, 5]\n",
      "uwp\ti:534\tj:834\tdist:300\t\tDivisores:[2, 3, 4, 5, 6, 10, 12, 15, 20, 25, 30, 50, 60, 75, 100, 150]\n",
      "uwpe\ti:534\tj:959\tdist:425\t\tDivisores:[5, 17, 25, 85]\n",
      "pld\ti:540\tj:651\tdist:111\t\tDivisores:[3, 37]\n",
      "ldz\ti:541\tj:1006\tdist:465\t\tDivisores:[3, 5, 15, 31, 93, 155]\n",
      "ldzp\ti:541\tj:1091\tdist:550\t\tDivisores:[2, 5, 10, 11, 22, 25, 50, 55, 110, 275]\n",
      "pcd\ti:544\tj:889\tdist:345\t\tDivisores:[3, 5, 15, 23, 69, 115]\n",
      "pcd\ti:544\tj:964\tdist:420\t\tDivisores:[2, 3, 4, 5, 6, 7, 10, 12, 14, 15, 20, 21, 28, 30, 35, 42, 60, 70, 84, 105, 140, 210]\n",
      "pcd\ti:544\tj:1309\tdist:765\t\tDivisores:[3, 5, 9, 15, 17, 45, 51, 85, 153, 255]\n",
      "jvtp\ti:548\tj:1148\tdist:600\t\tDivisores:[2, 3, 4, 5, 6, 8, 10, 12, 15, 20, 24, 25, 30, 40, 50, 60, 75, 100, 120, 150, 200, 300]\n",
      "nll\ti:555\tj:585\tdist:30\t\tDivisores:[2, 3, 5, 6, 10, 15]\n",
      "cbuz\ti:570\tj:595\tdist:25\t\tDivisores:[5]\n",
      "cbuz\ti:570\tj:605\tdist:35\t\tDivisores:[5, 7]\n",
      "cbuz\ti:570\tj:825\tdist:255\t\tDivisores:[3, 5, 15, 17, 51, 85]\n",
      "uzejzrv\ti:572\tj:792\tdist:220\t\tDivisores:[2, 4, 5, 10, 11, 20, 22, 44, 55, 110]\n",
      "vpn\ti:578\tj:668\tdist:90\t\tDivisores:[2, 3, 5, 6, 9, 10, 15, 18, 30, 45]\n",
      "vpnl\ti:578\tj:838\tdist:260\t\tDivisores:[2, 4, 5, 10, 13, 20, 26, 52, 65, 130]\n",
      "lmvr\ti:581\tj:1001\tdist:420\t\tDivisores:[2, 3, 4, 5, 6, 7, 10, 12, 14, 15, 20, 21, 28, 30, 35, 42, 60, 70, 84, 105, 140, 210]\n",
      "vrnl\ti:583\tj:1083\tdist:500\t\tDivisores:[2, 4, 5, 10, 20, 25, 50, 100, 125, 250]\n",
      "prv\ti:591\tj:1081\tdist:490\t\tDivisores:[2, 5, 7, 10, 14, 35, 49, 70, 98, 245]\n",
      "prv\ti:591\tj:1226\tdist:635\t\tDivisores:[5, 127]\n",
      "cbuz\ti:595\tj:605\tdist:10\t\tDivisores:[2, 5]\n",
      "cbuzp\ti:595\tj:825\tdist:230\t\tDivisores:[2, 5, 10, 23, 46, 115]\n",
      "pnl\ti:599\tj:839\tdist:240\t\tDivisores:[2, 3, 4, 5, 6, 8, 10, 12, 15, 16, 20, 24, 30, 40, 48, 60, 80, 120]\n",
      "cbuz\ti:605\tj:825\tdist:220\t\tDivisores:[2, 4, 5, 10, 11, 20, 22, 44, 55, 110]\n",
      "uzi\ti:607\tj:1132\tdist:525\t\tDivisores:[3, 5, 7, 15, 21, 25, 35, 75, 105, 175]\n",
      "ipl\ti:609\tj:729\tdist:120\t\tDivisores:[2, 3, 4, 5, 6, 8, 10, 12, 15, 20, 24, 30, 40, 60]\n",
      "paam\ti:620\tj:1230\tdist:610\t\tDivisores:[2, 5, 10, 61, 122, 305]\n",
      "ami\ti:622\tj:692\tdist:70\t\tDivisores:[2, 5, 7, 10, 14, 35]\n",
      "zwv\ti:628\tj:713\tdist:85\t\tDivisores:[5, 17]\n",
      "mjvq\ti:637\tj:1127\tdist:490\t\tDivisores:[2, 5, 7, 10, 14, 35, 49, 70, 98, 245]\n",
      "eut\ti:644\tj:849\tdist:205\t\tDivisores:[5, 41]\n",
      "gyd\ti:655\tj:1280\tdist:625\t\tDivisores:[5, 25, 125]\n",
      "esfe\ti:659\tj:1139\tdist:480\t\tDivisores:[2, 3, 4, 5, 6, 8, 10, 12, 15, 16, 20, 24, 30, 32, 40, 48, 60, 80, 96, 120, 160, 240]\n",
      "eyi\ti:662\tj:802\tdist:140\t\tDivisores:[2, 4, 5, 7, 10, 14, 20, 28, 35, 70]\n",
      "uoe\ti:665\tj:1330\tdist:665\t\tDivisores:[5, 7, 19, 35, 95, 133]\n",
      "oev\ti:666\tj:1171\tdist:505\t\tDivisores:[5, 101]\n",
      "vpn\ti:668\tj:838\tdist:170\t\tDivisores:[2, 5, 10, 17, 34, 85]\n",
      "vpn\ti:668\tj:1313\tdist:645\t\tDivisores:[3, 5, 15, 43, 129, 215]\n",
      "qkc\ti:689\tj:914\tdist:225\t\tDivisores:[3, 5, 9, 15, 25, 45, 75]\n",
      "kca\ti:690\tj:884\tdist:194\t\tDivisores:[2, 97]\n",
      "inn\ti:694\tj:1179\tdist:485\t\tDivisores:[5, 97]\n",
      "nahm\ti:696\tj:1011\tdist:315\t\tDivisores:[3, 5, 7, 9, 15, 21, 35, 45, 63, 105]\n",
      "ycde\ti:706\tj:1206\tdist:500\t\tDivisores:[2, 4, 5, 10, 20, 25, 50, 100, 125, 250]\n",
      "piu\ti:738\tj:1218\tdist:480\t\tDivisores:[2, 3, 4, 5, 6, 8, 10, 12, 15, 16, 20, 24, 30, 32, 40, 48, 60, 80, 96, 120, 160, 240]\n",
      "zlv\ti:751\tj:921\tdist:170\t\tDivisores:[2, 5, 10, 17, 34, 85]\n",
      "kcei\ti:770\tj:915\tdist:145\t\tDivisores:[5, 29]\n",
      "zcvw\ti:786\tj:876\tdist:90\t\tDivisores:[2, 3, 5, 6, 9, 10, 15, 18, 30, 45]\n",
      "qbuz\ti:790\tj:1130\tdist:340\t\tDivisores:[2, 4, 5, 10, 17, 20, 34, 68, 85, 170]\n",
      "uze\ti:792\tj:930\tdist:138\t\tDivisores:[2, 3, 6, 23, 46, 69]\n",
      "wwn\ti:799\tj:1009\tdist:210\t\tDivisores:[2, 3, 5, 6, 7, 10, 14, 15, 21, 30, 35, 42, 70, 105]\n",
      "zrc\ti:823\tj:1186\tdist:363\t\tDivisores:[3, 11, 33, 121]\n",
      "buz\ti:826\tj:1131\tdist:305\t\tDivisores:[5, 61]\n",
      "zpo\ti:828\tj:1093\tdist:265\t\tDivisores:[5, 53]\n",
      "uwp\ti:834\tj:959\tdist:125\t\tDivisores:[5, 25]\n",
      "uwp\ti:834\tj:1274\tdist:440\t\tDivisores:[2, 4, 5, 8, 10, 11, 20, 22, 40, 44, 55, 88, 110, 220]\n",
      "cvpn\ti:837\tj:1312\tdist:475\t\tDivisores:[5, 19, 25, 95]\n",
      "aompcd\ti:886\tj:1306\tdist:420\t\tDivisores:[2, 3, 4, 5, 6, 7, 10, 12, 14, 15, 20, 21, 28, 30, 35, 42, 60, 70, 84, 105, 140, 210]\n",
      "cde\ti:890\tj:965\tdist:75\t\tDivisores:[3, 5, 15, 25]\n",
      "cde\ti:890\tj:1207\tdist:317\t\tDivisores:[]\n",
      "den\ti:891\tj:1156\tdist:265\t\tDivisores:[5, 53]\n",
      "ent\ti:892\tj:979\tdist:87\t\tDivisores:[3, 29]\n",
      "peg\ti:901\tj:961\tdist:60\t\tDivisores:[2, 3, 4, 5, 6, 10, 12, 15, 20, 30]\n",
      "igoz\ti:918\tj:1113\tdist:195\t\tDivisores:[3, 5, 13, 15, 39, 65]\n",
      "pcm\ti:944\tj:994\tdist:50\t\tDivisores:[2, 5, 10, 25]\n",
      "psv\ti:956\tj:1316\tdist:360\t\tDivisores:[2, 3, 4, 5, 6, 8, 9, 10, 12, 15, 18, 20, 24, 30, 36, 40, 45, 60, 72, 90, 120, 180]\n",
      "uwp\ti:959\tj:1274\tdist:315\t\tDivisores:[3, 5, 7, 9, 15, 21, 35, 45, 63, 105]\n",
      "egp\ti:962\tj:1072\tdist:110\t\tDivisores:[2, 5, 10, 11, 22, 55]\n",
      "egp\ti:962\tj:1142\tdist:180\t\tDivisores:[2, 3, 4, 5, 6, 9, 10, 12, 15, 18, 20, 30, 36, 45, 60, 90]\n",
      "pcd\ti:964\tj:1309\tdist:345\t\tDivisores:[3, 5, 15, 23, 69, 115]\n",
      "cde\ti:965\tj:1207\tdist:242\t\tDivisores:[2, 11, 22, 121]\n",
      "deg\ti:986\tj:1021\tdist:35\t\tDivisores:[5, 7]\n",
      "gsuno\ti:988\tj:1063\tdist:75\t\tDivisores:[3, 5, 15, 25]\n",
      "mvr\ti:1002\tj:1257\tdist:255\t\tDivisores:[3, 5, 15, 17, 51, 85]\n",
      "ldz\ti:1006\tj:1091\tdist:85\t\tDivisores:[5, 17]\n",
      "ege\ti:1022\tj:1332\tdist:310\t\tDivisores:[2, 5, 10, 31, 62, 155]\n",
      "pnoe\ti:1026\tj:1106\tdist:80\t\tDivisores:[2, 4, 5, 8, 10, 16, 20, 40]\n",
      "efp\ti:1039\tj:1209\tdist:170\t\tDivisores:[2, 5, 10, 17, 34, 85]\n",
      "hsu\ti:1053\tj:1068\tdist:15\t\tDivisores:[3, 5]\n",
      "edp\ti:1059\tj:1189\tdist:130\t\tDivisores:[2, 5, 10, 13, 26, 65]\n",
      "egpqd\ti:1072\tj:1142\tdist:70\t\tDivisores:[2, 5, 7, 10, 14, 35]\n",
      "qdtp\ti:1075\tj:1320\tdist:245\t\tDivisores:[5, 7, 35, 49]\n",
      "prv\ti:1081\tj:1226\tdist:145\t\tDivisores:[5, 29]\n",
      "lzj\ti:1097\tj:1291\tdist:194\t\tDivisores:[2, 97]\n",
      "pno\ti:1106\tj:1286\tdist:180\t\tDivisores:[2, 3, 4, 5, 6, 9, 10, 12, 15, 18, 20, 30, 36, 45, 60, 90]\n",
      "lyg\ti:1118\tj:1223\tdist:105\t\tDivisores:[3, 5, 7, 15, 21, 35]\n",
      "iue\ti:1134\tj:1219\tdist:85\t\tDivisores:[5, 17]\n",
      "pqdc\ti:1144\tj:1323\tdist:179\t\tDivisores:[]\n",
      "rzr\ti:1185\tj:1267\tdist:82\t\tDivisores:[2, 41]\n",
      "ueo\ti:1195\tj:1220\tdist:25\t\tDivisores:[5]\n",
      "jpg\ti:1203\tj:1303\tdist:100\t\tDivisores:[2, 4, 5, 10, 20, 25, 50]\n",
      "ydj\ti:1281\tj:1301\tdist:20\t\tDivisores:[2, 4, 5, 10]\n",
      "el tamaño esta comprobado\n",
      "0\n",
      "0.0\n",
      "0.0\n",
      "0.0\n",
      "0.0\n",
      "0.0\n",
      "0.0\n",
      "0.0\n",
      "0.0\n",
      "0.01168\n",
      "0.0\n",
      "0.0\n",
      "0.0\n",
      "0.0\n",
      "0.0\n",
      "0.0\n",
      "0.0\n",
      "0.0\n",
      "0.0\n",
      "0.0\n",
      "0.0\n",
      "0.01168\n",
      "0.0\n",
      "0.0\n",
      "0.0\n",
      "0.0\n",
      "-0.0006000000000000001\n",
      "-0.0015600000000000002\n",
      "-0.0\n",
      "-0.013240000000000002\n",
      "-0.011080000000000001\n",
      "-0.0006000000000000001\n",
      "-0.0012000000000000001\n",
      "0.0\n",
      "0.04784000000000001\n",
      "-0.0061600000000000005\n",
      "-0.06712\n",
      "-0.0061600000000000005\n",
      "-0.019200000000000002\n",
      "-0.011080000000000001\n",
      "-0.0015600000000000002\n",
      "-0.013240000000000002\n",
      "-0.0166\n",
      "0.0\n",
      "0.04784000000000001\n",
      "-0.0061600000000000005\n",
      "-0.0061600000000000005\n",
      "-0.0012000000000000001\n",
      "-0.0015600000000000002\n",
      "-0.027479999999999997\n"
     ]
    },
    {
     "name": "stdout",
     "output_type": "stream",
     "text": [
      "-0.0\n",
      "[]\n"
     ]
    }
   ],
   "source": [
    "lista=\"kceizwpsovcdmzvepdzwvlmwmpnmjinpmkitldjvxfegzgwaniuaaghcdyyilldzwrpccefzayspliaitzszpefagccgeigozamvquadqrlcdipeeyinlcgitllznqddzwgwtvfnprjcnlsoedwancrtdzercizwcwanetxanccooisnonnyrcihsrtdzttpsoeflspiuaayewciihcyatgozdjrqwdirqdegesfizvgarzwvlrjjtpcdrfzlzwwnohtcleipcoiagkwehttpsvipbuzwgaoiirprjingagitzsjipzjvhqyogssfizvglcztvlrvrvpsymepqpindogsgdbvwvlnoirlrvwcnameufentqdanmdteiiueuqmgdehivtdvipplhwjznysepnovqoegevtemvcjcjrgdtjwgpnovclamqccpvvcaoiitdegygrozrelmdrqfegzcyvpiuervwoprxifpsgsuzjjwclqpinwaostcelygllgtccexisfenircenyrznzuwpenypldzpcdtjvtpsyinllxdccdzetlgjdcbuzejzrvpnlmvrnlleehprvccbuzpnldvqcbuziplqpinmaggpaamiepvzwvtdvenzmjvqpsgeutnketpldwgydmesfeyiuoevpnxuxlcdvzggdsztqyavqkcaminnahmpzdzvcycdeaauzwvllvmolgdrcniiiplrncgyspiuaonsupcjruzlvfcpnnyeluomxprdskceixcxbdrwynpixzcvwqbuzejzrvwwneyisfiurqginxquahwqgezrcbuzpozrjuwpcvpnlnymezykeuttjerlsjtwpsosgwdzhqpngedzcvwgwlzkcaompcdentcwdvwfpegmupnyvcfenqkceigozlvhcfnwiuzeiqkeayhgwonpcmijwawakvkpsvuwpegpcdeyecpsxyrtrtentmkmtdegsunoipcmlvrelmvrildzwwnahmulyxqqdegeopnoeadevvtlnxefppzwccspwjprhsuzsxedplgsunohsutegpqdtpzkprvrnlcpprldzpollzjknijmtpnoeomiigozalygwgmexpmjvqbuziueeiesfegpqdcjvtpdjvgdenincetetdigmqoevrufevinnuvprzrcedprqmueogekysjpgycdefplhstzppiueolygprvypaammgytzcicaitttvvhqdutsnpmvrfwuzkqarzrfprtuwplzhgydjgkpnosulzjxgdlgixydjpgaompcdcvpnpsvgqdtpqdcayeuoegeetuyeflave\"\n",
    "criptoanalisis_vigenere(lista, 0)"
   ]
  },
  {
   "cell_type": "code",
   "execution_count": 61,
   "id": "8283d3a8",
   "metadata": {},
   "outputs": [],
   "source": [
    "def dividir_lista(n,lista): #ahora que sabemos la cardinalidad de la llave, dividimos la lista en ese modulo\n",
    "    dic = {}\n",
    "    for elem in range(n): #hacemos sublistas de n elementos\n",
    "        dic[elem] = []\n",
    "        \n",
    "    i = 0\n",
    "    for j in range (len(lista)):\n",
    "        if i == n: #si el inidice es igual a n hemos llegado al final de la sublista\n",
    "            i = 0 \n",
    "        dic[i].append(lista[j])\n",
    "        i = i + 1\n",
    "    return dic"
   ]
  },
  {
   "cell_type": "code",
   "execution_count": 306,
   "id": "f3d5a3de",
   "metadata": {},
   "outputs": [],
   "source": [
    "def descifrar_v(lista,dist):\n",
    "    alfabeto=\"abcdefghijklmnopqrstuvwxyzABCDEFGHIJKLMNOPQRSTUVWXYZ\"\n",
    "    lista1=list()\n",
    "    for elem in lista:\n",
    "        valor = alfabeto.index(elem) - int(dist)\n",
    "        if valor < 0:\n",
    "            lista1.append(256 + (valor % -256))\n",
    "        else:\n",
    "            lista1.append(valor)\n",
    "    return lista1"
   ]
  },
  {
   "cell_type": "code",
   "execution_count": 307,
   "id": "d908a7e7",
   "metadata": {},
   "outputs": [
    {
     "name": "stdout",
     "output_type": "stream",
     "text": [
      "\n"
     ]
    },
    {
     "ename": "NameError",
     "evalue": "name 'contOcc' is not defined",
     "output_type": "error",
     "traceback": [
      "\u001b[1;31m---------------------------------------------------------------------------\u001b[0m",
      "\u001b[1;31mNameError\u001b[0m                                 Traceback (most recent call last)",
      "Input \u001b[1;32mIn [307]\u001b[0m, in \u001b[0;36m<cell line: 4>\u001b[1;34m()\u001b[0m\n\u001b[0;32m      1\u001b[0m lista\u001b[38;5;241m=\u001b[39m\u001b[38;5;28minput\u001b[39m()\n\u001b[0;32m      3\u001b[0m cont,freq\u001b[38;5;241m=\u001b[39mobtener_tuplas(lista)\n\u001b[1;32m----> 4\u001b[0m l\u001b[38;5;241m=\u001b[39m\u001b[43mcontOcc\u001b[49m(freq)\n\u001b[0;32m      5\u001b[0m res \u001b[38;5;241m=\u001b[39m dividir_lista(l[i][\u001b[38;5;241m0\u001b[39m], lista) \n\u001b[0;32m      6\u001b[0m res\u001b[38;5;241m=\u001b[39mcontOcc(freq)\n",
      "\u001b[1;31mNameError\u001b[0m: name 'contOcc' is not defined"
     ]
    }
   ],
   "source": [
    "lista=input()\n",
    "\n",
    "cont,freq=obtener_tuplas(lista)\n",
    "l=contOcc(freq)\n",
    "res = dividir_lista(l[i][0], lista) \n",
    "res=contOcc(freq)\n",
    "occ = contOcc(res[i]) \n",
    "print(res[1])\n",
    "print(occ[0][0])\n",
    "print(lista[0])\n",
    "print(l)\n",
    "descifrar_v(res[0],occ[0][0])"
   ]
  },
  {
   "cell_type": "code",
   "execution_count": 310,
   "id": "71bc0e73",
   "metadata": {},
   "outputs": [
    {
     "name": "stdout",
     "output_type": "stream",
     "text": [
      "uwpt\ti:4\tj:29\tdiff:25\t\tDivisors:[5]\n",
      "waH\ti:11\tj:46\tdiff:35\t\tDivisors:[5, 7]\n",
      "2\n",
      "[5, 5, 7]\n",
      "ipz\ti:49\tj:139\tdiff:90\t\tDivisors:[2, 3, 5, 6, 9, 10, 15, 18, 30, 45]\n",
      "Lyg\ti:108\tj:133\tdiff:25\t\tDivisors:[5]\n",
      "5\n"
     ]
    },
    {
     "ename": "NameError",
     "evalue": "name 'occ' is not defined",
     "output_type": "error",
     "traceback": [
      "\u001b[1;31m---------------------------------------------------------------------------\u001b[0m",
      "\u001b[1;31mNameError\u001b[0m                                 Traceback (most recent call last)",
      "Input \u001b[1;32mIn [310]\u001b[0m, in \u001b[0;36m<cell line: 7>\u001b[1;34m()\u001b[0m\n\u001b[0;32m      5\u001b[0m \u001b[38;5;28mprint\u001b[39m(cont)\n\u001b[0;32m      6\u001b[0m \u001b[38;5;28mprint\u001b[39m(freq)\n\u001b[1;32m----> 7\u001b[0m \u001b[43mcriptoanalisis_vigenere\u001b[49m\u001b[43m(\u001b[49m\u001b[43mlista1\u001b[49m\u001b[43m)\u001b[49m\n",
      "Input \u001b[1;32mIn [309]\u001b[0m, in \u001b[0;36mcriptoanalisis_vigenere\u001b[1;34m(lista)\u001b[0m\n\u001b[0;32m     18\u001b[0m     divisores \u001b[38;5;241m=\u001b[39m contDiv(res[i]) \u001b[38;5;66;03m# Hacemos un analisis de frecuecia\u001b[39;00m\n\u001b[0;32m     19\u001b[0m     shift \u001b[38;5;241m=\u001b[39m (alfabeto\u001b[38;5;241m.\u001b[39mindex(divisores[\u001b[38;5;241m0\u001b[39m][\u001b[38;5;241m0\u001b[39m]) \u001b[38;5;241m-\u001b[39m \u001b[38;5;241m32\u001b[39m) \u001b[38;5;241m%\u001b[39m \u001b[38;5;241m256\u001b[39m \u001b[38;5;66;03m# Consider the most frequent element of being a space(32 in decimal)\u001b[39;00m\n\u001b[1;32m---> 21\u001b[0m     \u001b[38;5;28mprint\u001b[39m (\u001b[38;5;124m\"\u001b[39m\u001b[38;5;124mFrequency analysis for the index: \u001b[39m\u001b[38;5;132;01m%s\u001b[39;00m\u001b[38;5;130;01m\\t\u001b[39;00m\u001b[38;5;124mshift:\u001b[39m\u001b[38;5;132;01m%s\u001b[39;00m\u001b[38;5;130;01m\\n\u001b[39;00m\u001b[38;5;132;01m%s\u001b[39;00m\u001b[38;5;130;01m\\n\u001b[39;00m\u001b[38;5;124m\"\u001b[39m \u001b[38;5;241m%\u001b[39m (i,shift,\u001b[43mocc\u001b[49m)) \u001b[38;5;66;03m#Print informations (can be deleted)\u001b[39;00m\n\u001b[0;32m     22\u001b[0m     res[i] \u001b[38;5;241m=\u001b[39m descifrar_v(res[i],shift) \u001b[38;5;66;03m#Intnemos descifrarlo \u001b[39;00m\n\u001b[0;32m     24\u001b[0m final \u001b[38;5;241m=\u001b[39m recrear_lista(res) \u001b[38;5;66;03m#Once we have processed all sub-list recreate a list with all the sub-lists.\u001b[39;00m\n",
      "\u001b[1;31mNameError\u001b[0m: name 'occ' is not defined"
     ]
    }
   ],
   "source": [
    "lista=\"jzlvuwptvpnwaHedlpvvcnoIxcCtzuwptJhqGawmgyyLygwaHyutcvwkruzwqyaIhqnoHscytzw\"\n",
    "lista1=\"jzlviuEawerpnNepoozroFcCeunoNeuDowvgEoysgycJwcDqPipztDippmPgjzszrvtdJgqxozwvpeEitnixmqEoOenxeIxgtnOitxiIedweLygyoxspDiBsfpsxmhCaMtgCoLygllHipzsxsoAiGesFevpizeNenrove\"\n",
    "\n",
    "cont, freq=obtener_tuplas(lista)\n",
    "print(cont)\n",
    "print(freq)\n",
    "criptoanalisis_vigenere(lista1)"
   ]
  },
  {
   "cell_type": "markdown",
   "id": "27a3b33e",
   "metadata": {},
   "source": [
    "## 3. Cifrado de flujo"
   ]
  },
  {
   "cell_type": "code",
   "execution_count": null,
   "id": "3ec5d312",
   "metadata": {},
   "outputs": [],
   "source": [
    "def rec_fib(n):\n",
    "    if n > 1:\n",
    "        return rec_fib(n-1) + rec_fib(n-2)\n",
    "    return n"
   ]
  },
  {
   "cell_type": "code",
   "execution_count": null,
   "id": "829d7d31",
   "metadata": {},
   "outputs": [],
   "source": [
    "# Generador de secuencia aleatoria\n",
    "def generador_aleatorio(m,cont):\n",
    "    k=(rec_fib(m)%m)*m*cont\n",
    "    return k"
   ]
  },
  {
   "cell_type": "code",
   "execution_count": null,
   "id": "3cc1ff34",
   "metadata": {
    "scrolled": true
   },
   "outputs": [],
   "source": [
    "# Ejemplo de secuencia cifrante de 5 elementos para clave 14\n",
    "m=14\n",
    "for i in range(5):\n",
    "    k=generador_aleatorio(m,i)\n",
    "    print(k)"
   ]
  },
  {
   "cell_type": "code",
   "execution_count": null,
   "id": "d505e0fe",
   "metadata": {},
   "outputs": [],
   "source": [
    "# m es la clave\n",
    "# n es el tamaño de la secuencia de claves\n",
    "def flujo(modo,m,n,i=0,o=0):\n",
    "    alfabeto='abcdefghijklmnopqrstuvwxyzABCDEFGHIJKLMNOPQRSTUVWXYZ'\n",
    "    if modo==\"-C\":\n",
    "        cadena=read_input(i)\n",
    "        # Traducimos los caracteres a números\n",
    "        cadena_numerica=[]\n",
    "        for k in cadena:\n",
    "            if k in alfabeto: \n",
    "                cadena_numerica.append(alfabeto.index(k))\n",
    "        # Ciframos carácter a carácter\n",
    "        cadena_cifrada=[]\n",
    "        count=0\n",
    "        for i in cadena_numerica:\n",
    "            if count<n:\n",
    "                k=generador_aleatorio(m,count)\n",
    "            else:\n",
    "                k=generador_aleatorio(m,count-n)\n",
    "            cadena_cifrada.append(int(bin(i^k)[2:]))\n",
    "            count=count+1\n",
    "        print_output(o,cadena_cifrada)\n",
    "    elif modo==\"-D\":\n",
    "        cadena_cifrada=read_input(i)\n",
    "        cadena_cifrada=cadena_cifrada.split(\" \")\n",
    "        cadena_descifrada=[]\n",
    "        cadena_texto=[]\n",
    "        for i in range(len(cadena_cifrada)):\n",
    "            cadena_cifrada[i]=int(cadena_cifrada[i],2)\n",
    "        count=0\n",
    "        for i in cadena_cifrada:\n",
    "            if count<n:\n",
    "                k=generador_aleatorio(m,count)\n",
    "            else:\n",
    "                k=generador_aleatorio(m,count-n)\n",
    "            cadena_descifrada.append((i^k))\n",
    "            count=count+1\n",
    "        for i in range(len(cadena_descifrada)):\n",
    "            cadena_texto.append(alfabeto[int(cadena_descifrada[i])])\n",
    "        print_output(o,cadena_texto)"
   ]
  },
  {
   "cell_type": "code",
   "execution_count": null,
   "id": "1fcf9647",
   "metadata": {},
   "outputs": [],
   "source": [
    "flujo(\"-C\", 4,2)"
   ]
  },
  {
   "cell_type": "code",
   "execution_count": null,
   "id": "1ffa7fe5",
   "metadata": {},
   "outputs": [],
   "source": [
    "flujo(\"-D\", 4,2)"
   ]
  },
  {
   "cell_type": "code",
   "execution_count": null,
   "id": "ce0130bb",
   "metadata": {
    "scrolled": true
   },
   "outputs": [],
   "source": [
    "flujo(\"-C\", 10,20)"
   ]
  },
  {
   "cell_type": "code",
   "execution_count": null,
   "id": "995b8540",
   "metadata": {},
   "outputs": [],
   "source": [
    "flujo(\"-D\", 10, 20)"
   ]
  },
  {
   "cell_type": "markdown",
   "id": "ce83825b",
   "metadata": {},
   "source": [
    "## 4. Producto de criptosistemas de permutación"
   ]
  },
  {
   "cell_type": "code",
   "execution_count": null,
   "id": "34c6b88a",
   "metadata": {},
   "outputs": [],
   "source": [
    "# k1: vector de m elementos que constituye la clave para el cifrado de permutación por filas\n",
    "# k2: vector de n elementos que constituye la clave para el cifrado de permutación por columnas\n",
    "def permutacion(modo,k1,k2,i=0,o=0):\n",
    "    alfabeto='abcdefghijklmnopqrstuvwxyzABCDEFGHIJKLMNOPQRSTUVWXYZ'\n",
    "    if modo==\"-C\":\n",
    "        cadena=read_input(i)\n",
    "        # Traducimos los caracteres a números\n",
    "        cadena_numerica=[]\n",
    "        for k in cadena:\n",
    "            if k in alfabeto: \n",
    "                cadena_numerica.append(alfabeto.index(k))\n",
    "\n",
    "        # Matriz numerica es la matriz m x n \n",
    "        m=len(k1)\n",
    "        n=len(k2)\n",
    "        maxi=len(cadena_numerica)\n",
    "        matriz_numerica=np.zeros((m,n))\n",
    "         \n",
    "        pos=0\n",
    "        for i in range(m):\n",
    "            for j in range(n):\n",
    "                if pos<maxi:\n",
    "                    matriz_numerica[i][j]=cadena_numerica[pos]\n",
    "                    pos=pos+1\n",
    "        print(matriz_numerica)\n",
    "        \n",
    "        # Cifrado de permutación por filas\n",
    "        matriz_cifrada1=np.zeros((m,n))\n",
    "        for i in range(m):\n",
    "            for j in range(n):\n",
    "                matriz_cifrada1[i][j]=matriz_numerica[k1[i]][j]\n",
    "        print(matriz_cifrada1)\n",
    "                \n",
    "        # Cifrado de permutación por columnas\n",
    "        matriz_cifrada2=np.zeros((m,n))\n",
    "        for i in range(m):\n",
    "            for j in range(n):\n",
    "                matriz_cifrada2[i][j]=matriz_cifrada1[i][k2[j]]\n",
    "                \n",
    "        print(matriz_cifrada2)\n",
    "        print_output(o, matriz_cifrada2)\n",
    "    elif modo==\"-D\":\n",
    "        cadena_cifrada=read_input(i)\n",
    "        cadena_cifrada=cadena_cifrada.split(\" \")\n",
    "        \n",
    "         # Matriz numerica es la matriz m x n \n",
    "        m=len(k1)\n",
    "        n=len(k2)\n",
    "        maxi=len(cadena_cifrada)\n",
    "        matriz_cifrada=np.zeros((m,n))\n",
    "         \n",
    "        pos=0\n",
    "        for i in range(m):\n",
    "            for j in range(n):\n",
    "                if pos<maxi:\n",
    "                    matriz_cifrada[i][j]=cadena_cifrada[pos]\n",
    "                    pos=pos+1\n",
    "        print(matriz_cifrada)\n",
    "        \n",
    "        # Desciframos cifrado de permutación por columnas\n",
    "        matriz_descifrada2=np.zeros((m,n))\n",
    "        for i in range(m):\n",
    "            for j in range(n):\n",
    "                matriz_descifrada2[i][k2[j]]=matriz_cifrada[i][j]\n",
    "        \n",
    "        print(matriz_descifrada2)\n",
    "        \n",
    "        # Desciframos cifrado de permutación por filas\n",
    "        matriz_descifrada1=np.zeros((m,n))\n",
    "        for i in range(m):\n",
    "            for j in range(n):\n",
    "                matriz_descifrada1[k1[i]][j]=matriz_descifrada2[i][j]\n",
    "        print(matriz_descifrada1)\n",
    "        \n",
    "        cadena_descifrada=np.concatenate(matriz_descifrada1)\n",
    "        cadena_texto=[]\n",
    "        for i in range(len(cadena_descifrada)):\n",
    "            #cadena_cifrada[i]=int(cadena_cifrada[i])\n",
    "            cadena_texto.append(alfabeto[int(cadena_descifrada[i])])\n",
    "\n",
    "        print_output(o, cadena_texto)"
   ]
  },
  {
   "cell_type": "code",
   "execution_count": null,
   "id": "85828852",
   "metadata": {},
   "outputs": [],
   "source": [
    "k1=[3,2,4,1,0]\n",
    "k2=[1,3,2,0]\n",
    "permutacion(\"-C\", k1, k2)"
   ]
  },
  {
   "cell_type": "code",
   "execution_count": null,
   "id": "ab4830bb",
   "metadata": {},
   "outputs": [],
   "source": [
    "permutacion(\"-D\", k1, k2)"
   ]
  }
 ],
 "metadata": {
  "kernelspec": {
   "display_name": "Python 3 (ipykernel)",
   "language": "python",
   "name": "python3"
  },
  "language_info": {
   "codemirror_mode": {
    "name": "ipython",
    "version": 3
   },
   "file_extension": ".py",
   "mimetype": "text/x-python",
   "name": "python",
   "nbconvert_exporter": "python",
   "pygments_lexer": "ipython3",
   "version": "3.9.12"
  }
 },
 "nbformat": 4,
 "nbformat_minor": 5
}
