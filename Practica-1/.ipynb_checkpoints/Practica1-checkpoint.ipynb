{
 "cells": [
  {
   "cell_type": "markdown",
   "id": "f9952fdd",
   "metadata": {},
   "source": [
    "# Práctica 1: Criptografía clásica\n",
    "## UAM, 2022/2023\n",
    "\n",
    "### Maitane Gómez González\n",
    "### Ana Martínez Sabiote"
   ]
  },
  {
   "cell_type": "markdown",
   "id": "14e31d52",
   "metadata": {},
   "source": [
    "## 1. Sustitución monoalfabeto"
   ]
  },
  {
   "cell_type": "markdown",
   "id": "65d4723f",
   "metadata": {},
   "source": [
    "## 1.a Método afín\n",
    "El siguiente programa implementa el método afín.\n",
    "\n",
    "Llamada a la función:\n",
    "\n",
    "afin {-C|-D} {-m |Zm|} {-a N×} {-b N+} [-i f ilein] [-o f ileout]\n"
   ]
  }
 ],
 "metadata": {
  "kernelspec": {
   "display_name": "Python 3 (ipykernel)",
   "language": "python",
   "name": "python3"
  },
  "language_info": {
   "codemirror_mode": {
    "name": "ipython",
    "version": 3
   },
   "file_extension": ".py",
   "mimetype": "text/x-python",
   "name": "python",
   "nbconvert_exporter": "python",
   "pygments_lexer": "ipython3",
   "version": "3.9.7"
  }
 },
 "nbformat": 4,
 "nbformat_minor": 5
}
