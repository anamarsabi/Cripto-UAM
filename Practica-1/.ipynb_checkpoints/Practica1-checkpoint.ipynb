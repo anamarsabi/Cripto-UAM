{
 "cells": [
  {
   "cell_type": "markdown",
   "id": "f9952fdd",
   "metadata": {},
   "source": [
    "# Práctica 1: Criptografía clásica\n",
    "## UAM, 2022/2023\n",
    "\n",
    "### Maitane Gómez González\n",
    "### Ana Martínez Sabiote"
   ]
  },
  {
   "cell_type": "markdown",
   "id": "14e31d52",
   "metadata": {},
   "source": [
    "## 1. Sustitución monoalfabeto"
   ]
  },
  {
   "cell_type": "markdown",
   "id": "65d4723f",
   "metadata": {},
   "source": [
    "## 1.a Método afín\n",
    "El siguiente programa implementa el método afín.\n",
    "\n",
    "Llamada a la función:\n",
    "\n",
    "afin {-C|-D} {-m |Zm|} {-a N×} {-b N+} [-i f ilein] [-o f ileout]\n"
   ]
  },
  {
   "cell_type": "code",
   "execution_count": 3,
   "id": "97e65684",
   "metadata": {
    "scrolled": true
   },
   "outputs": [],
   "source": [
    "import gmpy2\n",
    "from gmpy2 import mpz"
   ]
  },
  {
   "cell_type": "code",
   "execution_count": 4,
   "id": "9b88d454",
   "metadata": {},
   "outputs": [
    {
     "data": {
      "text/plain": [
       "'\\ndef algoritmo_euclides(a,b):\\n    if a%b == 0:\\n        return b\\n    else:\\n        return algoritmo_euclides(b, a%b)\\n'"
      ]
     },
     "execution_count": 4,
     "metadata": {},
     "output_type": "execute_result"
    }
   ],
   "source": [
    "\"\"\"\n",
    "def algoritmo_euclides(a,b):\n",
    "    if a%b == 0:\n",
    "        return b\n",
    "    else:\n",
    "        return algoritmo_euclides(b, a%b)\n",
    "\"\"\""
   ]
  },
  {
   "cell_type": "code",
   "execution_count": 5,
   "id": "18dde9e9",
   "metadata": {},
   "outputs": [],
   "source": [
    "def algoritmo_euclides(a,b):\n",
    "    if gmpy2.t_mod(a,b) == 0:\n",
    "        return b\n",
    "    else:\n",
    "        return algoritmo_euclides(b, gmpy2.t_mod(a,b))"
   ]
  },
  {
   "cell_type": "code",
   "execution_count": 6,
   "id": "9d0a246d",
   "metadata": {
    "scrolled": true
   },
   "outputs": [
    {
     "name": "stdout",
     "output_type": "stream",
     "text": [
      "3\n"
     ]
    }
   ],
   "source": [
    "mcd=algoritmo_euclides(39,150)\n",
    "print(mcd)"
   ]
  },
  {
   "cell_type": "code",
   "execution_count": 7,
   "id": "b67d8457",
   "metadata": {},
   "outputs": [
    {
     "data": {
      "text/plain": [
       "'\\ndef algoritmo_euclides_extendido(a,b):\\n\\n    # Identidad de Bézout 1=u*a + v*b\\n    # El inverso de a módulo b es u. Recíprocamente, el inverso de b mod a es v\\n    if a==0:\\n        mcd=b\\n        u=0\\n        v=1\\n    else:\\n        mcd, x, y = algoritmo_euclides_extendido(b%a, a)\\n        u=y-(b//a)*x\\n        v=x\\n        \\n    return mcd, u, v\\n'"
      ]
     },
     "execution_count": 7,
     "metadata": {},
     "output_type": "execute_result"
    }
   ],
   "source": [
    "\"\"\"\n",
    "def algoritmo_euclides_extendido(a,b):\n",
    "\n",
    "    # Identidad de Bézout 1=u*a + v*b\n",
    "    # El inverso de a módulo b es u. Recíprocamente, el inverso de b mod a es v\n",
    "    if a==0:\n",
    "        mcd=b\n",
    "        u=0\n",
    "        v=1\n",
    "    else:\n",
    "        mcd, x, y = algoritmo_euclides_extendido(b%a, a)\n",
    "        u=y-(b//a)*x\n",
    "        v=x\n",
    "        \n",
    "    return mcd, u, v\n",
    "\"\"\""
   ]
  },
  {
   "cell_type": "code",
   "execution_count": 8,
   "id": "a8f953da",
   "metadata": {},
   "outputs": [],
   "source": [
    "def algoritmo_euclides_extendido(a,b):\n",
    "    \"\"\"\n",
    "    # Condición a>b, sino las cambiamos\n",
    "    if b>a:\n",
    "        aux=a\n",
    "        a=b\n",
    "        b=aux\n",
    "    \"\"\"\n",
    "    # Identidad de Bézout 1=u*a + v*b\n",
    "    # El inverso de a módulo b es u. Recíprocamente, el inverso de b mod a es v\n",
    "    if a==0:\n",
    "        mcd=b\n",
    "        u=0\n",
    "        v=1\n",
    "    else:\n",
    "        mcd, x, y = algoritmo_euclides_extendido(gmpy2.c_mod(b,a), a)\n",
    "        u=gmpy2.sub(y,(gmpy2.mul(gmpy2.c_div(b,a),x)))\n",
    "        v=x\n",
    "        \n",
    "    return mcd, u, v"
   ]
  },
  {
   "cell_type": "code",
   "execution_count": 9,
   "id": "7091e523",
   "metadata": {},
   "outputs": [],
   "source": [
    "def inverso(a,m):\n",
    "    result = algoritmo_euclides_extendido(a,m)\n",
    "    # Comprobamos que el mcd es 1 para que exista inverso multiplicativo\n",
    "    # En consecuencia, a y m determinan una función afín inyectiva\n",
    "    if result[0] == 1:\n",
    "        # Entonces devolvemos el coeficiente u (que acompaña a) de la Id. de Bézout\n",
    "        return result[1]\n",
    "    else:\n",
    "        print(\"Error\")"
   ]
  },
  {
   "cell_type": "code",
   "execution_count": 10,
   "id": "17753588",
   "metadata": {},
   "outputs": [
    {
     "name": "stdout",
     "output_type": "stream",
     "text": [
      "(mpz(-1), mpz(-7), mpz(4))\n"
     ]
    }
   ],
   "source": [
    "mcd=algoritmo_euclides_extendido(15,26)\n",
    "print(mcd)"
   ]
  },
  {
   "cell_type": "code",
   "execution_count": 11,
   "id": "dbe89c19",
   "metadata": {
    "scrolled": true
   },
   "outputs": [
    {
     "name": "stdout",
     "output_type": "stream",
     "text": [
      "-4\n"
     ]
    }
   ],
   "source": [
    "inv=inverso(26,15)\n",
    "print(inv)"
   ]
  },
  {
   "cell_type": "code",
   "execution_count": 23,
   "id": "7bb8446b",
   "metadata": {},
   "outputs": [],
   "source": [
    "def afin(modo,m,a,b,i=0,o=0):\n",
    "    if algoritmo_euclides(a,b) == 1:\n",
    "        if modo==\"-C\":\n",
    "            # Primero tomamos el input de i o de la entrada estándar\n",
    "            if i==0:\n",
    "                cadena=input()\n",
    "            else:\n",
    "                file=open(i, \"r\")\n",
    "                cadena=file.read()\n",
    "            print(\"Cadena: {}\".format(cadena))\n",
    "            print(len(cadena))\n",
    "\n",
    "            #Traducimos los caracteres a números\n",
    "            alfabeto='abcdefghijklmnopqrstuvwxyzABCDEFGHIJKLMNOPQRSTUVWXYZ'\n",
    "            cadena_numerica=[]\n",
    "            for k in cadena:\n",
    "                if k in alfabeto: \n",
    "                    cadena_numerica.append(alfabeto.index(k))\n",
    "            print(\"Cadena numérica: {}\".format(cadena_numerica))\n",
    "            print(len(cadena_numerica))\n",
    "\n",
    "            cadena_cifrada=[]\n",
    "            for k in cadena_numerica:\n",
    "                cadena_cifrada.append(((a*k)+b)%m)\n",
    "            print(\"Cadena cifrada: {}\".format(cadena_cifrada))\n",
    "            print(len(cadena_cifrada))\n",
    "        \n",
    "    else:\n",
    "        print(\"{} y {} no son primos relativos. Error\".format(a,b))"
   ]
  },
  {
   "cell_type": "code",
   "execution_count": 27,
   "id": "b34c8f5c",
   "metadata": {},
   "outputs": [
    {
     "name": "stdout",
     "output_type": "stream",
     "text": [
      "Cadena: Hola Nueva York!\n",
      "16\n",
      "Cadena numérica: [33, 14, 11, 0, 39, 20, 4, 21, 0, 50, 14, 17, 10]\n",
      "13\n",
      "Cadena cifrada: [10, 4, 1, 3, 3, 10, 7, 11, 3, 1, 4, 7, 0]\n",
      "13\n"
     ]
    }
   ],
   "source": [
    "afin(\"-C\",13,27,16,\"cadena.txt\")"
   ]
  },
  {
   "cell_type": "code",
   "execution_count": 28,
   "id": "f396325f",
   "metadata": {},
   "outputs": [
    {
     "name": "stdout",
     "output_type": "stream",
     "text": [
      "Fin de la clase\n",
      "Cadena: Fin de la clase\n",
      "15\n",
      "Cadena numérica: [31, 8, 13, 3, 4, 11, 0, 2, 11, 0, 18, 4]\n",
      "12\n",
      "Cadena cifrada: [8, 11, 3, 6, 7, 1, 3, 5, 1, 3, 8, 7]\n",
      "12\n"
     ]
    }
   ],
   "source": [
    "afin(\"-C\",13,27,16)"
   ]
  },
  {
   "cell_type": "code",
   "execution_count": null,
   "id": "b2a78467",
   "metadata": {},
   "outputs": [],
   "source": []
  }
 ],
 "metadata": {
  "kernelspec": {
   "display_name": "Python 3 (ipykernel)",
   "language": "python",
   "name": "python3"
  },
  "language_info": {
   "codemirror_mode": {
    "name": "ipython",
    "version": 3
   },
   "file_extension": ".py",
   "mimetype": "text/x-python",
   "name": "python",
   "nbconvert_exporter": "python",
   "pygments_lexer": "ipython3",
   "version": "3.9.7"
  }
 },
 "nbformat": 4,
 "nbformat_minor": 5
}
