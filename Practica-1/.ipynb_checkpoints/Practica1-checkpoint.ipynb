{
 "cells": [
  {
   "cell_type": "markdown",
   "id": "f9952fdd",
   "metadata": {},
   "source": [
    "# Práctica 1: Criptografía clásica\n",
    "## UAM, 2022/2023\n",
    "\n",
    "### Maitane Gómez González\n",
    "### Ana Martínez Sabiote"
   ]
  },
  {
   "cell_type": "markdown",
   "id": "14e31d52",
   "metadata": {},
   "source": [
    "## 1. Sustitución monoalfabeto"
   ]
  },
  {
   "cell_type": "markdown",
   "id": "65d4723f",
   "metadata": {},
   "source": [
    "## 1.a Método afín\n",
    "El siguiente programa implementa el método afín.\n",
    "\n",
    "Llamada a la función:\n",
    "\n",
    "afin {-C|-D} {-m |Zm|} {-a N×} {-b N+} [-i f ilein] [-o f ileout]\n"
   ]
  },
  {
   "cell_type": "code",
   "execution_count": 1,
   "id": "eaebc2e3",
   "metadata": {
    "scrolled": true
   },
   "outputs": [],
   "source": [
    "import gmpy2\n",
    "from gmpy2 import mpz"
   ]
  },
  {
   "cell_type": "code",
   "execution_count": 2,
   "id": "0013cce1",
   "metadata": {},
   "outputs": [
    {
     "data": {
      "text/plain": [
       "'\\nVERSIÓN SIN GMP \\n\\ndef algoritmo_euclides(a,b):\\n    if a%b == 0:\\n        return b\\n    else:\\n        return algoritmo_euclides(b, a%b)\\n'"
      ]
     },
     "execution_count": 2,
     "metadata": {},
     "output_type": "execute_result"
    }
   ],
   "source": [
    "\"\"\"\n",
    "VERSIÓN SIN GMP \n",
    "\n",
    "def algoritmo_euclides(a,b):\n",
    "    if a%b == 0:\n",
    "        return b\n",
    "    else:\n",
    "        return algoritmo_euclides(b, a%b)\n",
    "\"\"\""
   ]
  },
  {
   "cell_type": "code",
   "execution_count": 3,
   "id": "912d32d4",
   "metadata": {},
   "outputs": [],
   "source": [
    "def algoritmo_euclides(a,b):\n",
    "    if gmpy2.t_mod(a,b) == 0:\n",
    "        return b\n",
    "    else:\n",
    "        return algoritmo_euclides(b, gmpy2.t_mod(a,b))"
   ]
  },
  {
   "cell_type": "code",
   "execution_count": 4,
   "id": "fcdb17ab",
   "metadata": {
    "scrolled": true
   },
   "outputs": [
    {
     "name": "stdout",
     "output_type": "stream",
     "text": [
      "3\n"
     ]
    }
   ],
   "source": [
    "mcd=algoritmo_euclides(39,150)\n",
    "print(mcd)"
   ]
  },
  {
   "cell_type": "code",
   "execution_count": 142,
   "id": "edb6a5ee",
   "metadata": {},
   "outputs": [
    {
     "data": {
      "text/plain": [
       "mpz(1)"
      ]
     },
     "execution_count": 142,
     "metadata": {},
     "output_type": "execute_result"
    }
   ],
   "source": [
    "algoritmo_euclides(7,15)"
   ]
  },
  {
   "cell_type": "code",
   "execution_count": 5,
   "id": "885404f8",
   "metadata": {},
   "outputs": [
    {
     "data": {
      "text/plain": [
       "'\\nVERSIÓN SIN GMP \\n\\ndef algoritmo_euclides_extendido(a,b):\\n\\n    # Identidad de Bézout 1=u*a + v*b\\n    # El inverso de a módulo b es u. Recíprocamente, el inverso de b mod a es v\\n    if a==0:\\n        mcd=b\\n        u=0\\n        v=1\\n    else:\\n        mcd, x, y = algoritmo_euclides_extendido(b%a, a)\\n        u=y-(b//a)*x\\n        v=x\\n        \\n    return mcd, u, v\\n'"
      ]
     },
     "execution_count": 5,
     "metadata": {},
     "output_type": "execute_result"
    }
   ],
   "source": [
    "\"\"\"\n",
    "VERSIÓN SIN GMP \n",
    "\n",
    "def algoritmo_euclides_extendido(a,b):\n",
    "\n",
    "    # Identidad de Bézout 1=u*a + v*b\n",
    "    # El inverso de a módulo b es u. Recíprocamente, el inverso de b mod a es v\n",
    "    if a==0:\n",
    "        mcd=b\n",
    "        u=0\n",
    "        v=1\n",
    "    else:\n",
    "        mcd, x, y = algoritmo_euclides_extendido(b%a, a)\n",
    "        u=y-(b//a)*x\n",
    "        v=x\n",
    "        \n",
    "    return mcd, u, v\n",
    "\"\"\""
   ]
  },
  {
   "cell_type": "code",
   "execution_count": 6,
   "id": "5dc05ac1",
   "metadata": {},
   "outputs": [],
   "source": [
    "def algoritmo_euclides_extendido(a,b):\n",
    "    \"\"\"\n",
    "    # Condición a>b, sino las cambiamos\n",
    "    if b>a:\n",
    "        aux=a\n",
    "        a=b\n",
    "        b=aux\n",
    "    \"\"\"\n",
    "    # Identidad de Bézout 1=u*a + v*b\n",
    "    # El inverso de a módulo b es u. Recíprocamente, el inverso de b mod a es v\n",
    "    if a==0:\n",
    "        mcd=b\n",
    "        u=0\n",
    "        v=1\n",
    "    else:\n",
    "        mcd, x, y = algoritmo_euclides_extendido(gmpy2.c_mod(b,a), a)\n",
    "        u=gmpy2.sub(y,(gmpy2.mul(gmpy2.c_div(b,a),x)))\n",
    "        v=x\n",
    "        \n",
    "    return mcd, u, v"
   ]
  },
  {
   "cell_type": "code",
   "execution_count": 192,
   "id": "cc975e3d",
   "metadata": {},
   "outputs": [],
   "source": [
    "def inverso(a,m):\n",
    "    result = algoritmo_euclides_extendido(a,m)\n",
    "    # Comprobamos que el mcd es 1 para que exista inverso multiplicativo\n",
    "    # En consecuencia, a y m determinan una función afín inyectiva\n",
    "    if result[0] == 1:\n",
    "        # Entonces devolvemos el coeficiente u (que acompaña a) de la Id. de Bézout\n",
    "        inv=result[1]\n",
    "        print(type(result[1]))\n",
    "        return inv\n",
    "    else:\n",
    "        print(\"Error\")"
   ]
  },
  {
   "cell_type": "code",
   "execution_count": 193,
   "id": "bbda0964",
   "metadata": {},
   "outputs": [
    {
     "name": "stdout",
     "output_type": "stream",
     "text": [
      "(mpz(1), mpz(-4), mpz(7))\n"
     ]
    }
   ],
   "source": [
    "mcd=algoritmo_euclides_extendido(26,15)\n",
    "print(mcd)"
   ]
  },
  {
   "cell_type": "code",
   "execution_count": 194,
   "id": "4852deb1",
   "metadata": {
    "scrolled": false
   },
   "outputs": [
    {
     "name": "stdout",
     "output_type": "stream",
     "text": [
      "<class 'mpz'>\n",
      "-4\n"
     ]
    }
   ],
   "source": [
    "inv=inverso(26,15)\n",
    "print(inv)"
   ]
  },
  {
   "cell_type": "code",
   "execution_count": 195,
   "id": "51ed1fe2",
   "metadata": {},
   "outputs": [],
   "source": [
    "def read_input(i):\n",
    "    # Primero tomamos el input de i o de la entrada estándar\n",
    "    if i==0:\n",
    "        cadena=input()\n",
    "    else:\n",
    "        file=open(i, \"r\")\n",
    "        cadena=file.read()\n",
    "    print(\"Cadena: {}\".format(cadena))\n",
    "    print(len(cadena))\n",
    "    return cadena"
   ]
  },
  {
   "cell_type": "code",
   "execution_count": 200,
   "id": "d60e34da",
   "metadata": {},
   "outputs": [],
   "source": [
    "def afin(modo,m,a,b,i=0,o=0):\n",
    "    alfabeto='abcdefghijklmnopqrstuvwxyzABCDEFGHIJKLMNOPQRSTUVWXYZ'\n",
    "    if algoritmo_euclides(a,m) == 1:\n",
    "        if modo==\"-C\":\n",
    "            cadena=read_input(i)\n",
    "            #Traducimos los caracteres a números\n",
    "            cadena_numerica=[]\n",
    "            for k in cadena:\n",
    "                if k in alfabeto: \n",
    "                    cadena_numerica.append(alfabeto.index(k))\n",
    "            print(\"Cadena numérica: {}\".format(cadena_numerica))\n",
    "            cadena_cifrada=[]\n",
    "            for k in cadena_numerica:\n",
    "                cadena_cifrada.append(((a*k)+b)%m)\n",
    "            print(\"Cadena cifrada: {}\".format(cadena_cifrada))\n",
    "        elif modo==\"-D\":\n",
    "            cadena_cifrada=read_input(i)\n",
    "            cadena_cifrada=cadena_cifrada.split(\", \")\n",
    "            cadena_descifrada=[]\n",
    "            cadena_texto=[]\n",
    "            inv=inverso(a,m)\n",
    "            for i in range(len(cadena_cifrada)):\n",
    "                cadena_cifrada[i]=int(cadena_cifrada[i])\n",
    "            for k in cadena_cifrada:\n",
    "                k_descifrado=gmpy2.c_mod(gmpy2.mul((k-b),inv),m)\n",
    "                if k_descifrado<0:\n",
    "                    k_descifrado=m+k_descifrado\n",
    "                cadena_descifrada.append(k_descifrado)\n",
    "                cadena_texto.append(alfabeto[k_descifrado])\n",
    "           \n",
    "            print(\"Cadena cifrada: {}\".format(cadena_cifrada))\n",
    "            print(\"Cadena descifrada: {}\".format(cadena_descifrada))\n",
    "            print(\"Cadena texto: {}\".format(cadena_texto))\n",
    "    else:\n",
    "        print(\"{} y {} no son primos relativos. Error\".format(a,m))"
   ]
  },
  {
   "cell_type": "code",
   "execution_count": 201,
   "id": "dfbffa2c",
   "metadata": {},
   "outputs": [
    {
     "name": "stdout",
     "output_type": "stream",
     "text": [
      "Cadena: Hola Nueva York!\n",
      "16\n",
      "Cadena numérica: [33, 14, 11, 0, 39, 20, 4, 21, 0, 50, 14, 17, 10]\n",
      "13\n",
      "Cadena cifrada: [34, 13, 48, 3, 16, 47, 43, 18, 3, 9, 13, 30, 25]\n",
      "13\n"
     ]
    }
   ],
   "source": [
    "afin(\"-C\",52,23,3,\"cadena.txt\")"
   ]
  },
  {
   "cell_type": "code",
   "execution_count": 202,
   "id": "27ea3ba9",
   "metadata": {},
   "outputs": [
    {
     "name": "stdout",
     "output_type": "stream",
     "text": [
      "16 y 27 no son primos relativos. Error\n"
     ]
    }
   ],
   "source": [
    "afin(\"-C\",130,16,27)"
   ]
  },
  {
   "cell_type": "code",
   "execution_count": 203,
   "id": "e1cd5bc9",
   "metadata": {
    "scrolled": true
   },
   "outputs": [
    {
     "name": "stdout",
     "output_type": "stream",
     "text": [
      "Cadena: 34, 13, 48, 3, 16, 47, 43, 18, 3, 9, 13, 30, 25\n",
      "47\n",
      "<class 'mpz'>\n",
      "k \n",
      "34\n",
      "K_descifrado\n",
      "-19\n",
      "cadena_descifrada\n",
      "[mpz(33)]\n",
      "cadena_texto\n",
      "['H']\n",
      "k \n",
      "13\n",
      "K_descifrado\n",
      "-38\n",
      "cadena_descifrada\n",
      "[mpz(33), mpz(14)]\n",
      "cadena_texto\n",
      "['H', 'o']\n",
      "k \n",
      "48\n",
      "K_descifrado\n",
      "-41\n",
      "cadena_descifrada\n",
      "[mpz(33), mpz(14), mpz(11)]\n",
      "cadena_texto\n",
      "['H', 'o', 'l']\n",
      "k \n",
      "3\n",
      "K_descifrado\n",
      "0\n",
      "cadena_descifrada\n",
      "[mpz(33), mpz(14), mpz(11), mpz(0)]\n",
      "cadena_texto\n",
      "['H', 'o', 'l', 'a']\n",
      "k \n",
      "16\n",
      "K_descifrado\n",
      "-13\n",
      "cadena_descifrada\n",
      "[mpz(33), mpz(14), mpz(11), mpz(0), mpz(39)]\n",
      "cadena_texto\n",
      "['H', 'o', 'l', 'a', 'N']\n",
      "k \n",
      "47\n",
      "K_descifrado\n",
      "-32\n",
      "cadena_descifrada\n",
      "[mpz(33), mpz(14), mpz(11), mpz(0), mpz(39), mpz(20)]\n",
      "cadena_texto\n",
      "['H', 'o', 'l', 'a', 'N', 'u']\n",
      "k \n",
      "43\n",
      "K_descifrado\n",
      "-48\n",
      "cadena_descifrada\n",
      "[mpz(33), mpz(14), mpz(11), mpz(0), mpz(39), mpz(20), mpz(4)]\n",
      "cadena_texto\n",
      "['H', 'o', 'l', 'a', 'N', 'u', 'e']\n",
      "k \n",
      "18\n",
      "K_descifrado\n",
      "-31\n",
      "cadena_descifrada\n",
      "[mpz(33), mpz(14), mpz(11), mpz(0), mpz(39), mpz(20), mpz(4), mpz(21)]\n",
      "cadena_texto\n",
      "['H', 'o', 'l', 'a', 'N', 'u', 'e', 'v']\n",
      "k \n",
      "3\n",
      "K_descifrado\n",
      "0\n",
      "cadena_descifrada\n",
      "[mpz(33), mpz(14), mpz(11), mpz(0), mpz(39), mpz(20), mpz(4), mpz(21), mpz(0)]\n",
      "cadena_texto\n",
      "['H', 'o', 'l', 'a', 'N', 'u', 'e', 'v', 'a']\n",
      "k \n",
      "9\n",
      "K_descifrado\n",
      "-2\n",
      "cadena_descifrada\n",
      "[mpz(33), mpz(14), mpz(11), mpz(0), mpz(39), mpz(20), mpz(4), mpz(21), mpz(0), mpz(50)]\n",
      "cadena_texto\n",
      "['H', 'o', 'l', 'a', 'N', 'u', 'e', 'v', 'a', 'Y']\n",
      "k \n",
      "13\n",
      "K_descifrado\n",
      "-38\n",
      "cadena_descifrada\n",
      "[mpz(33), mpz(14), mpz(11), mpz(0), mpz(39), mpz(20), mpz(4), mpz(21), mpz(0), mpz(50), mpz(14)]\n",
      "cadena_texto\n",
      "['H', 'o', 'l', 'a', 'N', 'u', 'e', 'v', 'a', 'Y', 'o']\n",
      "k \n",
      "30\n",
      "K_descifrado\n",
      "-35\n",
      "cadena_descifrada\n",
      "[mpz(33), mpz(14), mpz(11), mpz(0), mpz(39), mpz(20), mpz(4), mpz(21), mpz(0), mpz(50), mpz(14), mpz(17)]\n",
      "cadena_texto\n",
      "['H', 'o', 'l', 'a', 'N', 'u', 'e', 'v', 'a', 'Y', 'o', 'r']\n",
      "k \n",
      "25\n",
      "K_descifrado\n",
      "-42\n",
      "cadena_descifrada\n",
      "[mpz(33), mpz(14), mpz(11), mpz(0), mpz(39), mpz(20), mpz(4), mpz(21), mpz(0), mpz(50), mpz(14), mpz(17), mpz(10)]\n",
      "cadena_texto\n",
      "['H', 'o', 'l', 'a', 'N', 'u', 'e', 'v', 'a', 'Y', 'o', 'r', 'k']\n",
      "Cadena cifrada: [34, 13, 48, 3, 16, 47, 43, 18, 3, 9, 13, 30, 25]\n",
      "Cadena descifrada: [mpz(33), mpz(14), mpz(11), mpz(0), mpz(39), mpz(20), mpz(4), mpz(21), mpz(0), mpz(50), mpz(14), mpz(17), mpz(10)]\n",
      "Cadena texto: ['H', 'o', 'l', 'a', 'N', 'u', 'e', 'v', 'a', 'Y', 'o', 'r', 'k']\n"
     ]
    }
   ],
   "source": [
    "afin(\"-D\",52,23,3,\"cadena_cifrada.txt\")"
   ]
  },
  {
   "cell_type": "code",
   "execution_count": 148,
   "id": "ed33e277",
   "metadata": {},
   "outputs": [
    {
     "name": "stdout",
     "output_type": "stream",
     "text": [
      "<class 'mpz'>\n"
     ]
    },
    {
     "data": {
      "text/plain": [
       "mpz(12)"
      ]
     },
     "execution_count": 148,
     "metadata": {},
     "output_type": "execute_result"
    }
   ],
   "source": [
    "inverso(7,15)"
   ]
  },
  {
   "cell_type": "code",
   "execution_count": 104,
   "id": "215a9999",
   "metadata": {},
   "outputs": [
    {
     "name": "stdout",
     "output_type": "stream",
     "text": [
      "Cadena: 10 4 1 3 3 10 7 11 3 1 4 7 0 \n",
      "29\n",
      "['10', '4', '1', '3', '3', '10', '7', '11', '3', '1', '4', '7', '0']\n",
      "[10, 4, 1, 3, 3, 10, 7, 11, 3, 1, 4, 7, 0]\n"
     ]
    }
   ],
   "source": [
    "cadena=read_input(\"cadena_cifrada.txt\")\n",
    "cadena_dividida=cadena.split()\n",
    "print(cadena_dividida)\n",
    "for i in range(len(cadena_dividida)):\n",
    "    cadena_dividida[i]=int(cadena_dividida[i])\n",
    "print(cadena_dividida)"
   ]
  },
  {
   "cell_type": "code",
   "execution_count": 182,
   "id": "a5a05d52",
   "metadata": {},
   "outputs": [
    {
     "data": {
      "text/plain": [
       "'R'"
      ]
     },
     "execution_count": 182,
     "metadata": {},
     "output_type": "execute_result"
    }
   ],
   "source": [
    "alfabeto='abcdefghijklmnopqrstuvwxyzABCDEFGHIJKLMNOPQRSTUVWXYZ'\n",
    "len(alfabeto)\n",
    "alfabeto[43]"
   ]
  },
  {
   "cell_type": "code",
   "execution_count": 176,
   "id": "8c9fbd5e",
   "metadata": {},
   "outputs": [
    {
     "data": {
      "text/plain": [
       "mpz(1)"
      ]
     },
     "execution_count": 176,
     "metadata": {},
     "output_type": "execute_result"
    }
   ],
   "source": [
    "algoritmo_euclides(23,52)"
   ]
  },
  {
   "cell_type": "code",
   "execution_count": null,
   "id": "e00ded80",
   "metadata": {},
   "outputs": [],
   "source": []
  }
 ],
 "metadata": {
  "kernelspec": {
   "display_name": "Python 3 (ipykernel)",
   "language": "python",
   "name": "python3"
  },
  "language_info": {
   "codemirror_mode": {
    "name": "ipython",
    "version": 3
   },
   "file_extension": ".py",
   "mimetype": "text/x-python",
   "name": "python",
   "nbconvert_exporter": "python",
   "pygments_lexer": "ipython3",
   "version": "3.9.7"
  }
 },
 "nbformat": 4,
 "nbformat_minor": 5
}
