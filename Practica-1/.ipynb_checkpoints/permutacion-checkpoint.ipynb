{
 "cells": [
  {
   "cell_type": "markdown",
   "id": "b683f433",
   "metadata": {},
   "source": [
    "## 4. Producto de criptosistemas de permutación"
   ]
  },
  {
   "cell_type": "code",
   "execution_count": 10,
   "id": "edaee4bd",
   "metadata": {},
   "outputs": [],
   "source": [
    "import numpy as np"
   ]
  },
  {
   "cell_type": "code",
   "execution_count": 11,
   "id": "d9055f25",
   "metadata": {},
   "outputs": [],
   "source": [
    "def read_input(i):\n",
    "    # Primero tomamos el input de i o de la entrada estándar\n",
    "    if i==0:\n",
    "        cadena=input()\n",
    "    else:\n",
    "        file=open(i, \"r\")\n",
    "        cadena=file.read()\n",
    "        file.close()\n",
    "    print(\"Cadena: {}\".format(cadena))\n",
    "    return cadena"
   ]
  },
  {
   "cell_type": "code",
   "execution_count": 12,
   "id": "95ec1170",
   "metadata": {},
   "outputs": [],
   "source": [
    "def print_output(o,cadena):\n",
    "    if o==0:\n",
    "        print(\"Cadena: {}\".format(cadena))\n",
    "    else:\n",
    "        file=open(o, \"w\")\n",
    "        cadenaToStr = ' '.join([str(elem) for elem in cadena])\n",
    "        file.write(cadenaToStr)\n",
    "        file.close()"
   ]
  },
  {
   "cell_type": "code",
   "execution_count": 13,
   "id": "a3be9caf",
   "metadata": {},
   "outputs": [
    {
     "ename": "IndentationError",
     "evalue": "unexpected indent (Temp/ipykernel_4208/2791839882.py, line 2)",
     "output_type": "error",
     "traceback": [
      "\u001b[1;36m  File \u001b[1;32m\"C:\\Users\\anama\\AppData\\Local\\Temp/ipykernel_4208/2791839882.py\"\u001b[1;36m, line \u001b[1;32m2\u001b[0m\n\u001b[1;33m    cadena_numerica=[]\u001b[0m\n\u001b[1;37m    ^\u001b[0m\n\u001b[1;31mIndentationError\u001b[0m\u001b[1;31m:\u001b[0m unexpected indent\n"
     ]
    }
   ],
   "source": [
    "#Traducimos los caracteres a números\n",
    "            cadena_numerica=[]\n",
    "            for k in cadena:\n",
    "                if k in alfabeto: \n",
    "                    cadena_numerica.append(alfabeto.index(k))\n",
    "                    \n",
    "            # Dividimos en bloques de n elementos el texto\n",
    "            # Si m no es múltiplo de n se añade padding\n",
    "            m=len(cadena_numerica)/n\n",
    "            max=len(cadena_numerica)\n",
    "            matriz_numerica=np.zeros((math.ceil(m),n))\n",
    "         \n",
    "            pos=0\n",
    "            for i in range(math.ceil(m)):\n",
    "                for j in range(n):\n",
    "                    if pos<max:\n",
    "                        matriz_numerica[i][j]=cadena_numerica[pos]\n",
    "                        pos=pos+1\n",
    "                        \n",
    "            #ciframos cadena a cadena y lo guardamos en un matriz           \n",
    "            matriz_cifrada=cifrar(matriz_numerica,matriz,mod,n)\n",
    "            print_output(o,matriz_cifrada)"
   ]
  },
  {
   "cell_type": "code",
   "execution_count": 26,
   "id": "92011eac",
   "metadata": {},
   "outputs": [],
   "source": [
    "# k1: vector de m elementos que constituye la clave para el cifrado de permutación por filas\n",
    "# k2: vector de n elementos que constituye la clave para el cifrado de permutación por columnas\n",
    "def permutacion(modo,k1,k2,i=0,o=0):\n",
    "    alfabeto='abcdefghijklmnopqrstuvwxyzABCDEFGHIJKLMNOPQRSTUVWXYZ'\n",
    "    if modo==\"-C\":\n",
    "        cadena=read_input(i)\n",
    "        # Traducimos los caracteres a números\n",
    "        cadena_numerica=[]\n",
    "        for k in cadena:\n",
    "            if k in alfabeto: \n",
    "                cadena_numerica.append(alfabeto.index(k))\n",
    "\n",
    "        # Matriz numerica es la matriz m x n \n",
    "        m=len(k1)\n",
    "        n=len(k2)\n",
    "        maxi=len(cadena_numerica)\n",
    "        matriz_numerica=np.zeros((m,n))\n",
    "         \n",
    "        pos=0\n",
    "        for i in range(m):\n",
    "            for j in range(n):\n",
    "                if pos<maxi:\n",
    "                    matriz_numerica[i][j]=cadena_numerica[pos]\n",
    "                    pos=pos+1\n",
    "        print(matriz_numerica)\n",
    "        \n",
    "        # Cifrado de permutación por filas\n",
    "        matriz_cifrada1=np.zeros((m,n))\n",
    "        for i in range(m):\n",
    "            for j in range(n):\n",
    "                matriz_cifrada1[i][j]=matriz_numerica[k1[i]][j]\n",
    "        print(matriz_cifrada1)\n",
    "                \n",
    "        # Cifrado de permutación por columnas\n",
    "        matriz_cifrada2=np.zeros((m,n))\n",
    "        for i in range(m):\n",
    "            for j in range(n):\n",
    "                matriz_cifrada2[i][j]=matriz_cifrada1[i][k2[j]]\n",
    "                \n",
    "        print(matriz_cifrada2)\n",
    "        print_output(o, matriz_cifrada2)\n",
    "    elif modo==\"-D\":\n",
    "        cadena_cifrada=read_input(i)\n",
    "        cadena_cifrada=cadena_cifrada.split(\" \")\n",
    "        \n",
    "         # Matriz numerica es la matriz m x n \n",
    "        m=len(k1)\n",
    "        n=len(k2)\n",
    "        maxi=len(cadena_cifrada)\n",
    "        matriz_cifrada=np.zeros((m,n))\n",
    "         \n",
    "        pos=0\n",
    "        for i in range(m):\n",
    "            for j in range(n):\n",
    "                if pos<maxi:\n",
    "                    matriz_cifrada[i][j]=cadena_cifrada[pos]\n",
    "                    pos=pos+1\n",
    "        print(matriz_cifrada)\n",
    "        \n",
    "        # Desciframos cifrado de permutación por columnas\n",
    "        matriz_descifrada2=np.zeros((m,n))\n",
    "        for i in range(m):\n",
    "            for j in range(n):\n",
    "                matriz_descifrada2[i][k2[j]]=matriz_cifrada[i][j]\n",
    "        \n",
    "        print(matriz_descifrada2)\n",
    "        \n",
    "        # Desciframos cifrado de permutación por filas\n",
    "        matriz_descifrada1=np.zeros((m,n))\n",
    "        for i in range(m):\n",
    "            for j in range(n):\n",
    "                matriz_descifrada1[k1[i]][j]=matriz_descifrada2[i][j]\n",
    "        print(matriz_descifrada1)\n",
    "        \n",
    "        cadena_descifrada=np.concatenate(matriz_descifrada1)\n",
    "        cadena_texto=[]\n",
    "        for i in range(len(cadena_descifrada)):\n",
    "            #cadena_cifrada[i]=int(cadena_cifrada[i])\n",
    "            cadena_texto.append(alfabeto[int(cadena_descifrada[i])])\n",
    "\n",
    "        print_output(o, cadena_texto)"
   ]
  },
  {
   "cell_type": "code",
   "execution_count": 17,
   "id": "8d469aa0",
   "metadata": {},
   "outputs": [
    {
     "name": "stdout",
     "output_type": "stream",
     "text": [
      "Buenos dias\n",
      "Cadena: Buenos dias\n",
      "[[27. 20.  4. 13.]\n",
      " [14. 18.  3.  8.]\n",
      " [ 0. 18.  0.  0.]\n",
      " [ 0.  0.  0.  0.]\n",
      " [ 0.  0.  0.  0.]]\n",
      "[[ 0.  0.  0.  0.]\n",
      " [ 0. 18.  0.  0.]\n",
      " [ 0.  0.  0.  0.]\n",
      " [14. 18.  3.  8.]\n",
      " [27. 20.  4. 13.]]\n",
      "[[ 0.  0.  0.  0.]\n",
      " [18.  0.  0.  0.]\n",
      " [ 0.  0.  0.  0.]\n",
      " [18.  8.  3. 14.]\n",
      " [20. 13.  4. 27.]]\n",
      "Cadena: [[ 0.  0.  0.  0.]\n",
      " [18.  0.  0.  0.]\n",
      " [ 0.  0.  0.  0.]\n",
      " [18.  8.  3. 14.]\n",
      " [20. 13.  4. 27.]]\n"
     ]
    }
   ],
   "source": [
    "k1=[3,2,4,1,0]\n",
    "k2=[1,3,2,0]\n",
    "permutacion(\"-C\", k1, k2)"
   ]
  },
  {
   "cell_type": "code",
   "execution_count": 27,
   "id": "9f207b77",
   "metadata": {},
   "outputs": [
    {
     "name": "stdout",
     "output_type": "stream",
     "text": [
      "0 0 0 0 18 0 0 0 0 0 0 0 18 8 3 14 20 13 4 27\n",
      "Cadena: 0 0 0 0 18 0 0 0 0 0 0 0 18 8 3 14 20 13 4 27\n",
      "[[ 0.  0.  0.  0.]\n",
      " [18.  0.  0.  0.]\n",
      " [ 0.  0.  0.  0.]\n",
      " [18.  8.  3. 14.]\n",
      " [20. 13.  4. 27.]]\n",
      "[[ 0.  0.  0.  0.]\n",
      " [ 0. 18.  0.  0.]\n",
      " [ 0.  0.  0.  0.]\n",
      " [14. 18.  3.  8.]\n",
      " [27. 20.  4. 13.]]\n",
      "[[27. 20.  4. 13.]\n",
      " [14. 18.  3.  8.]\n",
      " [ 0. 18.  0.  0.]\n",
      " [ 0.  0.  0.  0.]\n",
      " [ 0.  0.  0.  0.]]\n",
      "Cadena: ['B', 'u', 'e', 'n', 'o', 's', 'd', 'i', 'a', 's', 'a', 'a', 'a', 'a', 'a', 'a', 'a', 'a', 'a', 'a']\n"
     ]
    }
   ],
   "source": [
    "permutacion(\"-D\", k1, k2)"
   ]
  },
  {
   "cell_type": "code",
   "execution_count": null,
   "id": "cbcbedfa",
   "metadata": {},
   "outputs": [],
   "source": []
  }
 ],
 "metadata": {
  "kernelspec": {
   "display_name": "Python 3 (ipykernel)",
   "language": "python",
   "name": "python3"
  },
  "language_info": {
   "codemirror_mode": {
    "name": "ipython",
    "version": 3
   },
   "file_extension": ".py",
   "mimetype": "text/x-python",
   "name": "python",
   "nbconvert_exporter": "python",
   "pygments_lexer": "ipython3",
   "version": "3.9.7"
  }
 },
 "nbformat": 4,
 "nbformat_minor": 5
}
